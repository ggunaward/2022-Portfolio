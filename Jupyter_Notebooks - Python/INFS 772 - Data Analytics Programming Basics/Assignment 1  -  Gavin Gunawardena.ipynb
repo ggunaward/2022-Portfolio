{
 "cells": [
  {
   "cell_type": "markdown",
   "metadata": {},
   "source": [
    "<h2>Assignment 1</h2><br>\n",
    "<p>Gavin Gunawadena<br>\n",
    "INFS 772<br>\n",
    "Professor David Chang</p>"
   ]
  },
  {
   "cell_type": "code",
   "execution_count": 1,
   "metadata": {},
   "outputs": [],
   "source": [
    "#Library Imports\n",
    "import numpy as np"
   ]
  },
  {
   "cell_type": "markdown",
   "metadata": {},
   "source": [
    "<p><u>Exercise 1</u></p>"
   ]
  },
  {
   "cell_type": "code",
   "execution_count": 2,
   "metadata": {},
   "outputs": [
    {
     "name": "stdout",
     "output_type": "stream",
     "text": [
      "Printing Array\n",
      " [[64392 31655]\n",
      " [32579     0]\n",
      " [49248   462]\n",
      " [    0     0]]\n",
      "\n",
      "\n",
      "Printing NumPy array Attributes\n",
      "\n",
      "\n",
      "1> Array Shape is: (4, 2)\n",
      "2>. Array dimensions are  2\n",
      "3>. Length of each element of the array in bytes is  2\n"
     ]
    }
   ],
   "source": [
    "#Create array\n",
    "arrayData1 = np.array([[64392,31655],[32579,0],[49248,462],[0,0]],dtype=np.uint16)\n",
    "\n",
    "#Print results\n",
    "print(\"Printing Array\\n\", arrayData1)\n",
    "print(\"\\n\")\n",
    "print(\"Printing NumPy array Attributes\")\n",
    "print(\"\\n\")\n",
    "print(\"1> Array Shape is:\", arrayData1.shape)\n",
    "print(\"2>. Array dimensions are \", arrayData1.ndim)\n",
    "print(\"3>. Length of each element of the array in bytes is \", arrayData1.itemsize)"
   ]
  },
  {
   "cell_type": "markdown",
   "metadata": {},
   "source": [
    "<p><u>Exercise 2</u></p>"
   ]
  },
  {
   "cell_type": "code",
   "execution_count": 3,
   "metadata": {},
   "outputs": [
    {
     "name": "stdout",
     "output_type": "stream",
     "text": [
      "Creating 5X2 array using numpy.arange\n",
      " [[100 110]\n",
      " [120 130]\n",
      " [140 150]\n",
      " [160 170]\n",
      " [180 190]]\n"
     ]
    }
   ],
   "source": [
    "#Create Array\n",
    "arrayData1 = np.arange(100,200,10).reshape(5,2)\n",
    "\n",
    "#Print Results\n",
    "print(\"Creating 5X2 array using numpy.arange\\n\",arrayData1)"
   ]
  },
  {
   "cell_type": "markdown",
   "metadata": {},
   "source": [
    "<p><u>Exercise 3</u></p>"
   ]
  },
  {
   "cell_type": "code",
   "execution_count": 4,
   "metadata": {},
   "outputs": [
    {
     "name": "stdout",
     "output_type": "stream",
     "text": [
      "Printing Input Array\n",
      " [[11 22 33]\n",
      " [44 55 66]\n",
      " [77 88 99]]\n",
      "\n",
      "\n",
      "Printing array of items in the second column from all rows\n",
      " [22 55 88]\n"
     ]
    }
   ],
   "source": [
    "#Provided array and other variables\n",
    "sampleArray = np.array([[11 ,22, 33], [44, 55, 66], [77, 88, 99]])\n",
    "sampleArrayModified = sampleArray[:,1]\n",
    "\n",
    "#Print Results\n",
    "print(\"Printing Input Array\\n\",sampleArray)\n",
    "print(\"\\n\")\n",
    "print(\"Printing array of items in the second column from all rows\\n\",sampleArrayModified)"
   ]
  },
  {
   "cell_type": "markdown",
   "metadata": {},
   "source": [
    "<p><u>Exercise 4</u></p>"
   ]
  },
  {
   "cell_type": "code",
   "execution_count": 5,
   "metadata": {},
   "outputs": [
    {
     "name": "stdout",
     "output_type": "stream",
     "text": [
      " Printing Input Array\n",
      " [[ 3  6  9 12]\n",
      " [15 18 21 24]\n",
      " [27 30 33 36]\n",
      " [39 42 45 48]\n",
      " [51 54 57 60]]\n",
      "\n",
      "\n",
      "  Printing array of odd rows and even columns\n",
      " [[ 6 12]\n",
      " [30 36]\n",
      " [54 60]]\n"
     ]
    }
   ],
   "source": [
    "#Provided Array and other variables\n",
    "sampleArray = np.array([[3 ,6, 9, 12], [15 ,18, 21, 24],\n",
    "[27 ,30, 33, 36], [39 ,42, 45, 48], [51 ,54, 57, 60]])\n",
    "sampleArrayModified = sampleArray[::2,1::2]\n",
    "\n",
    "#Print Results\n",
    "print(\" Printing Input Array\\n\",sampleArray)\n",
    "print(\"\\n\")\n",
    "print(\"  Printing array of odd rows and even columns\\n\",sampleArrayModified)"
   ]
  },
  {
   "cell_type": "markdown",
   "metadata": {},
   "source": [
    "<p><u>Exercise 5</u></p>"
   ]
  },
  {
   "cell_type": "code",
   "execution_count": 6,
   "metadata": {},
   "outputs": [
    {
     "name": "stdout",
     "output_type": "stream",
     "text": [
      " addition of two arrays is\n",
      "\n",
      " [[20 39 33]\n",
      " [25 25 28]]\n"
     ]
    }
   ],
   "source": [
    "#Provided Arrays and other variables\n",
    "arrayOne = np.array([[5, 6, 9], [21 ,18, 27]])\n",
    "arrayTwo = np.array([[15 ,33, 24], [4 ,7, 1]])\n",
    "\n",
    "#Doing calculation in function for practice\n",
    "def sumArrays(item1,item2):\n",
    "    '''This function adds 2 arrays or other objects together'''\n",
    "    return item1+item2\n",
    "\n",
    "#Print Results\n",
    "print(\" addition of two arrays is\\n\\n\",sumArrays(arrayOne,arrayTwo))"
   ]
  }
 ],
 "metadata": {
  "kernelspec": {
   "display_name": "Python 3 (ipykernel)",
   "language": "python",
   "name": "python3"
  },
  "language_info": {
   "codemirror_mode": {
    "name": "ipython",
    "version": 3
   },
   "file_extension": ".py",
   "mimetype": "text/x-python",
   "name": "python",
   "nbconvert_exporter": "python",
   "pygments_lexer": "ipython3",
   "version": "3.8.13"
  }
 },
 "nbformat": 4,
 "nbformat_minor": 4
}
