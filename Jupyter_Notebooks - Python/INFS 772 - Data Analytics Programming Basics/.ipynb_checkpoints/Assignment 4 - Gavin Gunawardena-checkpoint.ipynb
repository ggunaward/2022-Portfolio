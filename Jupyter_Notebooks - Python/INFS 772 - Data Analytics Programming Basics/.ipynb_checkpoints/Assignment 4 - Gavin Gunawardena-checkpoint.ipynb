{
 "cells": [
  {
   "cell_type": "markdown",
   "metadata": {
    "id": "rX8mhOLljYeM"
   },
   "source": [
    "## INFS 772 Assignment 4 \n",
    "### Total 10 points (6 tasks)\n",
    "<p>Gavin Gunawadena<br>\n",
    "INFS 772<br>\n",
    "Professor David Chang</p>"
   ]
  },
  {
   "cell_type": "markdown",
   "metadata": {
    "id": "3wF5wszaj97Y"
   },
   "source": [
    "# Image Classification with MNIST Dataset"
   ]
  },
  {
   "cell_type": "markdown",
   "metadata": {
    "id": "04QgGZc9bF5D"
   },
   "source": [
    "This short introduction uses [Keras](https://www.tensorflow.org/guide/keras/overview) to:\n",
    "\n",
    "1. Build a neural network that classifies images.\n",
    "2. Train this neural network.\n",
    "3. And, finally, evaluate the accuracy of the model."
   ]
  },
  {
   "cell_type": "markdown",
   "metadata": {
    "id": "nnrWf3PCEzXL"
   },
   "source": [
    "Download and install TensorFlow 2. Import TensorFlow into your program:\n",
    "\n",
    "Note: Upgrade `pip` to install the TensorFlow 2 package. See the [install guide](https://www.tensorflow.org/install) for details."
   ]
  },
  {
   "cell_type": "code",
   "execution_count": 1,
   "metadata": {
    "id": "0trJmd6DjqBZ",
    "tags": []
   },
   "outputs": [],
   "source": [
    "import tensorflow as tf\n",
    "\n",
    "from tensorflow.keras.datasets import mnist #from Keras download the mnist dataset\n",
    "from tensorflow.keras.models import Sequential # import the sequential model\n",
    "from tensorflow.keras.layers import Flatten\n",
    "from tensorflow.keras.layers import Dense # import the Dense(Fully connected) layer\n",
    "from tensorflow.keras.layers import Dropout\n",
    "from keras.optimizers import RMSprop # import rmsprop optimizer\n",
    "from tensorflow.keras.utils import to_categorical # prepare the labels\n",
    "import matplotlib.pyplot as plt #import plot as plt\n",
    "%matplotlib inline\n",
    "import numpy as np\n",
    "\n"
   ]
  },
  {
   "cell_type": "code",
   "execution_count": 2,
   "metadata": {
    "scrolled": true
   },
   "outputs": [
    {
     "data": {
      "text/plain": [
       "'2.3.0'"
      ]
     },
     "execution_count": 2,
     "metadata": {},
     "output_type": "execute_result"
    }
   ],
   "source": [
    "tf.__version__"
   ]
  },
  {
   "cell_type": "markdown",
   "metadata": {
    "id": "7NAbSZiaoJ4z"
   },
   "source": [
    "Load and prepare the [MNIST dataset](http://yann.lecun.com/exdb/mnist/). Convert the samples from integers to floating-point numbers:"
   ]
  },
  {
   "cell_type": "code",
   "execution_count": 3,
   "metadata": {
    "id": "7FP5258xjs-v",
    "tags": []
   },
   "outputs": [],
   "source": [
    "mnist = tf.keras.datasets.mnist\n",
    "\n",
    "(x_train, y_train), (x_test, y_test) = mnist.load_data()\n",
    "x_train, x_test = x_train / 255.0, x_test / 255.0"
   ]
  },
  {
   "cell_type": "markdown",
   "metadata": {
    "id": "BPZ68wASog_I"
   },
   "source": [
    "Build the `tf.keras.Sequential` model by stacking layers. Choose an optimizer and loss function for training:"
   ]
  },
  {
   "cell_type": "markdown",
   "metadata": {},
   "source": [
    "## Task 1: Build Neural Network Using the following code samples (2 points)\n",
    "\n",
    "```python\n",
    "\n",
    "model = Sequential() # make our model Sequential\n",
    "\n",
    "model.add(Flatten(input_shape=(28, 28)))\n",
    "model.add(Dense(50, activation = \"relu\")) # add a hidden layer\n",
    "model.add(Dense(10, activation = 'softmax')) # add an output layer\n",
    "\n",
    "```\n",
    "### Required Specification for the Hidden Layers\n",
    "\n",
    "Dense 64 --> Dense 32\n",
    "\n",
    "Total params: 52,650\n"
   ]
  },
  {
   "cell_type": "code",
   "execution_count": 4,
   "metadata": {
    "id": "h3IKyzTCDNGo",
    "tags": []
   },
   "outputs": [],
   "source": [
    "# your codes here\n",
    "\n",
    "# make our model Sequential\n",
    "model = tf.keras.models.Sequential() # make our model Sequential\n",
    "\n",
    "\n",
    "# flatten the inputs\n",
    "model.add(Flatten(input_shape=(28, 28)))\n",
    " # add a hidden layer\n",
    "model.add(Dense(64, activation = \"relu\")) # add a hidden layer\n",
    "\n",
    " # add a hidden layer\n",
    "model.add(Dense(32, activation = \"relu\")) # add a hidden layer\n",
    "\n",
    " #add Dropout layer\n",
    "model.add(Dropout(0.2))\n",
    "\n",
    " # add an output layer\n",
    "model.add(Dense(10, activation = 'softmax')) # add an output layer\n"
   ]
  },
  {
   "cell_type": "code",
   "execution_count": 5,
   "metadata": {},
   "outputs": [
    {
     "name": "stdout",
     "output_type": "stream",
     "text": [
      "Model: \"sequential\"\n",
      "_________________________________________________________________\n",
      "Layer (type)                 Output Shape              Param #   \n",
      "=================================================================\n",
      "flatten (Flatten)            (None, 784)               0         \n",
      "_________________________________________________________________\n",
      "dense (Dense)                (None, 64)                50240     \n",
      "_________________________________________________________________\n",
      "dense_1 (Dense)              (None, 32)                2080      \n",
      "_________________________________________________________________\n",
      "dropout (Dropout)            (None, 32)                0         \n",
      "_________________________________________________________________\n",
      "dense_2 (Dense)              (None, 10)                330       \n",
      "=================================================================\n",
      "Total params: 52,650\n",
      "Trainable params: 52,650\n",
      "Non-trainable params: 0\n",
      "_________________________________________________________________\n"
     ]
    }
   ],
   "source": [
    "model.summary()"
   ]
  },
  {
   "cell_type": "markdown",
   "metadata": {},
   "source": [
    "The following cell is not required. Remove it if it doesn't work under your environment"
   ]
  },
  {
   "cell_type": "code",
   "execution_count": 6,
   "metadata": {},
   "outputs": [
    {
     "data": {
      "image/svg+xml": [
       "<svg xmlns=\"http://www.w3.org/2000/svg\" xmlns:xlink=\"http://www.w3.org/1999/xlink\" width=\"271pt\" height=\"424pt\" viewBox=\"0.00 0.00 300.00 470.00\">\n",
       "<g id=\"graph0\" class=\"graph\" transform=\"scale(0.902778 0.902778) rotate(0) translate(4 466)\">\n",
       "<title>G</title>\n",
       "<polygon fill=\"white\" stroke=\"none\" points=\"-4,4 -4,-466 296,-466 296,4 -4,4\"/>\n",
       "<!-- 1691027937840 -->\n",
       "<g id=\"node1\" class=\"node\"><title>1691027937840</title>\n",
       "<polygon fill=\"none\" stroke=\"black\" points=\"0,-415.5 0,-461.5 292,-461.5 292,-415.5 0,-415.5\"/>\n",
       "<text text-anchor=\"middle\" x=\"76.5\" y=\"-434.8\" font-family=\"Times New Roman,serif\" font-size=\"14.00\">flatten_input: InputLayer</text>\n",
       "<polyline fill=\"none\" stroke=\"black\" points=\"153,-415.5 153,-461.5 \"/>\n",
       "<text text-anchor=\"middle\" x=\"181\" y=\"-446.3\" font-family=\"Times New Roman,serif\" font-size=\"14.00\">input:</text>\n",
       "<polyline fill=\"none\" stroke=\"black\" points=\"153,-438.5 209,-438.5 \"/>\n",
       "<text text-anchor=\"middle\" x=\"181\" y=\"-423.3\" font-family=\"Times New Roman,serif\" font-size=\"14.00\">output:</text>\n",
       "<polyline fill=\"none\" stroke=\"black\" points=\"209,-415.5 209,-461.5 \"/>\n",
       "<text text-anchor=\"middle\" x=\"250.5\" y=\"-446.3\" font-family=\"Times New Roman,serif\" font-size=\"14.00\">[(?, 28, 28)]</text>\n",
       "<polyline fill=\"none\" stroke=\"black\" points=\"209,-438.5 292,-438.5 \"/>\n",
       "<text text-anchor=\"middle\" x=\"250.5\" y=\"-423.3\" font-family=\"Times New Roman,serif\" font-size=\"14.00\">[(?, 28, 28)]</text>\n",
       "</g>\n",
       "<!-- 1691027793520 -->\n",
       "<g id=\"node2\" class=\"node\"><title>1691027793520</title>\n",
       "<polygon fill=\"none\" stroke=\"black\" points=\"33.5,-332.5 33.5,-378.5 258.5,-378.5 258.5,-332.5 33.5,-332.5\"/>\n",
       "<text text-anchor=\"middle\" x=\"81\" y=\"-351.8\" font-family=\"Times New Roman,serif\" font-size=\"14.00\">flatten: Flatten</text>\n",
       "<polyline fill=\"none\" stroke=\"black\" points=\"128.5,-332.5 128.5,-378.5 \"/>\n",
       "<text text-anchor=\"middle\" x=\"156.5\" y=\"-363.3\" font-family=\"Times New Roman,serif\" font-size=\"14.00\">input:</text>\n",
       "<polyline fill=\"none\" stroke=\"black\" points=\"128.5,-355.5 184.5,-355.5 \"/>\n",
       "<text text-anchor=\"middle\" x=\"156.5\" y=\"-340.3\" font-family=\"Times New Roman,serif\" font-size=\"14.00\">output:</text>\n",
       "<polyline fill=\"none\" stroke=\"black\" points=\"184.5,-332.5 184.5,-378.5 \"/>\n",
       "<text text-anchor=\"middle\" x=\"221.5\" y=\"-363.3\" font-family=\"Times New Roman,serif\" font-size=\"14.00\">(?, 28, 28)</text>\n",
       "<polyline fill=\"none\" stroke=\"black\" points=\"184.5,-355.5 258.5,-355.5 \"/>\n",
       "<text text-anchor=\"middle\" x=\"221.5\" y=\"-340.3\" font-family=\"Times New Roman,serif\" font-size=\"14.00\">(?, 784)</text>\n",
       "</g>\n",
       "<!-- 1691027937840&#45;&gt;1691027793520 -->\n",
       "<g id=\"edge1\" class=\"edge\"><title>1691027937840-&gt;1691027793520</title>\n",
       "<path fill=\"none\" stroke=\"black\" d=\"M146,-415.366C146,-407.152 146,-397.658 146,-388.725\"/>\n",
       "<polygon fill=\"black\" stroke=\"black\" points=\"149.5,-388.607 146,-378.607 142.5,-388.607 149.5,-388.607\"/>\n",
       "</g>\n",
       "<!-- 1691027937792 -->\n",
       "<g id=\"node3\" class=\"node\"><title>1691027937792</title>\n",
       "<polygon fill=\"none\" stroke=\"black\" points=\"43.5,-249.5 43.5,-295.5 248.5,-295.5 248.5,-249.5 43.5,-249.5\"/>\n",
       "<text text-anchor=\"middle\" x=\"88.5\" y=\"-268.8\" font-family=\"Times New Roman,serif\" font-size=\"14.00\">dense: Dense</text>\n",
       "<polyline fill=\"none\" stroke=\"black\" points=\"133.5,-249.5 133.5,-295.5 \"/>\n",
       "<text text-anchor=\"middle\" x=\"161.5\" y=\"-280.3\" font-family=\"Times New Roman,serif\" font-size=\"14.00\">input:</text>\n",
       "<polyline fill=\"none\" stroke=\"black\" points=\"133.5,-272.5 189.5,-272.5 \"/>\n",
       "<text text-anchor=\"middle\" x=\"161.5\" y=\"-257.3\" font-family=\"Times New Roman,serif\" font-size=\"14.00\">output:</text>\n",
       "<polyline fill=\"none\" stroke=\"black\" points=\"189.5,-249.5 189.5,-295.5 \"/>\n",
       "<text text-anchor=\"middle\" x=\"219\" y=\"-280.3\" font-family=\"Times New Roman,serif\" font-size=\"14.00\">(?, 784)</text>\n",
       "<polyline fill=\"none\" stroke=\"black\" points=\"189.5,-272.5 248.5,-272.5 \"/>\n",
       "<text text-anchor=\"middle\" x=\"219\" y=\"-257.3\" font-family=\"Times New Roman,serif\" font-size=\"14.00\">(?, 64)</text>\n",
       "</g>\n",
       "<!-- 1691027793520&#45;&gt;1691027937792 -->\n",
       "<g id=\"edge2\" class=\"edge\"><title>1691027793520-&gt;1691027937792</title>\n",
       "<path fill=\"none\" stroke=\"black\" d=\"M146,-332.366C146,-324.152 146,-314.658 146,-305.725\"/>\n",
       "<polygon fill=\"black\" stroke=\"black\" points=\"149.5,-305.607 146,-295.607 142.5,-305.607 149.5,-305.607\"/>\n",
       "</g>\n",
       "<!-- 1691028015712 -->\n",
       "<g id=\"node4\" class=\"node\"><title>1691028015712</title>\n",
       "<polygon fill=\"none\" stroke=\"black\" points=\"39.5,-166.5 39.5,-212.5 252.5,-212.5 252.5,-166.5 39.5,-166.5\"/>\n",
       "<text text-anchor=\"middle\" x=\"91.5\" y=\"-185.8\" font-family=\"Times New Roman,serif\" font-size=\"14.00\">dense_1: Dense</text>\n",
       "<polyline fill=\"none\" stroke=\"black\" points=\"143.5,-166.5 143.5,-212.5 \"/>\n",
       "<text text-anchor=\"middle\" x=\"171.5\" y=\"-197.3\" font-family=\"Times New Roman,serif\" font-size=\"14.00\">input:</text>\n",
       "<polyline fill=\"none\" stroke=\"black\" points=\"143.5,-189.5 199.5,-189.5 \"/>\n",
       "<text text-anchor=\"middle\" x=\"171.5\" y=\"-174.3\" font-family=\"Times New Roman,serif\" font-size=\"14.00\">output:</text>\n",
       "<polyline fill=\"none\" stroke=\"black\" points=\"199.5,-166.5 199.5,-212.5 \"/>\n",
       "<text text-anchor=\"middle\" x=\"226\" y=\"-197.3\" font-family=\"Times New Roman,serif\" font-size=\"14.00\">(?, 64)</text>\n",
       "<polyline fill=\"none\" stroke=\"black\" points=\"199.5,-189.5 252.5,-189.5 \"/>\n",
       "<text text-anchor=\"middle\" x=\"226\" y=\"-174.3\" font-family=\"Times New Roman,serif\" font-size=\"14.00\">(?, 32)</text>\n",
       "</g>\n",
       "<!-- 1691027937792&#45;&gt;1691028015712 -->\n",
       "<g id=\"edge3\" class=\"edge\"><title>1691027937792-&gt;1691028015712</title>\n",
       "<path fill=\"none\" stroke=\"black\" d=\"M146,-249.366C146,-241.152 146,-231.658 146,-222.725\"/>\n",
       "<polygon fill=\"black\" stroke=\"black\" points=\"149.5,-222.607 146,-212.607 142.5,-222.607 149.5,-222.607\"/>\n",
       "</g>\n",
       "<!-- 1691028508624 -->\n",
       "<g id=\"node5\" class=\"node\"><title>1691028508624</title>\n",
       "<polygon fill=\"none\" stroke=\"black\" points=\"33.5,-83.5 33.5,-129.5 258.5,-129.5 258.5,-83.5 33.5,-83.5\"/>\n",
       "<text text-anchor=\"middle\" x=\"91.5\" y=\"-102.8\" font-family=\"Times New Roman,serif\" font-size=\"14.00\">dropout: Dropout</text>\n",
       "<polyline fill=\"none\" stroke=\"black\" points=\"149.5,-83.5 149.5,-129.5 \"/>\n",
       "<text text-anchor=\"middle\" x=\"177.5\" y=\"-114.3\" font-family=\"Times New Roman,serif\" font-size=\"14.00\">input:</text>\n",
       "<polyline fill=\"none\" stroke=\"black\" points=\"149.5,-106.5 205.5,-106.5 \"/>\n",
       "<text text-anchor=\"middle\" x=\"177.5\" y=\"-91.3\" font-family=\"Times New Roman,serif\" font-size=\"14.00\">output:</text>\n",
       "<polyline fill=\"none\" stroke=\"black\" points=\"205.5,-83.5 205.5,-129.5 \"/>\n",
       "<text text-anchor=\"middle\" x=\"232\" y=\"-114.3\" font-family=\"Times New Roman,serif\" font-size=\"14.00\">(?, 32)</text>\n",
       "<polyline fill=\"none\" stroke=\"black\" points=\"205.5,-106.5 258.5,-106.5 \"/>\n",
       "<text text-anchor=\"middle\" x=\"232\" y=\"-91.3\" font-family=\"Times New Roman,serif\" font-size=\"14.00\">(?, 32)</text>\n",
       "</g>\n",
       "<!-- 1691028015712&#45;&gt;1691028508624 -->\n",
       "<g id=\"edge4\" class=\"edge\"><title>1691028015712-&gt;1691028508624</title>\n",
       "<path fill=\"none\" stroke=\"black\" d=\"M146,-166.366C146,-158.152 146,-148.658 146,-139.725\"/>\n",
       "<polygon fill=\"black\" stroke=\"black\" points=\"149.5,-139.607 146,-129.607 142.5,-139.607 149.5,-139.607\"/>\n",
       "</g>\n",
       "<!-- 1691028507904 -->\n",
       "<g id=\"node6\" class=\"node\"><title>1691028507904</title>\n",
       "<polygon fill=\"none\" stroke=\"black\" points=\"39.5,-0.5 39.5,-46.5 252.5,-46.5 252.5,-0.5 39.5,-0.5\"/>\n",
       "<text text-anchor=\"middle\" x=\"91.5\" y=\"-19.8\" font-family=\"Times New Roman,serif\" font-size=\"14.00\">dense_2: Dense</text>\n",
       "<polyline fill=\"none\" stroke=\"black\" points=\"143.5,-0.5 143.5,-46.5 \"/>\n",
       "<text text-anchor=\"middle\" x=\"171.5\" y=\"-31.3\" font-family=\"Times New Roman,serif\" font-size=\"14.00\">input:</text>\n",
       "<polyline fill=\"none\" stroke=\"black\" points=\"143.5,-23.5 199.5,-23.5 \"/>\n",
       "<text text-anchor=\"middle\" x=\"171.5\" y=\"-8.3\" font-family=\"Times New Roman,serif\" font-size=\"14.00\">output:</text>\n",
       "<polyline fill=\"none\" stroke=\"black\" points=\"199.5,-0.5 199.5,-46.5 \"/>\n",
       "<text text-anchor=\"middle\" x=\"226\" y=\"-31.3\" font-family=\"Times New Roman,serif\" font-size=\"14.00\">(?, 32)</text>\n",
       "<polyline fill=\"none\" stroke=\"black\" points=\"199.5,-23.5 252.5,-23.5 \"/>\n",
       "<text text-anchor=\"middle\" x=\"226\" y=\"-8.3\" font-family=\"Times New Roman,serif\" font-size=\"14.00\">(?, 10)</text>\n",
       "</g>\n",
       "<!-- 1691028508624&#45;&gt;1691028507904 -->\n",
       "<g id=\"edge5\" class=\"edge\"><title>1691028508624-&gt;1691028507904</title>\n",
       "<path fill=\"none\" stroke=\"black\" d=\"M146,-83.3664C146,-75.1516 146,-65.6579 146,-56.7252\"/>\n",
       "<polygon fill=\"black\" stroke=\"black\" points=\"149.5,-56.6068 146,-46.6068 142.5,-56.6069 149.5,-56.6068\"/>\n",
       "</g>\n",
       "</g>\n",
       "</svg>"
      ],
      "text/plain": [
       "<IPython.core.display.SVG object>"
      ]
     },
     "execution_count": 6,
     "metadata": {},
     "output_type": "execute_result"
    }
   ],
   "source": [
    "from IPython.display import SVG\n",
    "from tensorflow.keras.utils import model_to_dot\n",
    "\n",
    "SVG(model_to_dot(model, show_shapes= True, show_layer_names=True, dpi=65).create(prog='dot', format='svg'))"
   ]
  },
  {
   "cell_type": "markdown",
   "metadata": {},
   "source": [
    "## Task 2: Test the Model Architecture (2 points)\n",
    "\n",
    "All codes are provided and make sure they produce the expected outputs"
   ]
  },
  {
   "cell_type": "markdown",
   "metadata": {
    "id": "l2hiez2eIUz8"
   },
   "source": [
    "For each example the model returns a vector of \"[logits](https://developers.google.com/machine-learning/glossary#logits)\" or \"[log-odds](https://developers.google.com/machine-learning/glossary#log-odds)\" scores, one for each class."
   ]
  },
  {
   "cell_type": "code",
   "execution_count": 7,
   "metadata": {
    "id": "OeOrNdnkEEcR",
    "tags": []
   },
   "outputs": [
    {
     "data": {
      "text/plain": [
       "array([[0.10723288, 0.08250955, 0.10201366, 0.06942476, 0.09924974,\n",
       "        0.10139572, 0.09234369, 0.13016711, 0.12860505, 0.08705786]],\n",
       "      dtype=float32)"
      ]
     },
     "execution_count": 7,
     "metadata": {},
     "output_type": "execute_result"
    }
   ],
   "source": [
    "predictions = model(x_train[:1]).numpy()\n",
    "predictions"
   ]
  },
  {
   "cell_type": "markdown",
   "metadata": {
    "id": "tgjhDQGcIniO"
   },
   "source": [
    "The `tf.nn.softmax` function converts these logits to \"probabilities\" for each class: "
   ]
  },
  {
   "cell_type": "code",
   "execution_count": 8,
   "metadata": {
    "id": "zWSRnQ0WI5eq",
    "tags": []
   },
   "outputs": [
    {
     "data": {
      "text/plain": [
       "array([[0.1007095 , 0.09825015, 0.10018524, 0.09697294, 0.09990872,\n",
       "        0.10012335, 0.09922112, 0.10304588, 0.10288504, 0.09869804]],\n",
       "      dtype=float32)"
      ]
     },
     "execution_count": 8,
     "metadata": {},
     "output_type": "execute_result"
    }
   ],
   "source": [
    "tf.nn.softmax(predictions).numpy()"
   ]
  },
  {
   "cell_type": "markdown",
   "metadata": {
    "id": "he5u_okAYS4a"
   },
   "source": [
    "Note: It is possible to bake this `tf.nn.softmax` in as the activation function for the last layer of the network. While this can make the model output more directly interpretable, this approach is discouraged as it's impossible to\n",
    "provide an exact and numerically stable loss calculation for all models when using a softmax output. "
   ]
  },
  {
   "cell_type": "markdown",
   "metadata": {
    "id": "hQyugpgRIyrA"
   },
   "source": [
    "The `losses.SparseCategoricalCrossentropy` loss takes a vector of logits and a `True` index and returns a scalar loss for each example."
   ]
  },
  {
   "cell_type": "code",
   "execution_count": 9,
   "metadata": {
    "id": "RSkzdv8MD0tT",
    "tags": []
   },
   "outputs": [],
   "source": [
    "loss_fn = tf.keras.losses.SparseCategoricalCrossentropy(from_logits=True)"
   ]
  },
  {
   "cell_type": "markdown",
   "metadata": {
    "id": "SfR4MsSDU880"
   },
   "source": [
    "This loss is equal to the negative log probability of the true class:\n",
    "It is zero if the model is sure of the correct class.\n",
    "\n",
    "This untrained model gives probabilities close to random (1/10 for each class), so the initial loss should be close to `-tf.math.log(1/10) ~= 2.3`."
   ]
  },
  {
   "cell_type": "code",
   "execution_count": 10,
   "metadata": {
    "id": "NJWqEVrrJ7ZB",
    "tags": []
   },
   "outputs": [
    {
     "data": {
      "text/plain": [
       "2.3013523"
      ]
     },
     "execution_count": 10,
     "metadata": {},
     "output_type": "execute_result"
    }
   ],
   "source": [
    "loss_fn(y_train[:1], predictions).numpy()"
   ]
  },
  {
   "cell_type": "markdown",
   "metadata": {},
   "source": [
    "## Task 3: Compile the Model (1 point)\n",
    "\n",
    "```python\n",
    "\n",
    "# rmsprop optimizer\n",
    "model.compile(optimizer = \"rmsprop\", loss = loss_fn, metrics=['accuracy'])\n",
    "\n",
    "# Adam optimizer\n",
    "model.compile(optimizer = \"adam\", loss = loss_fn, metrics=['accuracy'])\n",
    "```\n",
    "\n",
    "### Requirement: compile either rmsprop or adam"
   ]
  },
  {
   "cell_type": "code",
   "execution_count": 11,
   "metadata": {
    "id": "9foNKHzTD2Vo",
    "tags": []
   },
   "outputs": [],
   "source": [
    "# your codes here\n",
    "model.compile(optimizer = \"adam\", loss = loss_fn, metrics=['accuracy'])"
   ]
  },
  {
   "cell_type": "markdown",
   "metadata": {
    "id": "ix4mEL65on-w"
   },
   "source": [
    "## Task 4: Fit the Model (1 point)\n",
    "\n",
    "### Requirement: 10 Epochs and save the outputs into history\n",
    "\n",
    "The `Model.fit` method adjusts the model parameters to minimize the loss: "
   ]
  },
  {
   "cell_type": "code",
   "execution_count": 12,
   "metadata": {
    "id": "y7suUbJXVLqP",
    "scrolled": true,
    "tags": []
   },
   "outputs": [
    {
     "name": "stdout",
     "output_type": "stream",
     "text": [
      "Epoch 1/10\n",
      "1875/1875 [==============================] - 3s 2ms/step - loss: 1.6099 - accuracy: 0.8695\n",
      "Epoch 2/10\n",
      "1875/1875 [==============================] - 3s 1ms/step - loss: 1.5351 - accuracy: 0.9309: 0s - los\n",
      "Epoch 3/10\n",
      "1875/1875 [==============================] - 3s 1ms/step - loss: 1.5193 - accuracy: 0.9449\n",
      "Epoch 4/10\n",
      "1875/1875 [==============================] - 3s 1ms/step - loss: 1.5106 - accuracy: 0.9528\n",
      "Epoch 5/10\n",
      "1875/1875 [==============================] - 2s 1ms/step - loss: 1.5051 - accuracy: 0.9579: 0s - loss: 1.5054 - accu\n",
      "Epoch 6/10\n",
      "1875/1875 [==============================] - 3s 1ms/step - loss: 1.5008 - accuracy: 0.9616\n",
      "Epoch 7/10\n",
      "1875/1875 [==============================] - 3s 1ms/step - loss: 1.4974 - accuracy: 0.9648\n",
      "Epoch 8/10\n",
      "1875/1875 [==============================] - 3s 2ms/step - loss: 1.4954 - accuracy: 0.9669\n",
      "Epoch 9/10\n",
      "1875/1875 [==============================] - 3s 1ms/step - loss: 1.4932 - accuracy: 0.9686: 0s - loss: 1.4928 \n",
      "Epoch 10/10\n",
      "1875/1875 [==============================] - 3s 2ms/step - loss: 1.4913 - accuracy: 0.9707\n"
     ]
    }
   ],
   "source": [
    "# your codes here\n",
    "history = model.fit(x_train, y_train, epochs=10, batch_size=32)\n"
   ]
  },
  {
   "cell_type": "markdown",
   "metadata": {
    "id": "4mDAAPFqVVgn"
   },
   "source": [
    "The `Model.evaluate` method checks the models performance, usually on a \"[Validation-set](https://developers.google.com/machine-learning/glossary#validation-set)\" or \"[Test-set](https://developers.google.com/machine-learning/glossary#test-set)\"."
   ]
  },
  {
   "cell_type": "code",
   "execution_count": 13,
   "metadata": {
    "id": "F7dTAzgHDUh7",
    "tags": []
   },
   "outputs": [
    {
     "name": "stdout",
     "output_type": "stream",
     "text": [
      "313/313 - 0s - loss: 1.4953 - accuracy: 0.9659\n"
     ]
    },
    {
     "data": {
      "text/plain": [
       "[1.495308518409729, 0.9659000039100647]"
      ]
     },
     "execution_count": 13,
     "metadata": {},
     "output_type": "execute_result"
    }
   ],
   "source": [
    "model.evaluate(x_test,  y_test, verbose=2)"
   ]
  },
  {
   "cell_type": "markdown",
   "metadata": {
    "id": "T4JfEh7kvx6m"
   },
   "source": [
    "The image classifier is now trained to ~98% accuracy on this dataset. To learn more, read the [TensorFlow tutorials](https://www.tensorflow.org/tutorials/)."
   ]
  },
  {
   "cell_type": "markdown",
   "metadata": {
    "id": "Aj8NrlzlJqDG"
   },
   "source": [
    "If you want your model to return a probability, you can wrap the trained model, and attach the softmax to it:"
   ]
  },
  {
   "cell_type": "code",
   "execution_count": 14,
   "metadata": {},
   "outputs": [
    {
     "data": {
      "text/plain": [
       "<tf.Tensor: shape=(10, 10), dtype=float32, numpy=\n",
       "array([[0.08533674, 0.08533674, 0.08533674, 0.08533674, 0.08533674,\n",
       "        0.08533674, 0.08533674, 0.23196931, 0.08533674, 0.08533674],\n",
       "       [0.08533674, 0.08533674, 0.23196931, 0.08533674, 0.08533674,\n",
       "        0.08533674, 0.08533674, 0.08533674, 0.08533674, 0.08533674],\n",
       "       [0.08533675, 0.23196934, 0.08533675, 0.08533675, 0.08533675,\n",
       "        0.08533675, 0.08533675, 0.08533675, 0.08533675, 0.08533675],\n",
       "       [0.23196934, 0.08533675, 0.08533675, 0.08533675, 0.08533675,\n",
       "        0.08533675, 0.08533675, 0.08533675, 0.08533675, 0.08533675],\n",
       "       [0.08533674, 0.08533674, 0.08533674, 0.08533674, 0.23196931,\n",
       "        0.08533674, 0.08533674, 0.08533674, 0.08533674, 0.08533674],\n",
       "       [0.08533675, 0.23196934, 0.08533675, 0.08533675, 0.08533675,\n",
       "        0.08533675, 0.08533675, 0.08533675, 0.08533675, 0.08533675],\n",
       "       [0.08533674, 0.08533674, 0.08533674, 0.08533674, 0.23196931,\n",
       "        0.08533674, 0.08533674, 0.08533674, 0.08533674, 0.08533674],\n",
       "       [0.08533674, 0.08533674, 0.08533674, 0.08533674, 0.08533679,\n",
       "        0.08533674, 0.08533674, 0.08533674, 0.08533674, 0.23196921],\n",
       "       [0.08627862, 0.08627862, 0.08627862, 0.08627862, 0.08627862,\n",
       "        0.21616064, 0.09361038, 0.08627862, 0.08627865, 0.08627862],\n",
       "       [0.08533674, 0.08533674, 0.08533674, 0.08533674, 0.08533674,\n",
       "        0.08533674, 0.08533674, 0.08533674, 0.08533674, 0.23196931]],\n",
       "      dtype=float32)>"
      ]
     },
     "execution_count": 14,
     "metadata": {},
     "output_type": "execute_result"
    }
   ],
   "source": [
    "probability_model = tf.keras.Sequential([\n",
    "    model,\n",
    "    tf.keras.layers.Softmax()\n",
    "])\n",
    "probability_model(x_test[:10])\n",
    "\n"
   ]
  },
  {
   "cell_type": "code",
   "execution_count": 15,
   "metadata": {},
   "outputs": [
    {
     "name": "stdout",
     "output_type": "stream",
     "text": [
      "dict_keys(['loss', 'accuracy'])\n"
     ]
    }
   ],
   "source": [
    "print(history.history.keys())"
   ]
  },
  {
   "cell_type": "markdown",
   "metadata": {},
   "source": [
    "## Task 5: Visualize training loss and accuracy (1 point)\n",
    "\n",
    "#### Codes are provided, make sure the outputs are displayed properly.\n"
   ]
  },
  {
   "cell_type": "code",
   "execution_count": 16,
   "metadata": {},
   "outputs": [
    {
     "data": {
      "image/png": "[encoded data removed]",
      "text/plain": [
       "<Figure size 432x288 with 1 Axes>"
      ]
     },
     "metadata": {
      "needs_background": "light"
     },
     "output_type": "display_data"
    },
    {
     "data": {
      "image/png": "[encoded data removed]",
      "text/plain": [
       "<Figure size 432x288 with 1 Axes>"
      ]
     },
     "metadata": {
      "needs_background": "light"
     },
     "output_type": "display_data"
    }
   ],
   "source": [
    "import matplotlib.pyplot as plt\n",
    "\n",
    "# summarize history for accuracy\n",
    "plt.plot(history.history['accuracy'])\n",
    "\n",
    "plt.title('model accuracy')\n",
    "plt.ylabel('accuracy')\n",
    "plt.xlabel('epoch')\n",
    "plt.legend(['train', 'test'], loc='upper left')\n",
    "plt.show()\n",
    "\n",
    "# summarize history for loss\n",
    "plt.plot(history.history['loss'])\n",
    "\n",
    "plt.title('model loss')\n",
    "plt.ylabel('loss')\n",
    "plt.xlabel('epoch')\n",
    "plt.legend(['train', 'test'], loc='upper left')\n",
    "plt.show()"
   ]
  },
  {
   "cell_type": "markdown",
   "metadata": {},
   "source": [
    "## Task 6: Build and train a simple CNN model and compare it with the Dense model (3 points)\n",
    "Which one is better and why (compare the testing accuracy)"
   ]
  },
  {
   "cell_type": "markdown",
   "metadata": {},
   "source": [
    "### Build, train, and evaluate a simplle CNN model\n",
    "### Reference: https://keras.io/examples/vision/mnist_convnet/ (2 points)\n",
    "\n",
    "[Note] The CNN model architecture (and learning process configuration) can be idential to the one in the reference page."
   ]
  },
  {
   "cell_type": "code",
   "execution_count": 17,
   "metadata": {},
   "outputs": [
    {
     "name": "stdout",
     "output_type": "stream",
     "text": [
      "x_train shape: (60000, 28, 28, 1)\n",
      "60000 train samples\n",
      "10000 test samples\n"
     ]
    }
   ],
   "source": [
    "# Model / data parameters\n",
    "num_classes = 10\n",
    "input_shape = (28, 28, 1)\n",
    "\n",
    "# the data, split between train and test sets\n",
    "(x_train, y_train), (x_test, y_test) = tf.keras.datasets.mnist.load_data()\n",
    "\n",
    "# Scale images to the [0, 1] range\n",
    "x_train = x_train.astype(\"float32\") / 255\n",
    "x_test = x_test.astype(\"float32\") / 255\n",
    "# Make sure images have shape (28, 28, 1)\n",
    "x_train = np.expand_dims(x_train, -1)\n",
    "x_test = np.expand_dims(x_test, -1)\n",
    "print(\"x_train shape:\", x_train.shape)\n",
    "print(x_train.shape[0], \"train samples\")\n",
    "print(x_test.shape[0], \"test samples\")\n",
    "\n",
    "\n",
    "# convert class vectors to binary class matrices\n",
    "y_train = tf.keras.utils.to_categorical(y_train, num_classes)\n",
    "y_test = tf.keras.utils.to_categorical(y_test, num_classes)\n"
   ]
  },
  {
   "cell_type": "code",
   "execution_count": 18,
   "metadata": {},
   "outputs": [
    {
     "name": "stdout",
     "output_type": "stream",
     "text": [
      "Model: \"sequential_2\"\n",
      "_________________________________________________________________\n",
      "Layer (type)                 Output Shape              Param #   \n",
      "=================================================================\n",
      "conv2d (Conv2D)              (None, 26, 26, 32)        320       \n",
      "_________________________________________________________________\n",
      "max_pooling2d (MaxPooling2D) (None, 13, 13, 32)        0         \n",
      "_________________________________________________________________\n",
      "conv2d_1 (Conv2D)            (None, 11, 11, 64)        18496     \n",
      "_________________________________________________________________\n",
      "max_pooling2d_1 (MaxPooling2 (None, 5, 5, 64)          0         \n",
      "_________________________________________________________________\n",
      "flatten_1 (Flatten)          (None, 1600)              0         \n",
      "_________________________________________________________________\n",
      "dropout_1 (Dropout)          (None, 1600)              0         \n",
      "_________________________________________________________________\n",
      "dense_3 (Dense)              (None, 10)                16010     \n",
      "=================================================================\n",
      "Total params: 34,826\n",
      "Trainable params: 34,826\n",
      "Non-trainable params: 0\n",
      "_________________________________________________________________\n"
     ]
    }
   ],
   "source": [
    "#Build the model\n",
    "model = tf.keras.Sequential(\n",
    "    [\n",
    "        tf.keras.Input(shape=input_shape),\n",
    "        tf.keras.layers.Conv2D(32, kernel_size=(3, 3), activation=\"relu\"),\n",
    "        tf.keras.layers.MaxPooling2D(pool_size=(2, 2)),\n",
    "        tf.keras.layers.Conv2D(64, kernel_size=(3, 3), activation=\"relu\"),\n",
    "        tf.keras.layers.MaxPooling2D(pool_size=(2, 2)),\n",
    "        tf.keras.layers.Flatten(),\n",
    "        tf.keras.layers.Dropout(0.5),\n",
    "        tf.keras.layers.Dense(num_classes, activation=\"softmax\"),\n",
    "    ]\n",
    ")\n",
    "\n",
    "model.summary()\n"
   ]
  },
  {
   "cell_type": "code",
   "execution_count": 19,
   "metadata": {},
   "outputs": [
    {
     "name": "stdout",
     "output_type": "stream",
     "text": [
      "Epoch 1/15\n",
      "422/422 [==============================] - 34s 80ms/step - loss: 0.3638 - accuracy: 0.8896 - val_loss: 0.0841 - val_accuracy: 0.9770\n",
      "Epoch 2/15\n",
      "422/422 [==============================] - 34s 80ms/step - loss: 0.1091 - accuracy: 0.9663 - val_loss: 0.0572 - val_accuracy: 0.9847\n",
      "Epoch 3/15\n",
      "422/422 [==============================] - 34s 82ms/step - loss: 0.0851 - accuracy: 0.9743 - val_loss: 0.0500 - val_accuracy: 0.9857\n",
      "Epoch 4/15\n",
      "422/422 [==============================] - 36s 84ms/step - loss: 0.0713 - accuracy: 0.9779 - val_loss: 0.0422 - val_accuracy: 0.9875\n",
      "Epoch 5/15\n",
      "422/422 [==============================] - 39s 93ms/step - loss: 0.0632 - accuracy: 0.9807 - val_loss: 0.0381 - val_accuracy: 0.9888\n",
      "Epoch 6/15\n",
      "422/422 [==============================] - 35s 84ms/step - loss: 0.0574 - accuracy: 0.9827 - val_loss: 0.0359 - val_accuracy: 0.9893\n",
      "Epoch 7/15\n",
      "422/422 [==============================] - 33s 78ms/step - loss: 0.0525 - accuracy: 0.9839 - val_loss: 0.0328 - val_accuracy: 0.9913\n",
      "Epoch 8/15\n",
      "422/422 [==============================] - 33s 77ms/step - loss: 0.0489 - accuracy: 0.9840 - val_loss: 0.0337 - val_accuracy: 0.9913\n",
      "Epoch 9/15\n",
      "422/422 [==============================] - 33s 78ms/step - loss: 0.0442 - accuracy: 0.9861 - val_loss: 0.0318 - val_accuracy: 0.9915\n",
      "Epoch 10/15\n",
      "422/422 [==============================] - 31s 75ms/step - loss: 0.0436 - accuracy: 0.9866 - val_loss: 0.0303 - val_accuracy: 0.9915\n",
      "Epoch 11/15\n",
      "422/422 [==============================] - 31s 74ms/step - loss: 0.0409 - accuracy: 0.9870 - val_loss: 0.0306 - val_accuracy: 0.9915\n",
      "Epoch 12/15\n",
      "422/422 [==============================] - 32s 76ms/step - loss: 0.0374 - accuracy: 0.9881 - val_loss: 0.0295 - val_accuracy: 0.9922\n",
      "Epoch 13/15\n",
      "422/422 [==============================] - 32s 75ms/step - loss: 0.0366 - accuracy: 0.9881 - val_loss: 0.0326 - val_accuracy: 0.9903\n",
      "Epoch 14/15\n",
      "422/422 [==============================] - 32s 77ms/step - loss: 0.0335 - accuracy: 0.9889 - val_loss: 0.0287 - val_accuracy: 0.9917\n",
      "Epoch 15/15\n",
      "422/422 [==============================] - 32s 76ms/step - loss: 0.0336 - accuracy: 0.9891 - val_loss: 0.0290 - val_accuracy: 0.9925\n"
     ]
    },
    {
     "data": {
      "text/plain": [
       "<tensorflow.python.keras.callbacks.History at 0x189bc343550>"
      ]
     },
     "execution_count": 19,
     "metadata": {},
     "output_type": "execute_result"
    }
   ],
   "source": [
    "#Train the model\n",
    "batch_size = 128\n",
    "epochs = 15\n",
    "\n",
    "model.compile(loss=\"categorical_crossentropy\", optimizer=\"adam\", metrics=[\"accuracy\"])\n",
    "\n",
    "model.fit(x_train, y_train, batch_size=batch_size, epochs=epochs, validation_split=0.1)\n"
   ]
  },
  {
   "cell_type": "code",
   "execution_count": 20,
   "metadata": {},
   "outputs": [
    {
     "name": "stdout",
     "output_type": "stream",
     "text": [
      "Test loss: 0.025648662820458412\n",
      "Test accuracy: 0.9912999868392944\n"
     ]
    }
   ],
   "source": [
    "#Evaluate the trained model\n",
    "score = model.evaluate(x_test, y_test, verbose=0)\n",
    "print(\"Test loss:\", score[0])\n",
    "print(\"Test accuracy:\", score[1])\n"
   ]
  },
  {
   "cell_type": "markdown",
   "metadata": {},
   "source": [
    "### Discuss what you learn from comparing the Dense model and the CNN model (1 point)"
   ]
  },
  {
   "cell_type": "markdown",
   "metadata": {},
   "source": [
    "Your answers here:\n",
    "The convolutional neural network model had a noticeably higher accuracy and lower loss. The higher accuracy and loss function minimization of the CNN model compared to the Dense model shows how much more effective the CNN model is when working with the MNIST data set. From what I've found via research, this is due to the CNN model working better with image data than the Dense model due to its process of training filters in order to uncover details in the images, making it optimal for feature extraction. The dense model uses layers instead of filters and conducts matrix-vector multiplication on them in order to find details in the image data for feature extraction."
   ]
  }
 ],
 "metadata": {
  "colab": {
   "collapsed_sections": [
    "rX8mhOLljYeM"
   ],
   "name": "beginner.ipynb",
   "toc_visible": true
  },
  "kernelspec": {
   "display_name": "Python 3 (ipykernel)",
   "language": "python",
   "name": "python3"
  },
  "language_info": {
   "codemirror_mode": {
    "name": "ipython",
    "version": 3
   },
   "file_extension": ".py",
   "mimetype": "text/x-python",
   "name": "python",
   "nbconvert_exporter": "python",
   "pygments_lexer": "ipython3",
   "version": "3.8.13"
  }
 },
 "nbformat": 4,
 "nbformat_minor": 4
}
