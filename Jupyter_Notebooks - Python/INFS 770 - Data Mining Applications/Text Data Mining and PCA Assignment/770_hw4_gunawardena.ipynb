{
 "cells": [
  {
   "cell_type": "markdown",
   "id": "87bf4ba2",
   "metadata": {},
   "source": [
    "Gavin Gunawardena \\\n",
    "INFS 770 \\\n",
    "Assignment 4 \\\n",
    "Dr. Liu"
   ]
  },
  {
   "cell_type": "code",
   "execution_count": 1,
   "id": "8a07e2b9",
   "metadata": {},
   "outputs": [],
   "source": [
    "#library Imports and setup\n",
    "import pandas as pd\n",
    "import numpy as np\n",
    "import gensim\n",
    "import os\n",
    "import re \n",
    "import nltk\n",
    "import matplotlib as plt\n",
    "from re import sub, compile\n",
    "from sklearn.datasets import fetch_20newsgroups\n",
    "from sklearn.feature_extraction.text import *\n",
    "from sklearn import metrics, model_selection\n",
    "from sklearn.cluster import KMeans\n",
    "from sklearn.svm import SVC\n",
    "from sklearn.ensemble import RandomForestClassifier\n",
    "from sklearn.naive_bayes import MultinomialNB\n",
    "from sklearn.tree import DecisionTreeClassifier\n",
    "from sklearn.preprocessing import normalize\n",
    "from gensim import corpora\n",
    "from gensim.models import CoherenceModel\n",
    "from gensim.models import LdaModel\n",
    "from sklearn.linear_model import SGDClassifier\n",
    "from sklearn.model_selection import StratifiedKFold\n",
    "from sklearn.feature_extraction.text import TfidfVectorizer\n",
    "from sklearn import metrics\n",
    "from sklearn.model_selection import train_test_split\n",
    "%matplotlib inline"
   ]
  },
  {
   "cell_type": "code",
   "execution_count": 2,
   "id": "7654ec4a",
   "metadata": {},
   "outputs": [
    {
     "data": {
      "text/html": [
       "<div>\n",
       "<style scoped>\n",
       "    .dataframe tbody tr th:only-of-type {\n",
       "        vertical-align: middle;\n",
       "    }\n",
       "\n",
       "    .dataframe tbody tr th {\n",
       "        vertical-align: top;\n",
       "    }\n",
       "\n",
       "    .dataframe thead th {\n",
       "        text-align: right;\n",
       "    }\n",
       "</style>\n",
       "<table border=\"1\" class=\"dataframe\">\n",
       "  <thead>\n",
       "    <tr style=\"text-align: right;\">\n",
       "      <th></th>\n",
       "      <th>pid</th>\n",
       "      <th>helpful</th>\n",
       "      <th>score</th>\n",
       "      <th>text</th>\n",
       "      <th>category</th>\n",
       "    </tr>\n",
       "  </thead>\n",
       "  <tbody>\n",
       "    <tr>\n",
       "      <th>0</th>\n",
       "      <td>B000GAYQL8</td>\n",
       "      <td>0/0</td>\n",
       "      <td>5</td>\n",
       "      <td>GREAT WATCH AND GREAT LOOK. BIG FACE AND 4 DIF...</td>\n",
       "      <td>watch</td>\n",
       "    </tr>\n",
       "    <tr>\n",
       "      <th>1</th>\n",
       "      <td>B000IBNPDA</td>\n",
       "      <td>0/0</td>\n",
       "      <td>5</td>\n",
       "      <td>Bought this as a Christmas gift, my boyfriend ...</td>\n",
       "      <td>watch</td>\n",
       "    </tr>\n",
       "    <tr>\n",
       "      <th>2</th>\n",
       "      <td>B000J2HA16</td>\n",
       "      <td>0/0</td>\n",
       "      <td>5</td>\n",
       "      <td>I love this watch! Its sporty, without looking...</td>\n",
       "      <td>watch</td>\n",
       "    </tr>\n",
       "    <tr>\n",
       "      <th>3</th>\n",
       "      <td>B000BDIQPM</td>\n",
       "      <td>0/0</td>\n",
       "      <td>5</td>\n",
       "      <td>Works great,looks nice,dont have to worry abou...</td>\n",
       "      <td>watch</td>\n",
       "    </tr>\n",
       "    <tr>\n",
       "      <th>4</th>\n",
       "      <td>B000GZTH9E</td>\n",
       "      <td>0/3</td>\n",
       "      <td>4</td>\n",
       "      <td>I need to change the watch wrist and I havent ...</td>\n",
       "      <td>watch</td>\n",
       "    </tr>\n",
       "  </tbody>\n",
       "</table>\n",
       "</div>"
      ],
      "text/plain": [
       "          pid helpful  score  \\\n",
       "0  B000GAYQL8     0/0      5   \n",
       "1  B000IBNPDA     0/0      5   \n",
       "2  B000J2HA16     0/0      5   \n",
       "3  B000BDIQPM     0/0      5   \n",
       "4  B000GZTH9E     0/3      4   \n",
       "\n",
       "                                                text category  \n",
       "0  GREAT WATCH AND GREAT LOOK. BIG FACE AND 4 DIF...    watch  \n",
       "1  Bought this as a Christmas gift, my boyfriend ...    watch  \n",
       "2  I love this watch! Its sporty, without looking...    watch  \n",
       "3  Works great,looks nice,dont have to worry abou...    watch  \n",
       "4  I need to change the watch wrist and I havent ...    watch  "
      ]
     },
     "metadata": {},
     "output_type": "display_data"
    },
    {
     "name": "stdout",
     "output_type": "stream",
     "text": [
      "score:\n"
     ]
    },
    {
     "data": {
      "text/plain": [
       "2     259\n",
       "3     303\n",
       "1     595\n",
       "4     773\n",
       "5    2070\n",
       "Name: score, dtype: int64"
      ]
     },
     "metadata": {},
     "output_type": "display_data"
    },
    {
     "data": {
      "image/png": "[encoded data removed]",
      "text/plain": [
       "<Figure size 432x288 with 1 Axes>"
      ]
     },
     "metadata": {
      "needs_background": "light"
     },
     "output_type": "display_data"
    },
    {
     "name": "stdout",
     "output_type": "stream",
     "text": [
      "category:\n"
     ]
    },
    {
     "data": {
      "text/plain": [
       "watch          1000\n",
       "software       1000\n",
       "electronics    1000\n",
       "automotive     1000\n",
       "Name: category, dtype: int64"
      ]
     },
     "metadata": {},
     "output_type": "display_data"
    },
    {
     "data": {
      "image/png": "[encoded data removed]",
      "text/plain": [
       "<Figure size 432x288 with 1 Axes>"
      ]
     },
     "metadata": {
      "needs_background": "light"
     },
     "output_type": "display_data"
    }
   ],
   "source": [
    "#Task 1: Read the dataset\n",
    "\n",
    "#import data\n",
    "df_Amazon_Reviews = pd.read_csv('amazon_review_texts.csv')\n",
    "\n",
    "#Read first 5 lines\n",
    "display(df_Amazon_Reviews.head())\n",
    "\n",
    "#Show distribution of Score variable\n",
    "print('score:')\n",
    "display(df_Amazon_Reviews['score'].value_counts(ascending=True))\n",
    "df_Amazon_Reviews['score'].plot.hist()\n",
    "plt.pyplot.show()\n",
    "\n",
    "#Show distribution of Category variable\n",
    "print('category:')\n",
    "display(df_Amazon_Reviews['category'].value_counts())\n",
    "categories = df_Amazon_Reviews['category'].value_counts().index\n",
    "counts = df_Amazon_Reviews['category'].value_counts().values\n",
    "plt.pyplot.bar(categories, counts, width=0.5)\n",
    "plt.pyplot.show()\n",
    "\n"
   ]
  },
  {
   "cell_type": "code",
   "execution_count": 20,
   "id": "acbf3920",
   "metadata": {},
   "outputs": [],
   "source": [
    "#Task 2: Tokenize the reviews\n",
    "\n",
    "# get a set of stopwords\n",
    "stopwords = set(nltk.corpus.stopwords.words(\"english\"))\n",
    "\n",
    "import re\n",
    "def before_token(documents):\n",
    "    # conver words to lower case\n",
    "    lower = map(str.lower, documents)\n",
    "    # remove puntuations\n",
    "    punctuationless = list(map(lambda x: \" \".join(re.findall('\\\\b\\\\w\\\\w+\\\\b',x)), lower))\n",
    "    # remove numbers\n",
    "    return list(map(lambda x:re.sub('\\\\b[0-9]+\\\\b', '', x), punctuationless))\n",
    "\n",
    "# initialize a stemmer\n",
    "stemmer = nltk.stem.PorterStemmer()\n",
    "\n",
    "# initialize a container of token frequencies\n",
    "fdist = nltk.FreqDist()\n",
    "\n",
    "\n",
    "# define a function that preprocess a single document and returns a list of tokens\n",
    "def preprocess(doc):\n",
    "    tokens = []\n",
    "    for token in doc.split():\n",
    "        if token not in stopwords:\n",
    "            tokens.append(stemmer.stem(token))\n",
    "    return tokens\n",
    "            \n",
    "# preprocess all documents\n",
    "processed = list(map(preprocess, before_token(df_Amazon_Reviews.text)))"
   ]
  },
  {
   "cell_type": "code",
   "execution_count": 4,
   "id": "ae061ca9",
   "metadata": {},
   "outputs": [
    {
     "name": "stdout",
     "output_type": "stream",
     "text": [
      "  watch     use     one    work    time    like product   great     get   would \n",
      "   2553    2476    1795    1605    1420    1375    1336    1318    1309    1217 \n"
     ]
    },
    {
     "data": {
      "image/png": "[encoded data removed]",
      "text/plain": [
       "<Figure size 432x288 with 1 Axes>"
      ]
     },
     "metadata": {
      "needs_background": "light"
     },
     "output_type": "display_data"
    },
    {
     "data": {
      "text/plain": [
       "<AxesSubplot:xlabel='Samples', ylabel='Counts'>"
      ]
     },
     "execution_count": 4,
     "metadata": {},
     "output_type": "execute_result"
    }
   ],
   "source": [
    "#Show word frequency distribution\n",
    "fdist = nltk.FreqDist([token for doc in processed for token in doc])\n",
    "fdist.tabulate(10)\n",
    "fdist.plot(100)"
   ]
  },
  {
   "cell_type": "markdown",
   "id": "72a2c102",
   "metadata": {},
   "source": [
    "Task 3: Which of the top 10 words might not be useful in text clustering and classification, and why?\\\n",
    "*The purpose of this type of text analysis is to label the sentiment of the product by the reviewer and possibly categorize the sentiment based on sub-categories which may be based on aspects  of the product such as ease of use or customer service. Thus, the most useful words would be nouns since they represent subjects that the reviews could be about, adverbs, since they describe verbs based on actions conducted or influenced by the subject that the review could be about, and adjectives since they describe subjects. From the top 10  most frequent words, the mose useful would likely be: watch, one, work, time, product, and great.*"
   ]
  },
  {
   "cell_type": "code",
   "execution_count": 5,
   "id": "7c8aff43",
   "metadata": {},
   "outputs": [
    {
     "name": "stdout",
     "output_type": "stream",
     "text": [
      "n_samples: 4000, n_features: 10833\n"
     ]
    }
   ],
   "source": [
    "#Task 4: Write code to reconstruct the documents\n",
    "processed_doc = list(map(\" \".join, processed))\n",
    "vectorizer = TfidfVectorizer(norm = 'l2', max_df=0.8, stop_words='english')\n",
    "X = vectorizer.fit_transform(processed_doc)\n",
    "print(\"n_samples: %d, n_features: %d\" % X.shape)"
   ]
  },
  {
   "cell_type": "code",
   "execution_count": 6,
   "id": "6af19c03",
   "metadata": {},
   "outputs": [
    {
     "name": "stdout",
     "output_type": "stream",
     "text": [
      "Cluster 0:\n",
      " use\n",
      " product\n",
      " work\n",
      " great\n",
      " good\n",
      " instal\n",
      " program\n",
      " like\n",
      " softwar\n",
      " time\n",
      "Cluster 1:\n",
      " batteri\n",
      " charg\n",
      " charger\n",
      " power\n",
      " adapt\n",
      " appl\n",
      " camera\n",
      " canon\n",
      " work\n",
      " origin\n",
      "Cluster 2:\n",
      " watch\n",
      " look\n",
      " band\n",
      " time\n",
      " great\n",
      " wear\n",
      " love\n",
      " like\n",
      " nice\n",
      " price\n",
      "Cluster 3:\n",
      " bed\n",
      " air\n",
      " inflat\n",
      " comfort\n",
      " pump\n",
      " sleep\n",
      " mattress\n",
      " deflat\n",
      " airb\n",
      " easi\n"
     ]
    }
   ],
   "source": [
    "#Task 5: Write code to perform K-means to categorize documents into 4 clusters.\n",
    "km = KMeans(n_clusters=4, max_iter=100, random_state=54321)\n",
    "km.fit(X)\n",
    "\n",
    "# examine each word's distance to each cluster\n",
    "km.transform(X)\n",
    "km.predict(X[0])\n",
    "\n",
    "# examine the representative words for each cluster\n",
    "order_centroids = km.cluster_centers_.argsort()[:, ::-1]\n",
    "terms = vectorizer.get_feature_names()\n",
    "for i in range(4):\n",
    "    print(\"Cluster %d:\" % i)\n",
    "    for ind in order_centroids[i, :10]:\n",
    "        print(' %s' % terms[ind])\n",
    "    print"
   ]
  },
  {
   "cell_type": "markdown",
   "id": "03a22bff",
   "metadata": {},
   "source": [
    "Task 6: Discuss how well you think these top 10 words describe the 4 product categories.\\\n",
    "\\\n",
    "*All but the first cluster seem to describe the categories well. Clusters 1-4 each seem to each describe a category quite well: a time-based software, a Canon camera, an Apple wristwatch, and an inflatable air bed; due to the nouns and adjectives they contain. The first cluster is not as effective as the others since the nouns and adjectives it contains only describe a software product that possibly has something to do with time, but this does fit its category, software.*"
   ]
  },
  {
   "cell_type": "code",
   "execution_count": 7,
   "id": "b8a26609",
   "metadata": {},
   "outputs": [
    {
     "name": "stdout",
     "output_type": "stream",
     "text": [
      "[(0, '0.002*\"dent\" + 0.001*\"la\" + 0.001*\"el\" + 0.001*\"harley\" + 0.001*\"en\" + 0.001*\"es\" + 0.001*\"inspector\" + 0.001*\"c350\" + 0.001*\"producto\" + 0.001*\"que\"'), (1, '0.006*\"use\" + 0.004*\"product\" + 0.004*\"softwar\" + 0.004*\"work\" + 0.004*\"program\" + 0.004*\"game\" + 0.003*\"comput\" + 0.003*\"instal\" + 0.003*\"like\" + 0.003*\"version\"'), (2, '0.013*\"watch\" + 0.006*\"great\" + 0.005*\"batteri\" + 0.005*\"work\" + 0.005*\"look\" + 0.005*\"use\" + 0.005*\"good\" + 0.005*\"time\" + 0.004*\"product\" + 0.004*\"price\"'), (3, '0.001*\"oil\" + 0.001*\"sd950i\" + 0.001*\"nuff\" + 0.001*\"powerful\" + 0.001*\"aid\" + 0.000*\"reali\" + 0.000*\"fro\" + 0.000*\"dammag\" + 0.000*\"aliv\" + 0.000*\"cpap\"')]\n"
     ]
    }
   ],
   "source": [
    "#Task 7: Build a topic model using Latent Dirichlet Allocation based on the \n",
    "#vectorized data from Task 4.\n",
    "\n",
    "word2id = dict((k, v) for k, v in vectorizer.vocabulary_.items())\n",
    "id2word = dict((v, k) for k,v in vectorizer.vocabulary_.items())\n",
    "d=corpora.Dictionary()\n",
    "d.id2token = id2word\n",
    "d.token2id = word2id\n",
    "corpus = gensim.matutils.Sparse2Corpus(X, documents_columns=False)\n",
    "#print(id2word)\n",
    "# build the lda model with 4 topics\n",
    "lda = LdaModel(corpus, num_topics=4,id2word=id2word, random_state=10, passes=20) #\n",
    "print(lda.print_topics())"
   ]
  },
  {
   "cell_type": "markdown",
   "id": "b8a8837e",
   "metadata": {},
   "source": [
    "Task 8: Examine the representative words for each topic. Please create a text box and discuss how well these words describe the 4 product categories, and also tell me which unsupervised method (clustering vs LDA) you think is more effective in identifying the categories in this example and why? \\\n",
    "\\\n",
    "*The representative words for the 4 topics make it easy to distinguish all of the products, although the automotive and electronic products are only distinguishable because these 2 topics include model names as part of their word lists. If the LDA topics did not include the model numbers, they would definitely be less effective since two of the topics do not include very descriptive words, but since they do and the remaining topics are just as descriptive as the word lists obtained from k-means clustering, I believe LDA is more effective in identifying the categories.*"
   ]
  },
  {
   "cell_type": "code",
   "execution_count": 8,
   "id": "bf5f082a",
   "metadata": {},
   "outputs": [
    {
     "name": "stdout",
     "output_type": "stream",
     "text": [
      "Fold 1\n",
      "              precision    recall  f1-score   support\n",
      "\n",
      "  automotive       0.90      0.96      0.93       200\n",
      " electronics       0.92      0.90      0.91       200\n",
      "    software       0.95      0.94      0.94       200\n",
      "       watch       0.98      0.94      0.96       200\n",
      "\n",
      "    accuracy                           0.94       800\n",
      "   macro avg       0.94      0.94      0.94       800\n",
      "weighted avg       0.94      0.94      0.94       800\n",
      "\n",
      "Fold 2\n",
      "              precision    recall  f1-score   support\n",
      "\n",
      "  automotive       0.89      0.91      0.90       200\n",
      " electronics       0.93      0.90      0.91       200\n",
      "    software       0.93      0.96      0.95       200\n",
      "       watch       0.96      0.94      0.95       200\n",
      "\n",
      "    accuracy                           0.93       800\n",
      "   macro avg       0.93      0.93      0.93       800\n",
      "weighted avg       0.93      0.93      0.93       800\n",
      "\n",
      "Fold 3\n",
      "              precision    recall  f1-score   support\n",
      "\n",
      "  automotive       0.88      0.94      0.91       200\n",
      " electronics       0.91      0.94      0.93       200\n",
      "    software       0.94      0.88      0.91       200\n",
      "       watch       0.95      0.93      0.94       200\n",
      "\n",
      "    accuracy                           0.92       800\n",
      "   macro avg       0.92      0.92      0.92       800\n",
      "weighted avg       0.92      0.92      0.92       800\n",
      "\n",
      "Fold 4\n",
      "              precision    recall  f1-score   support\n",
      "\n",
      "  automotive       0.91      0.92      0.91       200\n",
      " electronics       0.89      0.89      0.89       200\n",
      "    software       0.93      0.94      0.93       200\n",
      "       watch       0.95      0.94      0.95       200\n",
      "\n",
      "    accuracy                           0.92       800\n",
      "   macro avg       0.92      0.92      0.92       800\n",
      "weighted avg       0.92      0.92      0.92       800\n",
      "\n",
      "Fold 5\n",
      "              precision    recall  f1-score   support\n",
      "\n",
      "  automotive       0.86      0.91      0.89       200\n",
      " electronics       0.88      0.91      0.89       200\n",
      "    software       0.95      0.92      0.93       200\n",
      "       watch       0.96      0.91      0.93       200\n",
      "\n",
      "    accuracy                           0.91       800\n",
      "   macro avg       0.91      0.91      0.91       800\n",
      "weighted avg       0.91      0.91      0.91       800\n",
      "\n",
      "Average F1: 0.92\n"
     ]
    }
   ],
   "source": [
    "#Task 9: Perform a 5 fold cross validaiton using SGD classifier to predict \n",
    "#the review scores using texts.\n",
    "# define a custom tokenizer\n",
    "def tokenization(text):\n",
    "    # replace mention \n",
    "    text = sub(\"@[^ ]+\", \" \", text)\n",
    "    # replace hashtags with space\n",
    "    text = sub(\"#[^ ]+\", \" \", text)\n",
    "    # replace RT (retweet) with space\n",
    "    text = sub(\"RT\", \" \", text)\n",
    "    # replace URL with space\n",
    "    text = sub(\"http[^ ]+\", \" \", text)\n",
    "\n",
    "    p = compile(\"[^a-z]\")\n",
    "    # conver the text to lower case and split by non-alphabetic characters\n",
    "    # also remove \"\" due to tokenizing multple spaces\n",
    "    return [token for token in p.split(text.lower()) if token != \"\"]\n",
    "\n",
    "# SGD Classifier with 5-fold cross validation\n",
    "skf = StratifiedKFold(n_splits=5)\n",
    "fold = 0\n",
    "f1 = []\n",
    "for train_index, test_index in skf.split(df_Amazon_Reviews[\"text\"], df_Amazon_Reviews[\"category\"]):\n",
    "#for train_index, test_index in skf:\n",
    "    fold += 1\n",
    "    print(\"Fold %d\" % fold)\n",
    "    # partition\n",
    "    train_x, test_x = df_Amazon_Reviews[\"text\"].iloc[train_index], df_Amazon_Reviews[\"text\"].iloc[test_index]\n",
    "    train_y, test_y = df_Amazon_Reviews[\"category\"].iloc[train_index], df_Amazon_Reviews[\"category\"].iloc[test_index]\n",
    "    # vectorize\n",
    "    vectorizer = TfidfVectorizer(tokenizer=tokenization, max_df=0.8, min_df=1, stop_words='english')\n",
    "    X = vectorizer.fit_transform(train_x)\n",
    "    X_test = vectorizer.transform(test_x)\n",
    "    # train model\n",
    "    clf = SGDClassifier(random_state=fold)\n",
    "    clf.fit(X, train_y)\n",
    "    # predict\n",
    "    pred_y = clf.predict(X_test)\n",
    "    # classification results\n",
    "    for line in metrics.classification_report(test_y, pred_y).split(\"\\n\"):\n",
    "        print(line)\n",
    "    f1.append(metrics.f1_score(test_y, pred_y, average='weighted'))\n",
    "print(\"Average F1: %.2f\" % np.mean(f1))"
   ]
  },
  {
   "cell_type": "code",
   "execution_count": 9,
   "id": "b441469c",
   "metadata": {},
   "outputs": [
    {
     "name": "stdout",
     "output_type": "stream",
     "text": [
      "Fold 1\n",
      "              precision    recall  f1-score   support\n",
      "\n",
      "         0.0       0.85      0.23      0.36       231\n",
      "         1.0       0.76      0.98      0.86       569\n",
      "\n",
      "    accuracy                           0.77       800\n",
      "   macro avg       0.81      0.60      0.61       800\n",
      "weighted avg       0.79      0.77      0.71       800\n",
      "\n",
      "Fold 2\n",
      "              precision    recall  f1-score   support\n",
      "\n",
      "         0.0       0.63      0.68      0.66       231\n",
      "         1.0       0.87      0.84      0.85       569\n",
      "\n",
      "    accuracy                           0.79       800\n",
      "   macro avg       0.75      0.76      0.75       800\n",
      "weighted avg       0.80      0.79      0.80       800\n",
      "\n",
      "Fold 3\n",
      "              precision    recall  f1-score   support\n",
      "\n",
      "         0.0       0.65      0.73      0.68       231\n",
      "         1.0       0.88      0.84      0.86       569\n",
      "\n",
      "    accuracy                           0.81       800\n",
      "   macro avg       0.76      0.78      0.77       800\n",
      "weighted avg       0.81      0.81      0.81       800\n",
      "\n",
      "Fold 4\n",
      "              precision    recall  f1-score   support\n",
      "\n",
      "         0.0       0.80      0.58      0.67       232\n",
      "         1.0       0.85      0.94      0.89       568\n",
      "\n",
      "    accuracy                           0.84       800\n",
      "   macro avg       0.82      0.76      0.78       800\n",
      "weighted avg       0.83      0.84      0.83       800\n",
      "\n",
      "Fold 5\n",
      "              precision    recall  f1-score   support\n",
      "\n",
      "         0.0       0.76      0.43      0.55       232\n",
      "         1.0       0.80      0.95      0.87       568\n",
      "\n",
      "    accuracy                           0.80       800\n",
      "   macro avg       0.78      0.69      0.71       800\n",
      "weighted avg       0.79      0.80      0.78       800\n",
      "\n",
      "Average F1: 0.78\n"
     ]
    }
   ],
   "source": [
    "#Task 10: Write code to create a new variable named “satisfaction”. \n",
    "#If a review score is 5 or 4, set the satisfaction value to 1 \n",
    "#(the customer is satisfied). For the other review scores (3, 2, or 1), \n",
    "#set the satisfaction value to 0 (the customer is not satisfied). \n",
    "#Use this as a new dependent variable and run an SGD classifier with a 5 fold\n",
    "#cross validation\n",
    "\n",
    "#Create the satisfcation column\n",
    "df_Amazon_Reviews.loc[(df_Amazon_Reviews['score'] >= 4), 'satisfaction'] = 1\n",
    "df_Amazon_Reviews.loc[(df_Amazon_Reviews['score'] < 4), 'satisfaction'] = 0 \n",
    "\n",
    "\n",
    "# SGD Classifier with 5-fold cross validation\n",
    "skf = StratifiedKFold(n_splits=5)\n",
    "fold = 0\n",
    "f1 = []\n",
    "for train_index, test_index in skf.split(df_Amazon_Reviews[\"text\"], df_Amazon_Reviews[\"satisfaction\"]):\n",
    "#for train_index, test_index in skf:\n",
    "    fold += 1\n",
    "    print(\"Fold %d\" % fold)\n",
    "    # partition\n",
    "    train_x, test_x = df_Amazon_Reviews[\"text\"].iloc[train_index], df_Amazon_Reviews[\"text\"].iloc[test_index]\n",
    "    train_y, test_y = df_Amazon_Reviews[\"satisfaction\"].iloc[train_index], df_Amazon_Reviews[\"satisfaction\"].iloc[test_index]\n",
    "    # vectorize\n",
    "    vectorizer = TfidfVectorizer(tokenizer=tokenization, max_df=0.8, min_df=1, stop_words='english')\n",
    "    X = vectorizer.fit_transform(train_x)\n",
    "    X_test = vectorizer.transform(test_x)\n",
    "    # train model\n",
    "    clf = SGDClassifier(random_state=fold)\n",
    "    clf.fit(X, train_y)\n",
    "    # predict\n",
    "    pred_y = clf.predict(X_test)\n",
    "    # classification results\n",
    "    for line in metrics.classification_report(test_y, pred_y).split(\"\\n\"):\n",
    "        print(line)\n",
    "    f1.append(metrics.f1_score(test_y, pred_y, average='weighted'))\n",
    "print(\"Average F1: %.2f\" % np.mean(f1))\n"
   ]
  },
  {
   "cell_type": "code",
   "execution_count": 10,
   "id": "22615134",
   "metadata": {},
   "outputs": [
    {
     "name": "stdout",
     "output_type": "stream",
     "text": [
      "Fold 1\n",
      "              precision    recall  f1-score   support\n",
      "\n",
      "         0.0       0.73      0.41      0.53       231\n",
      "         1.0       0.80      0.94      0.86       569\n",
      "\n",
      "    accuracy                           0.79       800\n",
      "   macro avg       0.76      0.67      0.69       800\n",
      "weighted avg       0.78      0.79      0.77       800\n",
      "\n",
      "Fold 2\n",
      "              precision    recall  f1-score   support\n",
      "\n",
      "         0.0       0.69      0.63      0.66       231\n",
      "         1.0       0.85      0.88      0.87       569\n",
      "\n",
      "    accuracy                           0.81       800\n",
      "   macro avg       0.77      0.76      0.76       800\n",
      "weighted avg       0.81      0.81      0.81       800\n",
      "\n",
      "Fold 3\n",
      "              precision    recall  f1-score   support\n",
      "\n",
      "         0.0       0.67      0.65      0.66       231\n",
      "         1.0       0.86      0.87      0.87       569\n",
      "\n",
      "    accuracy                           0.81       800\n",
      "   macro avg       0.77      0.76      0.76       800\n",
      "weighted avg       0.81      0.81      0.81       800\n",
      "\n",
      "Fold 4\n",
      "              precision    recall  f1-score   support\n",
      "\n",
      "         0.0       0.77      0.55      0.64       232\n",
      "         1.0       0.84      0.93      0.88       568\n",
      "\n",
      "    accuracy                           0.82       800\n",
      "   macro avg       0.80      0.74      0.76       800\n",
      "weighted avg       0.82      0.82      0.81       800\n",
      "\n",
      "Fold 5\n",
      "              precision    recall  f1-score   support\n",
      "\n",
      "         0.0       0.68      0.46      0.55       232\n",
      "         1.0       0.81      0.91      0.86       568\n",
      "\n",
      "    accuracy                           0.78       800\n",
      "   macro avg       0.74      0.69      0.70       800\n",
      "weighted avg       0.77      0.78      0.77       800\n",
      "\n",
      "Average F1: 0.79\n"
     ]
    }
   ],
   "source": [
    "#Task 11: Use Bing Liu’s opinion lexicon described in the lecture as the vocabulary, \n",
    "#and vectorize the texts again.\n",
    "\n",
    "# read the lexicon\n",
    "lexicon_BLiu = dict()\n",
    "\n",
    "# read postive words\n",
    "with open(\"opinion-lexicon-Bing-Liu-English/negative-words.txt\", \"r\") as in_file:\n",
    "    for line in in_file.readlines():\n",
    "        if not line.startswith(\";\") and line != \"\\n\":\n",
    "            lexicon_BLiu[line.strip()] = -1\n",
    "\n",
    "# read negative words\n",
    "with open(\"opinion-lexicon-Bing-Liu-English/positive-words.txt\", \"r\") as in_file:\n",
    "    for line in in_file.readlines():\n",
    "        if not line.startswith(\";\") and line != \"\\n\":\n",
    "            lexicon_BLiu[line.strip()] = 1\n",
    "            \n",
    "# SGD Classifier with 5-fold cross validation\n",
    "skf = StratifiedKFold(n_splits=5)\n",
    "fold = 0\n",
    "f1 = []\n",
    "Bing_Liu_Vocab = lexicon_BLiu.keys()\n",
    "for train_index, test_index in skf.split(df_Amazon_Reviews[\"text\"], df_Amazon_Reviews[\"satisfaction\"]):\n",
    "#for train_index, test_index in skf:\n",
    "    fold += 1\n",
    "    print(\"Fold %d\" % fold)\n",
    "    # partition\n",
    "    train_x, test_x = df_Amazon_Reviews[\"text\"].iloc[train_index], df_Amazon_Reviews[\"text\"].iloc[test_index]\n",
    "    train_y, test_y = df_Amazon_Reviews[\"satisfaction\"].iloc[train_index], df_Amazon_Reviews[\"satisfaction\"].iloc[test_index]\n",
    "    # vectorize\n",
    "    vectorizer = TfidfVectorizer(tokenizer=tokenization, max_df=0.8, min_df=1, stop_words='english', vocabulary=Bing_Liu_Vocab)\n",
    "    X = vectorizer.fit_transform(train_x)\n",
    "    X_test = vectorizer.transform(test_x)\n",
    "    # train model\n",
    "    clf = SGDClassifier(random_state=fold)\n",
    "    clf.fit(X, train_y)\n",
    "    # predict\n",
    "    pred_y = clf.predict(X_test)\n",
    "    # classification results\n",
    "    for line in metrics.classification_report(test_y, pred_y).split(\"\\n\"):\n",
    "        print(line)\n",
    "    f1.append(metrics.f1_score(test_y, pred_y, average='weighted'))\n",
    "print(\"Average F1: %.2f\" % np.mean(f1))\n"
   ]
  },
  {
   "cell_type": "markdown",
   "id": "abd93a1d",
   "metadata": {},
   "source": [
    "Task 12: Has the average F1 score increased in T11, compared with results obtained in T10? If so, why? \\\n",
    "\\\n",
    "*Yes by 1 percent, likely because using the Bing Liu opinion lexicon used to train the SGD Classifier model along with using the training dataset is more effective than just using the training dataset.*\n"
   ]
  },
  {
   "cell_type": "code",
   "execution_count": 16,
   "id": "26d35562",
   "metadata": {},
   "outputs": [
    {
     "name": "stdout",
     "output_type": "stream",
     "text": [
      "Principal Component Count: 2221\n"
     ]
    }
   ],
   "source": [
    "#Task 13: Use TFIDF to vectorize the dataset again using the same \n",
    "#vectorizer you used in T9 and then perform PCA variable reduction \n",
    "#(Here you need to do vectorization first to obtain a dataset that includes \n",
    "#the TF-IDF numbers\n",
    "\n",
    "#Setup vectorizer\n",
    "vectorizer = TfidfVectorizer(tokenizer=tokenization, max_df=0.8, min_df=1, stop_words='english')\n",
    "X = vectorizer.fit_transform(df_Amazon_Reviews[\"text\"]).todense()\n",
    "#Scale the dataset\n",
    "from sklearn.preprocessing import StandardScaler\n",
    "X = StandardScaler().fit_transform(X)\n",
    "#print(len(X[0]))\n",
    "#Initial primary component analysis\n",
    "from sklearn.decomposition import PCA\n",
    "pca = PCA(svd_solver='randomized',whiten=True).fit(X)\n",
    "#print(pca.explained_variance_ratio_)\n",
    "sumofvariance=0.0\n",
    "n_components = 0\n",
    "for item in pca.explained_variance_ratio_:\n",
    "    sumofvariance += item\n",
    "    n_components+=1\n",
    "    if sumofvariance>=0.9:\n",
    "        break\n",
    "print(\"Principal Component Count: %d\" % n_components)\n",
    "pca = PCA(n_components=n_components, svd_solver='randomized',whiten=True).fit(X)\n",
    "X_train_pca = pca.transform(X)\n",
    "train_x, test_x, train_y, test_y = train_test_split(X_train_pca, df_Amazon_Reviews[\"category\"], test_size=0.2, stratify=df_Amazon_Reviews[\"category\"], random_state=123)"
   ]
  },
  {
   "cell_type": "markdown",
   "id": "ca442ba8",
   "metadata": {},
   "source": [
    "Task 14: Use your own words to briefly describe PCA. \\\n",
    "\\\n",
    "*PCA, or principle component analysis, is a type of feature selection algorithm that attempts to lower the amount of features by lowering the dimensionality of a dataset and creating new variables to be used. It creates these new variables from existing variables by first converting the dataset into a covariance matrix and then obtaining the eigenvectors that contribute to the most variance. A feature vector is created from these chosen eigenvectors and a transpose of this feature vector is then multiplied by a matching transpose of the original dataset, resulting in a version of the original dataset with less features. This method requires that the dataset be standardized since it is extremely sensitive to high ranges within features.*\\\n",
    "*source of concept of definition: https://builtin.com/data-science/step-step-explanation-principal-component-analysis*\n"
   ]
  },
  {
   "cell_type": "code",
   "execution_count": 12,
   "id": "13f164e4",
   "metadata": {},
   "outputs": [
    {
     "name": "stdout",
     "output_type": "stream",
     "text": [
      "15022\n",
      "[1.08441678e-02 3.89168527e-03 3.16405030e-03 ... 1.25400895e-37\n",
      " 2.34038219e-38 1.14562972e-39]\n",
      "Principal Component Count: 2221\n"
     ]
    }
   ],
   "source": [
    "#Task 15: Please write code to determine how many principle components \n",
    "#you obtain if you make sure that these components explain at least 90% \n",
    "#of variance. \n",
    "#Setup vectorizer\n",
    "vectorizer = TfidfVectorizer(tokenizer=tokenization, max_df=0.8, min_df=1, stop_words='english')\n",
    "X = vectorizer.fit_transform(df_Amazon_Reviews[\"text\"]).todense()\n",
    "#Scale the dataset\n",
    "from sklearn.preprocessing import StandardScaler\n",
    "X = StandardScaler().fit_transform(X)\n",
    "print(len(X[0]))\n",
    "#Initial primary component analysis\n",
    "from sklearn.decomposition import PCA\n",
    "pca = PCA(svd_solver='randomized',whiten=True).fit(X)\n",
    "print(pca.explained_variance_ratio_)\n",
    "sumofvariance=0.0\n",
    "n_components = 0\n",
    "for item in pca.explained_variance_ratio_:\n",
    "    sumofvariance += item\n",
    "    n_components+=1\n",
    "    if sumofvariance>=0.9:\n",
    "        break\n",
    "print(\"Principal Component Count: %d\" % n_components)\n",
    "pca = PCA(n_components=n_components, svd_solver='randomized',whiten=True).fit(X)\n",
    "X_train_pca = pca.transform(X)\n"
   ]
  },
  {
   "cell_type": "code",
   "execution_count": 13,
   "id": "e8b54ce8",
   "metadata": {},
   "outputs": [
    {
     "name": "stdout",
     "output_type": "stream",
     "text": [
      "Fold 1\n",
      "              precision    recall  f1-score   support\n",
      "\n",
      "         0.0       0.54      0.16      0.25       231\n",
      "         1.0       0.73      0.95      0.83       569\n",
      "\n",
      "    accuracy                           0.72       800\n",
      "   macro avg       0.64      0.55      0.54       800\n",
      "weighted avg       0.68      0.72      0.66       800\n",
      "\n",
      "Fold 2\n",
      "              precision    recall  f1-score   support\n",
      "\n",
      "         0.0       0.42      0.13      0.19       231\n",
      "         1.0       0.72      0.93      0.81       569\n",
      "\n",
      "    accuracy                           0.70       800\n",
      "   macro avg       0.57      0.53      0.50       800\n",
      "weighted avg       0.64      0.70      0.63       800\n",
      "\n",
      "Fold 3\n",
      "              precision    recall  f1-score   support\n",
      "\n",
      "         0.0       0.53      0.21      0.30       231\n",
      "         1.0       0.74      0.92      0.82       569\n",
      "\n",
      "    accuracy                           0.72       800\n",
      "   macro avg       0.63      0.57      0.56       800\n",
      "weighted avg       0.68      0.72      0.67       800\n",
      "\n",
      "Fold 4\n",
      "              precision    recall  f1-score   support\n",
      "\n",
      "         0.0       0.62      0.24      0.34       232\n",
      "         1.0       0.75      0.94      0.84       568\n",
      "\n",
      "    accuracy                           0.74       800\n",
      "   macro avg       0.69      0.59      0.59       800\n",
      "weighted avg       0.71      0.74      0.69       800\n",
      "\n",
      "Fold 5\n",
      "              precision    recall  f1-score   support\n",
      "\n",
      "         0.0       0.62      0.22      0.32       232\n",
      "         1.0       0.75      0.95      0.84       568\n",
      "\n",
      "    accuracy                           0.73       800\n",
      "   macro avg       0.68      0.58      0.58       800\n",
      "weighted avg       0.71      0.73      0.69       800\n",
      "\n",
      "Average F1: 0.67\n"
     ]
    }
   ],
   "source": [
    "# SGD Classifier with 5-fold cross validation\n",
    "skf = StratifiedKFold(n_splits=5)\n",
    "fold = 0\n",
    "f1 = []\n",
    "for train_index, test_index in skf.split(X_train_pca, df_Amazon_Reviews[\"satisfaction\"]):\n",
    "#for train_index, test_index in skf:\n",
    "    fold += 1\n",
    "    print(\"Fold %d\" % fold)\n",
    "    # partition\n",
    "    train_x, test_x = X_train_pca[train_index,], X_train_pca[test_index,]\n",
    "    train_y, test_y = df_Amazon_Reviews[\"satisfaction\"].iloc[train_index], df_Amazon_Reviews[\"satisfaction\"].iloc[test_index]\n",
    "    # train model\n",
    "    clf = SGDClassifier(random_state=fold)\n",
    "    clf.fit(train_x, train_y)\n",
    "    # predict\n",
    "    pred_y = clf.predict(test_x)\n",
    "    # classification results\n",
    "    for line in metrics.classification_report(test_y, pred_y).split(\"\\n\"):\n",
    "        print(line)\n",
    "    f1.append(metrics.f1_score(test_y, pred_y, average='weighted'))\n",
    "print(\"Average F1: %.2f\" % np.mean(f1))\n"
   ]
  },
  {
   "cell_type": "markdown",
   "id": "4285e077",
   "metadata": {},
   "source": [
    "Task 16: Has the average F1 score increased in Task 15 compared with results obtained in task 10? If so, why?\n",
    "\n",
    "*No, it decreased by .11, likely because one of the effects of primary component analysis, which is the only major difference between what was used in task 15 compared to task 10 other than vectorization of the training dataset in task 10, is that it lowers complexity of the dataset at the cost of accuracy.*\n",
    "\\\n",
    "*source: https://builtin.com/data-science/step-step-explanation-principal-component-analysis*"
   ]
  },
  {
   "cell_type": "code",
   "execution_count": null,
   "id": "2f97c066",
   "metadata": {},
   "outputs": [],
   "source": []
  }
 ],
 "metadata": {
  "kernelspec": {
   "display_name": "Python 3",
   "language": "python",
   "name": "python3"
  },
  "language_info": {
   "codemirror_mode": {
    "name": "ipython",
    "version": 3
   },
   "file_extension": ".py",
   "mimetype": "text/x-python",
   "name": "python",
   "nbconvert_exporter": "python",
   "pygments_lexer": "ipython3",
   "version": "3.8.11"
  }
 },
 "nbformat": 4,
 "nbformat_minor": 5
}
