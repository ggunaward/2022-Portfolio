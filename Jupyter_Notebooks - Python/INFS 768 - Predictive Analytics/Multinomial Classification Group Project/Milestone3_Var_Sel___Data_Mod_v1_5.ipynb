{
 "cells": [
  {
   "cell_type": "code",
   "execution_count": 1,
   "id": "2zOyOKjKsawI",
   "metadata": {
    "colab": {
     "base_uri": "https://localhost:8080/"
    },
    "id": "2zOyOKjKsawI",
    "outputId": "76190064-f5d8-48e4-a382-4de7557c7b26"
   },
   "outputs": [],
   "source": [
    "#from google.colab import drive\n",
    "#drive.mount('/content/drive')"
   ]
  },
  {
   "cell_type": "markdown",
   "id": "_qDCbWI_F9mj",
   "metadata": {
    "id": "_qDCbWI_F9mj"
   },
   "source": [
    "# Importing Libraries"
   ]
  },
  {
   "cell_type": "code",
   "execution_count": 35,
   "id": "85ade42a",
   "metadata": {
    "id": "85ade42a"
   },
   "outputs": [],
   "source": [
    "#Import libraries\n",
    "import pandas as pd\n",
    "import numpy as np\n",
    "import seaborn as sns\n",
    "import winsound\n",
    "import matplotlib.pyplot as plt\n",
    "\n",
    "# machine learning\n",
    "from sklearn.ensemble import RandomForestClassifier\n",
    "from sklearn.linear_model import SGDClassifier\n",
    "from sklearn.tree import DecisionTreeClassifier\n",
    "from sklearn import tree\n",
    "from sklearn.metrics import confusion_matrix\n",
    "from sklearn.model_selection import train_test_split, GridSearchCV\n",
    "from sklearn.preprocessing import StandardScaler\n",
    "%matplotlib inline"
   ]
  },
  {
   "cell_type": "markdown",
   "id": "AUFUqDzQGCfv",
   "metadata": {
    "id": "AUFUqDzQGCfv"
   },
   "source": [
    "# Importing data"
   ]
  },
  {
   "cell_type": "code",
   "execution_count": 2,
   "id": "f094e4dc",
   "metadata": {
    "colab": {
     "base_uri": "https://localhost:8080/"
    },
    "id": "f094e4dc",
    "outputId": "44c697c6-1f46-4eb4-f66a-cf60251081a9"
   },
   "outputs": [
    {
     "name": "stdout",
     "output_type": "stream",
     "text": [
      "<class 'pandas.core.frame.DataFrame'>\n",
      "RangeIndex: 318438 entries, 0 to 318437\n",
      "Data columns (total 18 columns):\n",
      " #   Column                             Non-Null Count   Dtype  \n",
      "---  ------                             --------------   -----  \n",
      " 0   case_id                            318438 non-null  int64  \n",
      " 1   Hospital_code                      318438 non-null  int64  \n",
      " 2   Hospital_type_code                 318438 non-null  object \n",
      " 3   City_Code_Hospital                 318438 non-null  int64  \n",
      " 4   Hospital_region_code               318438 non-null  object \n",
      " 5   Available Extra Rooms in Hospital  318438 non-null  int64  \n",
      " 6   Department                         318438 non-null  object \n",
      " 7   Ward_Type                          318438 non-null  object \n",
      " 8   Ward_Facility_Code                 318438 non-null  object \n",
      " 9   Bed Grade                          318325 non-null  float64\n",
      " 10  patientid                          318438 non-null  int64  \n",
      " 11  City_Code_Patient                  313906 non-null  float64\n",
      " 12  Type of Admission                  318438 non-null  object \n",
      " 13  Severity of Illness                318438 non-null  object \n",
      " 14  Visitors with Patient              318438 non-null  int64  \n",
      " 15  Age                                318438 non-null  object \n",
      " 16  Admission_Deposit                  318438 non-null  float64\n",
      " 17  Stay                               318438 non-null  object \n",
      "dtypes: float64(3), int64(6), object(9)\n",
      "memory usage: 43.7+ MB\n",
      "<class 'pandas.core.frame.DataFrame'>\n",
      "RangeIndex: 137057 entries, 0 to 137056\n",
      "Data columns (total 17 columns):\n",
      " #   Column                             Non-Null Count   Dtype  \n",
      "---  ------                             --------------   -----  \n",
      " 0   case_id                            137057 non-null  int64  \n",
      " 1   Hospital_code                      137057 non-null  int64  \n",
      " 2   Hospital_type_code                 137057 non-null  object \n",
      " 3   City_Code_Hospital                 137057 non-null  int64  \n",
      " 4   Hospital_region_code               137057 non-null  object \n",
      " 5   Available Extra Rooms in Hospital  137057 non-null  int64  \n",
      " 6   Department                         137057 non-null  object \n",
      " 7   Ward_Type                          137057 non-null  object \n",
      " 8   Ward_Facility_Code                 137057 non-null  object \n",
      " 9   Bed Grade                          137022 non-null  float64\n",
      " 10  patientid                          137057 non-null  int64  \n",
      " 11  City_Code_Patient                  134900 non-null  float64\n",
      " 12  Type of Admission                  137057 non-null  object \n",
      " 13  Severity of Illness                137057 non-null  object \n",
      " 14  Visitors with Patient              137057 non-null  int64  \n",
      " 15  Age                                137057 non-null  object \n",
      " 16  Admission_Deposit                  137057 non-null  float64\n",
      "dtypes: float64(3), int64(6), object(8)\n",
      "memory usage: 17.8+ MB\n"
     ]
    }
   ],
   "source": [
    "df_train_initial = pd.read_csv('train_data.csv')\n",
    "df_test_initial = pd.read_csv('test_data.csv')\n",
    "df_train_initial.info()\n",
    "df_test_initial.info()"
   ]
  },
  {
   "cell_type": "markdown",
   "id": "9539e66a",
   "metadata": {
    "id": "9539e66a"
   },
   "source": [
    "### Data Categorization of variables in the dataset\n",
    "* Columns \n",
    "  + case_id\n",
    "      - ordinal\n",
    "      - discrete\n",
    "  + Hospital_code\n",
    "      - categorical\n",
    "  + Hospital_type_code\n",
    "      - categorical\n",
    "  + City_Code_Hospital\n",
    "      - nominal\n",
    "      - discrete\n",
    "  + Hospital_region_code  \n",
    "      - categorical\n",
    "  + Available Extra Rooms in Hospital\n",
    "      - nominal\n",
    "      - discrete\n",
    "  + Department \n",
    "      - categorical\n",
    "  + Ward_Type   \n",
    "      - categorical\n",
    "  + Ward_Facility_Code\n",
    "      - categorical\n",
    "  + Bed Grade\n",
    "      - ordinal\n",
    "      - discrete\n",
    "  + patientid  \n",
    "      - nominal\n",
    "      - discrete\n",
    "  + City_Code_Patient\n",
    "      - nominal\n",
    "      - discrete\n",
    "  + Type_of_Admission\n",
    "      - categorical\n",
    "  + Severity of Illness\n",
    "      - ordinal\n",
    "  + Visitors with Patient\n",
    "      - nominal\n",
    "      - discrete\n",
    "  + Age        \n",
    "      - categorical\n",
    "  + Admission_Deposit\n",
    "      - nominal\n",
    "      - discrete\n",
    "  + Stay\n",
    "      - categorical"
   ]
  },
  {
   "cell_type": "markdown",
   "id": "JqZLE_ynGLtz",
   "metadata": {
    "id": "JqZLE_ynGLtz"
   },
   "source": [
    "# Data Preprocessing"
   ]
  },
  {
   "cell_type": "markdown",
   "id": "T4brN-9-GQ6u",
   "metadata": {
    "id": "T4brN-9-GQ6u"
   },
   "source": [
    "**Identifying missing value and outlier treatment**"
   ]
  },
  {
   "cell_type": "code",
   "execution_count": 3,
   "id": "95213bb6",
   "metadata": {
    "colab": {
     "base_uri": "https://localhost:8080/"
    },
    "id": "95213bb6",
    "outputId": "0b8fcf43-6c23-4694-a725-2f4554fdd30d"
   },
   "outputs": [
    {
     "data": {
      "text/plain": [
       "case_id                                 0\n",
       "Hospital_code                           0\n",
       "Hospital_type_code                      0\n",
       "City_Code_Hospital                      0\n",
       "Hospital_region_code                    0\n",
       "Available Extra Rooms in Hospital       0\n",
       "Department                              0\n",
       "Ward_Type                               0\n",
       "Ward_Facility_Code                      0\n",
       "Bed Grade                             113\n",
       "patientid                               0\n",
       "City_Code_Patient                    4532\n",
       "Type of Admission                       0\n",
       "Severity of Illness                     0\n",
       "Visitors with Patient                   0\n",
       "Age                                     0\n",
       "Admission_Deposit                       0\n",
       "Stay                                    0\n",
       "dtype: int64"
      ]
     },
     "execution_count": 3,
     "metadata": {},
     "output_type": "execute_result"
    }
   ],
   "source": [
    "#Looking for null values in the training data set\n",
    "df_train_initial.isnull().sum()"
   ]
  },
  {
   "cell_type": "code",
   "execution_count": 4,
   "id": "EEAUqUAzLXNq",
   "metadata": {
    "colab": {
     "base_uri": "https://localhost:8080/"
    },
    "id": "EEAUqUAzLXNq",
    "outputId": "3d2ad446-9cc9-4b1a-9274-1cf76098f678"
   },
   "outputs": [
    {
     "data": {
      "text/plain": [
       "case_id                                 0\n",
       "Hospital_code                           0\n",
       "Hospital_type_code                      0\n",
       "City_Code_Hospital                      0\n",
       "Hospital_region_code                    0\n",
       "Available Extra Rooms in Hospital       0\n",
       "Department                              0\n",
       "Ward_Type                               0\n",
       "Ward_Facility_Code                      0\n",
       "Bed Grade                              35\n",
       "patientid                               0\n",
       "City_Code_Patient                    2157\n",
       "Type of Admission                       0\n",
       "Severity of Illness                     0\n",
       "Visitors with Patient                   0\n",
       "Age                                     0\n",
       "Admission_Deposit                       0\n",
       "dtype: int64"
      ]
     },
     "execution_count": 4,
     "metadata": {},
     "output_type": "execute_result"
    }
   ],
   "source": [
    "df_test_initial.isnull().sum()"
   ]
  },
  {
   "cell_type": "markdown",
   "id": "44c8b7a6",
   "metadata": {
    "id": "44c8b7a6"
   },
   "source": [
    "For the missing values in Bed Grade the mean value was used for imputation. For City Code Patient the mode value was used for imputation. The mode value makes up about 39.5% at 124,011 values of the city code values so we believe adding 4,532 of that value would have the most minimal impact on model performance. "
   ]
  },
  {
   "cell_type": "code",
   "execution_count": 5,
   "id": "eaf03cf7",
   "metadata": {
    "colab": {
     "base_uri": "https://localhost:8080/",
     "height": 652
    },
    "id": "eaf03cf7",
    "outputId": "6974df0b-f8c0-4f4a-9337-4dacde189a86",
    "scrolled": true
   },
   "outputs": [
    {
     "data": {
      "text/html": [
       "<div>\n",
       "<style scoped>\n",
       "    .dataframe tbody tr th:only-of-type {\n",
       "        vertical-align: middle;\n",
       "    }\n",
       "\n",
       "    .dataframe tbody tr th {\n",
       "        vertical-align: top;\n",
       "    }\n",
       "\n",
       "    .dataframe thead th {\n",
       "        text-align: right;\n",
       "    }\n",
       "</style>\n",
       "<table border=\"1\" class=\"dataframe\">\n",
       "  <thead>\n",
       "    <tr style=\"text-align: right;\">\n",
       "      <th></th>\n",
       "      <th>case_id</th>\n",
       "      <th>Hospital_code</th>\n",
       "      <th>Hospital_type_code</th>\n",
       "      <th>City_Code_Hospital</th>\n",
       "      <th>Hospital_region_code</th>\n",
       "      <th>Available Extra Rooms in Hospital</th>\n",
       "      <th>Department</th>\n",
       "      <th>Ward_Type</th>\n",
       "      <th>Ward_Facility_Code</th>\n",
       "      <th>Bed Grade</th>\n",
       "      <th>patientid</th>\n",
       "      <th>City_Code_Patient</th>\n",
       "      <th>Type of Admission</th>\n",
       "      <th>Severity of Illness</th>\n",
       "      <th>Visitors with Patient</th>\n",
       "      <th>Age</th>\n",
       "      <th>Admission_Deposit</th>\n",
       "    </tr>\n",
       "  </thead>\n",
       "  <tbody>\n",
       "    <tr>\n",
       "      <th>0</th>\n",
       "      <td>318439</td>\n",
       "      <td>21</td>\n",
       "      <td>c</td>\n",
       "      <td>3</td>\n",
       "      <td>Z</td>\n",
       "      <td>3</td>\n",
       "      <td>gynecology</td>\n",
       "      <td>S</td>\n",
       "      <td>A</td>\n",
       "      <td>2.0</td>\n",
       "      <td>17006</td>\n",
       "      <td>2.0</td>\n",
       "      <td>Emergency</td>\n",
       "      <td>Moderate</td>\n",
       "      <td>2</td>\n",
       "      <td>71-80</td>\n",
       "      <td>3095.0</td>\n",
       "    </tr>\n",
       "    <tr>\n",
       "      <th>1</th>\n",
       "      <td>318440</td>\n",
       "      <td>29</td>\n",
       "      <td>a</td>\n",
       "      <td>4</td>\n",
       "      <td>X</td>\n",
       "      <td>2</td>\n",
       "      <td>gynecology</td>\n",
       "      <td>S</td>\n",
       "      <td>F</td>\n",
       "      <td>2.0</td>\n",
       "      <td>17006</td>\n",
       "      <td>2.0</td>\n",
       "      <td>Trauma</td>\n",
       "      <td>Moderate</td>\n",
       "      <td>4</td>\n",
       "      <td>71-80</td>\n",
       "      <td>4018.0</td>\n",
       "    </tr>\n",
       "    <tr>\n",
       "      <th>2</th>\n",
       "      <td>318441</td>\n",
       "      <td>26</td>\n",
       "      <td>b</td>\n",
       "      <td>2</td>\n",
       "      <td>Y</td>\n",
       "      <td>3</td>\n",
       "      <td>gynecology</td>\n",
       "      <td>Q</td>\n",
       "      <td>D</td>\n",
       "      <td>4.0</td>\n",
       "      <td>17006</td>\n",
       "      <td>2.0</td>\n",
       "      <td>Emergency</td>\n",
       "      <td>Moderate</td>\n",
       "      <td>3</td>\n",
       "      <td>71-80</td>\n",
       "      <td>4492.0</td>\n",
       "    </tr>\n",
       "    <tr>\n",
       "      <th>3</th>\n",
       "      <td>318442</td>\n",
       "      <td>6</td>\n",
       "      <td>a</td>\n",
       "      <td>6</td>\n",
       "      <td>X</td>\n",
       "      <td>3</td>\n",
       "      <td>gynecology</td>\n",
       "      <td>Q</td>\n",
       "      <td>F</td>\n",
       "      <td>2.0</td>\n",
       "      <td>17006</td>\n",
       "      <td>2.0</td>\n",
       "      <td>Trauma</td>\n",
       "      <td>Moderate</td>\n",
       "      <td>3</td>\n",
       "      <td>71-80</td>\n",
       "      <td>4173.0</td>\n",
       "    </tr>\n",
       "    <tr>\n",
       "      <th>4</th>\n",
       "      <td>318443</td>\n",
       "      <td>28</td>\n",
       "      <td>b</td>\n",
       "      <td>11</td>\n",
       "      <td>X</td>\n",
       "      <td>2</td>\n",
       "      <td>gynecology</td>\n",
       "      <td>R</td>\n",
       "      <td>F</td>\n",
       "      <td>2.0</td>\n",
       "      <td>17006</td>\n",
       "      <td>2.0</td>\n",
       "      <td>Trauma</td>\n",
       "      <td>Moderate</td>\n",
       "      <td>4</td>\n",
       "      <td>71-80</td>\n",
       "      <td>4161.0</td>\n",
       "    </tr>\n",
       "    <tr>\n",
       "      <th>...</th>\n",
       "      <td>...</td>\n",
       "      <td>...</td>\n",
       "      <td>...</td>\n",
       "      <td>...</td>\n",
       "      <td>...</td>\n",
       "      <td>...</td>\n",
       "      <td>...</td>\n",
       "      <td>...</td>\n",
       "      <td>...</td>\n",
       "      <td>...</td>\n",
       "      <td>...</td>\n",
       "      <td>...</td>\n",
       "      <td>...</td>\n",
       "      <td>...</td>\n",
       "      <td>...</td>\n",
       "      <td>...</td>\n",
       "      <td>...</td>\n",
       "    </tr>\n",
       "    <tr>\n",
       "      <th>137052</th>\n",
       "      <td>455491</td>\n",
       "      <td>11</td>\n",
       "      <td>b</td>\n",
       "      <td>2</td>\n",
       "      <td>Y</td>\n",
       "      <td>4</td>\n",
       "      <td>anesthesia</td>\n",
       "      <td>Q</td>\n",
       "      <td>D</td>\n",
       "      <td>3.0</td>\n",
       "      <td>41160</td>\n",
       "      <td>3.0</td>\n",
       "      <td>Emergency</td>\n",
       "      <td>Minor</td>\n",
       "      <td>4</td>\n",
       "      <td>41-50</td>\n",
       "      <td>6313.0</td>\n",
       "    </tr>\n",
       "    <tr>\n",
       "      <th>137053</th>\n",
       "      <td>455492</td>\n",
       "      <td>25</td>\n",
       "      <td>e</td>\n",
       "      <td>1</td>\n",
       "      <td>X</td>\n",
       "      <td>2</td>\n",
       "      <td>radiotherapy</td>\n",
       "      <td>R</td>\n",
       "      <td>E</td>\n",
       "      <td>4.0</td>\n",
       "      <td>30985</td>\n",
       "      <td>7.0</td>\n",
       "      <td>Emergency</td>\n",
       "      <td>Moderate</td>\n",
       "      <td>2</td>\n",
       "      <td>0-10</td>\n",
       "      <td>3510.0</td>\n",
       "    </tr>\n",
       "    <tr>\n",
       "      <th>137054</th>\n",
       "      <td>455493</td>\n",
       "      <td>30</td>\n",
       "      <td>c</td>\n",
       "      <td>3</td>\n",
       "      <td>Z</td>\n",
       "      <td>2</td>\n",
       "      <td>anesthesia</td>\n",
       "      <td>R</td>\n",
       "      <td>A</td>\n",
       "      <td>4.0</td>\n",
       "      <td>81811</td>\n",
       "      <td>12.0</td>\n",
       "      <td>Urgent</td>\n",
       "      <td>Minor</td>\n",
       "      <td>2</td>\n",
       "      <td>0-10</td>\n",
       "      <td>7190.0</td>\n",
       "    </tr>\n",
       "    <tr>\n",
       "      <th>137055</th>\n",
       "      <td>455494</td>\n",
       "      <td>5</td>\n",
       "      <td>a</td>\n",
       "      <td>1</td>\n",
       "      <td>X</td>\n",
       "      <td>2</td>\n",
       "      <td>anesthesia</td>\n",
       "      <td>R</td>\n",
       "      <td>E</td>\n",
       "      <td>4.0</td>\n",
       "      <td>57021</td>\n",
       "      <td>10.0</td>\n",
       "      <td>Trauma</td>\n",
       "      <td>Minor</td>\n",
       "      <td>2</td>\n",
       "      <td>41-50</td>\n",
       "      <td>5435.0</td>\n",
       "    </tr>\n",
       "    <tr>\n",
       "      <th>137056</th>\n",
       "      <td>455495</td>\n",
       "      <td>6</td>\n",
       "      <td>a</td>\n",
       "      <td>6</td>\n",
       "      <td>X</td>\n",
       "      <td>3</td>\n",
       "      <td>gynecology</td>\n",
       "      <td>Q</td>\n",
       "      <td>F</td>\n",
       "      <td>4.0</td>\n",
       "      <td>126729</td>\n",
       "      <td>3.0</td>\n",
       "      <td>Trauma</td>\n",
       "      <td>Extreme</td>\n",
       "      <td>5</td>\n",
       "      <td>51-60</td>\n",
       "      <td>4702.0</td>\n",
       "    </tr>\n",
       "  </tbody>\n",
       "</table>\n",
       "<p>137057 rows × 17 columns</p>\n",
       "</div>"
      ],
      "text/plain": [
       "        case_id  Hospital_code Hospital_type_code  City_Code_Hospital  \\\n",
       "0        318439             21                  c                   3   \n",
       "1        318440             29                  a                   4   \n",
       "2        318441             26                  b                   2   \n",
       "3        318442              6                  a                   6   \n",
       "4        318443             28                  b                  11   \n",
       "...         ...            ...                ...                 ...   \n",
       "137052   455491             11                  b                   2   \n",
       "137053   455492             25                  e                   1   \n",
       "137054   455493             30                  c                   3   \n",
       "137055   455494              5                  a                   1   \n",
       "137056   455495              6                  a                   6   \n",
       "\n",
       "       Hospital_region_code  Available Extra Rooms in Hospital    Department  \\\n",
       "0                         Z                                  3    gynecology   \n",
       "1                         X                                  2    gynecology   \n",
       "2                         Y                                  3    gynecology   \n",
       "3                         X                                  3    gynecology   \n",
       "4                         X                                  2    gynecology   \n",
       "...                     ...                                ...           ...   \n",
       "137052                    Y                                  4    anesthesia   \n",
       "137053                    X                                  2  radiotherapy   \n",
       "137054                    Z                                  2    anesthesia   \n",
       "137055                    X                                  2    anesthesia   \n",
       "137056                    X                                  3    gynecology   \n",
       "\n",
       "       Ward_Type Ward_Facility_Code  Bed Grade  patientid  City_Code_Patient  \\\n",
       "0              S                  A        2.0      17006                2.0   \n",
       "1              S                  F        2.0      17006                2.0   \n",
       "2              Q                  D        4.0      17006                2.0   \n",
       "3              Q                  F        2.0      17006                2.0   \n",
       "4              R                  F        2.0      17006                2.0   \n",
       "...          ...                ...        ...        ...                ...   \n",
       "137052         Q                  D        3.0      41160                3.0   \n",
       "137053         R                  E        4.0      30985                7.0   \n",
       "137054         R                  A        4.0      81811               12.0   \n",
       "137055         R                  E        4.0      57021               10.0   \n",
       "137056         Q                  F        4.0     126729                3.0   \n",
       "\n",
       "       Type of Admission Severity of Illness  Visitors with Patient    Age  \\\n",
       "0              Emergency            Moderate                      2  71-80   \n",
       "1                 Trauma            Moderate                      4  71-80   \n",
       "2              Emergency            Moderate                      3  71-80   \n",
       "3                 Trauma            Moderate                      3  71-80   \n",
       "4                 Trauma            Moderate                      4  71-80   \n",
       "...                  ...                 ...                    ...    ...   \n",
       "137052         Emergency               Minor                      4  41-50   \n",
       "137053         Emergency            Moderate                      2   0-10   \n",
       "137054            Urgent               Minor                      2   0-10   \n",
       "137055            Trauma               Minor                      2  41-50   \n",
       "137056            Trauma             Extreme                      5  51-60   \n",
       "\n",
       "        Admission_Deposit  \n",
       "0                  3095.0  \n",
       "1                  4018.0  \n",
       "2                  4492.0  \n",
       "3                  4173.0  \n",
       "4                  4161.0  \n",
       "...                   ...  \n",
       "137052             6313.0  \n",
       "137053             3510.0  \n",
       "137054             7190.0  \n",
       "137055             5435.0  \n",
       "137056             4702.0  \n",
       "\n",
       "[137057 rows x 17 columns]"
      ]
     },
     "execution_count": 5,
     "metadata": {},
     "output_type": "execute_result"
    }
   ],
   "source": [
    "#Doing Value Imputation \n",
    "from sklearn.impute import SimpleImputer\n",
    "\n",
    "\n",
    "#imputing for the train dataset\n",
    "impute_mean = SimpleImputer(missing_values=np.nan, strategy='mean')\n",
    "df_train_initial[\"Bed Grade\"] = impute_mean.fit_transform(df_train_initial[[\"Bed Grade\"]]).ravel()\n",
    "\n",
    "impute_mode = SimpleImputer(missing_values=np.nan, strategy='most_frequent')\n",
    "df_train_initial[\"City_Code_Patient\"] = impute_mode.fit_transform(df_train_initial[[\"City_Code_Patient\"]]).ravel()\n",
    "\n",
    "\n",
    "#imputing for the test dataset\n",
    "impute_mean = SimpleImputer(missing_values=np.nan, strategy='mean')\n",
    "df_test_initial[\"Bed Grade\"] = impute_mean.fit_transform(df_test_initial[[\"Bed Grade\"]]).ravel()\n",
    "\n",
    "#impute_mode = SimpleImputer(missing_values=np.nan, strategy='most_frequent')\n",
    "#df_train_initial[\"City_Code_Patient\"] = impute_mode.fit_transform(df_train_initial[[\"City_Code_Patient\"]]).ravel()\n",
    "\n",
    "\n",
    "\n",
    "df_test_initial.replace(np.nan, 0)\n"
   ]
  },
  {
   "cell_type": "code",
   "execution_count": 6,
   "id": "f93e25ee",
   "metadata": {
    "colab": {
     "base_uri": "https://localhost:8080/",
     "height": 669
    },
    "id": "f93e25ee",
    "outputId": "8129694e-7377-4de4-ab8c-06b689bd594b"
   },
   "outputs": [
    {
     "data": {
      "text/html": [
       "<div>\n",
       "<style scoped>\n",
       "    .dataframe tbody tr th:only-of-type {\n",
       "        vertical-align: middle;\n",
       "    }\n",
       "\n",
       "    .dataframe tbody tr th {\n",
       "        vertical-align: top;\n",
       "    }\n",
       "\n",
       "    .dataframe thead th {\n",
       "        text-align: right;\n",
       "    }\n",
       "</style>\n",
       "<table border=\"1\" class=\"dataframe\">\n",
       "  <thead>\n",
       "    <tr style=\"text-align: right;\">\n",
       "      <th></th>\n",
       "      <th>case_id</th>\n",
       "      <th>Hospital_code</th>\n",
       "      <th>Hospital_type_code</th>\n",
       "      <th>City_Code_Hospital</th>\n",
       "      <th>Hospital_region_code</th>\n",
       "      <th>Available Extra Rooms in Hospital</th>\n",
       "      <th>Department</th>\n",
       "      <th>Ward_Type</th>\n",
       "      <th>Ward_Facility_Code</th>\n",
       "      <th>Bed Grade</th>\n",
       "      <th>patientid</th>\n",
       "      <th>City_Code_Patient</th>\n",
       "      <th>Type of Admission</th>\n",
       "      <th>Severity of Illness</th>\n",
       "      <th>Visitors with Patient</th>\n",
       "      <th>Age</th>\n",
       "      <th>Admission_Deposit</th>\n",
       "      <th>Stay</th>\n",
       "    </tr>\n",
       "  </thead>\n",
       "  <tbody>\n",
       "    <tr>\n",
       "      <th>0</th>\n",
       "      <td>1</td>\n",
       "      <td>8</td>\n",
       "      <td>c</td>\n",
       "      <td>3</td>\n",
       "      <td>Z</td>\n",
       "      <td>3</td>\n",
       "      <td>radiotherapy</td>\n",
       "      <td>R</td>\n",
       "      <td>F</td>\n",
       "      <td>2.0</td>\n",
       "      <td>31397</td>\n",
       "      <td>7.0</td>\n",
       "      <td>Emergency</td>\n",
       "      <td>Extreme</td>\n",
       "      <td>2</td>\n",
       "      <td>51-60</td>\n",
       "      <td>4911.0</td>\n",
       "      <td>0-10</td>\n",
       "    </tr>\n",
       "    <tr>\n",
       "      <th>1</th>\n",
       "      <td>2</td>\n",
       "      <td>2</td>\n",
       "      <td>c</td>\n",
       "      <td>5</td>\n",
       "      <td>Z</td>\n",
       "      <td>2</td>\n",
       "      <td>radiotherapy</td>\n",
       "      <td>S</td>\n",
       "      <td>F</td>\n",
       "      <td>2.0</td>\n",
       "      <td>31397</td>\n",
       "      <td>7.0</td>\n",
       "      <td>Trauma</td>\n",
       "      <td>Extreme</td>\n",
       "      <td>2</td>\n",
       "      <td>51-60</td>\n",
       "      <td>5954.0</td>\n",
       "      <td>41-50</td>\n",
       "    </tr>\n",
       "    <tr>\n",
       "      <th>2</th>\n",
       "      <td>3</td>\n",
       "      <td>10</td>\n",
       "      <td>e</td>\n",
       "      <td>1</td>\n",
       "      <td>X</td>\n",
       "      <td>2</td>\n",
       "      <td>anesthesia</td>\n",
       "      <td>S</td>\n",
       "      <td>E</td>\n",
       "      <td>2.0</td>\n",
       "      <td>31397</td>\n",
       "      <td>7.0</td>\n",
       "      <td>Trauma</td>\n",
       "      <td>Extreme</td>\n",
       "      <td>2</td>\n",
       "      <td>51-60</td>\n",
       "      <td>4745.0</td>\n",
       "      <td>31-40</td>\n",
       "    </tr>\n",
       "    <tr>\n",
       "      <th>3</th>\n",
       "      <td>4</td>\n",
       "      <td>26</td>\n",
       "      <td>b</td>\n",
       "      <td>2</td>\n",
       "      <td>Y</td>\n",
       "      <td>2</td>\n",
       "      <td>radiotherapy</td>\n",
       "      <td>R</td>\n",
       "      <td>D</td>\n",
       "      <td>2.0</td>\n",
       "      <td>31397</td>\n",
       "      <td>7.0</td>\n",
       "      <td>Trauma</td>\n",
       "      <td>Extreme</td>\n",
       "      <td>2</td>\n",
       "      <td>51-60</td>\n",
       "      <td>7272.0</td>\n",
       "      <td>41-50</td>\n",
       "    </tr>\n",
       "    <tr>\n",
       "      <th>4</th>\n",
       "      <td>5</td>\n",
       "      <td>26</td>\n",
       "      <td>b</td>\n",
       "      <td>2</td>\n",
       "      <td>Y</td>\n",
       "      <td>2</td>\n",
       "      <td>radiotherapy</td>\n",
       "      <td>S</td>\n",
       "      <td>D</td>\n",
       "      <td>2.0</td>\n",
       "      <td>31397</td>\n",
       "      <td>7.0</td>\n",
       "      <td>Trauma</td>\n",
       "      <td>Extreme</td>\n",
       "      <td>2</td>\n",
       "      <td>51-60</td>\n",
       "      <td>5558.0</td>\n",
       "      <td>41-50</td>\n",
       "    </tr>\n",
       "    <tr>\n",
       "      <th>...</th>\n",
       "      <td>...</td>\n",
       "      <td>...</td>\n",
       "      <td>...</td>\n",
       "      <td>...</td>\n",
       "      <td>...</td>\n",
       "      <td>...</td>\n",
       "      <td>...</td>\n",
       "      <td>...</td>\n",
       "      <td>...</td>\n",
       "      <td>...</td>\n",
       "      <td>...</td>\n",
       "      <td>...</td>\n",
       "      <td>...</td>\n",
       "      <td>...</td>\n",
       "      <td>...</td>\n",
       "      <td>...</td>\n",
       "      <td>...</td>\n",
       "      <td>...</td>\n",
       "    </tr>\n",
       "    <tr>\n",
       "      <th>318433</th>\n",
       "      <td>318434</td>\n",
       "      <td>6</td>\n",
       "      <td>a</td>\n",
       "      <td>6</td>\n",
       "      <td>X</td>\n",
       "      <td>3</td>\n",
       "      <td>radiotherapy</td>\n",
       "      <td>Q</td>\n",
       "      <td>F</td>\n",
       "      <td>4.0</td>\n",
       "      <td>86499</td>\n",
       "      <td>23.0</td>\n",
       "      <td>Emergency</td>\n",
       "      <td>Moderate</td>\n",
       "      <td>3</td>\n",
       "      <td>41-50</td>\n",
       "      <td>4144.0</td>\n",
       "      <td>11-20</td>\n",
       "    </tr>\n",
       "    <tr>\n",
       "      <th>318434</th>\n",
       "      <td>318435</td>\n",
       "      <td>24</td>\n",
       "      <td>a</td>\n",
       "      <td>1</td>\n",
       "      <td>X</td>\n",
       "      <td>2</td>\n",
       "      <td>anesthesia</td>\n",
       "      <td>Q</td>\n",
       "      <td>E</td>\n",
       "      <td>4.0</td>\n",
       "      <td>325</td>\n",
       "      <td>8.0</td>\n",
       "      <td>Urgent</td>\n",
       "      <td>Moderate</td>\n",
       "      <td>4</td>\n",
       "      <td>81-90</td>\n",
       "      <td>6699.0</td>\n",
       "      <td>31-40</td>\n",
       "    </tr>\n",
       "    <tr>\n",
       "      <th>318435</th>\n",
       "      <td>318436</td>\n",
       "      <td>7</td>\n",
       "      <td>a</td>\n",
       "      <td>4</td>\n",
       "      <td>X</td>\n",
       "      <td>3</td>\n",
       "      <td>gynecology</td>\n",
       "      <td>R</td>\n",
       "      <td>F</td>\n",
       "      <td>4.0</td>\n",
       "      <td>125235</td>\n",
       "      <td>10.0</td>\n",
       "      <td>Emergency</td>\n",
       "      <td>Minor</td>\n",
       "      <td>3</td>\n",
       "      <td>71-80</td>\n",
       "      <td>4235.0</td>\n",
       "      <td>11-20</td>\n",
       "    </tr>\n",
       "    <tr>\n",
       "      <th>318436</th>\n",
       "      <td>318437</td>\n",
       "      <td>11</td>\n",
       "      <td>b</td>\n",
       "      <td>2</td>\n",
       "      <td>Y</td>\n",
       "      <td>3</td>\n",
       "      <td>anesthesia</td>\n",
       "      <td>Q</td>\n",
       "      <td>D</td>\n",
       "      <td>3.0</td>\n",
       "      <td>91081</td>\n",
       "      <td>8.0</td>\n",
       "      <td>Trauma</td>\n",
       "      <td>Minor</td>\n",
       "      <td>5</td>\n",
       "      <td>11-20</td>\n",
       "      <td>3761.0</td>\n",
       "      <td>11-20</td>\n",
       "    </tr>\n",
       "    <tr>\n",
       "      <th>318437</th>\n",
       "      <td>318438</td>\n",
       "      <td>19</td>\n",
       "      <td>a</td>\n",
       "      <td>7</td>\n",
       "      <td>Y</td>\n",
       "      <td>5</td>\n",
       "      <td>gynecology</td>\n",
       "      <td>Q</td>\n",
       "      <td>C</td>\n",
       "      <td>2.0</td>\n",
       "      <td>21641</td>\n",
       "      <td>8.0</td>\n",
       "      <td>Emergency</td>\n",
       "      <td>Minor</td>\n",
       "      <td>2</td>\n",
       "      <td>11-20</td>\n",
       "      <td>4752.0</td>\n",
       "      <td>0-10</td>\n",
       "    </tr>\n",
       "  </tbody>\n",
       "</table>\n",
       "<p>318438 rows × 18 columns</p>\n",
       "</div>"
      ],
      "text/plain": [
       "        case_id  Hospital_code Hospital_type_code  City_Code_Hospital  \\\n",
       "0             1              8                  c                   3   \n",
       "1             2              2                  c                   5   \n",
       "2             3             10                  e                   1   \n",
       "3             4             26                  b                   2   \n",
       "4             5             26                  b                   2   \n",
       "...         ...            ...                ...                 ...   \n",
       "318433   318434              6                  a                   6   \n",
       "318434   318435             24                  a                   1   \n",
       "318435   318436              7                  a                   4   \n",
       "318436   318437             11                  b                   2   \n",
       "318437   318438             19                  a                   7   \n",
       "\n",
       "       Hospital_region_code  Available Extra Rooms in Hospital    Department  \\\n",
       "0                         Z                                  3  radiotherapy   \n",
       "1                         Z                                  2  radiotherapy   \n",
       "2                         X                                  2    anesthesia   \n",
       "3                         Y                                  2  radiotherapy   \n",
       "4                         Y                                  2  radiotherapy   \n",
       "...                     ...                                ...           ...   \n",
       "318433                    X                                  3  radiotherapy   \n",
       "318434                    X                                  2    anesthesia   \n",
       "318435                    X                                  3    gynecology   \n",
       "318436                    Y                                  3    anesthesia   \n",
       "318437                    Y                                  5    gynecology   \n",
       "\n",
       "       Ward_Type Ward_Facility_Code  Bed Grade  patientid  City_Code_Patient  \\\n",
       "0              R                  F        2.0      31397                7.0   \n",
       "1              S                  F        2.0      31397                7.0   \n",
       "2              S                  E        2.0      31397                7.0   \n",
       "3              R                  D        2.0      31397                7.0   \n",
       "4              S                  D        2.0      31397                7.0   \n",
       "...          ...                ...        ...        ...                ...   \n",
       "318433         Q                  F        4.0      86499               23.0   \n",
       "318434         Q                  E        4.0        325                8.0   \n",
       "318435         R                  F        4.0     125235               10.0   \n",
       "318436         Q                  D        3.0      91081                8.0   \n",
       "318437         Q                  C        2.0      21641                8.0   \n",
       "\n",
       "       Type of Admission Severity of Illness  Visitors with Patient    Age  \\\n",
       "0              Emergency             Extreme                      2  51-60   \n",
       "1                 Trauma             Extreme                      2  51-60   \n",
       "2                 Trauma             Extreme                      2  51-60   \n",
       "3                 Trauma             Extreme                      2  51-60   \n",
       "4                 Trauma             Extreme                      2  51-60   \n",
       "...                  ...                 ...                    ...    ...   \n",
       "318433         Emergency            Moderate                      3  41-50   \n",
       "318434            Urgent            Moderate                      4  81-90   \n",
       "318435         Emergency               Minor                      3  71-80   \n",
       "318436            Trauma               Minor                      5  11-20   \n",
       "318437         Emergency               Minor                      2  11-20   \n",
       "\n",
       "        Admission_Deposit   Stay  \n",
       "0                  4911.0   0-10  \n",
       "1                  5954.0  41-50  \n",
       "2                  4745.0  31-40  \n",
       "3                  7272.0  41-50  \n",
       "4                  5558.0  41-50  \n",
       "...                   ...    ...  \n",
       "318433             4144.0  11-20  \n",
       "318434             6699.0  31-40  \n",
       "318435             4235.0  11-20  \n",
       "318436             3761.0  11-20  \n",
       "318437             4752.0   0-10  \n",
       "\n",
       "[318438 rows x 18 columns]"
      ]
     },
     "execution_count": 6,
     "metadata": {},
     "output_type": "execute_result"
    }
   ],
   "source": [
    "df_train_initial.replace(np.nan, 0)"
   ]
  },
  {
   "cell_type": "code",
   "execution_count": 7,
   "id": "56413051",
   "metadata": {
    "colab": {
     "base_uri": "https://localhost:8080/"
    },
    "id": "56413051",
    "outputId": "c6a437c9-b7d4-4d51-946f-6ef610aa8cf2"
   },
   "outputs": [
    {
     "data": {
      "text/plain": [
       "case_id                              0\n",
       "Hospital_code                        0\n",
       "Hospital_type_code                   0\n",
       "City_Code_Hospital                   0\n",
       "Hospital_region_code                 0\n",
       "Available Extra Rooms in Hospital    0\n",
       "Department                           0\n",
       "Ward_Type                            0\n",
       "Ward_Facility_Code                   0\n",
       "Bed Grade                            0\n",
       "patientid                            0\n",
       "City_Code_Patient                    0\n",
       "Type of Admission                    0\n",
       "Severity of Illness                  0\n",
       "Visitors with Patient                0\n",
       "Age                                  0\n",
       "Admission_Deposit                    0\n",
       "Stay                                 0\n",
       "dtype: int64"
      ]
     },
     "execution_count": 7,
     "metadata": {},
     "output_type": "execute_result"
    }
   ],
   "source": [
    "#Checking for missing values again to confirm imputation\n",
    "df_train_initial.isnull().sum()"
   ]
  },
  {
   "cell_type": "code",
   "execution_count": 8,
   "id": "c1dbbd88",
   "metadata": {},
   "outputs": [],
   "source": [
    "#Standardize variable names and rmeove spaces, replacing them with underscores\n",
    "df_train_initial.columns = df_train_initial.columns.str.replace(\" \", \"_\")\n",
    "df_test_initial.columns = df_test_initial.columns.str.replace(\" \", \"_\")"
   ]
  },
  {
   "cell_type": "markdown",
   "id": "fa3ae7ad",
   "metadata": {
    "id": "fa3ae7ad"
   },
   "source": [
    "The below scatterplots are looking at the Admission Deposit column within the data for potential outliers. The first plot is the overall data for admission deposit. This seemed like the best variable to look for outliers due its high variance compared to other variables. The next plot is looking at the admission deposit as a function of Severity of Illness while the final plot is looking at admission deposit as a function of Type_of_Admission. While the scatterplots produced show data points outside the quartile ranges, there are so many data points that removing them may have an adverse impact on the model and not a single grouping shows outliers specific to that data combination when we combine admission deposit with other variables.\n",
    "\n",
    "*Note: additional data visualization that was done in Tableau can be found in the Report*"
   ]
  },
  {
   "cell_type": "code",
   "execution_count": 9,
   "id": "e8a603ca",
   "metadata": {
    "colab": {
     "base_uri": "https://localhost:8080/",
     "height": 269
    },
    "id": "e8a603ca",
    "outputId": "63a45a46-9ae2-40db-e479-b94d88e5ae63"
   },
   "outputs": [
    {
     "data": {
      "text/plain": [
       "<AxesSubplot:ylabel='Admission_Deposit'>"
      ]
     },
     "execution_count": 9,
     "metadata": {},
     "output_type": "execute_result"
    },
    {
     "data": {
      "image/png": "[encoded data removed]",
      "text/plain": [
       "<Figure size 432x288 with 1 Axes>"
      ]
     },
     "metadata": {
      "needs_background": "light"
     },
     "output_type": "display_data"
    }
   ],
   "source": [
    "sns.boxplot(y=df_train_initial['Admission_Deposit'])"
   ]
  },
  {
   "cell_type": "code",
   "execution_count": 10,
   "id": "762a06bf",
   "metadata": {
    "colab": {
     "base_uri": "https://localhost:8080/",
     "height": 296
    },
    "id": "762a06bf",
    "outputId": "ac2d7d45-9c4a-4938-c516-5b9400c99bd1"
   },
   "outputs": [
    {
     "data": {
      "text/plain": [
       "<AxesSubplot:xlabel='Severity_of_Illness', ylabel='Admission_Deposit'>"
      ]
     },
     "execution_count": 10,
     "metadata": {},
     "output_type": "execute_result"
    },
    {
     "data": {
      "image/png": "[encoded data removed]",
      "text/plain": [
       "<Figure size 432x288 with 1 Axes>"
      ]
     },
     "metadata": {
      "needs_background": "light"
     },
     "output_type": "display_data"
    }
   ],
   "source": [
    "sns.boxplot(y=df_train_initial['Admission_Deposit'], x=df_train_initial['Severity_of_Illness'])"
   ]
  },
  {
   "cell_type": "code",
   "execution_count": 11,
   "id": "68f21622",
   "metadata": {
    "colab": {
     "base_uri": "https://localhost:8080/",
     "height": 296
    },
    "id": "68f21622",
    "outputId": "561a0fc2-df10-4ffe-d9ee-7cf9f04e5ad7"
   },
   "outputs": [
    {
     "data": {
      "text/plain": [
       "<AxesSubplot:xlabel='Type_of_Admission', ylabel='Admission_Deposit'>"
      ]
     },
     "execution_count": 11,
     "metadata": {},
     "output_type": "execute_result"
    },
    {
     "data": {
      "image/png": "[encoded data removed]",
      "text/plain": [
       "<Figure size 432x288 with 1 Axes>"
      ]
     },
     "metadata": {
      "needs_background": "light"
     },
     "output_type": "display_data"
    }
   ],
   "source": [
    "sns.boxplot(y=df_train_initial['Admission_Deposit'], x=df_train_initial['Type_of_Admission'])"
   ]
  },
  {
   "cell_type": "markdown",
   "id": "sssAWnGUtU12",
   "metadata": {
    "id": "sssAWnGUtU12"
   },
   "source": [
    "**Dummy Encoding**"
   ]
  },
  {
   "cell_type": "code",
   "execution_count": 12,
   "id": "ec1049e2",
   "metadata": {
    "colab": {
     "base_uri": "https://localhost:8080/"
    },
    "id": "ec1049e2",
    "outputId": "4dbe1ed9-1867-4126-c855-1e5d8d465cb6"
   },
   "outputs": [
    {
     "data": {
      "text/plain": [
       "array(['Extreme', 'Moderate', 'Minor'], dtype=object)"
      ]
     },
     "execution_count": 12,
     "metadata": {},
     "output_type": "execute_result"
    }
   ],
   "source": [
    "#Prepare for dummy coding of Severity of illness\n",
    "\n",
    "pd.unique(df_train_initial.loc[:,'Severity_of_Illness'])\n"
   ]
  },
  {
   "cell_type": "code",
   "execution_count": 13,
   "id": "60391568",
   "metadata": {
    "colab": {
     "base_uri": "https://localhost:8080/",
     "height": 365
    },
    "id": "60391568",
    "outputId": "0cafe304-f37a-462a-9d45-3f441d053bd8"
   },
   "outputs": [
    {
     "data": {
      "text/html": [
       "<div>\n",
       "<style scoped>\n",
       "    .dataframe tbody tr th:only-of-type {\n",
       "        vertical-align: middle;\n",
       "    }\n",
       "\n",
       "    .dataframe tbody tr th {\n",
       "        vertical-align: top;\n",
       "    }\n",
       "\n",
       "    .dataframe thead th {\n",
       "        text-align: right;\n",
       "    }\n",
       "</style>\n",
       "<table border=\"1\" class=\"dataframe\">\n",
       "  <thead>\n",
       "    <tr style=\"text-align: right;\">\n",
       "      <th></th>\n",
       "      <th>case_id</th>\n",
       "      <th>Hospital_code</th>\n",
       "      <th>Hospital_type_code</th>\n",
       "      <th>City_Code_Hospital</th>\n",
       "      <th>Hospital_region_code</th>\n",
       "      <th>Available_Extra_Rooms_in_Hospital</th>\n",
       "      <th>Department</th>\n",
       "      <th>Ward_Type</th>\n",
       "      <th>Ward_Facility_Code</th>\n",
       "      <th>Bed_Grade</th>\n",
       "      <th>patientid</th>\n",
       "      <th>City_Code_Patient</th>\n",
       "      <th>Type_of_Admission</th>\n",
       "      <th>Severity_of_Illness</th>\n",
       "      <th>Visitors_with_Patient</th>\n",
       "      <th>Age</th>\n",
       "      <th>Admission_Deposit</th>\n",
       "      <th>Stay</th>\n",
       "      <th>ToA_Trauma</th>\n",
       "      <th>ToA_Urgent</th>\n",
       "    </tr>\n",
       "  </thead>\n",
       "  <tbody>\n",
       "    <tr>\n",
       "      <th>0</th>\n",
       "      <td>1</td>\n",
       "      <td>8</td>\n",
       "      <td>c</td>\n",
       "      <td>3</td>\n",
       "      <td>Z</td>\n",
       "      <td>3</td>\n",
       "      <td>radiotherapy</td>\n",
       "      <td>R</td>\n",
       "      <td>F</td>\n",
       "      <td>2.0</td>\n",
       "      <td>31397</td>\n",
       "      <td>7.0</td>\n",
       "      <td>Emergency</td>\n",
       "      <td>Extreme</td>\n",
       "      <td>2</td>\n",
       "      <td>51-60</td>\n",
       "      <td>4911.0</td>\n",
       "      <td>0-10</td>\n",
       "      <td>0</td>\n",
       "      <td>0</td>\n",
       "    </tr>\n",
       "    <tr>\n",
       "      <th>1</th>\n",
       "      <td>2</td>\n",
       "      <td>2</td>\n",
       "      <td>c</td>\n",
       "      <td>5</td>\n",
       "      <td>Z</td>\n",
       "      <td>2</td>\n",
       "      <td>radiotherapy</td>\n",
       "      <td>S</td>\n",
       "      <td>F</td>\n",
       "      <td>2.0</td>\n",
       "      <td>31397</td>\n",
       "      <td>7.0</td>\n",
       "      <td>Trauma</td>\n",
       "      <td>Extreme</td>\n",
       "      <td>2</td>\n",
       "      <td>51-60</td>\n",
       "      <td>5954.0</td>\n",
       "      <td>41-50</td>\n",
       "      <td>1</td>\n",
       "      <td>0</td>\n",
       "    </tr>\n",
       "    <tr>\n",
       "      <th>2</th>\n",
       "      <td>3</td>\n",
       "      <td>10</td>\n",
       "      <td>e</td>\n",
       "      <td>1</td>\n",
       "      <td>X</td>\n",
       "      <td>2</td>\n",
       "      <td>anesthesia</td>\n",
       "      <td>S</td>\n",
       "      <td>E</td>\n",
       "      <td>2.0</td>\n",
       "      <td>31397</td>\n",
       "      <td>7.0</td>\n",
       "      <td>Trauma</td>\n",
       "      <td>Extreme</td>\n",
       "      <td>2</td>\n",
       "      <td>51-60</td>\n",
       "      <td>4745.0</td>\n",
       "      <td>31-40</td>\n",
       "      <td>1</td>\n",
       "      <td>0</td>\n",
       "    </tr>\n",
       "    <tr>\n",
       "      <th>3</th>\n",
       "      <td>4</td>\n",
       "      <td>26</td>\n",
       "      <td>b</td>\n",
       "      <td>2</td>\n",
       "      <td>Y</td>\n",
       "      <td>2</td>\n",
       "      <td>radiotherapy</td>\n",
       "      <td>R</td>\n",
       "      <td>D</td>\n",
       "      <td>2.0</td>\n",
       "      <td>31397</td>\n",
       "      <td>7.0</td>\n",
       "      <td>Trauma</td>\n",
       "      <td>Extreme</td>\n",
       "      <td>2</td>\n",
       "      <td>51-60</td>\n",
       "      <td>7272.0</td>\n",
       "      <td>41-50</td>\n",
       "      <td>1</td>\n",
       "      <td>0</td>\n",
       "    </tr>\n",
       "    <tr>\n",
       "      <th>4</th>\n",
       "      <td>5</td>\n",
       "      <td>26</td>\n",
       "      <td>b</td>\n",
       "      <td>2</td>\n",
       "      <td>Y</td>\n",
       "      <td>2</td>\n",
       "      <td>radiotherapy</td>\n",
       "      <td>S</td>\n",
       "      <td>D</td>\n",
       "      <td>2.0</td>\n",
       "      <td>31397</td>\n",
       "      <td>7.0</td>\n",
       "      <td>Trauma</td>\n",
       "      <td>Extreme</td>\n",
       "      <td>2</td>\n",
       "      <td>51-60</td>\n",
       "      <td>5558.0</td>\n",
       "      <td>41-50</td>\n",
       "      <td>1</td>\n",
       "      <td>0</td>\n",
       "    </tr>\n",
       "  </tbody>\n",
       "</table>\n",
       "</div>"
      ],
      "text/plain": [
       "   case_id  Hospital_code Hospital_type_code  City_Code_Hospital  \\\n",
       "0        1              8                  c                   3   \n",
       "1        2              2                  c                   5   \n",
       "2        3             10                  e                   1   \n",
       "3        4             26                  b                   2   \n",
       "4        5             26                  b                   2   \n",
       "\n",
       "  Hospital_region_code  Available_Extra_Rooms_in_Hospital    Department  \\\n",
       "0                    Z                                  3  radiotherapy   \n",
       "1                    Z                                  2  radiotherapy   \n",
       "2                    X                                  2    anesthesia   \n",
       "3                    Y                                  2  radiotherapy   \n",
       "4                    Y                                  2  radiotherapy   \n",
       "\n",
       "  Ward_Type Ward_Facility_Code  Bed_Grade  patientid  City_Code_Patient  \\\n",
       "0         R                  F        2.0      31397                7.0   \n",
       "1         S                  F        2.0      31397                7.0   \n",
       "2         S                  E        2.0      31397                7.0   \n",
       "3         R                  D        2.0      31397                7.0   \n",
       "4         S                  D        2.0      31397                7.0   \n",
       "\n",
       "  Type_of_Admission Severity_of_Illness  Visitors_with_Patient    Age  \\\n",
       "0         Emergency             Extreme                      2  51-60   \n",
       "1            Trauma             Extreme                      2  51-60   \n",
       "2            Trauma             Extreme                      2  51-60   \n",
       "3            Trauma             Extreme                      2  51-60   \n",
       "4            Trauma             Extreme                      2  51-60   \n",
       "\n",
       "   Admission_Deposit   Stay  ToA_Trauma  ToA_Urgent  \n",
       "0             4911.0   0-10           0           0  \n",
       "1             5954.0  41-50           1           0  \n",
       "2             4745.0  31-40           1           0  \n",
       "3             7272.0  41-50           1           0  \n",
       "4             5558.0  41-50           1           0  "
      ]
     },
     "execution_count": 13,
     "metadata": {},
     "output_type": "execute_result"
    }
   ],
   "source": [
    "#Dummy Coding of Type_of_Admission\n",
    "\n",
    "dummy_vars_severity_train = pd.get_dummies(df_train_initial['Type_of_Admission'], prefix = \"ToA\",  drop_first=True)\n",
    "dummy_vars_severity_test = pd.get_dummies(df_test_initial['Type_of_Admission'], prefix = \"ToA\",  drop_first=True)\n",
    "\n",
    "df_train = pd.concat([df_train_initial, dummy_vars_severity_train], axis=1)\n",
    "df_test = pd.concat([df_test_initial, dummy_vars_severity_test], axis=1)\n",
    "\n",
    "df_train.head(5)\n"
   ]
  },
  {
   "cell_type": "code",
   "execution_count": 14,
   "id": "d8d46bb3",
   "metadata": {
    "colab": {
     "base_uri": "https://localhost:8080/"
    },
    "id": "d8d46bb3",
    "outputId": "71e4a94f-b126-40a8-94da-bf9486906a8f"
   },
   "outputs": [
    {
     "data": {
      "text/plain": [
       "array(['51-60', '71-80', '31-40', '41-50', '81-90', '61-70', '21-30',\n",
       "       '11-20', '0-10', '91-100'], dtype=object)"
      ]
     },
     "execution_count": 14,
     "metadata": {},
     "output_type": "execute_result"
    }
   ],
   "source": [
    "#Prepare for dummy coding of age\n",
    "\n",
    "pd.unique(df_train_initial.loc[:,'Age'])"
   ]
  },
  {
   "cell_type": "code",
   "execution_count": 15,
   "id": "f7942b0f",
   "metadata": {
    "colab": {
     "base_uri": "https://localhost:8080/",
     "height": 365
    },
    "id": "f7942b0f",
    "outputId": "d1cffa90-3702-4643-bf5f-16806a04a0ca"
   },
   "outputs": [
    {
     "data": {
      "text/html": [
       "<div>\n",
       "<style scoped>\n",
       "    .dataframe tbody tr th:only-of-type {\n",
       "        vertical-align: middle;\n",
       "    }\n",
       "\n",
       "    .dataframe tbody tr th {\n",
       "        vertical-align: top;\n",
       "    }\n",
       "\n",
       "    .dataframe thead th {\n",
       "        text-align: right;\n",
       "    }\n",
       "</style>\n",
       "<table border=\"1\" class=\"dataframe\">\n",
       "  <thead>\n",
       "    <tr style=\"text-align: right;\">\n",
       "      <th></th>\n",
       "      <th>case_id</th>\n",
       "      <th>Hospital_code</th>\n",
       "      <th>Hospital_type_code</th>\n",
       "      <th>City_Code_Hospital</th>\n",
       "      <th>Hospital_region_code</th>\n",
       "      <th>Available_Extra_Rooms_in_Hospital</th>\n",
       "      <th>Department</th>\n",
       "      <th>Ward_Type</th>\n",
       "      <th>Ward_Facility_Code</th>\n",
       "      <th>Bed_Grade</th>\n",
       "      <th>...</th>\n",
       "      <th>City_Code_Patient</th>\n",
       "      <th>Type_of_Admission</th>\n",
       "      <th>Severity_of_Illness</th>\n",
       "      <th>Visitors_with_Patient</th>\n",
       "      <th>Age</th>\n",
       "      <th>Admission_Deposit</th>\n",
       "      <th>Stay</th>\n",
       "      <th>ToA_Trauma</th>\n",
       "      <th>ToA_Urgent</th>\n",
       "      <th>Age_Range</th>\n",
       "    </tr>\n",
       "  </thead>\n",
       "  <tbody>\n",
       "    <tr>\n",
       "      <th>0</th>\n",
       "      <td>1</td>\n",
       "      <td>8</td>\n",
       "      <td>c</td>\n",
       "      <td>3</td>\n",
       "      <td>Z</td>\n",
       "      <td>3</td>\n",
       "      <td>radiotherapy</td>\n",
       "      <td>R</td>\n",
       "      <td>F</td>\n",
       "      <td>2.0</td>\n",
       "      <td>...</td>\n",
       "      <td>7.0</td>\n",
       "      <td>Emergency</td>\n",
       "      <td>Extreme</td>\n",
       "      <td>2</td>\n",
       "      <td>51-60</td>\n",
       "      <td>4911.0</td>\n",
       "      <td>0-10</td>\n",
       "      <td>0</td>\n",
       "      <td>0</td>\n",
       "      <td>31-60</td>\n",
       "    </tr>\n",
       "    <tr>\n",
       "      <th>1</th>\n",
       "      <td>2</td>\n",
       "      <td>2</td>\n",
       "      <td>c</td>\n",
       "      <td>5</td>\n",
       "      <td>Z</td>\n",
       "      <td>2</td>\n",
       "      <td>radiotherapy</td>\n",
       "      <td>S</td>\n",
       "      <td>F</td>\n",
       "      <td>2.0</td>\n",
       "      <td>...</td>\n",
       "      <td>7.0</td>\n",
       "      <td>Trauma</td>\n",
       "      <td>Extreme</td>\n",
       "      <td>2</td>\n",
       "      <td>51-60</td>\n",
       "      <td>5954.0</td>\n",
       "      <td>41-50</td>\n",
       "      <td>1</td>\n",
       "      <td>0</td>\n",
       "      <td>31-60</td>\n",
       "    </tr>\n",
       "    <tr>\n",
       "      <th>2</th>\n",
       "      <td>3</td>\n",
       "      <td>10</td>\n",
       "      <td>e</td>\n",
       "      <td>1</td>\n",
       "      <td>X</td>\n",
       "      <td>2</td>\n",
       "      <td>anesthesia</td>\n",
       "      <td>S</td>\n",
       "      <td>E</td>\n",
       "      <td>2.0</td>\n",
       "      <td>...</td>\n",
       "      <td>7.0</td>\n",
       "      <td>Trauma</td>\n",
       "      <td>Extreme</td>\n",
       "      <td>2</td>\n",
       "      <td>51-60</td>\n",
       "      <td>4745.0</td>\n",
       "      <td>31-40</td>\n",
       "      <td>1</td>\n",
       "      <td>0</td>\n",
       "      <td>31-60</td>\n",
       "    </tr>\n",
       "    <tr>\n",
       "      <th>3</th>\n",
       "      <td>4</td>\n",
       "      <td>26</td>\n",
       "      <td>b</td>\n",
       "      <td>2</td>\n",
       "      <td>Y</td>\n",
       "      <td>2</td>\n",
       "      <td>radiotherapy</td>\n",
       "      <td>R</td>\n",
       "      <td>D</td>\n",
       "      <td>2.0</td>\n",
       "      <td>...</td>\n",
       "      <td>7.0</td>\n",
       "      <td>Trauma</td>\n",
       "      <td>Extreme</td>\n",
       "      <td>2</td>\n",
       "      <td>51-60</td>\n",
       "      <td>7272.0</td>\n",
       "      <td>41-50</td>\n",
       "      <td>1</td>\n",
       "      <td>0</td>\n",
       "      <td>31-60</td>\n",
       "    </tr>\n",
       "    <tr>\n",
       "      <th>4</th>\n",
       "      <td>5</td>\n",
       "      <td>26</td>\n",
       "      <td>b</td>\n",
       "      <td>2</td>\n",
       "      <td>Y</td>\n",
       "      <td>2</td>\n",
       "      <td>radiotherapy</td>\n",
       "      <td>S</td>\n",
       "      <td>D</td>\n",
       "      <td>2.0</td>\n",
       "      <td>...</td>\n",
       "      <td>7.0</td>\n",
       "      <td>Trauma</td>\n",
       "      <td>Extreme</td>\n",
       "      <td>2</td>\n",
       "      <td>51-60</td>\n",
       "      <td>5558.0</td>\n",
       "      <td>41-50</td>\n",
       "      <td>1</td>\n",
       "      <td>0</td>\n",
       "      <td>31-60</td>\n",
       "    </tr>\n",
       "  </tbody>\n",
       "</table>\n",
       "<p>5 rows × 21 columns</p>\n",
       "</div>"
      ],
      "text/plain": [
       "   case_id  Hospital_code Hospital_type_code  City_Code_Hospital  \\\n",
       "0        1              8                  c                   3   \n",
       "1        2              2                  c                   5   \n",
       "2        3             10                  e                   1   \n",
       "3        4             26                  b                   2   \n",
       "4        5             26                  b                   2   \n",
       "\n",
       "  Hospital_region_code  Available_Extra_Rooms_in_Hospital    Department  \\\n",
       "0                    Z                                  3  radiotherapy   \n",
       "1                    Z                                  2  radiotherapy   \n",
       "2                    X                                  2    anesthesia   \n",
       "3                    Y                                  2  radiotherapy   \n",
       "4                    Y                                  2  radiotherapy   \n",
       "\n",
       "  Ward_Type Ward_Facility_Code  Bed_Grade  ...  City_Code_Patient  \\\n",
       "0         R                  F        2.0  ...                7.0   \n",
       "1         S                  F        2.0  ...                7.0   \n",
       "2         S                  E        2.0  ...                7.0   \n",
       "3         R                  D        2.0  ...                7.0   \n",
       "4         S                  D        2.0  ...                7.0   \n",
       "\n",
       "   Type_of_Admission Severity_of_Illness Visitors_with_Patient    Age  \\\n",
       "0          Emergency             Extreme                     2  51-60   \n",
       "1             Trauma             Extreme                     2  51-60   \n",
       "2             Trauma             Extreme                     2  51-60   \n",
       "3             Trauma             Extreme                     2  51-60   \n",
       "4             Trauma             Extreme                     2  51-60   \n",
       "\n",
       "  Admission_Deposit   Stay ToA_Trauma  ToA_Urgent  Age_Range  \n",
       "0            4911.0   0-10          0           0      31-60  \n",
       "1            5954.0  41-50          1           0      31-60  \n",
       "2            4745.0  31-40          1           0      31-60  \n",
       "3            7272.0  41-50          1           0      31-60  \n",
       "4            5558.0  41-50          1           0      31-60  \n",
       "\n",
       "[5 rows x 21 columns]"
      ]
     },
     "execution_count": 15,
     "metadata": {},
     "output_type": "execute_result"
    }
   ],
   "source": [
    "#Lower the amount of categories for age\n",
    "def f(row):\n",
    "    if row['Age'] in  ['0-10', '11-20', '21-30']:\n",
    "        val = '0-30'\n",
    "    elif row['Age'] in  ['31-40', '41-50', '51-60']:\n",
    "        val = '31-60'\n",
    "    else:\n",
    "        val = 'over_60'\n",
    "    return val\n",
    "\n",
    "#create new column 'Age_Range' using the function above\n",
    "df_train['Age_Range'] = df_train.apply(f, axis=1)\n",
    "df_test['Age_Range'] = df_test.apply(f, axis=1)\n",
    "\n",
    "df_train.head(5)"
   ]
  },
  {
   "cell_type": "code",
   "execution_count": 16,
   "id": "7a6c76aa",
   "metadata": {
    "colab": {
     "base_uri": "https://localhost:8080/",
     "height": 365
    },
    "id": "7a6c76aa",
    "outputId": "6902ab60-bdda-4b7b-991d-df4d718c559b"
   },
   "outputs": [
    {
     "data": {
      "text/html": [
       "<div>\n",
       "<style scoped>\n",
       "    .dataframe tbody tr th:only-of-type {\n",
       "        vertical-align: middle;\n",
       "    }\n",
       "\n",
       "    .dataframe tbody tr th {\n",
       "        vertical-align: top;\n",
       "    }\n",
       "\n",
       "    .dataframe thead th {\n",
       "        text-align: right;\n",
       "    }\n",
       "</style>\n",
       "<table border=\"1\" class=\"dataframe\">\n",
       "  <thead>\n",
       "    <tr style=\"text-align: right;\">\n",
       "      <th></th>\n",
       "      <th>case_id</th>\n",
       "      <th>Hospital_code</th>\n",
       "      <th>Hospital_type_code</th>\n",
       "      <th>City_Code_Hospital</th>\n",
       "      <th>Hospital_region_code</th>\n",
       "      <th>Available_Extra_Rooms_in_Hospital</th>\n",
       "      <th>Department</th>\n",
       "      <th>Ward_Type</th>\n",
       "      <th>Ward_Facility_Code</th>\n",
       "      <th>Bed_Grade</th>\n",
       "      <th>...</th>\n",
       "      <th>Severity_of_Illness</th>\n",
       "      <th>Visitors_with_Patient</th>\n",
       "      <th>Age</th>\n",
       "      <th>Admission_Deposit</th>\n",
       "      <th>Stay</th>\n",
       "      <th>ToA_Trauma</th>\n",
       "      <th>ToA_Urgent</th>\n",
       "      <th>Age_Range</th>\n",
       "      <th>AR_31-60</th>\n",
       "      <th>AR_over_60</th>\n",
       "    </tr>\n",
       "  </thead>\n",
       "  <tbody>\n",
       "    <tr>\n",
       "      <th>0</th>\n",
       "      <td>1</td>\n",
       "      <td>8</td>\n",
       "      <td>c</td>\n",
       "      <td>3</td>\n",
       "      <td>Z</td>\n",
       "      <td>3</td>\n",
       "      <td>radiotherapy</td>\n",
       "      <td>R</td>\n",
       "      <td>F</td>\n",
       "      <td>2.0</td>\n",
       "      <td>...</td>\n",
       "      <td>Extreme</td>\n",
       "      <td>2</td>\n",
       "      <td>51-60</td>\n",
       "      <td>4911.0</td>\n",
       "      <td>0-10</td>\n",
       "      <td>0</td>\n",
       "      <td>0</td>\n",
       "      <td>31-60</td>\n",
       "      <td>1</td>\n",
       "      <td>0</td>\n",
       "    </tr>\n",
       "    <tr>\n",
       "      <th>1</th>\n",
       "      <td>2</td>\n",
       "      <td>2</td>\n",
       "      <td>c</td>\n",
       "      <td>5</td>\n",
       "      <td>Z</td>\n",
       "      <td>2</td>\n",
       "      <td>radiotherapy</td>\n",
       "      <td>S</td>\n",
       "      <td>F</td>\n",
       "      <td>2.0</td>\n",
       "      <td>...</td>\n",
       "      <td>Extreme</td>\n",
       "      <td>2</td>\n",
       "      <td>51-60</td>\n",
       "      <td>5954.0</td>\n",
       "      <td>41-50</td>\n",
       "      <td>1</td>\n",
       "      <td>0</td>\n",
       "      <td>31-60</td>\n",
       "      <td>1</td>\n",
       "      <td>0</td>\n",
       "    </tr>\n",
       "    <tr>\n",
       "      <th>2</th>\n",
       "      <td>3</td>\n",
       "      <td>10</td>\n",
       "      <td>e</td>\n",
       "      <td>1</td>\n",
       "      <td>X</td>\n",
       "      <td>2</td>\n",
       "      <td>anesthesia</td>\n",
       "      <td>S</td>\n",
       "      <td>E</td>\n",
       "      <td>2.0</td>\n",
       "      <td>...</td>\n",
       "      <td>Extreme</td>\n",
       "      <td>2</td>\n",
       "      <td>51-60</td>\n",
       "      <td>4745.0</td>\n",
       "      <td>31-40</td>\n",
       "      <td>1</td>\n",
       "      <td>0</td>\n",
       "      <td>31-60</td>\n",
       "      <td>1</td>\n",
       "      <td>0</td>\n",
       "    </tr>\n",
       "    <tr>\n",
       "      <th>3</th>\n",
       "      <td>4</td>\n",
       "      <td>26</td>\n",
       "      <td>b</td>\n",
       "      <td>2</td>\n",
       "      <td>Y</td>\n",
       "      <td>2</td>\n",
       "      <td>radiotherapy</td>\n",
       "      <td>R</td>\n",
       "      <td>D</td>\n",
       "      <td>2.0</td>\n",
       "      <td>...</td>\n",
       "      <td>Extreme</td>\n",
       "      <td>2</td>\n",
       "      <td>51-60</td>\n",
       "      <td>7272.0</td>\n",
       "      <td>41-50</td>\n",
       "      <td>1</td>\n",
       "      <td>0</td>\n",
       "      <td>31-60</td>\n",
       "      <td>1</td>\n",
       "      <td>0</td>\n",
       "    </tr>\n",
       "    <tr>\n",
       "      <th>4</th>\n",
       "      <td>5</td>\n",
       "      <td>26</td>\n",
       "      <td>b</td>\n",
       "      <td>2</td>\n",
       "      <td>Y</td>\n",
       "      <td>2</td>\n",
       "      <td>radiotherapy</td>\n",
       "      <td>S</td>\n",
       "      <td>D</td>\n",
       "      <td>2.0</td>\n",
       "      <td>...</td>\n",
       "      <td>Extreme</td>\n",
       "      <td>2</td>\n",
       "      <td>51-60</td>\n",
       "      <td>5558.0</td>\n",
       "      <td>41-50</td>\n",
       "      <td>1</td>\n",
       "      <td>0</td>\n",
       "      <td>31-60</td>\n",
       "      <td>1</td>\n",
       "      <td>0</td>\n",
       "    </tr>\n",
       "  </tbody>\n",
       "</table>\n",
       "<p>5 rows × 23 columns</p>\n",
       "</div>"
      ],
      "text/plain": [
       "   case_id  Hospital_code Hospital_type_code  City_Code_Hospital  \\\n",
       "0        1              8                  c                   3   \n",
       "1        2              2                  c                   5   \n",
       "2        3             10                  e                   1   \n",
       "3        4             26                  b                   2   \n",
       "4        5             26                  b                   2   \n",
       "\n",
       "  Hospital_region_code  Available_Extra_Rooms_in_Hospital    Department  \\\n",
       "0                    Z                                  3  radiotherapy   \n",
       "1                    Z                                  2  radiotherapy   \n",
       "2                    X                                  2    anesthesia   \n",
       "3                    Y                                  2  radiotherapy   \n",
       "4                    Y                                  2  radiotherapy   \n",
       "\n",
       "  Ward_Type Ward_Facility_Code  Bed_Grade  ...  Severity_of_Illness  \\\n",
       "0         R                  F        2.0  ...              Extreme   \n",
       "1         S                  F        2.0  ...              Extreme   \n",
       "2         S                  E        2.0  ...              Extreme   \n",
       "3         R                  D        2.0  ...              Extreme   \n",
       "4         S                  D        2.0  ...              Extreme   \n",
       "\n",
       "   Visitors_with_Patient    Age Admission_Deposit   Stay ToA_Trauma  \\\n",
       "0                      2  51-60            4911.0   0-10          0   \n",
       "1                      2  51-60            5954.0  41-50          1   \n",
       "2                      2  51-60            4745.0  31-40          1   \n",
       "3                      2  51-60            7272.0  41-50          1   \n",
       "4                      2  51-60            5558.0  41-50          1   \n",
       "\n",
       "   ToA_Urgent Age_Range  AR_31-60  AR_over_60  \n",
       "0           0     31-60         1           0  \n",
       "1           0     31-60         1           0  \n",
       "2           0     31-60         1           0  \n",
       "3           0     31-60         1           0  \n",
       "4           0     31-60         1           0  \n",
       "\n",
       "[5 rows x 23 columns]"
      ]
     },
     "execution_count": 16,
     "metadata": {},
     "output_type": "execute_result"
    }
   ],
   "source": [
    "#Dummy Coding of Age\n",
    "dummy_vars_Age_Range_train = pd.get_dummies(df_train['Age_Range'], prefix = \"AR\",  drop_first=True)\n",
    "\n",
    "dummy_vars_Age_Range_train.head(5)\n",
    "\n",
    "dummy_vars_Age_Range_test = pd.get_dummies(df_test['Age_Range'], prefix = \"AR\",  drop_first=True)\n",
    "\n",
    "dummy_vars_Age_Range_test.head(5)\n",
    "\n",
    "df_train = pd.concat([df_train, dummy_vars_Age_Range_train], axis=1)\n",
    "df_test = pd.concat([df_test, dummy_vars_Age_Range_test], axis=1)\n",
    "\n",
    "df_train.head(5)\n",
    "\n"
   ]
  },
  {
   "cell_type": "code",
   "execution_count": 17,
   "id": "opcSkV1q-jSM",
   "metadata": {
    "colab": {
     "base_uri": "https://localhost:8080/",
     "height": 365
    },
    "id": "opcSkV1q-jSM",
    "outputId": "53a93c53-b352-4c7b-b304-abda55d96e7b"
   },
   "outputs": [
    {
     "data": {
      "text/html": [
       "<div>\n",
       "<style scoped>\n",
       "    .dataframe tbody tr th:only-of-type {\n",
       "        vertical-align: middle;\n",
       "    }\n",
       "\n",
       "    .dataframe tbody tr th {\n",
       "        vertical-align: top;\n",
       "    }\n",
       "\n",
       "    .dataframe thead th {\n",
       "        text-align: right;\n",
       "    }\n",
       "</style>\n",
       "<table border=\"1\" class=\"dataframe\">\n",
       "  <thead>\n",
       "    <tr style=\"text-align: right;\">\n",
       "      <th></th>\n",
       "      <th>case_id</th>\n",
       "      <th>Hospital_code</th>\n",
       "      <th>Hospital_type_code</th>\n",
       "      <th>City_Code_Hospital</th>\n",
       "      <th>Hospital_region_code</th>\n",
       "      <th>Available_Extra_Rooms_in_Hospital</th>\n",
       "      <th>Department</th>\n",
       "      <th>Ward_Type</th>\n",
       "      <th>Ward_Facility_Code</th>\n",
       "      <th>Bed_Grade</th>\n",
       "      <th>...</th>\n",
       "      <th>Visitors_with_Patient</th>\n",
       "      <th>Age</th>\n",
       "      <th>Admission_Deposit</th>\n",
       "      <th>ToA_Trauma</th>\n",
       "      <th>ToA_Urgent</th>\n",
       "      <th>Age_Range</th>\n",
       "      <th>AR_31-60</th>\n",
       "      <th>AR_over_60</th>\n",
       "      <th>HRC_Y</th>\n",
       "      <th>HRC_Z</th>\n",
       "    </tr>\n",
       "  </thead>\n",
       "  <tbody>\n",
       "    <tr>\n",
       "      <th>0</th>\n",
       "      <td>318439</td>\n",
       "      <td>21</td>\n",
       "      <td>c</td>\n",
       "      <td>3</td>\n",
       "      <td>Z</td>\n",
       "      <td>3</td>\n",
       "      <td>gynecology</td>\n",
       "      <td>S</td>\n",
       "      <td>A</td>\n",
       "      <td>2.0</td>\n",
       "      <td>...</td>\n",
       "      <td>2</td>\n",
       "      <td>71-80</td>\n",
       "      <td>3095.0</td>\n",
       "      <td>0</td>\n",
       "      <td>0</td>\n",
       "      <td>over_60</td>\n",
       "      <td>0</td>\n",
       "      <td>1</td>\n",
       "      <td>0</td>\n",
       "      <td>1</td>\n",
       "    </tr>\n",
       "    <tr>\n",
       "      <th>1</th>\n",
       "      <td>318440</td>\n",
       "      <td>29</td>\n",
       "      <td>a</td>\n",
       "      <td>4</td>\n",
       "      <td>X</td>\n",
       "      <td>2</td>\n",
       "      <td>gynecology</td>\n",
       "      <td>S</td>\n",
       "      <td>F</td>\n",
       "      <td>2.0</td>\n",
       "      <td>...</td>\n",
       "      <td>4</td>\n",
       "      <td>71-80</td>\n",
       "      <td>4018.0</td>\n",
       "      <td>1</td>\n",
       "      <td>0</td>\n",
       "      <td>over_60</td>\n",
       "      <td>0</td>\n",
       "      <td>1</td>\n",
       "      <td>0</td>\n",
       "      <td>0</td>\n",
       "    </tr>\n",
       "    <tr>\n",
       "      <th>2</th>\n",
       "      <td>318441</td>\n",
       "      <td>26</td>\n",
       "      <td>b</td>\n",
       "      <td>2</td>\n",
       "      <td>Y</td>\n",
       "      <td>3</td>\n",
       "      <td>gynecology</td>\n",
       "      <td>Q</td>\n",
       "      <td>D</td>\n",
       "      <td>4.0</td>\n",
       "      <td>...</td>\n",
       "      <td>3</td>\n",
       "      <td>71-80</td>\n",
       "      <td>4492.0</td>\n",
       "      <td>0</td>\n",
       "      <td>0</td>\n",
       "      <td>over_60</td>\n",
       "      <td>0</td>\n",
       "      <td>1</td>\n",
       "      <td>1</td>\n",
       "      <td>0</td>\n",
       "    </tr>\n",
       "    <tr>\n",
       "      <th>3</th>\n",
       "      <td>318442</td>\n",
       "      <td>6</td>\n",
       "      <td>a</td>\n",
       "      <td>6</td>\n",
       "      <td>X</td>\n",
       "      <td>3</td>\n",
       "      <td>gynecology</td>\n",
       "      <td>Q</td>\n",
       "      <td>F</td>\n",
       "      <td>2.0</td>\n",
       "      <td>...</td>\n",
       "      <td>3</td>\n",
       "      <td>71-80</td>\n",
       "      <td>4173.0</td>\n",
       "      <td>1</td>\n",
       "      <td>0</td>\n",
       "      <td>over_60</td>\n",
       "      <td>0</td>\n",
       "      <td>1</td>\n",
       "      <td>0</td>\n",
       "      <td>0</td>\n",
       "    </tr>\n",
       "    <tr>\n",
       "      <th>4</th>\n",
       "      <td>318443</td>\n",
       "      <td>28</td>\n",
       "      <td>b</td>\n",
       "      <td>11</td>\n",
       "      <td>X</td>\n",
       "      <td>2</td>\n",
       "      <td>gynecology</td>\n",
       "      <td>R</td>\n",
       "      <td>F</td>\n",
       "      <td>2.0</td>\n",
       "      <td>...</td>\n",
       "      <td>4</td>\n",
       "      <td>71-80</td>\n",
       "      <td>4161.0</td>\n",
       "      <td>1</td>\n",
       "      <td>0</td>\n",
       "      <td>over_60</td>\n",
       "      <td>0</td>\n",
       "      <td>1</td>\n",
       "      <td>0</td>\n",
       "      <td>0</td>\n",
       "    </tr>\n",
       "  </tbody>\n",
       "</table>\n",
       "<p>5 rows × 24 columns</p>\n",
       "</div>"
      ],
      "text/plain": [
       "   case_id  Hospital_code Hospital_type_code  City_Code_Hospital  \\\n",
       "0   318439             21                  c                   3   \n",
       "1   318440             29                  a                   4   \n",
       "2   318441             26                  b                   2   \n",
       "3   318442              6                  a                   6   \n",
       "4   318443             28                  b                  11   \n",
       "\n",
       "  Hospital_region_code  Available_Extra_Rooms_in_Hospital  Department  \\\n",
       "0                    Z                                  3  gynecology   \n",
       "1                    X                                  2  gynecology   \n",
       "2                    Y                                  3  gynecology   \n",
       "3                    X                                  3  gynecology   \n",
       "4                    X                                  2  gynecology   \n",
       "\n",
       "  Ward_Type Ward_Facility_Code  Bed_Grade  ...  Visitors_with_Patient    Age  \\\n",
       "0         S                  A        2.0  ...                      2  71-80   \n",
       "1         S                  F        2.0  ...                      4  71-80   \n",
       "2         Q                  D        4.0  ...                      3  71-80   \n",
       "3         Q                  F        2.0  ...                      3  71-80   \n",
       "4         R                  F        2.0  ...                      4  71-80   \n",
       "\n",
       "  Admission_Deposit ToA_Trauma  ToA_Urgent Age_Range  AR_31-60  AR_over_60  \\\n",
       "0            3095.0          0           0   over_60         0           1   \n",
       "1            4018.0          1           0   over_60         0           1   \n",
       "2            4492.0          0           0   over_60         0           1   \n",
       "3            4173.0          1           0   over_60         0           1   \n",
       "4            4161.0          1           0   over_60         0           1   \n",
       "\n",
       "   HRC_Y HRC_Z  \n",
       "0      0     1  \n",
       "1      0     0  \n",
       "2      1     0  \n",
       "3      0     0  \n",
       "4      0     0  \n",
       "\n",
       "[5 rows x 24 columns]"
      ]
     },
     "execution_count": 17,
     "metadata": {},
     "output_type": "execute_result"
    }
   ],
   "source": [
    "# dummy encode the Hospital_region_code\n",
    "dummy_vars_HospitalCode_train = pd.get_dummies(df_train['Hospital_region_code'], prefix = \"HRC\",  drop_first=True)\n",
    "dummy_vars_HospitalCode_test = pd.get_dummies(df_test['Hospital_region_code'], prefix = \"HRC\",  drop_first=True)\n",
    "\n",
    "#appending the values to the test and train dataset\n",
    "df_train = pd.concat([df_train, dummy_vars_HospitalCode_train], axis=1)\n",
    "df_test = pd.concat([df_test, dummy_vars_HospitalCode_test], axis=1)\n",
    "df_test.head(5)"
   ]
  },
  {
   "cell_type": "code",
   "execution_count": 18,
   "id": "20b60fe7",
   "metadata": {},
   "outputs": [
    {
     "name": "stdout",
     "output_type": "stream",
     "text": [
      "['case_id', 'Hospital_code', 'Hospital_type_code', 'City_Code_Hospital', 'Hospital_region_code', 'Available_Extra_Rooms_in_Hospital', 'Department', 'Ward_Type', 'Ward_Facility_Code', 'Bed_Grade', 'patientid', 'City_Code_Patient', 'Type_of_Admission', 'Severity_of_Illness', 'Visitors_with_Patient', 'Age', 'Admission_Deposit', 'Stay', 'ToA_Trauma', 'ToA_Urgent', 'Age_Range', 'AR_31-60', 'AR_over_60', 'HRC_Y', 'HRC_Z', 'Dep_anesthesia', 'Dep_gynecology', 'Dep_radiotherapy', 'Dep_surgery']\n"
     ]
    },
    {
     "data": {
      "text/html": [
       "<div>\n",
       "<style scoped>\n",
       "    .dataframe tbody tr th:only-of-type {\n",
       "        vertical-align: middle;\n",
       "    }\n",
       "\n",
       "    .dataframe tbody tr th {\n",
       "        vertical-align: top;\n",
       "    }\n",
       "\n",
       "    .dataframe thead th {\n",
       "        text-align: right;\n",
       "    }\n",
       "</style>\n",
       "<table border=\"1\" class=\"dataframe\">\n",
       "  <thead>\n",
       "    <tr style=\"text-align: right;\">\n",
       "      <th></th>\n",
       "      <th>case_id</th>\n",
       "      <th>Hospital_code</th>\n",
       "      <th>Hospital_type_code</th>\n",
       "      <th>City_Code_Hospital</th>\n",
       "      <th>Hospital_region_code</th>\n",
       "      <th>Available_Extra_Rooms_in_Hospital</th>\n",
       "      <th>Department</th>\n",
       "      <th>Ward_Type</th>\n",
       "      <th>Ward_Facility_Code</th>\n",
       "      <th>Bed_Grade</th>\n",
       "      <th>...</th>\n",
       "      <th>ToA_Urgent</th>\n",
       "      <th>Age_Range</th>\n",
       "      <th>AR_31-60</th>\n",
       "      <th>AR_over_60</th>\n",
       "      <th>HRC_Y</th>\n",
       "      <th>HRC_Z</th>\n",
       "      <th>Dep_anesthesia</th>\n",
       "      <th>Dep_gynecology</th>\n",
       "      <th>Dep_radiotherapy</th>\n",
       "      <th>Dep_surgery</th>\n",
       "    </tr>\n",
       "  </thead>\n",
       "  <tbody>\n",
       "    <tr>\n",
       "      <th>0</th>\n",
       "      <td>1</td>\n",
       "      <td>8</td>\n",
       "      <td>c</td>\n",
       "      <td>3</td>\n",
       "      <td>Z</td>\n",
       "      <td>3</td>\n",
       "      <td>radiotherapy</td>\n",
       "      <td>R</td>\n",
       "      <td>F</td>\n",
       "      <td>2.0</td>\n",
       "      <td>...</td>\n",
       "      <td>0</td>\n",
       "      <td>31-60</td>\n",
       "      <td>1</td>\n",
       "      <td>0</td>\n",
       "      <td>0</td>\n",
       "      <td>1</td>\n",
       "      <td>0</td>\n",
       "      <td>0</td>\n",
       "      <td>1</td>\n",
       "      <td>0</td>\n",
       "    </tr>\n",
       "    <tr>\n",
       "      <th>1</th>\n",
       "      <td>2</td>\n",
       "      <td>2</td>\n",
       "      <td>c</td>\n",
       "      <td>5</td>\n",
       "      <td>Z</td>\n",
       "      <td>2</td>\n",
       "      <td>radiotherapy</td>\n",
       "      <td>S</td>\n",
       "      <td>F</td>\n",
       "      <td>2.0</td>\n",
       "      <td>...</td>\n",
       "      <td>0</td>\n",
       "      <td>31-60</td>\n",
       "      <td>1</td>\n",
       "      <td>0</td>\n",
       "      <td>0</td>\n",
       "      <td>1</td>\n",
       "      <td>0</td>\n",
       "      <td>0</td>\n",
       "      <td>1</td>\n",
       "      <td>0</td>\n",
       "    </tr>\n",
       "    <tr>\n",
       "      <th>2</th>\n",
       "      <td>3</td>\n",
       "      <td>10</td>\n",
       "      <td>e</td>\n",
       "      <td>1</td>\n",
       "      <td>X</td>\n",
       "      <td>2</td>\n",
       "      <td>anesthesia</td>\n",
       "      <td>S</td>\n",
       "      <td>E</td>\n",
       "      <td>2.0</td>\n",
       "      <td>...</td>\n",
       "      <td>0</td>\n",
       "      <td>31-60</td>\n",
       "      <td>1</td>\n",
       "      <td>0</td>\n",
       "      <td>0</td>\n",
       "      <td>0</td>\n",
       "      <td>1</td>\n",
       "      <td>0</td>\n",
       "      <td>0</td>\n",
       "      <td>0</td>\n",
       "    </tr>\n",
       "    <tr>\n",
       "      <th>3</th>\n",
       "      <td>4</td>\n",
       "      <td>26</td>\n",
       "      <td>b</td>\n",
       "      <td>2</td>\n",
       "      <td>Y</td>\n",
       "      <td>2</td>\n",
       "      <td>radiotherapy</td>\n",
       "      <td>R</td>\n",
       "      <td>D</td>\n",
       "      <td>2.0</td>\n",
       "      <td>...</td>\n",
       "      <td>0</td>\n",
       "      <td>31-60</td>\n",
       "      <td>1</td>\n",
       "      <td>0</td>\n",
       "      <td>1</td>\n",
       "      <td>0</td>\n",
       "      <td>0</td>\n",
       "      <td>0</td>\n",
       "      <td>1</td>\n",
       "      <td>0</td>\n",
       "    </tr>\n",
       "    <tr>\n",
       "      <th>4</th>\n",
       "      <td>5</td>\n",
       "      <td>26</td>\n",
       "      <td>b</td>\n",
       "      <td>2</td>\n",
       "      <td>Y</td>\n",
       "      <td>2</td>\n",
       "      <td>radiotherapy</td>\n",
       "      <td>S</td>\n",
       "      <td>D</td>\n",
       "      <td>2.0</td>\n",
       "      <td>...</td>\n",
       "      <td>0</td>\n",
       "      <td>31-60</td>\n",
       "      <td>1</td>\n",
       "      <td>0</td>\n",
       "      <td>1</td>\n",
       "      <td>0</td>\n",
       "      <td>0</td>\n",
       "      <td>0</td>\n",
       "      <td>1</td>\n",
       "      <td>0</td>\n",
       "    </tr>\n",
       "  </tbody>\n",
       "</table>\n",
       "<p>5 rows × 29 columns</p>\n",
       "</div>"
      ],
      "text/plain": [
       "   case_id  Hospital_code Hospital_type_code  City_Code_Hospital  \\\n",
       "0        1              8                  c                   3   \n",
       "1        2              2                  c                   5   \n",
       "2        3             10                  e                   1   \n",
       "3        4             26                  b                   2   \n",
       "4        5             26                  b                   2   \n",
       "\n",
       "  Hospital_region_code  Available_Extra_Rooms_in_Hospital    Department  \\\n",
       "0                    Z                                  3  radiotherapy   \n",
       "1                    Z                                  2  radiotherapy   \n",
       "2                    X                                  2    anesthesia   \n",
       "3                    Y                                  2  radiotherapy   \n",
       "4                    Y                                  2  radiotherapy   \n",
       "\n",
       "  Ward_Type Ward_Facility_Code  Bed_Grade  ...  ToA_Urgent  Age_Range  \\\n",
       "0         R                  F        2.0  ...           0      31-60   \n",
       "1         S                  F        2.0  ...           0      31-60   \n",
       "2         S                  E        2.0  ...           0      31-60   \n",
       "3         R                  D        2.0  ...           0      31-60   \n",
       "4         S                  D        2.0  ...           0      31-60   \n",
       "\n",
       "  AR_31-60 AR_over_60  HRC_Y HRC_Z  Dep_anesthesia Dep_gynecology  \\\n",
       "0        1          0      0     1               0              0   \n",
       "1        1          0      0     1               0              0   \n",
       "2        1          0      0     0               1              0   \n",
       "3        1          0      1     0               0              0   \n",
       "4        1          0      1     0               0              0   \n",
       "\n",
       "   Dep_radiotherapy  Dep_surgery  \n",
       "0                 1            0  \n",
       "1                 1            0  \n",
       "2                 0            0  \n",
       "3                 1            0  \n",
       "4                 1            0  \n",
       "\n",
       "[5 rows x 29 columns]"
      ]
     },
     "execution_count": 18,
     "metadata": {},
     "output_type": "execute_result"
    }
   ],
   "source": [
    "#Dummy encode the departmentvariable\n",
    "dummy_vars_department_train = pd.get_dummies(df_train[['Department']], prefix = [\"Dep\"], drop_first=True)\n",
    "\n",
    "dummy_vars_department_train.head(5)\n",
    "\n",
    "dummy_vars_department_test = pd.get_dummies(df_test[['Department']], prefix = [\"Dep\"], drop_first=True)\n",
    "\n",
    "dummy_vars_department_test.head(5)\n",
    "\n",
    "df_train = pd.concat([df_train, dummy_vars_department_train], axis=1)\n",
    "df_test = pd.concat([df_test, dummy_vars_department_test], axis=1)\n",
    "\n",
    "print(df_train.columns.values.tolist())\n",
    "df_train.head(5)\n"
   ]
  },
  {
   "cell_type": "markdown",
   "id": "4lWsu7Lt9NBk",
   "metadata": {
    "id": "4lWsu7Lt9NBk"
   },
   "source": [
    "# Feature Engineering & Variable Selection"
   ]
  },
  {
   "cell_type": "code",
   "execution_count": 19,
   "id": "SC1WtLATB8Br",
   "metadata": {
    "colab": {
     "base_uri": "https://localhost:8080/"
    },
    "id": "SC1WtLATB8Br",
    "outputId": "03408f7d-1e41-4566-972c-8a2ea94ca317"
   },
   "outputs": [
    {
     "data": {
      "text/plain": [
       "array(['Extreme', 'Moderate', 'Minor'], dtype=object)"
      ]
     },
     "execution_count": 19,
     "metadata": {},
     "output_type": "execute_result"
    }
   ],
   "source": [
    "df_train['Severity_of_Illness'].unique()"
   ]
  },
  {
   "cell_type": "code",
   "execution_count": 20,
   "id": "F_jymPlEBr4E",
   "metadata": {
    "id": "F_jymPlEBr4E"
   },
   "outputs": [],
   "source": [
    "#Create a new column: Severity of Illness Numeric\n",
    "#Key: 0=Minor, 1=Moderate, 2=Severe\n",
    "# Ordinality of the values is based on the severity of the patient's illness.\n",
    "\n",
    "illness_dict = {'Minor': 0, 'Moderate': 1, 'Severe': 2}\n",
    "df_train['Severity_of_Illness'] = df_train['Severity_of_Illness'].replace(illness_dict.keys(), illness_dict.values())\n",
    "df_test['Severity_of_Illness'] = df_test['Severity_of_Illness'].replace(illness_dict.keys(), illness_dict.values())"
   ]
  },
  {
   "cell_type": "code",
   "execution_count": 21,
   "id": "z0dNG2ZJAldW",
   "metadata": {
    "colab": {
     "base_uri": "https://localhost:8080/",
     "height": 365
    },
    "id": "z0dNG2ZJAldW",
    "outputId": "777e8d6a-e0ff-4d6d-85a6-50d5584e8c07"
   },
   "outputs": [
    {
     "data": {
      "text/html": [
       "<div>\n",
       "<style scoped>\n",
       "    .dataframe tbody tr th:only-of-type {\n",
       "        vertical-align: middle;\n",
       "    }\n",
       "\n",
       "    .dataframe tbody tr th {\n",
       "        vertical-align: top;\n",
       "    }\n",
       "\n",
       "    .dataframe thead th {\n",
       "        text-align: right;\n",
       "    }\n",
       "</style>\n",
       "<table border=\"1\" class=\"dataframe\">\n",
       "  <thead>\n",
       "    <tr style=\"text-align: right;\">\n",
       "      <th></th>\n",
       "      <th>case_id</th>\n",
       "      <th>Hospital_code</th>\n",
       "      <th>Hospital_type_code</th>\n",
       "      <th>City_Code_Hospital</th>\n",
       "      <th>Hospital_region_code</th>\n",
       "      <th>Available_Extra_Rooms_in_Hospital</th>\n",
       "      <th>Department</th>\n",
       "      <th>Ward_Type</th>\n",
       "      <th>Ward_Facility_Code</th>\n",
       "      <th>Bed_Grade</th>\n",
       "      <th>...</th>\n",
       "      <th>ToA_Urgent</th>\n",
       "      <th>Age_Range</th>\n",
       "      <th>AR_31-60</th>\n",
       "      <th>AR_over_60</th>\n",
       "      <th>HRC_Y</th>\n",
       "      <th>HRC_Z</th>\n",
       "      <th>Dep_anesthesia</th>\n",
       "      <th>Dep_gynecology</th>\n",
       "      <th>Dep_radiotherapy</th>\n",
       "      <th>Dep_surgery</th>\n",
       "    </tr>\n",
       "  </thead>\n",
       "  <tbody>\n",
       "    <tr>\n",
       "      <th>0</th>\n",
       "      <td>1</td>\n",
       "      <td>8</td>\n",
       "      <td>c</td>\n",
       "      <td>3</td>\n",
       "      <td>Z</td>\n",
       "      <td>3</td>\n",
       "      <td>radiotherapy</td>\n",
       "      <td>R</td>\n",
       "      <td>F</td>\n",
       "      <td>2.0</td>\n",
       "      <td>...</td>\n",
       "      <td>0</td>\n",
       "      <td>31-60</td>\n",
       "      <td>1</td>\n",
       "      <td>0</td>\n",
       "      <td>0</td>\n",
       "      <td>1</td>\n",
       "      <td>0</td>\n",
       "      <td>0</td>\n",
       "      <td>1</td>\n",
       "      <td>0</td>\n",
       "    </tr>\n",
       "    <tr>\n",
       "      <th>1</th>\n",
       "      <td>2</td>\n",
       "      <td>2</td>\n",
       "      <td>c</td>\n",
       "      <td>5</td>\n",
       "      <td>Z</td>\n",
       "      <td>2</td>\n",
       "      <td>radiotherapy</td>\n",
       "      <td>S</td>\n",
       "      <td>F</td>\n",
       "      <td>2.0</td>\n",
       "      <td>...</td>\n",
       "      <td>0</td>\n",
       "      <td>31-60</td>\n",
       "      <td>1</td>\n",
       "      <td>0</td>\n",
       "      <td>0</td>\n",
       "      <td>1</td>\n",
       "      <td>0</td>\n",
       "      <td>0</td>\n",
       "      <td>1</td>\n",
       "      <td>0</td>\n",
       "    </tr>\n",
       "    <tr>\n",
       "      <th>2</th>\n",
       "      <td>3</td>\n",
       "      <td>10</td>\n",
       "      <td>e</td>\n",
       "      <td>1</td>\n",
       "      <td>X</td>\n",
       "      <td>2</td>\n",
       "      <td>anesthesia</td>\n",
       "      <td>S</td>\n",
       "      <td>E</td>\n",
       "      <td>2.0</td>\n",
       "      <td>...</td>\n",
       "      <td>0</td>\n",
       "      <td>31-60</td>\n",
       "      <td>1</td>\n",
       "      <td>0</td>\n",
       "      <td>0</td>\n",
       "      <td>0</td>\n",
       "      <td>1</td>\n",
       "      <td>0</td>\n",
       "      <td>0</td>\n",
       "      <td>0</td>\n",
       "    </tr>\n",
       "    <tr>\n",
       "      <th>3</th>\n",
       "      <td>4</td>\n",
       "      <td>26</td>\n",
       "      <td>b</td>\n",
       "      <td>2</td>\n",
       "      <td>Y</td>\n",
       "      <td>2</td>\n",
       "      <td>radiotherapy</td>\n",
       "      <td>R</td>\n",
       "      <td>D</td>\n",
       "      <td>2.0</td>\n",
       "      <td>...</td>\n",
       "      <td>0</td>\n",
       "      <td>31-60</td>\n",
       "      <td>1</td>\n",
       "      <td>0</td>\n",
       "      <td>1</td>\n",
       "      <td>0</td>\n",
       "      <td>0</td>\n",
       "      <td>0</td>\n",
       "      <td>1</td>\n",
       "      <td>0</td>\n",
       "    </tr>\n",
       "    <tr>\n",
       "      <th>4</th>\n",
       "      <td>5</td>\n",
       "      <td>26</td>\n",
       "      <td>b</td>\n",
       "      <td>2</td>\n",
       "      <td>Y</td>\n",
       "      <td>2</td>\n",
       "      <td>radiotherapy</td>\n",
       "      <td>S</td>\n",
       "      <td>D</td>\n",
       "      <td>2.0</td>\n",
       "      <td>...</td>\n",
       "      <td>0</td>\n",
       "      <td>31-60</td>\n",
       "      <td>1</td>\n",
       "      <td>0</td>\n",
       "      <td>1</td>\n",
       "      <td>0</td>\n",
       "      <td>0</td>\n",
       "      <td>0</td>\n",
       "      <td>1</td>\n",
       "      <td>0</td>\n",
       "    </tr>\n",
       "  </tbody>\n",
       "</table>\n",
       "<p>5 rows × 29 columns</p>\n",
       "</div>"
      ],
      "text/plain": [
       "   case_id  Hospital_code Hospital_type_code  City_Code_Hospital  \\\n",
       "0        1              8                  c                   3   \n",
       "1        2              2                  c                   5   \n",
       "2        3             10                  e                   1   \n",
       "3        4             26                  b                   2   \n",
       "4        5             26                  b                   2   \n",
       "\n",
       "  Hospital_region_code  Available_Extra_Rooms_in_Hospital    Department  \\\n",
       "0                    Z                                  3  radiotherapy   \n",
       "1                    Z                                  2  radiotherapy   \n",
       "2                    X                                  2    anesthesia   \n",
       "3                    Y                                  2  radiotherapy   \n",
       "4                    Y                                  2  radiotherapy   \n",
       "\n",
       "  Ward_Type Ward_Facility_Code  Bed_Grade  ...  ToA_Urgent  Age_Range  \\\n",
       "0         R                  F        2.0  ...           0      31-60   \n",
       "1         S                  F        2.0  ...           0      31-60   \n",
       "2         S                  E        2.0  ...           0      31-60   \n",
       "3         R                  D        2.0  ...           0      31-60   \n",
       "4         S                  D        2.0  ...           0      31-60   \n",
       "\n",
       "  AR_31-60 AR_over_60  HRC_Y HRC_Z  Dep_anesthesia Dep_gynecology  \\\n",
       "0        1          0      0     1               0              0   \n",
       "1        1          0      0     1               0              0   \n",
       "2        1          0      0     0               1              0   \n",
       "3        1          0      1     0               0              0   \n",
       "4        1          0      1     0               0              0   \n",
       "\n",
       "   Dep_radiotherapy  Dep_surgery  \n",
       "0                 1            0  \n",
       "1                 1            0  \n",
       "2                 0            0  \n",
       "3                 1            0  \n",
       "4                 1            0  \n",
       "\n",
       "[5 rows x 29 columns]"
      ]
     },
     "execution_count": 21,
     "metadata": {},
     "output_type": "execute_result"
    }
   ],
   "source": [
    "df_train.head()"
   ]
  },
  {
   "cell_type": "markdown",
   "id": "nehdd4-Z_oF1",
   "metadata": {
    "id": "nehdd4-Z_oF1"
   },
   "source": [
    "Ward Type, Ward_Facility_Code and Hospital_Type_code show no significance towards the stay of the patient in the hospital hence we are eliminating these variables. We have considered type of department and found that  ward type is a sub unit of department which has no additional input to our dataset."
   ]
  },
  {
   "cell_type": "code",
   "execution_count": 22,
   "id": "392921da",
   "metadata": {
    "colab": {
     "base_uri": "https://localhost:8080/"
    },
    "id": "392921da",
    "outputId": "7b301f36-197a-43d9-83f4-6d1965c06d17"
   },
   "outputs": [
    {
     "data": {
      "text/plain": [
       "array(['R', 'S', 'Q', 'P', 'T', 'U'], dtype=object)"
      ]
     },
     "execution_count": 22,
     "metadata": {},
     "output_type": "execute_result"
    }
   ],
   "source": [
    "#view unique ward type values\n",
    "pd.unique(df_train['Ward_Type'])"
   ]
  },
  {
   "cell_type": "code",
   "execution_count": 23,
   "id": "1ePbgfhqsmSs",
   "metadata": {
    "colab": {
     "base_uri": "https://localhost:8080/"
    },
    "id": "1ePbgfhqsmSs",
    "outputId": "2a8de77d-872b-4f4e-b24a-dfa747b5e06e"
   },
   "outputs": [
    {
     "data": {
      "text/plain": [
       "array(['c', 'e', 'b', 'a', 'f', 'd', 'g'], dtype=object)"
      ]
     },
     "execution_count": 23,
     "metadata": {},
     "output_type": "execute_result"
    }
   ],
   "source": [
    "pd.unique(df_train['Hospital_type_code'])"
   ]
  },
  {
   "cell_type": "code",
   "execution_count": 24,
   "id": "5xLMcbvtAzNN",
   "metadata": {
    "colab": {
     "base_uri": "https://localhost:8080/"
    },
    "id": "5xLMcbvtAzNN",
    "outputId": "de8ecbae-41ee-4f03-cc0d-358e1eb293d7"
   },
   "outputs": [
    {
     "data": {
      "text/plain": [
       "array(['F', 'E', 'D', 'B', 'A', 'C'], dtype=object)"
      ]
     },
     "execution_count": 24,
     "metadata": {},
     "output_type": "execute_result"
    }
   ],
   "source": [
    "pd.unique(df_train['Ward_Facility_Code'])"
   ]
  },
  {
   "cell_type": "markdown",
   "id": "eVn7-Mp4UQGF",
   "metadata": {
    "id": "eVn7-Mp4UQGF"
   },
   "source": [
    "**Change in target variable('Stay') is only for Train Dataset**"
   ]
  },
  {
   "cell_type": "code",
   "execution_count": 25,
   "id": "hIUR74o4FcEY",
   "metadata": {
    "colab": {
     "base_uri": "https://localhost:8080/"
    },
    "id": "hIUR74o4FcEY",
    "outputId": "ebd9efb0-cd07-4346-a2da-f4d15aa60fbd"
   },
   "outputs": [
    {
     "data": {
      "text/plain": [
       "array(['0-10', '41-50', '31-40', '11-20', '51-60', '21-30', '71-80',\n",
       "       'More than 100 Days', '81-90', '61-70', '91-100'], dtype=object)"
      ]
     },
     "execution_count": 25,
     "metadata": {},
     "output_type": "execute_result"
    }
   ],
   "source": [
    "pd.unique(df_train['Stay'])"
   ]
  },
  {
   "cell_type": "code",
   "execution_count": 26,
   "id": "vGqZpXOA-S60",
   "metadata": {
    "id": "vGqZpXOA-S60"
   },
   "outputs": [],
   "source": [
    "stay_dict = {'0-10': 1, '11-20': 1, '21-30': 1, '31-40': 1, '41-50': 2,\n",
    "             '51-60': 2, '61-70': 2, '71-80': 3, '81-90': 3, '91-100': 3, 'More than 100 Days': 3}\n",
    "df_train['Stay'] = df_train['Stay'].replace(stay_dict.keys(),stay_dict.values())"
   ]
  },
  {
   "cell_type": "code",
   "execution_count": 27,
   "id": "Dtt5Zdc5-gBS",
   "metadata": {
    "colab": {
     "base_uri": "https://localhost:8080/",
     "height": 365
    },
    "id": "Dtt5Zdc5-gBS",
    "outputId": "3cdeab51-6e41-437c-b96a-75164f9e4fed"
   },
   "outputs": [
    {
     "data": {
      "text/html": [
       "<div>\n",
       "<style scoped>\n",
       "    .dataframe tbody tr th:only-of-type {\n",
       "        vertical-align: middle;\n",
       "    }\n",
       "\n",
       "    .dataframe tbody tr th {\n",
       "        vertical-align: top;\n",
       "    }\n",
       "\n",
       "    .dataframe thead th {\n",
       "        text-align: right;\n",
       "    }\n",
       "</style>\n",
       "<table border=\"1\" class=\"dataframe\">\n",
       "  <thead>\n",
       "    <tr style=\"text-align: right;\">\n",
       "      <th></th>\n",
       "      <th>case_id</th>\n",
       "      <th>Hospital_code</th>\n",
       "      <th>Hospital_type_code</th>\n",
       "      <th>City_Code_Hospital</th>\n",
       "      <th>Hospital_region_code</th>\n",
       "      <th>Available_Extra_Rooms_in_Hospital</th>\n",
       "      <th>Department</th>\n",
       "      <th>Ward_Type</th>\n",
       "      <th>Ward_Facility_Code</th>\n",
       "      <th>Bed_Grade</th>\n",
       "      <th>...</th>\n",
       "      <th>ToA_Urgent</th>\n",
       "      <th>Age_Range</th>\n",
       "      <th>AR_31-60</th>\n",
       "      <th>AR_over_60</th>\n",
       "      <th>HRC_Y</th>\n",
       "      <th>HRC_Z</th>\n",
       "      <th>Dep_anesthesia</th>\n",
       "      <th>Dep_gynecology</th>\n",
       "      <th>Dep_radiotherapy</th>\n",
       "      <th>Dep_surgery</th>\n",
       "    </tr>\n",
       "  </thead>\n",
       "  <tbody>\n",
       "    <tr>\n",
       "      <th>0</th>\n",
       "      <td>1</td>\n",
       "      <td>8</td>\n",
       "      <td>c</td>\n",
       "      <td>3</td>\n",
       "      <td>Z</td>\n",
       "      <td>3</td>\n",
       "      <td>radiotherapy</td>\n",
       "      <td>R</td>\n",
       "      <td>F</td>\n",
       "      <td>2.0</td>\n",
       "      <td>...</td>\n",
       "      <td>0</td>\n",
       "      <td>31-60</td>\n",
       "      <td>1</td>\n",
       "      <td>0</td>\n",
       "      <td>0</td>\n",
       "      <td>1</td>\n",
       "      <td>0</td>\n",
       "      <td>0</td>\n",
       "      <td>1</td>\n",
       "      <td>0</td>\n",
       "    </tr>\n",
       "    <tr>\n",
       "      <th>1</th>\n",
       "      <td>2</td>\n",
       "      <td>2</td>\n",
       "      <td>c</td>\n",
       "      <td>5</td>\n",
       "      <td>Z</td>\n",
       "      <td>2</td>\n",
       "      <td>radiotherapy</td>\n",
       "      <td>S</td>\n",
       "      <td>F</td>\n",
       "      <td>2.0</td>\n",
       "      <td>...</td>\n",
       "      <td>0</td>\n",
       "      <td>31-60</td>\n",
       "      <td>1</td>\n",
       "      <td>0</td>\n",
       "      <td>0</td>\n",
       "      <td>1</td>\n",
       "      <td>0</td>\n",
       "      <td>0</td>\n",
       "      <td>1</td>\n",
       "      <td>0</td>\n",
       "    </tr>\n",
       "    <tr>\n",
       "      <th>2</th>\n",
       "      <td>3</td>\n",
       "      <td>10</td>\n",
       "      <td>e</td>\n",
       "      <td>1</td>\n",
       "      <td>X</td>\n",
       "      <td>2</td>\n",
       "      <td>anesthesia</td>\n",
       "      <td>S</td>\n",
       "      <td>E</td>\n",
       "      <td>2.0</td>\n",
       "      <td>...</td>\n",
       "      <td>0</td>\n",
       "      <td>31-60</td>\n",
       "      <td>1</td>\n",
       "      <td>0</td>\n",
       "      <td>0</td>\n",
       "      <td>0</td>\n",
       "      <td>1</td>\n",
       "      <td>0</td>\n",
       "      <td>0</td>\n",
       "      <td>0</td>\n",
       "    </tr>\n",
       "    <tr>\n",
       "      <th>3</th>\n",
       "      <td>4</td>\n",
       "      <td>26</td>\n",
       "      <td>b</td>\n",
       "      <td>2</td>\n",
       "      <td>Y</td>\n",
       "      <td>2</td>\n",
       "      <td>radiotherapy</td>\n",
       "      <td>R</td>\n",
       "      <td>D</td>\n",
       "      <td>2.0</td>\n",
       "      <td>...</td>\n",
       "      <td>0</td>\n",
       "      <td>31-60</td>\n",
       "      <td>1</td>\n",
       "      <td>0</td>\n",
       "      <td>1</td>\n",
       "      <td>0</td>\n",
       "      <td>0</td>\n",
       "      <td>0</td>\n",
       "      <td>1</td>\n",
       "      <td>0</td>\n",
       "    </tr>\n",
       "    <tr>\n",
       "      <th>4</th>\n",
       "      <td>5</td>\n",
       "      <td>26</td>\n",
       "      <td>b</td>\n",
       "      <td>2</td>\n",
       "      <td>Y</td>\n",
       "      <td>2</td>\n",
       "      <td>radiotherapy</td>\n",
       "      <td>S</td>\n",
       "      <td>D</td>\n",
       "      <td>2.0</td>\n",
       "      <td>...</td>\n",
       "      <td>0</td>\n",
       "      <td>31-60</td>\n",
       "      <td>1</td>\n",
       "      <td>0</td>\n",
       "      <td>1</td>\n",
       "      <td>0</td>\n",
       "      <td>0</td>\n",
       "      <td>0</td>\n",
       "      <td>1</td>\n",
       "      <td>0</td>\n",
       "    </tr>\n",
       "  </tbody>\n",
       "</table>\n",
       "<p>5 rows × 29 columns</p>\n",
       "</div>"
      ],
      "text/plain": [
       "   case_id  Hospital_code Hospital_type_code  City_Code_Hospital  \\\n",
       "0        1              8                  c                   3   \n",
       "1        2              2                  c                   5   \n",
       "2        3             10                  e                   1   \n",
       "3        4             26                  b                   2   \n",
       "4        5             26                  b                   2   \n",
       "\n",
       "  Hospital_region_code  Available_Extra_Rooms_in_Hospital    Department  \\\n",
       "0                    Z                                  3  radiotherapy   \n",
       "1                    Z                                  2  radiotherapy   \n",
       "2                    X                                  2    anesthesia   \n",
       "3                    Y                                  2  radiotherapy   \n",
       "4                    Y                                  2  radiotherapy   \n",
       "\n",
       "  Ward_Type Ward_Facility_Code  Bed_Grade  ...  ToA_Urgent  Age_Range  \\\n",
       "0         R                  F        2.0  ...           0      31-60   \n",
       "1         S                  F        2.0  ...           0      31-60   \n",
       "2         S                  E        2.0  ...           0      31-60   \n",
       "3         R                  D        2.0  ...           0      31-60   \n",
       "4         S                  D        2.0  ...           0      31-60   \n",
       "\n",
       "  AR_31-60 AR_over_60  HRC_Y HRC_Z  Dep_anesthesia  Dep_gynecology  \\\n",
       "0        1          0      0     1               0               0   \n",
       "1        1          0      0     1               0               0   \n",
       "2        1          0      0     0               1               0   \n",
       "3        1          0      1     0               0               0   \n",
       "4        1          0      1     0               0               0   \n",
       "\n",
       "   Dep_radiotherapy  Dep_surgery  \n",
       "0                 1            0  \n",
       "1                 1            0  \n",
       "2                 0            0  \n",
       "3                 1            0  \n",
       "4                 1            0  \n",
       "\n",
       "[5 rows x 29 columns]"
      ]
     },
     "execution_count": 27,
     "metadata": {},
     "output_type": "execute_result"
    }
   ],
   "source": [
    "df_train.head()"
   ]
  },
  {
   "cell_type": "markdown",
   "id": "Ahq84dUTz-_q",
   "metadata": {
    "id": "Ahq84dUTz-_q"
   },
   "source": [
    "Dropping irrelevant columns\n"
   ]
  },
  {
   "cell_type": "code",
   "execution_count": 28,
   "id": "_zjAr4OiyRdz",
   "metadata": {
    "colab": {
     "base_uri": "https://localhost:8080/",
     "height": 278
    },
    "id": "_zjAr4OiyRdz",
    "outputId": "50e4b426-abde-4132-cb6e-8c56c771647f"
   },
   "outputs": [
    {
     "name": "stdout",
     "output_type": "stream",
     "text": [
      "['Hospital_code', 'City_Code_Hospital', 'Available_Extra_Rooms_in_Hospital', 'Bed_Grade', 'City_Code_Patient', 'Severity_of_Illness', 'Visitors_with_Patient', 'Admission_Deposit', 'ToA_Trauma', 'ToA_Urgent', 'AR_31-60', 'AR_over_60', 'HRC_Y', 'HRC_Z', 'Dep_anesthesia', 'Dep_gynecology', 'Dep_radiotherapy', 'Dep_surgery']\n"
     ]
    }
   ],
   "source": [
    "#dropping variables from train and test dataset\n",
    "df_train_var=df_train.drop(axis=1,columns=['Ward_Facility_Code','Hospital_type_code','Ward_Type','case_id','patientid','Age',\n",
    "                                           'Ward_Type','Age_Range','Type_of_Admission','Hospital_region_code','Hospital_type_code',\n",
    "                                           'Department','Ward_Type','Ward_Facility_Code'])\n",
    "\n",
    "df_test_var=df_test.drop(axis=1,columns=['Ward_Facility_Code','Hospital_type_code','Ward_Type','case_id','patientid','Age',\n",
    "                                         'Ward_Type','Age_Range','Type_of_Admission','Hospital_region_code','Hospital_type_code',\n",
    "                                         'Department','Ward_Type','Ward_Facility_Code'])\n",
    "                                                       \n",
    "# Check what columns are left\n",
    "print(df_test_var.columns.values.tolist())\n"
   ]
  },
  {
   "cell_type": "markdown",
   "id": "8ZV-_7T3DIxg",
   "metadata": {
    "id": "8ZV-_7T3DIxg"
   },
   "source": [
    "Final Dataset for checking variable correlation"
   ]
  },
  {
   "cell_type": "code",
   "execution_count": 29,
   "id": "E2L_C_DYIWLZ",
   "metadata": {
    "colab": {
     "base_uri": "https://localhost:8080/",
     "height": 278
    },
    "id": "E2L_C_DYIWLZ",
    "outputId": "2de6e344-2a6c-4819-aae8-ff4557e6dfb1"
   },
   "outputs": [
    {
     "data": {
      "text/html": [
       "<div>\n",
       "<style scoped>\n",
       "    .dataframe tbody tr th:only-of-type {\n",
       "        vertical-align: middle;\n",
       "    }\n",
       "\n",
       "    .dataframe tbody tr th {\n",
       "        vertical-align: top;\n",
       "    }\n",
       "\n",
       "    .dataframe thead th {\n",
       "        text-align: right;\n",
       "    }\n",
       "</style>\n",
       "<table border=\"1\" class=\"dataframe\">\n",
       "  <thead>\n",
       "    <tr style=\"text-align: right;\">\n",
       "      <th></th>\n",
       "      <th>Hospital_code</th>\n",
       "      <th>City_Code_Hospital</th>\n",
       "      <th>Available_Extra_Rooms_in_Hospital</th>\n",
       "      <th>Bed_Grade</th>\n",
       "      <th>City_Code_Patient</th>\n",
       "      <th>Severity_of_Illness</th>\n",
       "      <th>Visitors_with_Patient</th>\n",
       "      <th>Admission_Deposit</th>\n",
       "      <th>ToA_Trauma</th>\n",
       "      <th>ToA_Urgent</th>\n",
       "      <th>AR_31-60</th>\n",
       "      <th>AR_over_60</th>\n",
       "      <th>HRC_Y</th>\n",
       "      <th>HRC_Z</th>\n",
       "      <th>Dep_anesthesia</th>\n",
       "      <th>Dep_gynecology</th>\n",
       "      <th>Dep_radiotherapy</th>\n",
       "      <th>Dep_surgery</th>\n",
       "    </tr>\n",
       "  </thead>\n",
       "  <tbody>\n",
       "    <tr>\n",
       "      <th>0</th>\n",
       "      <td>21</td>\n",
       "      <td>3</td>\n",
       "      <td>3</td>\n",
       "      <td>2.0</td>\n",
       "      <td>2.0</td>\n",
       "      <td>1</td>\n",
       "      <td>2</td>\n",
       "      <td>3095.0</td>\n",
       "      <td>0</td>\n",
       "      <td>0</td>\n",
       "      <td>0</td>\n",
       "      <td>1</td>\n",
       "      <td>0</td>\n",
       "      <td>1</td>\n",
       "      <td>0</td>\n",
       "      <td>1</td>\n",
       "      <td>0</td>\n",
       "      <td>0</td>\n",
       "    </tr>\n",
       "    <tr>\n",
       "      <th>1</th>\n",
       "      <td>29</td>\n",
       "      <td>4</td>\n",
       "      <td>2</td>\n",
       "      <td>2.0</td>\n",
       "      <td>2.0</td>\n",
       "      <td>1</td>\n",
       "      <td>4</td>\n",
       "      <td>4018.0</td>\n",
       "      <td>1</td>\n",
       "      <td>0</td>\n",
       "      <td>0</td>\n",
       "      <td>1</td>\n",
       "      <td>0</td>\n",
       "      <td>0</td>\n",
       "      <td>0</td>\n",
       "      <td>1</td>\n",
       "      <td>0</td>\n",
       "      <td>0</td>\n",
       "    </tr>\n",
       "    <tr>\n",
       "      <th>2</th>\n",
       "      <td>26</td>\n",
       "      <td>2</td>\n",
       "      <td>3</td>\n",
       "      <td>4.0</td>\n",
       "      <td>2.0</td>\n",
       "      <td>1</td>\n",
       "      <td>3</td>\n",
       "      <td>4492.0</td>\n",
       "      <td>0</td>\n",
       "      <td>0</td>\n",
       "      <td>0</td>\n",
       "      <td>1</td>\n",
       "      <td>1</td>\n",
       "      <td>0</td>\n",
       "      <td>0</td>\n",
       "      <td>1</td>\n",
       "      <td>0</td>\n",
       "      <td>0</td>\n",
       "    </tr>\n",
       "    <tr>\n",
       "      <th>3</th>\n",
       "      <td>6</td>\n",
       "      <td>6</td>\n",
       "      <td>3</td>\n",
       "      <td>2.0</td>\n",
       "      <td>2.0</td>\n",
       "      <td>1</td>\n",
       "      <td>3</td>\n",
       "      <td>4173.0</td>\n",
       "      <td>1</td>\n",
       "      <td>0</td>\n",
       "      <td>0</td>\n",
       "      <td>1</td>\n",
       "      <td>0</td>\n",
       "      <td>0</td>\n",
       "      <td>0</td>\n",
       "      <td>1</td>\n",
       "      <td>0</td>\n",
       "      <td>0</td>\n",
       "    </tr>\n",
       "    <tr>\n",
       "      <th>4</th>\n",
       "      <td>28</td>\n",
       "      <td>11</td>\n",
       "      <td>2</td>\n",
       "      <td>2.0</td>\n",
       "      <td>2.0</td>\n",
       "      <td>1</td>\n",
       "      <td>4</td>\n",
       "      <td>4161.0</td>\n",
       "      <td>1</td>\n",
       "      <td>0</td>\n",
       "      <td>0</td>\n",
       "      <td>1</td>\n",
       "      <td>0</td>\n",
       "      <td>0</td>\n",
       "      <td>0</td>\n",
       "      <td>1</td>\n",
       "      <td>0</td>\n",
       "      <td>0</td>\n",
       "    </tr>\n",
       "  </tbody>\n",
       "</table>\n",
       "</div>"
      ],
      "text/plain": [
       "   Hospital_code  City_Code_Hospital  Available_Extra_Rooms_in_Hospital  \\\n",
       "0             21                   3                                  3   \n",
       "1             29                   4                                  2   \n",
       "2             26                   2                                  3   \n",
       "3              6                   6                                  3   \n",
       "4             28                  11                                  2   \n",
       "\n",
       "   Bed_Grade  City_Code_Patient Severity_of_Illness  Visitors_with_Patient  \\\n",
       "0        2.0                2.0                   1                      2   \n",
       "1        2.0                2.0                   1                      4   \n",
       "2        4.0                2.0                   1                      3   \n",
       "3        2.0                2.0                   1                      3   \n",
       "4        2.0                2.0                   1                      4   \n",
       "\n",
       "   Admission_Deposit  ToA_Trauma  ToA_Urgent  AR_31-60  AR_over_60  HRC_Y  \\\n",
       "0             3095.0           0           0         0           1      0   \n",
       "1             4018.0           1           0         0           1      0   \n",
       "2             4492.0           0           0         0           1      1   \n",
       "3             4173.0           1           0         0           1      0   \n",
       "4             4161.0           1           0         0           1      0   \n",
       "\n",
       "   HRC_Z  Dep_anesthesia  Dep_gynecology  Dep_radiotherapy  Dep_surgery  \n",
       "0      1               0               1                 0            0  \n",
       "1      0               0               1                 0            0  \n",
       "2      0               0               1                 0            0  \n",
       "3      0               0               1                 0            0  \n",
       "4      0               0               1                 0            0  "
      ]
     },
     "execution_count": 29,
     "metadata": {},
     "output_type": "execute_result"
    }
   ],
   "source": [
    "df_train=df_train_var\n",
    "df_test=df_test_var\n",
    "df_test.head()"
   ]
  },
  {
   "cell_type": "markdown",
   "id": "qVMJF8nBJDaV",
   "metadata": {
    "id": "qVMJF8nBJDaV"
   },
   "source": [
    "### Selecting Variable Correlation based on pearsons coefficient heatmap"
   ]
  },
  {
   "cell_type": "code",
   "execution_count": 36,
   "id": "XJtgeAtNJDAf",
   "metadata": {
    "colab": {
     "base_uri": "https://localhost:8080/",
     "height": 753
    },
    "id": "XJtgeAtNJDAf",
    "outputId": "66b48f5f-02fc-41b8-8d68-a134c6a607ae"
   },
   "outputs": [
    {
     "data": {
      "image/png": "[encoded data removed]",
      "text/plain": [
       "<Figure size 1080x720 with 2 Axes>"
      ]
     },
     "metadata": {
      "needs_background": "light"
     },
     "output_type": "display_data"
    }
   ],
   "source": [
    "#Using Pearson Correlation\n",
    "plt.figure(figsize=(15,10))\n",
    "cor = df_train.corr()\n",
    "sns.heatmap(cor, annot=True, cmap=plt.cm.Reds)\n",
    "plt.show()"
   ]
  },
  {
   "cell_type": "markdown",
   "id": "LCVt5HMkLEdr",
   "metadata": {
    "id": "LCVt5HMkLEdr"
   },
   "source": [
    "**Above heatmap displays a picture of the impact of variables on the target variable \"Stay\"**.    \n",
    "**Vistors_with_Patient** is the most significant feature in our data."
   ]
  },
  {
   "cell_type": "code",
   "execution_count": 43,
   "id": "s2Zp4yz6KSAF",
   "metadata": {
    "colab": {
     "base_uri": "https://localhost:8080/"
    },
    "id": "s2Zp4yz6KSAF",
    "outputId": "4e455958-67ae-4f97-ef9a-b21e8d35221e"
   },
   "outputs": [
    {
     "data": {
      "text/plain": [
       "Stay                                 1.000000\n",
       "Visitors_with_Patient                0.497877\n",
       "Available_Extra_Rooms_in_Hospital    0.117671\n",
       "Admission_Deposit                    0.071185\n",
       "AR_over_60                           0.058358\n",
       "ToA_Trauma                           0.049531\n",
       "Hospital_code                        0.039905\n",
       "ToA_Urgent                           0.036015\n",
       "Dep_anesthesia                       0.034424\n",
       "Bed_Grade                            0.030108\n",
       "Dep_radiotherapy                     0.020286\n",
       "Name: Stay, dtype: float64"
      ]
     },
     "execution_count": 43,
     "metadata": {},
     "output_type": "execute_result"
    }
   ],
   "source": [
    "#Correlation with output variable\n",
    "cor_target = abs(cor[\"Stay\"])\n",
    "# used absolute values to select variables that have positive and negative impact\n",
    "#Selecting highly correlated features\n",
    "relevant_features = cor_target[cor_target>0.02] # threshold for variable selection =0.02\n",
    "relevant_features.sort_values(ascending=False)\n"
   ]
  },
  {
   "cell_type": "markdown",
   "id": "beHOPjcXWaiu",
   "metadata": {
    "id": "beHOPjcXWaiu"
   },
   "source": [
    "**Above list of variables are selected for the building the model based on the pearson r value >0.02**"
   ]
  },
  {
   "cell_type": "code",
   "execution_count": 293,
   "id": "V8uHFyq7S_r4",
   "metadata": {
    "colab": {
     "base_uri": "https://localhost:8080/",
     "height": 224
    },
    "id": "V8uHFyq7S_r4",
    "outputId": "01db15b3-19f6-4e00-ccfe-018a1fc877b1"
   },
   "outputs": [
    {
     "data": {
      "text/html": [
       "<div>\n",
       "<style scoped>\n",
       "    .dataframe tbody tr th:only-of-type {\n",
       "        vertical-align: middle;\n",
       "    }\n",
       "\n",
       "    .dataframe tbody tr th {\n",
       "        vertical-align: top;\n",
       "    }\n",
       "\n",
       "    .dataframe thead th {\n",
       "        text-align: right;\n",
       "    }\n",
       "</style>\n",
       "<table border=\"1\" class=\"dataframe\">\n",
       "  <thead>\n",
       "    <tr style=\"text-align: right;\">\n",
       "      <th></th>\n",
       "      <th>Visitors_with_Patient</th>\n",
       "      <th>Available_Extra_Rooms_in_Hospital</th>\n",
       "      <th>Admission_Deposit</th>\n",
       "      <th>AR_over_60</th>\n",
       "      <th>ToA_Trauma</th>\n",
       "      <th>Hospital_code</th>\n",
       "      <th>ToA_Urgent</th>\n",
       "      <th>Dep_anesthesia</th>\n",
       "      <th>Bed_Grade</th>\n",
       "      <th>Dep_radiotherapy</th>\n",
       "      <th>Stay</th>\n",
       "    </tr>\n",
       "  </thead>\n",
       "  <tbody>\n",
       "    <tr>\n",
       "      <th>0</th>\n",
       "      <td>2</td>\n",
       "      <td>3</td>\n",
       "      <td>4911.0</td>\n",
       "      <td>0</td>\n",
       "      <td>0</td>\n",
       "      <td>8</td>\n",
       "      <td>0</td>\n",
       "      <td>0</td>\n",
       "      <td>2.0</td>\n",
       "      <td>1</td>\n",
       "      <td>1</td>\n",
       "    </tr>\n",
       "    <tr>\n",
       "      <th>1</th>\n",
       "      <td>2</td>\n",
       "      <td>2</td>\n",
       "      <td>5954.0</td>\n",
       "      <td>0</td>\n",
       "      <td>1</td>\n",
       "      <td>2</td>\n",
       "      <td>0</td>\n",
       "      <td>0</td>\n",
       "      <td>2.0</td>\n",
       "      <td>1</td>\n",
       "      <td>2</td>\n",
       "    </tr>\n",
       "    <tr>\n",
       "      <th>2</th>\n",
       "      <td>2</td>\n",
       "      <td>2</td>\n",
       "      <td>4745.0</td>\n",
       "      <td>0</td>\n",
       "      <td>1</td>\n",
       "      <td>10</td>\n",
       "      <td>0</td>\n",
       "      <td>1</td>\n",
       "      <td>2.0</td>\n",
       "      <td>0</td>\n",
       "      <td>1</td>\n",
       "    </tr>\n",
       "    <tr>\n",
       "      <th>3</th>\n",
       "      <td>2</td>\n",
       "      <td>2</td>\n",
       "      <td>7272.0</td>\n",
       "      <td>0</td>\n",
       "      <td>1</td>\n",
       "      <td>26</td>\n",
       "      <td>0</td>\n",
       "      <td>0</td>\n",
       "      <td>2.0</td>\n",
       "      <td>1</td>\n",
       "      <td>2</td>\n",
       "    </tr>\n",
       "    <tr>\n",
       "      <th>4</th>\n",
       "      <td>2</td>\n",
       "      <td>2</td>\n",
       "      <td>5558.0</td>\n",
       "      <td>0</td>\n",
       "      <td>1</td>\n",
       "      <td>26</td>\n",
       "      <td>0</td>\n",
       "      <td>0</td>\n",
       "      <td>2.0</td>\n",
       "      <td>1</td>\n",
       "      <td>2</td>\n",
       "    </tr>\n",
       "  </tbody>\n",
       "</table>\n",
       "</div>"
      ],
      "text/plain": [
       "   Visitors_with_Patient  Available_Extra_Rooms_in_Hospital  \\\n",
       "0                      2                                  3   \n",
       "1                      2                                  2   \n",
       "2                      2                                  2   \n",
       "3                      2                                  2   \n",
       "4                      2                                  2   \n",
       "\n",
       "   Admission_Deposit  AR_over_60  ToA_Trauma  Hospital_code  ToA_Urgent  \\\n",
       "0             4911.0           0           0              8           0   \n",
       "1             5954.0           0           1              2           0   \n",
       "2             4745.0           0           1             10           0   \n",
       "3             7272.0           0           1             26           0   \n",
       "4             5558.0           0           1             26           0   \n",
       "\n",
       "   Dep_anesthesia  Bed_Grade  Dep_radiotherapy  Stay  \n",
       "0               0        2.0                 1     1  \n",
       "1               0        2.0                 1     2  \n",
       "2               1        2.0                 0     1  \n",
       "3               0        2.0                 1     2  \n",
       "4               0        2.0                 1     2  "
      ]
     },
     "execution_count": 293,
     "metadata": {},
     "output_type": "execute_result"
    }
   ],
   "source": [
    "df_train_final=df_train[['Visitors_with_Patient','Available_Extra_Rooms_in_Hospital','Admission_Deposit',\n",
    "                         'AR_over_60','ToA_Trauma','Hospital_code','ToA_Urgent', 'Dep_anesthesia',\n",
    "                         'Bed_Grade','Dep_radiotherapy','Stay']]\n",
    "df_train_final.head(5)\n"
   ]
  },
  {
   "cell_type": "code",
   "execution_count": 297,
   "id": "sU8XgaHQWlq9",
   "metadata": {
    "colab": {
     "base_uri": "https://localhost:8080/",
     "height": 224
    },
    "id": "sU8XgaHQWlq9",
    "outputId": "f8807df4-aa64-481f-b0d9-0e18ee41fadf"
   },
   "outputs": [
    {
     "data": {
      "text/html": [
       "<div>\n",
       "<style scoped>\n",
       "    .dataframe tbody tr th:only-of-type {\n",
       "        vertical-align: middle;\n",
       "    }\n",
       "\n",
       "    .dataframe tbody tr th {\n",
       "        vertical-align: top;\n",
       "    }\n",
       "\n",
       "    .dataframe thead th {\n",
       "        text-align: right;\n",
       "    }\n",
       "</style>\n",
       "<table border=\"1\" class=\"dataframe\">\n",
       "  <thead>\n",
       "    <tr style=\"text-align: right;\">\n",
       "      <th></th>\n",
       "      <th>Visitors_with_Patient</th>\n",
       "      <th>Available_Extra_Rooms_in_Hospital</th>\n",
       "      <th>Admission_Deposit</th>\n",
       "      <th>AR_over_60</th>\n",
       "      <th>ToA_Trauma</th>\n",
       "      <th>Hospital_code</th>\n",
       "      <th>ToA_Urgent</th>\n",
       "      <th>Dep_anesthesia</th>\n",
       "      <th>Bed_Grade</th>\n",
       "      <th>Dep_radiotherapy</th>\n",
       "    </tr>\n",
       "  </thead>\n",
       "  <tbody>\n",
       "    <tr>\n",
       "      <th>0</th>\n",
       "      <td>2</td>\n",
       "      <td>3</td>\n",
       "      <td>3095.0</td>\n",
       "      <td>1</td>\n",
       "      <td>0</td>\n",
       "      <td>21</td>\n",
       "      <td>0</td>\n",
       "      <td>0</td>\n",
       "      <td>2.0</td>\n",
       "      <td>0</td>\n",
       "    </tr>\n",
       "    <tr>\n",
       "      <th>1</th>\n",
       "      <td>4</td>\n",
       "      <td>2</td>\n",
       "      <td>4018.0</td>\n",
       "      <td>1</td>\n",
       "      <td>1</td>\n",
       "      <td>29</td>\n",
       "      <td>0</td>\n",
       "      <td>0</td>\n",
       "      <td>2.0</td>\n",
       "      <td>0</td>\n",
       "    </tr>\n",
       "    <tr>\n",
       "      <th>2</th>\n",
       "      <td>3</td>\n",
       "      <td>3</td>\n",
       "      <td>4492.0</td>\n",
       "      <td>1</td>\n",
       "      <td>0</td>\n",
       "      <td>26</td>\n",
       "      <td>0</td>\n",
       "      <td>0</td>\n",
       "      <td>4.0</td>\n",
       "      <td>0</td>\n",
       "    </tr>\n",
       "    <tr>\n",
       "      <th>3</th>\n",
       "      <td>3</td>\n",
       "      <td>3</td>\n",
       "      <td>4173.0</td>\n",
       "      <td>1</td>\n",
       "      <td>1</td>\n",
       "      <td>6</td>\n",
       "      <td>0</td>\n",
       "      <td>0</td>\n",
       "      <td>2.0</td>\n",
       "      <td>0</td>\n",
       "    </tr>\n",
       "    <tr>\n",
       "      <th>4</th>\n",
       "      <td>4</td>\n",
       "      <td>2</td>\n",
       "      <td>4161.0</td>\n",
       "      <td>1</td>\n",
       "      <td>1</td>\n",
       "      <td>28</td>\n",
       "      <td>0</td>\n",
       "      <td>0</td>\n",
       "      <td>2.0</td>\n",
       "      <td>0</td>\n",
       "    </tr>\n",
       "  </tbody>\n",
       "</table>\n",
       "</div>"
      ],
      "text/plain": [
       "   Visitors_with_Patient  Available_Extra_Rooms_in_Hospital  \\\n",
       "0                      2                                  3   \n",
       "1                      4                                  2   \n",
       "2                      3                                  3   \n",
       "3                      3                                  3   \n",
       "4                      4                                  2   \n",
       "\n",
       "   Admission_Deposit  AR_over_60  ToA_Trauma  Hospital_code  ToA_Urgent  \\\n",
       "0             3095.0           1           0             21           0   \n",
       "1             4018.0           1           1             29           0   \n",
       "2             4492.0           1           0             26           0   \n",
       "3             4173.0           1           1              6           0   \n",
       "4             4161.0           1           1             28           0   \n",
       "\n",
       "   Dep_anesthesia  Bed_Grade  Dep_radiotherapy  \n",
       "0               0        2.0                 0  \n",
       "1               0        2.0                 0  \n",
       "2               0        4.0                 0  \n",
       "3               0        2.0                 0  \n",
       "4               0        2.0                 0  "
      ]
     },
     "execution_count": 297,
     "metadata": {},
     "output_type": "execute_result"
    }
   ],
   "source": [
    "df_test_final=df_test[['Visitors_with_Patient','Available_Extra_Rooms_in_Hospital','Admission_Deposit',\n",
    "                         'AR_over_60','ToA_Trauma','Hospital_code','ToA_Urgent', 'Dep_anesthesia',\n",
    "                         'Bed_Grade','Dep_radiotherapy']]\n",
    "df_test_final.head()"
   ]
  },
  {
   "cell_type": "markdown",
   "id": "6avDNTHFE8U0",
   "metadata": {
    "id": "6avDNTHFE8U0"
   },
   "source": [
    "# Splitting the dataset"
   ]
  },
  {
   "cell_type": "code",
   "execution_count": 298,
   "id": "ZuXs3W-6YK9D",
   "metadata": {
    "id": "ZuXs3W-6YK9D"
   },
   "outputs": [],
   "source": [
    "#Here we split the training dataset into training and validation\n",
    "y=df_train_final.iloc[:,-1] #target variable values\n",
    "x=df_train_final.iloc[:,:-1] #dependent variable\n",
    "\n",
    "\n",
    "xtrain,xtest,ytrain,ytest=train_test_split(x,y,test_size=0.3,random_state=0)"
   ]
  },
  {
   "cell_type": "code",
   "execution_count": 299,
   "id": "a2e509bf",
   "metadata": {
    "colab": {
     "base_uri": "https://localhost:8080/"
    },
    "id": "a2e509bf",
    "outputId": "b5c50bfa-9fc9-45e4-a291-dd7c9b293544"
   },
   "outputs": [
    {
     "data": {
      "text/plain": [
       "array([1, 2, 3], dtype=int64)"
      ]
     },
     "execution_count": 299,
     "metadata": {},
     "output_type": "execute_result"
    }
   ],
   "source": [
    "y.unique()"
   ]
  },
  {
   "cell_type": "code",
   "execution_count": 300,
   "id": "d932b9e4",
   "metadata": {
    "colab": {
     "base_uri": "https://localhost:8080/"
    },
    "id": "d932b9e4",
    "outputId": "0243de0b-0d43-4f58-ad66-da603387a023"
   },
   "outputs": [
    {
     "data": {
      "text/plain": [
       "222906"
      ]
     },
     "execution_count": 300,
     "metadata": {},
     "output_type": "execute_result"
    }
   ],
   "source": [
    "len(xtrain)"
   ]
  },
  {
   "cell_type": "code",
   "execution_count": 301,
   "id": "b76e94aa",
   "metadata": {
    "colab": {
     "base_uri": "https://localhost:8080/"
    },
    "id": "b76e94aa",
    "outputId": "7562ad04-f7e7-4a3c-d0c9-e85d43d4d1fe"
   },
   "outputs": [
    {
     "data": {
      "text/plain": [
       "95532"
      ]
     },
     "execution_count": 301,
     "metadata": {},
     "output_type": "execute_result"
    }
   ],
   "source": [
    "len(xtest)"
   ]
  },
  {
   "cell_type": "code",
   "execution_count": 302,
   "id": "75aa0bc8",
   "metadata": {
    "colab": {
     "base_uri": "https://localhost:8080/"
    },
    "id": "75aa0bc8",
    "outputId": "6adacfaa-9285-40c7-cce0-fb372cc56570"
   },
   "outputs": [
    {
     "data": {
      "text/plain": [
       "222906"
      ]
     },
     "execution_count": 302,
     "metadata": {},
     "output_type": "execute_result"
    }
   ],
   "source": [
    "len(ytrain)"
   ]
  },
  {
   "cell_type": "code",
   "execution_count": 303,
   "id": "9ecae932",
   "metadata": {
    "colab": {
     "base_uri": "https://localhost:8080/"
    },
    "id": "9ecae932",
    "outputId": "b5240ac9-c8e7-4023-b845-f4fcb781015f"
   },
   "outputs": [
    {
     "data": {
      "text/plain": [
       "95532"
      ]
     },
     "execution_count": 303,
     "metadata": {},
     "output_type": "execute_result"
    }
   ],
   "source": [
    "len(ytest)"
   ]
  },
  {
   "cell_type": "markdown",
   "id": "17b2fe58",
   "metadata": {
    "id": "17b2fe58"
   },
   "source": [
    "### Renaming the df_test_final dataset to vdata. This is the data that we will be ultimately running our model on after training on the training and validation datasets."
   ]
  },
  {
   "cell_type": "code",
   "execution_count": 304,
   "id": "7f8b4444",
   "metadata": {
    "id": "7f8b4444"
   },
   "outputs": [],
   "source": [
    "vdata = df_test_final"
   ]
  },
  {
   "cell_type": "code",
   "execution_count": 305,
   "id": "e0f106f3",
   "metadata": {
    "colab": {
     "base_uri": "https://localhost:8080/"
    },
    "id": "e0f106f3",
    "outputId": "e224f254-0989-4971-bf4c-960a7bd49642"
   },
   "outputs": [
    {
     "name": "stdout",
     "output_type": "stream",
     "text": [
      "<class 'pandas.core.frame.DataFrame'>\n",
      "RangeIndex: 137057 entries, 0 to 137056\n",
      "Data columns (total 10 columns):\n",
      " #   Column                             Non-Null Count   Dtype  \n",
      "---  ------                             --------------   -----  \n",
      " 0   Visitors_with_Patient              137057 non-null  int64  \n",
      " 1   Available_Extra_Rooms_in_Hospital  137057 non-null  int64  \n",
      " 2   Admission_Deposit                  137057 non-null  float64\n",
      " 3   AR_over_60                         137057 non-null  uint8  \n",
      " 4   ToA_Trauma                         137057 non-null  uint8  \n",
      " 5   Hospital_code                      137057 non-null  int64  \n",
      " 6   ToA_Urgent                         137057 non-null  uint8  \n",
      " 7   Dep_anesthesia                     137057 non-null  uint8  \n",
      " 8   Bed_Grade                          137057 non-null  float64\n",
      " 9   Dep_radiotherapy                   137057 non-null  uint8  \n",
      "dtypes: float64(2), int64(3), uint8(5)\n",
      "memory usage: 5.9 MB\n"
     ]
    }
   ],
   "source": [
    "vdata.info()"
   ]
  },
  {
   "cell_type": "markdown",
   "id": "jRn8f8a5OEbd",
   "metadata": {
    "id": "jRn8f8a5OEbd"
   },
   "source": [
    "# Data Standardization"
   ]
  },
  {
   "cell_type": "code",
   "execution_count": 306,
   "id": "tih0hMDmPTmg",
   "metadata": {
    "id": "tih0hMDmPTmg"
   },
   "outputs": [],
   "source": [
    "\n",
    "sc= StandardScaler()\n",
    "xtrain=sc.fit_transform(xtrain)\n",
    "xtest=sc.transform(xtest)\n",
    "vdata=sc.transform(vdata)"
   ]
  },
  {
   "cell_type": "code",
   "execution_count": 307,
   "id": "885a162d",
   "metadata": {
    "colab": {
     "base_uri": "https://localhost:8080/"
    },
    "id": "885a162d",
    "outputId": "d8afb5b0-caff-45cb-b0ca-281e793221df"
   },
   "outputs": [
    {
     "data": {
      "text/plain": [
       "array([[ 0.40615064, -1.02610407,  1.5822383 , ..., -0.31962208,\n",
       "         1.57413046, -0.3134979 ],\n",
       "       [-0.72722419, -0.16923882, -0.7495927 , ..., -0.31962208,\n",
       "         0.42822943, -0.3134979 ],\n",
       "       [-0.72722419,  0.68762642,  3.05230567, ..., -0.31962208,\n",
       "         0.42822943, -0.3134979 ],\n",
       "       ...,\n",
       "       [ 0.97283806, -1.02610407,  1.76933779, ..., -0.31962208,\n",
       "        -0.71767161, -0.3134979 ],\n",
       "       [-0.72722419, -0.16923882,  0.52508014, ..., -0.31962208,\n",
       "        -0.71767161, -0.3134979 ],\n",
       "       [-0.72722419, -1.02610407,  0.68084276, ..., -0.31962208,\n",
       "        -1.86357264, -0.3134979 ]])"
      ]
     },
     "execution_count": 307,
     "metadata": {},
     "output_type": "execute_result"
    }
   ],
   "source": [
    "xtest"
   ]
  },
  {
   "cell_type": "markdown",
   "id": "qjaJ5chd5ZQs",
   "metadata": {
    "id": "qjaJ5chd5ZQs"
   },
   "source": [
    "## Data Modelling\n",
    "\n",
    "*Here we decided to utilize the models, Decision Tree, Random Forest, and Stochastic Gradient Descent. This is due to their popularity with classification problems and also the ability of decision tree and random forest models to provide visuals of their decision process which can be used for convincing stakeholders and helping them understand the logic behind model decisions.*"
   ]
  },
  {
   "cell_type": "markdown",
   "id": "08452b8a",
   "metadata": {
    "id": "08452b8a"
   },
   "source": [
    "### Decision Tree"
   ]
  },
  {
   "cell_type": "code",
   "execution_count": 308,
   "id": "26837ad0",
   "metadata": {
    "colab": {
     "base_uri": "https://localhost:8080/"
    },
    "id": "26837ad0",
    "outputId": "67b8afe0-5229-4a6c-b792-b82131dd199e"
   },
   "outputs": [
    {
     "name": "stdout",
     "output_type": "stream",
     "text": [
      "Accuracy on training set: 99.712\n",
      "Accuracy on test set: 70.300\n"
     ]
    }
   ],
   "source": [
    "#Decision Tree\n",
    "model_1 = DecisionTreeClassifier(random_state=5)\n",
    "model_1.fit(xtrain, ytrain)\n",
    "print(\"Accuracy on training set: {:.3f}\".format(model_1.score(xtrain, ytrain)*100))\n",
    "print(\"Accuracy on test set: {:.3f}\".format(model_1.score(xtest, ytest)*100))"
   ]
  },
  {
   "cell_type": "markdown",
   "id": "93d34e9a",
   "metadata": {},
   "source": [
    "### Hyperparameter Tuning via Grid Search"
   ]
  },
  {
   "cell_type": "code",
   "execution_count": 309,
   "id": "c60dcef0",
   "metadata": {},
   "outputs": [
    {
     "name": "stdout",
     "output_type": "stream",
     "text": [
      "Best parameters are: {'criterion': 'entropy', 'max_depth': 10, 'min_samples_split': 400, 'random_state': 0}\n",
      "\n",
      "\n",
      "0.778 + or -0.0 for the {'criterion': 'entropy', 'max_depth': 2, 'min_samples_split': 10, 'random_state': 0}\n",
      "0.778 + or -0.0 for the {'criterion': 'entropy', 'max_depth': 2, 'min_samples_split': 50, 'random_state': 0}\n",
      "0.778 + or -0.0 for the {'criterion': 'entropy', 'max_depth': 2, 'min_samples_split': 100, 'random_state': 0}\n",
      "0.778 + or -0.0 for the {'criterion': 'entropy', 'max_depth': 2, 'min_samples_split': 200, 'random_state': 0}\n",
      "0.778 + or -0.0 for the {'criterion': 'entropy', 'max_depth': 2, 'min_samples_split': 300, 'random_state': 0}\n",
      "0.778 + or -0.0 for the {'criterion': 'entropy', 'max_depth': 2, 'min_samples_split': 400, 'random_state': 0}\n",
      "0.785 + or -0.001 for the {'criterion': 'entropy', 'max_depth': 4, 'min_samples_split': 10, 'random_state': 0}\n",
      "0.785 + or -0.001 for the {'criterion': 'entropy', 'max_depth': 4, 'min_samples_split': 50, 'random_state': 0}\n",
      "0.785 + or -0.001 for the {'criterion': 'entropy', 'max_depth': 4, 'min_samples_split': 100, 'random_state': 0}\n",
      "0.785 + or -0.001 for the {'criterion': 'entropy', 'max_depth': 4, 'min_samples_split': 200, 'random_state': 0}\n",
      "0.785 + or -0.001 for the {'criterion': 'entropy', 'max_depth': 4, 'min_samples_split': 300, 'random_state': 0}\n",
      "0.785 + or -0.001 for the {'criterion': 'entropy', 'max_depth': 4, 'min_samples_split': 400, 'random_state': 0}\n",
      "0.792 + or -0.001 for the {'criterion': 'entropy', 'max_depth': 10, 'min_samples_split': 10, 'random_state': 0}\n",
      "0.792 + or -0.001 for the {'criterion': 'entropy', 'max_depth': 10, 'min_samples_split': 50, 'random_state': 0}\n",
      "0.793 + or -0.001 for the {'criterion': 'entropy', 'max_depth': 10, 'min_samples_split': 100, 'random_state': 0}\n",
      "0.793 + or -0.001 for the {'criterion': 'entropy', 'max_depth': 10, 'min_samples_split': 200, 'random_state': 0}\n",
      "0.793 + or -0.001 for the {'criterion': 'entropy', 'max_depth': 10, 'min_samples_split': 300, 'random_state': 0}\n",
      "0.793 + or -0.001 for the {'criterion': 'entropy', 'max_depth': 10, 'min_samples_split': 400, 'random_state': 0}\n",
      "0.779 + or -0.001 for the {'criterion': 'entropy', 'max_depth': 16, 'min_samples_split': 10, 'random_state': 0}\n",
      "0.787 + or -0.001 for the {'criterion': 'entropy', 'max_depth': 16, 'min_samples_split': 50, 'random_state': 0}\n",
      "0.79 + or -0.001 for the {'criterion': 'entropy', 'max_depth': 16, 'min_samples_split': 100, 'random_state': 0}\n",
      "0.791 + or -0.001 for the {'criterion': 'entropy', 'max_depth': 16, 'min_samples_split': 200, 'random_state': 0}\n",
      "0.792 + or -0.001 for the {'criterion': 'entropy', 'max_depth': 16, 'min_samples_split': 300, 'random_state': 0}\n",
      "0.793 + or -0.0 for the {'criterion': 'entropy', 'max_depth': 16, 'min_samples_split': 400, 'random_state': 0}\n",
      "0.742 + or -0.001 for the {'criterion': 'entropy', 'max_depth': 32, 'min_samples_split': 10, 'random_state': 0}\n",
      "0.778 + or -0.001 for the {'criterion': 'entropy', 'max_depth': 32, 'min_samples_split': 50, 'random_state': 0}\n",
      "0.786 + or -0.001 for the {'criterion': 'entropy', 'max_depth': 32, 'min_samples_split': 100, 'random_state': 0}\n",
      "0.79 + or -0.001 for the {'criterion': 'entropy', 'max_depth': 32, 'min_samples_split': 200, 'random_state': 0}\n",
      "0.792 + or -0.001 for the {'criterion': 'entropy', 'max_depth': 32, 'min_samples_split': 300, 'random_state': 0}\n",
      "0.792 + or -0.0 for the {'criterion': 'entropy', 'max_depth': 32, 'min_samples_split': 400, 'random_state': 0}\n",
      "0.74 + or -0.001 for the {'criterion': 'entropy', 'max_depth': None, 'min_samples_split': 10, 'random_state': 0}\n",
      "0.777 + or -0.001 for the {'criterion': 'entropy', 'max_depth': None, 'min_samples_split': 50, 'random_state': 0}\n",
      "0.786 + or -0.001 for the {'criterion': 'entropy', 'max_depth': None, 'min_samples_split': 100, 'random_state': 0}\n",
      "0.79 + or -0.001 for the {'criterion': 'entropy', 'max_depth': None, 'min_samples_split': 200, 'random_state': 0}\n",
      "0.792 + or -0.001 for the {'criterion': 'entropy', 'max_depth': None, 'min_samples_split': 300, 'random_state': 0}\n",
      "0.792 + or -0.0 for the {'criterion': 'entropy', 'max_depth': None, 'min_samples_split': 400, 'random_state': 0}\n"
     ]
    }
   ],
   "source": [
    "parameters = {\n",
    "    \"max_depth\":[2,4,10,16,32,None],   \n",
    "    \"criterion\": ['entropy'],\n",
    "    \"min_samples_split\": [10,50,100,200,300,400],\n",
    "    \"random_state\": [0]\n",
    "}\n",
    "cv = GridSearchCV(DecisionTreeClassifier(),parameters,cv=5, n_jobs=4)\n",
    "cv.fit(xtrain,ytrain)\n",
    "\n",
    "def display(results):\n",
    "    print(f'Best parameters are: {results.best_params_}')\n",
    "    print(\"\\n\")\n",
    "    mean_score = results.cv_results_['mean_test_score']\n",
    "    std_score = results.cv_results_['std_test_score']\n",
    "    params = results.cv_results_['params']\n",
    "    for mean,std,params in zip(mean_score,std_score,params):\n",
    "        print(f'{round(mean,3)} + or -{round(std,3)} for the {params}')\n",
    "        \n",
    "display(cv)        \n",
    "\n"
   ]
  },
  {
   "cell_type": "code",
   "execution_count": 310,
   "id": "41823fcd",
   "metadata": {},
   "outputs": [
    {
     "name": "stdout",
     "output_type": "stream",
     "text": [
      "Accuracy on training set: 79.636\n",
      "Accuracy on test set: 79.320\n"
     ]
    }
   ],
   "source": [
    "#Applying new parameters found via grid search\n",
    "model_1 = DecisionTreeClassifier(max_depth=10, random_state=0, min_samples_split = 400,criterion = \"entropy\")\n",
    "model_1.fit(xtrain, ytrain)\n",
    "print(\"Accuracy on training set: {:.3f}\".format(model_1.score(xtrain, ytrain)*100))\n",
    "print(\"Accuracy on test set: {:.3f}\".format(model_1.score(xtest, ytest)*100))"
   ]
  },
  {
   "cell_type": "markdown",
   "id": "745958c2",
   "metadata": {
    "id": "745958c2"
   },
   "source": [
    "### Random Forest"
   ]
  },
  {
   "cell_type": "code",
   "execution_count": 311,
   "id": "40976ab3",
   "metadata": {
    "colab": {
     "base_uri": "https://localhost:8080/"
    },
    "id": "40976ab3",
    "outputId": "24becae5-b37d-4c6b-e28d-09f657ab0347"
   },
   "outputs": [
    {
     "name": "stdout",
     "output_type": "stream",
     "text": [
      "Accuracy on training set: 99.701\n",
      "Accuracy on test set: 75.184\n"
     ]
    }
   ],
   "source": [
    "#Random Forest Model\n",
    "model_2 = RandomForestClassifier(n_estimators=100, random_state=0, n_jobs=4)\n",
    "model_2.fit(xtrain, ytrain)\n",
    "print(\"Accuracy on training set: {:.3f}\".format(model_2.score(xtrain, ytrain)*100))\n",
    "print(\"Accuracy on test set: {:.3f}\".format(model_2.score(xtest, ytest)*100))"
   ]
  },
  {
   "cell_type": "markdown",
   "id": "c02d89a2",
   "metadata": {},
   "source": [
    "### Hyperparameter Tuning via Grid Search"
   ]
  },
  {
   "cell_type": "code",
   "execution_count": 313,
   "id": "d4f17a48",
   "metadata": {},
   "outputs": [
    {
     "name": "stdout",
     "output_type": "stream",
     "text": [
      "Best parameters are: {'criterion': 'entropy', 'max_depth': 16, 'n_estimators': 200, 'n_jobs': 4, 'random_state': 0}\n",
      "\n",
      "\n",
      "0.768 + or -0.0 for the {'criterion': 'gini', 'max_depth': 2, 'n_estimators': 5, 'n_jobs': 4, 'random_state': 0}\n",
      "0.768 + or -0.0 for the {'criterion': 'gini', 'max_depth': 2, 'n_estimators': 100, 'n_jobs': 4, 'random_state': 0}\n",
      "0.768 + or -0.0 for the {'criterion': 'gini', 'max_depth': 2, 'n_estimators': 200, 'n_jobs': 4, 'random_state': 0}\n",
      "0.791 + or -0.001 for the {'criterion': 'gini', 'max_depth': 8, 'n_estimators': 5, 'n_jobs': 4, 'random_state': 0}\n",
      "0.791 + or -0.001 for the {'criterion': 'gini', 'max_depth': 8, 'n_estimators': 100, 'n_jobs': 4, 'random_state': 0}\n",
      "0.792 + or -0.001 for the {'criterion': 'gini', 'max_depth': 8, 'n_estimators': 200, 'n_jobs': 4, 'random_state': 0}\n",
      "0.786 + or -0.001 for the {'criterion': 'gini', 'max_depth': 16, 'n_estimators': 5, 'n_jobs': 4, 'random_state': 0}\n",
      "0.794 + or -0.0 for the {'criterion': 'gini', 'max_depth': 16, 'n_estimators': 100, 'n_jobs': 4, 'random_state': 0}\n",
      "0.794 + or -0.0 for the {'criterion': 'gini', 'max_depth': 16, 'n_estimators': 200, 'n_jobs': 4, 'random_state': 0}\n",
      "0.748 + or -0.002 for the {'criterion': 'gini', 'max_depth': 32, 'n_estimators': 5, 'n_jobs': 4, 'random_state': 0}\n",
      "0.758 + or -0.001 for the {'criterion': 'gini', 'max_depth': 32, 'n_estimators': 100, 'n_jobs': 4, 'random_state': 0}\n",
      "0.758 + or -0.002 for the {'criterion': 'gini', 'max_depth': 32, 'n_estimators': 200, 'n_jobs': 4, 'random_state': 0}\n",
      "0.747 + or -0.002 for the {'criterion': 'gini', 'max_depth': None, 'n_estimators': 5, 'n_jobs': 4, 'random_state': 0}\n",
      "0.757 + or -0.001 for the {'criterion': 'gini', 'max_depth': None, 'n_estimators': 100, 'n_jobs': 4, 'random_state': 0}\n",
      "0.757 + or -0.002 for the {'criterion': 'gini', 'max_depth': None, 'n_estimators': 200, 'n_jobs': 4, 'random_state': 0}\n",
      "0.768 + or -0.0 for the {'criterion': 'entropy', 'max_depth': 2, 'n_estimators': 5, 'n_jobs': 4, 'random_state': 0}\n",
      "0.768 + or -0.0 for the {'criterion': 'entropy', 'max_depth': 2, 'n_estimators': 100, 'n_jobs': 4, 'random_state': 0}\n",
      "0.768 + or -0.0 for the {'criterion': 'entropy', 'max_depth': 2, 'n_estimators': 200, 'n_jobs': 4, 'random_state': 0}\n",
      "0.789 + or -0.001 for the {'criterion': 'entropy', 'max_depth': 8, 'n_estimators': 5, 'n_jobs': 4, 'random_state': 0}\n",
      "0.791 + or -0.0 for the {'criterion': 'entropy', 'max_depth': 8, 'n_estimators': 100, 'n_jobs': 4, 'random_state': 0}\n",
      "0.791 + or -0.0 for the {'criterion': 'entropy', 'max_depth': 8, 'n_estimators': 200, 'n_jobs': 4, 'random_state': 0}\n",
      "0.786 + or -0.001 for the {'criterion': 'entropy', 'max_depth': 16, 'n_estimators': 5, 'n_jobs': 4, 'random_state': 0}\n",
      "0.794 + or -0.001 for the {'criterion': 'entropy', 'max_depth': 16, 'n_estimators': 100, 'n_jobs': 4, 'random_state': 0}\n",
      "0.794 + or -0.0 for the {'criterion': 'entropy', 'max_depth': 16, 'n_estimators': 200, 'n_jobs': 4, 'random_state': 0}\n",
      "0.749 + or -0.002 for the {'criterion': 'entropy', 'max_depth': 32, 'n_estimators': 5, 'n_jobs': 4, 'random_state': 0}\n",
      "0.759 + or -0.001 for the {'criterion': 'entropy', 'max_depth': 32, 'n_estimators': 100, 'n_jobs': 4, 'random_state': 0}\n",
      "0.758 + or -0.002 for the {'criterion': 'entropy', 'max_depth': 32, 'n_estimators': 200, 'n_jobs': 4, 'random_state': 0}\n",
      "0.747 + or -0.001 for the {'criterion': 'entropy', 'max_depth': None, 'n_estimators': 5, 'n_jobs': 4, 'random_state': 0}\n",
      "0.758 + or -0.002 for the {'criterion': 'entropy', 'max_depth': None, 'n_estimators': 100, 'n_jobs': 4, 'random_state': 0}\n",
      "0.757 + or -0.002 for the {'criterion': 'entropy', 'max_depth': None, 'n_estimators': 200, 'n_jobs': 4, 'random_state': 0}\n"
     ]
    }
   ],
   "source": [
    "#Hyperparameter Tuning via Grid Search\n",
    "parameters = {\n",
    "    \"n_estimators\":[5,100,200],\n",
    "    \"max_depth\":[2,8,16,32,None],   \n",
    "    \"n_jobs\": [4],\n",
    "    \"criterion\": ['gini', 'entropy'],\n",
    "    \"random_state\": [0]\n",
    "}\n",
    "cv = GridSearchCV(RandomForestClassifier(),parameters,cv=5, n_jobs=4)\n",
    "cv.fit(xtrain,ytrain)\n",
    "\n",
    "def display(results):\n",
    "    print(f'Best parameters are: {results.best_params_}')\n",
    "    print(\"\\n\")\n",
    "    mean_score = results.cv_results_['mean_test_score']\n",
    "    std_score = results.cv_results_['std_test_score']\n",
    "    params = results.cv_results_['params']\n",
    "    for mean,std,params in zip(mean_score,std_score,params):\n",
    "        print(f'{round(mean,3)} + or -{round(std,3)} for the {params}')\n",
    "        \n",
    "display(cv)        \n",
    "#Sound notification as this part takes a few minutes\n",
    "winsound.Beep(440, 1000)\n"
   ]
  },
  {
   "cell_type": "code",
   "execution_count": 314,
   "id": "e903797f",
   "metadata": {},
   "outputs": [
    {
     "name": "stdout",
     "output_type": "stream",
     "text": [
      "Accuracy on training set: 85.607\n",
      "Accuracy on test set: 79.299\n"
     ]
    }
   ],
   "source": [
    "#Applying new parameters found via grid search\n",
    "model_2 = RandomForestClassifier(n_estimators=200, random_state=0, n_jobs=4, max_depth=16, criterion = \"entropy\")\n",
    "model_2.fit(xtrain, ytrain)\n",
    "print(\"Accuracy on training set: {:.3f}\".format(model_2.score(xtrain, ytrain)*100))\n",
    "print(\"Accuracy on test set: {:.3f}\".format(model_2.score(xtest, ytest)*100))\n"
   ]
  },
  {
   "cell_type": "markdown",
   "id": "92d94197",
   "metadata": {
    "id": "92d94197"
   },
   "source": [
    "### Stochastic Gradient Descent"
   ]
  },
  {
   "cell_type": "code",
   "execution_count": 315,
   "id": "72666893",
   "metadata": {},
   "outputs": [
    {
     "name": "stdout",
     "output_type": "stream",
     "text": [
      "Accuracy on training set: 78.503\n",
      "Accuracy on test set: 78.360\n"
     ]
    }
   ],
   "source": [
    "#Stochastic Gradient Descent\n",
    "\n",
    "model_3 = SGDClassifier(loss=\"hinge\", penalty=\"l2\", max_iter=1000, n_jobs=4)\n",
    "model_3.fit(xtrain, ytrain)\n",
    "print(\"Accuracy on training set: {:.3f}\".format(model_3.score(xtrain, ytrain)*100))\n",
    "print(\"Accuracy on test set: {:.3f}\".format(model_3.score(xtest, ytest)*100))\n",
    "\n"
   ]
  },
  {
   "cell_type": "markdown",
   "id": "84ccf4ab",
   "metadata": {},
   "source": [
    "### Hyperparameter Tuning via Grid Search"
   ]
  },
  {
   "cell_type": "code",
   "execution_count": 330,
   "id": "79d39d57",
   "metadata": {
    "scrolled": true
   },
   "outputs": [
    {
     "name": "stdout",
     "output_type": "stream",
     "text": [
      "Best parameters are: {'alpha': 5e-05, 'loss': 'log', 'max_iter': 1000, 'n_jobs': 4, 'penalty': 'l1'}\n",
      "\n",
      "\n",
      "0.768 + or -0.0 for the {'alpha': 0.5, 'loss': 'hinge', 'max_iter': 1000, 'n_jobs': 4, 'penalty': 'l1'}\n",
      "0.768 + or -0.0 for the {'alpha': 0.5, 'loss': 'hinge', 'max_iter': 1000, 'n_jobs': 4, 'penalty': 'l2'}\n",
      "0.768 + or -0.0 for the {'alpha': 0.5, 'loss': 'hinge', 'max_iter': 2000, 'n_jobs': 4, 'penalty': 'l1'}\n",
      "0.768 + or -0.0 for the {'alpha': 0.5, 'loss': 'hinge', 'max_iter': 2000, 'n_jobs': 4, 'penalty': 'l2'}\n",
      "0.768 + or -0.0 for the {'alpha': 0.5, 'loss': 'hinge', 'max_iter': 5000, 'n_jobs': 4, 'penalty': 'l1'}\n",
      "0.768 + or -0.0 for the {'alpha': 0.5, 'loss': 'hinge', 'max_iter': 5000, 'n_jobs': 4, 'penalty': 'l2'}\n",
      "0.768 + or -0.0 for the {'alpha': 0.5, 'loss': 'log', 'max_iter': 1000, 'n_jobs': 4, 'penalty': 'l1'}\n",
      "0.769 + or -0.0 for the {'alpha': 0.5, 'loss': 'log', 'max_iter': 1000, 'n_jobs': 4, 'penalty': 'l2'}\n",
      "0.768 + or -0.0 for the {'alpha': 0.5, 'loss': 'log', 'max_iter': 2000, 'n_jobs': 4, 'penalty': 'l1'}\n",
      "0.769 + or -0.0 for the {'alpha': 0.5, 'loss': 'log', 'max_iter': 2000, 'n_jobs': 4, 'penalty': 'l2'}\n",
      "0.768 + or -0.0 for the {'alpha': 0.5, 'loss': 'log', 'max_iter': 5000, 'n_jobs': 4, 'penalty': 'l1'}\n",
      "0.769 + or -0.0 for the {'alpha': 0.5, 'loss': 'log', 'max_iter': 5000, 'n_jobs': 4, 'penalty': 'l2'}\n",
      "0.507 + or -0.32 for the {'alpha': 0.5, 'loss': 'perceptron', 'max_iter': 1000, 'n_jobs': 4, 'penalty': 'l1'}\n",
      "0.759 + or -0.02 for the {'alpha': 0.5, 'loss': 'perceptron', 'max_iter': 1000, 'n_jobs': 4, 'penalty': 'l2'}\n",
      "0.768 + or -0.0 for the {'alpha': 0.5, 'loss': 'perceptron', 'max_iter': 2000, 'n_jobs': 4, 'penalty': 'l1'}\n",
      "0.751 + or -0.019 for the {'alpha': 0.5, 'loss': 'perceptron', 'max_iter': 2000, 'n_jobs': 4, 'penalty': 'l2'}\n",
      "0.645 + or -0.245 for the {'alpha': 0.5, 'loss': 'perceptron', 'max_iter': 5000, 'n_jobs': 4, 'penalty': 'l1'}\n",
      "0.737 + or -0.042 for the {'alpha': 0.5, 'loss': 'perceptron', 'max_iter': 5000, 'n_jobs': 4, 'penalty': 'l2'}\n",
      "0.769 + or -0.001 for the {'alpha': 0.05, 'loss': 'hinge', 'max_iter': 1000, 'n_jobs': 4, 'penalty': 'l1'}\n",
      "0.778 + or -0.0 for the {'alpha': 0.05, 'loss': 'hinge', 'max_iter': 1000, 'n_jobs': 4, 'penalty': 'l2'}\n",
      "0.769 + or -0.001 for the {'alpha': 0.05, 'loss': 'hinge', 'max_iter': 2000, 'n_jobs': 4, 'penalty': 'l1'}\n",
      "0.778 + or -0.0 for the {'alpha': 0.05, 'loss': 'hinge', 'max_iter': 2000, 'n_jobs': 4, 'penalty': 'l2'}\n",
      "0.77 + or -0.001 for the {'alpha': 0.05, 'loss': 'hinge', 'max_iter': 5000, 'n_jobs': 4, 'penalty': 'l1'}\n",
      "0.778 + or -0.0 for the {'alpha': 0.05, 'loss': 'hinge', 'max_iter': 5000, 'n_jobs': 4, 'penalty': 'l2'}\n",
      "0.778 + or -0.0 for the {'alpha': 0.05, 'loss': 'log', 'max_iter': 1000, 'n_jobs': 4, 'penalty': 'l1'}\n",
      "0.782 + or -0.0 for the {'alpha': 0.05, 'loss': 'log', 'max_iter': 1000, 'n_jobs': 4, 'penalty': 'l2'}\n",
      "0.778 + or -0.0 for the {'alpha': 0.05, 'loss': 'log', 'max_iter': 2000, 'n_jobs': 4, 'penalty': 'l1'}\n",
      "0.782 + or -0.0 for the {'alpha': 0.05, 'loss': 'log', 'max_iter': 2000, 'n_jobs': 4, 'penalty': 'l2'}\n",
      "0.778 + or -0.0 for the {'alpha': 0.05, 'loss': 'log', 'max_iter': 5000, 'n_jobs': 4, 'penalty': 'l1'}\n",
      "0.782 + or -0.001 for the {'alpha': 0.05, 'loss': 'log', 'max_iter': 5000, 'n_jobs': 4, 'penalty': 'l2'}\n",
      "0.69 + or -0.057 for the {'alpha': 0.05, 'loss': 'perceptron', 'max_iter': 1000, 'n_jobs': 4, 'penalty': 'l1'}\n",
      "0.74 + or -0.021 for the {'alpha': 0.05, 'loss': 'perceptron', 'max_iter': 1000, 'n_jobs': 4, 'penalty': 'l2'}\n",
      "0.408 + or -0.302 for the {'alpha': 0.05, 'loss': 'perceptron', 'max_iter': 2000, 'n_jobs': 4, 'penalty': 'l1'}\n",
      "0.711 + or -0.065 for the {'alpha': 0.05, 'loss': 'perceptron', 'max_iter': 2000, 'n_jobs': 4, 'penalty': 'l2'}\n",
      "0.693 + or -0.105 for the {'alpha': 0.05, 'loss': 'perceptron', 'max_iter': 5000, 'n_jobs': 4, 'penalty': 'l1'}\n",
      "0.732 + or -0.029 for the {'alpha': 0.05, 'loss': 'perceptron', 'max_iter': 5000, 'n_jobs': 4, 'penalty': 'l2'}\n",
      "0.781 + or -0.0 for the {'alpha': 0.005, 'loss': 'hinge', 'max_iter': 1000, 'n_jobs': 4, 'penalty': 'l1'}\n",
      "0.783 + or -0.0 for the {'alpha': 0.005, 'loss': 'hinge', 'max_iter': 1000, 'n_jobs': 4, 'penalty': 'l2'}\n",
      "0.781 + or -0.0 for the {'alpha': 0.005, 'loss': 'hinge', 'max_iter': 2000, 'n_jobs': 4, 'penalty': 'l1'}\n",
      "0.783 + or -0.0 for the {'alpha': 0.005, 'loss': 'hinge', 'max_iter': 2000, 'n_jobs': 4, 'penalty': 'l2'}\n",
      "0.781 + or -0.0 for the {'alpha': 0.005, 'loss': 'hinge', 'max_iter': 5000, 'n_jobs': 4, 'penalty': 'l1'}\n",
      "0.783 + or -0.0 for the {'alpha': 0.005, 'loss': 'hinge', 'max_iter': 5000, 'n_jobs': 4, 'penalty': 'l2'}\n",
      "0.787 + or -0.001 for the {'alpha': 0.005, 'loss': 'log', 'max_iter': 1000, 'n_jobs': 4, 'penalty': 'l1'}\n",
      "0.787 + or -0.001 for the {'alpha': 0.005, 'loss': 'log', 'max_iter': 1000, 'n_jobs': 4, 'penalty': 'l2'}\n",
      "0.787 + or -0.001 for the {'alpha': 0.005, 'loss': 'log', 'max_iter': 2000, 'n_jobs': 4, 'penalty': 'l1'}\n",
      "0.787 + or -0.001 for the {'alpha': 0.005, 'loss': 'log', 'max_iter': 2000, 'n_jobs': 4, 'penalty': 'l2'}\n",
      "0.787 + or -0.0 for the {'alpha': 0.005, 'loss': 'log', 'max_iter': 5000, 'n_jobs': 4, 'penalty': 'l1'}\n",
      "0.787 + or -0.001 for the {'alpha': 0.005, 'loss': 'log', 'max_iter': 5000, 'n_jobs': 4, 'penalty': 'l2'}\n",
      "0.756 + or -0.015 for the {'alpha': 0.005, 'loss': 'perceptron', 'max_iter': 1000, 'n_jobs': 4, 'penalty': 'l1'}\n",
      "0.737 + or -0.029 for the {'alpha': 0.005, 'loss': 'perceptron', 'max_iter': 1000, 'n_jobs': 4, 'penalty': 'l2'}\n",
      "0.767 + or -0.012 for the {'alpha': 0.005, 'loss': 'perceptron', 'max_iter': 2000, 'n_jobs': 4, 'penalty': 'l1'}\n",
      "0.734 + or -0.036 for the {'alpha': 0.005, 'loss': 'perceptron', 'max_iter': 2000, 'n_jobs': 4, 'penalty': 'l2'}\n",
      "0.772 + or -0.005 for the {'alpha': 0.005, 'loss': 'perceptron', 'max_iter': 5000, 'n_jobs': 4, 'penalty': 'l1'}\n",
      "0.75 + or -0.028 for the {'alpha': 0.005, 'loss': 'perceptron', 'max_iter': 5000, 'n_jobs': 4, 'penalty': 'l2'}\n",
      "0.784 + or -0.001 for the {'alpha': 0.0005, 'loss': 'hinge', 'max_iter': 1000, 'n_jobs': 4, 'penalty': 'l1'}\n",
      "0.784 + or -0.001 for the {'alpha': 0.0005, 'loss': 'hinge', 'max_iter': 1000, 'n_jobs': 4, 'penalty': 'l2'}\n",
      "0.784 + or -0.0 for the {'alpha': 0.0005, 'loss': 'hinge', 'max_iter': 2000, 'n_jobs': 4, 'penalty': 'l1'}\n",
      "0.784 + or -0.001 for the {'alpha': 0.0005, 'loss': 'hinge', 'max_iter': 2000, 'n_jobs': 4, 'penalty': 'l2'}\n",
      "0.784 + or -0.001 for the {'alpha': 0.0005, 'loss': 'hinge', 'max_iter': 5000, 'n_jobs': 4, 'penalty': 'l1'}\n",
      "0.784 + or -0.001 for the {'alpha': 0.0005, 'loss': 'hinge', 'max_iter': 5000, 'n_jobs': 4, 'penalty': 'l2'}\n",
      "0.787 + or -0.001 for the {'alpha': 0.0005, 'loss': 'log', 'max_iter': 1000, 'n_jobs': 4, 'penalty': 'l1'}\n",
      "0.787 + or -0.001 for the {'alpha': 0.0005, 'loss': 'log', 'max_iter': 1000, 'n_jobs': 4, 'penalty': 'l2'}\n",
      "0.787 + or -0.001 for the {'alpha': 0.0005, 'loss': 'log', 'max_iter': 2000, 'n_jobs': 4, 'penalty': 'l1'}\n",
      "0.787 + or -0.001 for the {'alpha': 0.0005, 'loss': 'log', 'max_iter': 2000, 'n_jobs': 4, 'penalty': 'l2'}\n",
      "0.787 + or -0.001 for the {'alpha': 0.0005, 'loss': 'log', 'max_iter': 5000, 'n_jobs': 4, 'penalty': 'l1'}\n",
      "0.787 + or -0.001 for the {'alpha': 0.0005, 'loss': 'log', 'max_iter': 5000, 'n_jobs': 4, 'penalty': 'l2'}\n",
      "0.696 + or -0.07 for the {'alpha': 0.0005, 'loss': 'perceptron', 'max_iter': 1000, 'n_jobs': 4, 'penalty': 'l1'}\n",
      "0.752 + or -0.019 for the {'alpha': 0.0005, 'loss': 'perceptron', 'max_iter': 1000, 'n_jobs': 4, 'penalty': 'l2'}\n",
      "0.645 + or -0.114 for the {'alpha': 0.0005, 'loss': 'perceptron', 'max_iter': 2000, 'n_jobs': 4, 'penalty': 'l1'}\n",
      "0.73 + or -0.021 for the {'alpha': 0.0005, 'loss': 'perceptron', 'max_iter': 2000, 'n_jobs': 4, 'penalty': 'l2'}\n",
      "0.764 + or -0.018 for the {'alpha': 0.0005, 'loss': 'perceptron', 'max_iter': 5000, 'n_jobs': 4, 'penalty': 'l1'}\n",
      "0.755 + or -0.016 for the {'alpha': 0.0005, 'loss': 'perceptron', 'max_iter': 5000, 'n_jobs': 4, 'penalty': 'l2'}\n",
      "0.784 + or -0.001 for the {'alpha': 5e-05, 'loss': 'hinge', 'max_iter': 1000, 'n_jobs': 4, 'penalty': 'l1'}\n",
      "0.784 + or -0.001 for the {'alpha': 5e-05, 'loss': 'hinge', 'max_iter': 1000, 'n_jobs': 4, 'penalty': 'l2'}\n",
      "0.785 + or -0.002 for the {'alpha': 5e-05, 'loss': 'hinge', 'max_iter': 2000, 'n_jobs': 4, 'penalty': 'l1'}\n",
      "0.785 + or -0.002 for the {'alpha': 5e-05, 'loss': 'hinge', 'max_iter': 2000, 'n_jobs': 4, 'penalty': 'l2'}\n",
      "0.786 + or -0.001 for the {'alpha': 5e-05, 'loss': 'hinge', 'max_iter': 5000, 'n_jobs': 4, 'penalty': 'l1'}\n",
      "0.784 + or -0.001 for the {'alpha': 5e-05, 'loss': 'hinge', 'max_iter': 5000, 'n_jobs': 4, 'penalty': 'l2'}\n",
      "0.788 + or -0.001 for the {'alpha': 5e-05, 'loss': 'log', 'max_iter': 1000, 'n_jobs': 4, 'penalty': 'l1'}\n",
      "0.787 + or -0.0 for the {'alpha': 5e-05, 'loss': 'log', 'max_iter': 1000, 'n_jobs': 4, 'penalty': 'l2'}\n",
      "0.787 + or -0.001 for the {'alpha': 5e-05, 'loss': 'log', 'max_iter': 2000, 'n_jobs': 4, 'penalty': 'l1'}\n",
      "0.787 + or -0.001 for the {'alpha': 5e-05, 'loss': 'log', 'max_iter': 2000, 'n_jobs': 4, 'penalty': 'l2'}\n",
      "0.787 + or -0.001 for the {'alpha': 5e-05, 'loss': 'log', 'max_iter': 5000, 'n_jobs': 4, 'penalty': 'l1'}\n",
      "0.788 + or -0.001 for the {'alpha': 5e-05, 'loss': 'log', 'max_iter': 5000, 'n_jobs': 4, 'penalty': 'l2'}\n",
      "0.724 + or -0.069 for the {'alpha': 5e-05, 'loss': 'perceptron', 'max_iter': 1000, 'n_jobs': 4, 'penalty': 'l1'}\n",
      "0.731 + or -0.018 for the {'alpha': 5e-05, 'loss': 'perceptron', 'max_iter': 1000, 'n_jobs': 4, 'penalty': 'l2'}\n",
      "0.761 + or -0.017 for the {'alpha': 5e-05, 'loss': 'perceptron', 'max_iter': 2000, 'n_jobs': 4, 'penalty': 'l1'}\n",
      "0.697 + or -0.044 for the {'alpha': 5e-05, 'loss': 'perceptron', 'max_iter': 2000, 'n_jobs': 4, 'penalty': 'l2'}\n",
      "0.61 + or -0.211 for the {'alpha': 5e-05, 'loss': 'perceptron', 'max_iter': 5000, 'n_jobs': 4, 'penalty': 'l1'}\n",
      "0.75 + or -0.023 for the {'alpha': 5e-05, 'loss': 'perceptron', 'max_iter': 5000, 'n_jobs': 4, 'penalty': 'l2'}\n"
     ]
    }
   ],
   "source": [
    "#Hyperparameter Tuning via Grid Search\n",
    "parameters = {\n",
    "    \"loss\":[\"hinge\",\"log\",\"perceptron\"],\n",
    "    \"penalty\":['l1','l2'],   \n",
    "    \"max_iter\": [1000,2000,5000],\n",
    "    \"alpha\": [.5,.05,.005,.0005,.00005],\n",
    "    \"n_jobs\": [4]\n",
    "}\n",
    "cv = GridSearchCV(SGDClassifier(),parameters,cv=5, n_jobs=4)\n",
    "cv.fit(xtrain,ytrain)\n",
    "\n",
    "def display(results):\n",
    "    print(f'Best parameters are: {results.best_params_}')\n",
    "    print(\"\\n\")\n",
    "    mean_score = results.cv_results_['mean_test_score']\n",
    "    std_score = results.cv_results_['std_test_score']\n",
    "    params = results.cv_results_['params']\n",
    "    for mean,std,params in zip(mean_score,std_score,params):\n",
    "        print(f'{round(mean,3)} + or -{round(std,3)} for the {params}')\n",
    "        \n",
    "display(cv) \n",
    "#Sound notification as this part takes a few minutes\n",
    "winsound.Beep(440, 1000)"
   ]
  },
  {
   "cell_type": "code",
   "execution_count": 331,
   "id": "2c1ce94e",
   "metadata": {},
   "outputs": [
    {
     "name": "stdout",
     "output_type": "stream",
     "text": [
      "Accuracy on training set: 78.753\n",
      "Accuracy on test set: 78.630\n"
     ]
    }
   ],
   "source": [
    "#Applying new parameters found via grid search\n",
    "\n",
    "model_3 = SGDClassifier(loss=\"log\", penalty=\"l1\", max_iter=1000, alpha = .0005, n_jobs=4)\n",
    "model_3.fit(xtrain, ytrain)\n",
    "print(\"Accuracy on training set: {:.3f}\".format(model_3.score(xtrain, ytrain)*100))\n",
    "print(\"Accuracy on test set: {:.3f}\".format(model_3.score(xtest, ytest)*100))"
   ]
  },
  {
   "cell_type": "markdown",
   "id": "7e7abda0",
   "metadata": {
    "id": "7e7abda0"
   },
   "source": [
    "## Display model results"
   ]
  },
  {
   "cell_type": "code",
   "execution_count": 332,
   "id": "c32bba36",
   "metadata": {
    "colab": {
     "base_uri": "https://localhost:8080/",
     "height": 143
    },
    "id": "c32bba36",
    "outputId": "4300c2cf-f091-4588-81d5-fc9472f6a1da"
   },
   "outputs": [
    {
     "data": {
      "text/html": [
       "<div>\n",
       "<style scoped>\n",
       "    .dataframe tbody tr th:only-of-type {\n",
       "        vertical-align: middle;\n",
       "    }\n",
       "\n",
       "    .dataframe tbody tr th {\n",
       "        vertical-align: top;\n",
       "    }\n",
       "\n",
       "    .dataframe thead th {\n",
       "        text-align: right;\n",
       "    }\n",
       "</style>\n",
       "<table border=\"1\" class=\"dataframe\">\n",
       "  <thead>\n",
       "    <tr style=\"text-align: right;\">\n",
       "      <th></th>\n",
       "      <th>Model</th>\n",
       "      <th>Prediction Accuracy - Training</th>\n",
       "      <th>Prediction Accuracy - Test</th>\n",
       "    </tr>\n",
       "  </thead>\n",
       "  <tbody>\n",
       "    <tr>\n",
       "      <th>0</th>\n",
       "      <td>Decision Tree</td>\n",
       "      <td>79.64</td>\n",
       "      <td>79.32</td>\n",
       "    </tr>\n",
       "    <tr>\n",
       "      <th>1</th>\n",
       "      <td>Random Forest</td>\n",
       "      <td>85.61</td>\n",
       "      <td>79.30</td>\n",
       "    </tr>\n",
       "    <tr>\n",
       "      <th>2</th>\n",
       "      <td>Stochastic Gradient Descent</td>\n",
       "      <td>78.75</td>\n",
       "      <td>78.63</td>\n",
       "    </tr>\n",
       "  </tbody>\n",
       "</table>\n",
       "</div>"
      ],
      "text/plain": [
       "                         Model  Prediction Accuracy - Training  \\\n",
       "0                Decision Tree                           79.64   \n",
       "1                Random Forest                           85.61   \n",
       "2  Stochastic Gradient Descent                           78.75   \n",
       "\n",
       "   Prediction Accuracy - Test  \n",
       "0                       79.32  \n",
       "1                       79.30  \n",
       "2                       78.63  "
      ]
     },
     "execution_count": 332,
     "metadata": {},
     "output_type": "execute_result"
    }
   ],
   "source": [
    "# initialise data of lists.\n",
    "data = {'Model':['Decision Tree', 'Random Forest', 'Stochastic Gradient Descent'], 'Prediction Accuracy - Training':[round(model_1.score(xtrain, ytrain)*100,2), round(model_2.score(xtrain, ytrain)*100,2), round(model_3.score(xtrain, ytrain)*100,2)], 'Prediction Accuracy - Test':[round(model_1.score(xtest, ytest)*100,2), round(model_2.score(xtest, ytest)*100,2), round(model_3.score(xtest, ytest)*100,2)]}\n",
    " \n",
    "# Create DataFrame\n",
    "dfResults = pd.DataFrame(data)\n",
    " \n",
    "# Print the output.\n",
    "dfResults"
   ]
  },
  {
   "cell_type": "markdown",
   "id": "47413e0e",
   "metadata": {
    "id": "47413e0e"
   },
   "source": [
    "### Confusion Matrix Results of the models"
   ]
  },
  {
   "cell_type": "markdown",
   "id": "befb8715",
   "metadata": {
    "id": "befb8715"
   },
   "source": [
    "\n",
    "\n",
    "From the below Confusion Matrix heatmaps we can see that we expect a large # of values in one category for all models. These do not sway our decision to based on model for predicting the validation values on the calculated accuracy scores and processing considerations.\n"
   ]
  },
  {
   "cell_type": "code",
   "execution_count": 320,
   "id": "2460cdf5",
   "metadata": {
    "id": "2460cdf5"
   },
   "outputs": [],
   "source": [
    "#Creating Prediction Variables to Use for Confusion Matrix Heat Maps for all 3 Models\n",
    "ypredDT = model_1.predict(xtest) \n",
    "ypredRF = model_2.predict(xtest)\n",
    "ypredSGD = model_3.predict(xtest)\n",
    "\n"
   ]
  },
  {
   "cell_type": "markdown",
   "id": "5e6baa0f",
   "metadata": {
    "id": "5e6baa0f"
   },
   "source": [
    "### Decision Tree Confusion Matrix"
   ]
  },
  {
   "cell_type": "code",
   "execution_count": 321,
   "id": "0d5ef3d4",
   "metadata": {
    "colab": {
     "base_uri": "https://localhost:8080/",
     "height": 281
    },
    "id": "0d5ef3d4",
    "outputId": "c78bf02a-c227-41ab-cd52-440bdab76413"
   },
   "outputs": [
    {
     "data": {
      "image/png": "[encoded data removed]",
      "text/plain": [
       "<Figure size 432x288 with 2 Axes>"
      ]
     },
     "metadata": {
      "needs_background": "light"
     },
     "output_type": "display_data"
    }
   ],
   "source": [
    "#CM Heatmap 1\n",
    "cm1 = confusion_matrix(ytest, ypredDT)\n",
    "ax = sns.heatmap(cm1, annot=True, fmt='g',cmap=\"GnBu\")\n",
    "ax.set(ylabel=\"True Stay Lenght Label\", xlabel=\"Predicted Stay Length Label\")\n",
    "ax.xaxis.set_ticklabels(['0-40', '41-70', 'More than 70 Days']); \n",
    "ax.yaxis.set_ticklabels(['0-40', '41-70', 'More than 70 Days']);\n",
    "\n"
   ]
  },
  {
   "cell_type": "markdown",
   "id": "7a0465d9",
   "metadata": {
    "id": "7a0465d9"
   },
   "source": [
    "### Random Forest Confusion Matrix"
   ]
  },
  {
   "cell_type": "code",
   "execution_count": 322,
   "id": "5082d845",
   "metadata": {
    "colab": {
     "base_uri": "https://localhost:8080/",
     "height": 281
    },
    "id": "5082d845",
    "outputId": "3f7414e7-3138-41ba-ac2d-ad99bdd8038d"
   },
   "outputs": [
    {
     "data": {
      "image/png": "[encoded data removed]",
      "text/plain": [
       "<Figure size 432x288 with 2 Axes>"
      ]
     },
     "metadata": {
      "needs_background": "light"
     },
     "output_type": "display_data"
    }
   ],
   "source": [
    "#CM Heatmap 2\n",
    "cm2 = confusion_matrix(ytest, ypredRF)\n",
    "ax2 = sns.heatmap(cm2, annot=True, fmt='g',cmap=\"GnBu\")\n",
    "ax2.set(ylabel=\"True Label\", xlabel=\"Predicted Label\")\n",
    "ax2.xaxis.set_ticklabels(['0-40', '41-70', 'More than 70 Days']); \n",
    "ax2.yaxis.set_ticklabels(['0-40', '41-70', 'More than 70 Days']);\n",
    "\n",
    "\n"
   ]
  },
  {
   "cell_type": "markdown",
   "id": "84234279",
   "metadata": {
    "id": "84234279"
   },
   "source": [
    "### Stochastic Gradient Descent Confusion Matrix:"
   ]
  },
  {
   "cell_type": "code",
   "execution_count": 323,
   "id": "95f019e4",
   "metadata": {
    "colab": {
     "base_uri": "https://localhost:8080/",
     "height": 279
    },
    "id": "95f019e4",
    "outputId": "e19804c4-865f-4cf3-bf8d-4f84f515a5bc"
   },
   "outputs": [
    {
     "data": {
      "image/png": "[encoded data removed]",
      "text/plain": [
       "<Figure size 432x288 with 2 Axes>"
      ]
     },
     "metadata": {
      "needs_background": "light"
     },
     "output_type": "display_data"
    }
   ],
   "source": [
    "#CM Heatmap 3\n",
    "cm3 = confusion_matrix(ytest, ypredSGD)\n",
    "ax3 = sns.heatmap(cm3, annot=True, fmt='g',cmap=\"GnBu\")\n",
    "ax3.set(ylabel=\"True Label\", xlabel=\"Predicted Label\")\n",
    "ax3.xaxis.set_ticklabels(['0-40', '41-70', 'More than 70 Days']); \n",
    "ax3.yaxis.set_ticklabels(['0-40', '41-70', 'More than 70 Days']);\n",
    "\n"
   ]
  },
  {
   "cell_type": "markdown",
   "id": "d51deabd",
   "metadata": {
    "id": "d51deabd"
   },
   "source": [
    "After analyzing the dataset, preparing the datasets for machine learning and testing 3 different models. We came to the conclusion that of the three models we tested, decision trees, random forest, and stochastic gradient descent; decision tree models are optimal as they get a slightly greater accuracy rate compared to the other models, but runs at over double the speed of the second most accurate model, random forest."
   ]
  },
  {
   "cell_type": "markdown",
   "id": "P5jST9QROUGE",
   "metadata": {
    "id": "P5jST9QROUGE"
   },
   "source": [
    "**Predicting validation dataset**"
   ]
  },
  {
   "cell_type": "markdown",
   "id": "n-aCliopNZ8K",
   "metadata": {
    "id": "n-aCliopNZ8K"
   },
   "source": [
    "Here we are predicting the Stay Length values for the unlabeled test dataset.\n",
    "We cannot check accuracy with the test dataset as there is no target variable, it is mean to simulate a runtime production dataset which is given as input to model."
   ]
  },
  {
   "cell_type": "code",
   "execution_count": 324,
   "id": "5TEOZWwgM-pq",
   "metadata": {
    "id": "5TEOZWwgM-pq"
   },
   "outputs": [],
   "source": [
    "#Run the decision tree model on the validation dataset\n",
    "ypred_v=model_1.predict(vdata) #model_1 as Decision Tree Model"
   ]
  },
  {
   "cell_type": "code",
   "execution_count": 325,
   "id": "cJImU3YaNE8T",
   "metadata": {
    "colab": {
     "base_uri": "https://localhost:8080/"
    },
    "id": "cJImU3YaNE8T",
    "outputId": "d91154a5-55e6-4de4-8a4c-35d03de66726"
   },
   "outputs": [
    {
     "data": {
      "text/plain": [
       "(137057, 10)"
      ]
     },
     "execution_count": 325,
     "metadata": {},
     "output_type": "execute_result"
    }
   ],
   "source": [
    "#Verify validation dataset indepedent variables after model run\n",
    "vdata.shape\n"
   ]
  },
  {
   "cell_type": "code",
   "execution_count": 326,
   "id": "8o9m8CGINVQW",
   "metadata": {
    "colab": {
     "base_uri": "https://localhost:8080/"
    },
    "id": "8o9m8CGINVQW",
    "outputId": "de375bba-3ad4-4982-e954-ff8957fdc1b3"
   },
   "outputs": [
    {
     "data": {
      "text/plain": [
       "(137057,)"
      ]
     },
     "execution_count": 326,
     "metadata": {},
     "output_type": "execute_result"
    }
   ],
   "source": [
    "#Verify validation dataset dependent variable after model run\n",
    "ypred_v.shape"
   ]
  },
  {
   "cell_type": "markdown",
   "id": "c1d354c1",
   "metadata": {
    "id": "c1d354c1"
   },
   "source": [
    "### Obtaining the validation dataset but with the predicitons"
   ]
  },
  {
   "cell_type": "code",
   "execution_count": 327,
   "id": "faebce90",
   "metadata": {
    "id": "faebce90"
   },
   "outputs": [],
   "source": [
    "#Reverse the prediction values back into understandable strings\n",
    "stay_dict_reverse = {'0-40': 1, '41-70': 2, 'More than 70 Days': 3}\n",
    "df_test_final_w_preds = df_test_final.copy()\n",
    "df_test_final_w_preds['Stay'] = pd.DataFrame(ypred_v, columns = ['Stay']).replace(stay_dict_reverse.values(), stay_dict_reverse.keys())\n"
   ]
  },
  {
   "cell_type": "markdown",
   "id": "f5771ece",
   "metadata": {
    "id": "f5771ece"
   },
   "source": [
    "### Results display of the first 10 rows:"
   ]
  },
  {
   "cell_type": "code",
   "execution_count": 334,
   "id": "d0268153",
   "metadata": {
    "colab": {
     "base_uri": "https://localhost:8080/",
     "height": 450
    },
    "id": "d0268153",
    "outputId": "2e331636-66bb-4350-863b-67e352b62dea"
   },
   "outputs": [
    {
     "data": {
      "text/html": [
       "<div>\n",
       "<style scoped>\n",
       "    .dataframe tbody tr th:only-of-type {\n",
       "        vertical-align: middle;\n",
       "    }\n",
       "\n",
       "    .dataframe tbody tr th {\n",
       "        vertical-align: top;\n",
       "    }\n",
       "\n",
       "    .dataframe thead th {\n",
       "        text-align: right;\n",
       "    }\n",
       "</style>\n",
       "<table border=\"1\" class=\"dataframe\">\n",
       "  <thead>\n",
       "    <tr style=\"text-align: right;\">\n",
       "      <th></th>\n",
       "      <th>Visitors_with_Patient</th>\n",
       "      <th>Available_Extra_Rooms_in_Hospital</th>\n",
       "      <th>Admission_Deposit</th>\n",
       "      <th>AR_over_60</th>\n",
       "      <th>ToA_Trauma</th>\n",
       "      <th>Hospital_code</th>\n",
       "      <th>ToA_Urgent</th>\n",
       "      <th>Dep_anesthesia</th>\n",
       "      <th>Bed_Grade</th>\n",
       "      <th>Dep_radiotherapy</th>\n",
       "      <th>Stay</th>\n",
       "    </tr>\n",
       "  </thead>\n",
       "  <tbody>\n",
       "    <tr>\n",
       "      <th>0</th>\n",
       "      <td>2</td>\n",
       "      <td>3</td>\n",
       "      <td>3095.0</td>\n",
       "      <td>1</td>\n",
       "      <td>0</td>\n",
       "      <td>21</td>\n",
       "      <td>0</td>\n",
       "      <td>0</td>\n",
       "      <td>2.0</td>\n",
       "      <td>0</td>\n",
       "      <td>0-40</td>\n",
       "    </tr>\n",
       "    <tr>\n",
       "      <th>1</th>\n",
       "      <td>4</td>\n",
       "      <td>2</td>\n",
       "      <td>4018.0</td>\n",
       "      <td>1</td>\n",
       "      <td>1</td>\n",
       "      <td>29</td>\n",
       "      <td>0</td>\n",
       "      <td>0</td>\n",
       "      <td>2.0</td>\n",
       "      <td>0</td>\n",
       "      <td>41-70</td>\n",
       "    </tr>\n",
       "    <tr>\n",
       "      <th>2</th>\n",
       "      <td>3</td>\n",
       "      <td>3</td>\n",
       "      <td>4492.0</td>\n",
       "      <td>1</td>\n",
       "      <td>0</td>\n",
       "      <td>26</td>\n",
       "      <td>0</td>\n",
       "      <td>0</td>\n",
       "      <td>4.0</td>\n",
       "      <td>0</td>\n",
       "      <td>0-40</td>\n",
       "    </tr>\n",
       "    <tr>\n",
       "      <th>3</th>\n",
       "      <td>3</td>\n",
       "      <td>3</td>\n",
       "      <td>4173.0</td>\n",
       "      <td>1</td>\n",
       "      <td>1</td>\n",
       "      <td>6</td>\n",
       "      <td>0</td>\n",
       "      <td>0</td>\n",
       "      <td>2.0</td>\n",
       "      <td>0</td>\n",
       "      <td>0-40</td>\n",
       "    </tr>\n",
       "    <tr>\n",
       "      <th>4</th>\n",
       "      <td>4</td>\n",
       "      <td>2</td>\n",
       "      <td>4161.0</td>\n",
       "      <td>1</td>\n",
       "      <td>1</td>\n",
       "      <td>28</td>\n",
       "      <td>0</td>\n",
       "      <td>0</td>\n",
       "      <td>2.0</td>\n",
       "      <td>0</td>\n",
       "      <td>41-70</td>\n",
       "    </tr>\n",
       "    <tr>\n",
       "      <th>5</th>\n",
       "      <td>2</td>\n",
       "      <td>3</td>\n",
       "      <td>4659.0</td>\n",
       "      <td>1</td>\n",
       "      <td>1</td>\n",
       "      <td>23</td>\n",
       "      <td>0</td>\n",
       "      <td>0</td>\n",
       "      <td>2.0</td>\n",
       "      <td>0</td>\n",
       "      <td>0-40</td>\n",
       "    </tr>\n",
       "    <tr>\n",
       "      <th>6</th>\n",
       "      <td>2</td>\n",
       "      <td>2</td>\n",
       "      <td>4167.0</td>\n",
       "      <td>1</td>\n",
       "      <td>1</td>\n",
       "      <td>26</td>\n",
       "      <td>0</td>\n",
       "      <td>0</td>\n",
       "      <td>2.0</td>\n",
       "      <td>0</td>\n",
       "      <td>0-40</td>\n",
       "    </tr>\n",
       "    <tr>\n",
       "      <th>7</th>\n",
       "      <td>2</td>\n",
       "      <td>4</td>\n",
       "      <td>4396.0</td>\n",
       "      <td>0</td>\n",
       "      <td>0</td>\n",
       "      <td>25</td>\n",
       "      <td>0</td>\n",
       "      <td>0</td>\n",
       "      <td>3.0</td>\n",
       "      <td>0</td>\n",
       "      <td>0-40</td>\n",
       "    </tr>\n",
       "    <tr>\n",
       "      <th>8</th>\n",
       "      <td>2</td>\n",
       "      <td>4</td>\n",
       "      <td>4088.0</td>\n",
       "      <td>0</td>\n",
       "      <td>1</td>\n",
       "      <td>23</td>\n",
       "      <td>0</td>\n",
       "      <td>0</td>\n",
       "      <td>3.0</td>\n",
       "      <td>0</td>\n",
       "      <td>0-40</td>\n",
       "    </tr>\n",
       "    <tr>\n",
       "      <th>9</th>\n",
       "      <td>2</td>\n",
       "      <td>3</td>\n",
       "      <td>3925.0</td>\n",
       "      <td>0</td>\n",
       "      <td>0</td>\n",
       "      <td>23</td>\n",
       "      <td>1</td>\n",
       "      <td>0</td>\n",
       "      <td>4.0</td>\n",
       "      <td>0</td>\n",
       "      <td>0-40</td>\n",
       "    </tr>\n",
       "  </tbody>\n",
       "</table>\n",
       "</div>"
      ],
      "text/plain": [
       "   Visitors_with_Patient  Available_Extra_Rooms_in_Hospital  \\\n",
       "0                      2                                  3   \n",
       "1                      4                                  2   \n",
       "2                      3                                  3   \n",
       "3                      3                                  3   \n",
       "4                      4                                  2   \n",
       "5                      2                                  3   \n",
       "6                      2                                  2   \n",
       "7                      2                                  4   \n",
       "8                      2                                  4   \n",
       "9                      2                                  3   \n",
       "\n",
       "   Admission_Deposit  AR_over_60  ToA_Trauma  Hospital_code  ToA_Urgent  \\\n",
       "0             3095.0           1           0             21           0   \n",
       "1             4018.0           1           1             29           0   \n",
       "2             4492.0           1           0             26           0   \n",
       "3             4173.0           1           1              6           0   \n",
       "4             4161.0           1           1             28           0   \n",
       "5             4659.0           1           1             23           0   \n",
       "6             4167.0           1           1             26           0   \n",
       "7             4396.0           0           0             25           0   \n",
       "8             4088.0           0           1             23           0   \n",
       "9             3925.0           0           0             23           1   \n",
       "\n",
       "   Dep_anesthesia  Bed_Grade  Dep_radiotherapy   Stay  \n",
       "0               0        2.0                 0   0-40  \n",
       "1               0        2.0                 0  41-70  \n",
       "2               0        4.0                 0   0-40  \n",
       "3               0        2.0                 0   0-40  \n",
       "4               0        2.0                 0  41-70  \n",
       "5               0        2.0                 0   0-40  \n",
       "6               0        2.0                 0   0-40  \n",
       "7               0        3.0                 0   0-40  \n",
       "8               0        3.0                 0   0-40  \n",
       "9               0        4.0                 0   0-40  "
      ]
     },
     "execution_count": 334,
     "metadata": {},
     "output_type": "execute_result"
    }
   ],
   "source": [
    "df_test_final_w_preds.head(10)"
   ]
  },
  {
   "cell_type": "markdown",
   "id": "83494186",
   "metadata": {
    "id": "83494186"
   },
   "source": [
    "### Grouped Display of the 3 stay categories and a count of how many were predicted for each in the final unlabeled dataset:"
   ]
  },
  {
   "cell_type": "code",
   "execution_count": 329,
   "id": "b627b32a",
   "metadata": {
    "colab": {
     "base_uri": "https://localhost:8080/",
     "height": 175
    },
    "id": "b627b32a",
    "outputId": "1de601e7-e60f-480c-d981-bf4ea84a8112"
   },
   "outputs": [
    {
     "data": {
      "text/html": [
       "<div>\n",
       "<style scoped>\n",
       "    .dataframe tbody tr th:only-of-type {\n",
       "        vertical-align: middle;\n",
       "    }\n",
       "\n",
       "    .dataframe tbody tr th {\n",
       "        vertical-align: top;\n",
       "    }\n",
       "\n",
       "    .dataframe thead th {\n",
       "        text-align: right;\n",
       "    }\n",
       "</style>\n",
       "<table border=\"1\" class=\"dataframe\">\n",
       "  <thead>\n",
       "    <tr style=\"text-align: right;\">\n",
       "      <th></th>\n",
       "      <th>Count</th>\n",
       "    </tr>\n",
       "    <tr>\n",
       "      <th>Stay</th>\n",
       "      <th></th>\n",
       "    </tr>\n",
       "  </thead>\n",
       "  <tbody>\n",
       "    <tr>\n",
       "      <th>0-40</th>\n",
       "      <td>121909</td>\n",
       "    </tr>\n",
       "    <tr>\n",
       "      <th>41-70</th>\n",
       "      <td>9264</td>\n",
       "    </tr>\n",
       "    <tr>\n",
       "      <th>More than 70 Days</th>\n",
       "      <td>5884</td>\n",
       "    </tr>\n",
       "  </tbody>\n",
       "</table>\n",
       "</div>"
      ],
      "text/plain": [
       "                    Count\n",
       "Stay                     \n",
       "0-40               121909\n",
       "41-70                9264\n",
       "More than 70 Days    5884"
      ]
     },
     "execution_count": 329,
     "metadata": {},
     "output_type": "execute_result"
    }
   ],
   "source": [
    "#Create grouped dataframe of predictions  showing how many were made of each category\n",
    "\n",
    "df_grouped_count_test_final = pd.DataFrame(df_test_final_w_preds.groupby(['Stay'])['Stay'].count())\n",
    "\n",
    "df_grouped_count_test_final = df_grouped_count_test_final.set_axis([\"Count\"], axis=1)\n",
    "\n",
    "df_grouped_count_test_final"
   ]
  }
 ],
 "metadata": {
  "colab": {
   "collapsed_sections": [],
   "name": "Milestone3_Var_Sel_&_Data_Mod_v1_3.ipynb",
   "provenance": []
  },
  "kernelspec": {
   "display_name": "Python 3 (ipykernel)",
   "language": "python",
   "name": "python3"
  },
  "language_info": {
   "codemirror_mode": {
    "name": "ipython",
    "version": 3
   },
   "file_extension": ".py",
   "mimetype": "text/x-python",
   "name": "python",
   "nbconvert_exporter": "python",
   "pygments_lexer": "ipython3",
   "version": "3.8.13"
  }
 },
 "nbformat": 4,
 "nbformat_minor": 5
}
