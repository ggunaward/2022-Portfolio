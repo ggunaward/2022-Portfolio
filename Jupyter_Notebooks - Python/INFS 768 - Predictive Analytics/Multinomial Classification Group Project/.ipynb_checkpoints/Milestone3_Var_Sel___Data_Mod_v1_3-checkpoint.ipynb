{
 "cells": [
  {
   "cell_type": "code",
   "execution_count": 7,
   "id": "2zOyOKjKsawI",
   "metadata": {
    "colab": {
     "base_uri": "https://localhost:8080/"
    },
    "id": "2zOyOKjKsawI",
    "outputId": "76190064-f5d8-48e4-a382-4de7557c7b26"
   },
   "outputs": [
    {
     "name": "stdout",
     "output_type": "stream",
     "text": [
      "Drive already mounted at /content/drive; to attempt to forcibly remount, call drive.mount(\"/content/drive\", force_remount=True).\n"
     ]
    }
   ],
   "source": [
    "from google.colab import drive\n",
    "drive.mount('/content/drive')"
   ]
  },
  {
   "cell_type": "markdown",
   "id": "_qDCbWI_F9mj",
   "metadata": {
    "id": "_qDCbWI_F9mj"
   },
   "source": [
    "# Importing Libraries"
   ]
  },
  {
   "cell_type": "code",
   "execution_count": 8,
   "id": "85ade42a",
   "metadata": {
    "id": "85ade42a"
   },
   "outputs": [],
   "source": [
    "#Import libraries\n",
    "import pandas as pd\n",
    "import numpy as np\n",
    "import seaborn as sns\n",
    "from sklearn.model_selection import train_test_split\n",
    "from sklearn.preprocessing import StandardScaler"
   ]
  },
  {
   "cell_type": "markdown",
   "id": "AUFUqDzQGCfv",
   "metadata": {
    "id": "AUFUqDzQGCfv"
   },
   "source": [
    "# Importing data"
   ]
  },
  {
   "cell_type": "code",
   "execution_count": 9,
   "id": "f094e4dc",
   "metadata": {
    "colab": {
     "base_uri": "https://localhost:8080/"
    },
    "id": "f094e4dc",
    "outputId": "44c697c6-1f46-4eb4-f66a-cf60251081a9"
   },
   "outputs": [
    {
     "name": "stdout",
     "output_type": "stream",
     "text": [
      "<class 'pandas.core.frame.DataFrame'>\n",
      "RangeIndex: 318438 entries, 0 to 318437\n",
      "Data columns (total 18 columns):\n",
      " #   Column                             Non-Null Count   Dtype  \n",
      "---  ------                             --------------   -----  \n",
      " 0   case_id                            318438 non-null  int64  \n",
      " 1   Hospital_code                      318438 non-null  int64  \n",
      " 2   Hospital_type_code                 318438 non-null  object \n",
      " 3   City_Code_Hospital                 318438 non-null  int64  \n",
      " 4   Hospital_region_code               318438 non-null  object \n",
      " 5   Available Extra Rooms in Hospital  318438 non-null  int64  \n",
      " 6   Department                         318438 non-null  object \n",
      " 7   Ward_Type                          318438 non-null  object \n",
      " 8   Ward_Facility_Code                 318438 non-null  object \n",
      " 9   Bed Grade                          318325 non-null  float64\n",
      " 10  patientid                          318438 non-null  int64  \n",
      " 11  City_Code_Patient                  313906 non-null  float64\n",
      " 12  Type of Admission                  318438 non-null  object \n",
      " 13  Severity of Illness                318438 non-null  object \n",
      " 14  Visitors with Patient              318438 non-null  int64  \n",
      " 15  Age                                318438 non-null  object \n",
      " 16  Admission_Deposit                  318438 non-null  float64\n",
      " 17  Stay                               318438 non-null  object \n",
      "dtypes: float64(3), int64(6), object(9)\n",
      "memory usage: 43.7+ MB\n",
      "<class 'pandas.core.frame.DataFrame'>\n",
      "RangeIndex: 57074 entries, 0 to 57073\n",
      "Data columns (total 17 columns):\n",
      " #   Column                             Non-Null Count  Dtype  \n",
      "---  ------                             --------------  -----  \n",
      " 0   case_id                            57074 non-null  int64  \n",
      " 1   Hospital_code                      57074 non-null  int64  \n",
      " 2   Hospital_type_code                 57074 non-null  object \n",
      " 3   City_Code_Hospital                 57074 non-null  int64  \n",
      " 4   Hospital_region_code               57074 non-null  object \n",
      " 5   Available Extra Rooms in Hospital  57074 non-null  int64  \n",
      " 6   Department                         57074 non-null  object \n",
      " 7   Ward_Type                          57073 non-null  object \n",
      " 8   Ward_Facility_Code                 57073 non-null  object \n",
      " 9   Bed Grade                          57065 non-null  float64\n",
      " 10  patientid                          57073 non-null  float64\n",
      " 11  City_Code_Patient                  56354 non-null  float64\n",
      " 12  Type of Admission                  57073 non-null  object \n",
      " 13  Severity of Illness                57073 non-null  object \n",
      " 14  Visitors with Patient              57073 non-null  float64\n",
      " 15  Age                                57073 non-null  object \n",
      " 16  Admission_Deposit                  57073 non-null  float64\n",
      "dtypes: float64(5), int64(4), object(8)\n",
      "memory usage: 7.4+ MB\n"
     ]
    }
   ],
   "source": [
    "df_train_initial = pd.read_csv('/content/drive/MyDrive/Colab Notebooks/ColabDataset/HealthCareAnalytics/train_data.csv')\n",
    "df_test_initial = pd.read_csv('/content/drive/MyDrive/Colab Notebooks/ColabDataset/HealthCareAnalytics/test_data.csv')\n",
    "df_train_initial.info()\n",
    "df_test_initial.info()"
   ]
  },
  {
   "cell_type": "markdown",
   "id": "9539e66a",
   "metadata": {
    "id": "9539e66a"
   },
   "source": [
    "### Data Categorization of variables in the dataset\n",
    "* Columns \n",
    "  + case_id\n",
    "      - ordinal\n",
    "      - discrete\n",
    "  + Hospital_code\n",
    "      - nominal\n",
    "      - discrete\n",
    "  + Hospital_type_code\n",
    "      - categorical\n",
    "  + City_Code_Hospital\n",
    "      - nominal\n",
    "      - discrete\n",
    "  + Hospital_region_code  \n",
    "      - categorical\n",
    "  + Available Extra Rooms in Hospital\n",
    "      - nominal\n",
    "      - discrete\n",
    "  + Department \n",
    "      - categorical\n",
    "  + Ward_Type   \n",
    "      - categorical\n",
    "  + Ward_Facility_Code\n",
    "      - categorical\n",
    "  + Bed Grade\n",
    "      - ordinal\n",
    "      - discrete\n",
    "  + patientid  \n",
    "      - nominal\n",
    "      - discrete\n",
    "  + City_Code_Patient\n",
    "      - nominal\n",
    "      - discrete\n",
    "  + Type of Admission\n",
    "      - categorical\n",
    "  + Severity of Illness\n",
    "      - categorical\n",
    "  + Visitors with Patient\n",
    "      - nominal\n",
    "      - discrete\n",
    "  + Age        \n",
    "      - categorical\n",
    "  + Admission_Deposit\n",
    "      - nominal\n",
    "      - discrete\n",
    "  + Stay\n",
    "      - categorical"
   ]
  },
  {
   "cell_type": "markdown",
   "id": "JqZLE_ynGLtz",
   "metadata": {
    "id": "JqZLE_ynGLtz"
   },
   "source": [
    "# Data Preprocessing"
   ]
  },
  {
   "cell_type": "markdown",
   "id": "T4brN-9-GQ6u",
   "metadata": {
    "id": "T4brN-9-GQ6u"
   },
   "source": [
    "**Identifying missing value and outlier treatment**"
   ]
  },
  {
   "cell_type": "code",
   "execution_count": 10,
   "id": "95213bb6",
   "metadata": {
    "colab": {
     "base_uri": "https://localhost:8080/"
    },
    "id": "95213bb6",
    "outputId": "0b8fcf43-6c23-4694-a725-2f4554fdd30d"
   },
   "outputs": [
    {
     "data": {
      "text/plain": [
       "case_id                                 0\n",
       "Hospital_code                           0\n",
       "Hospital_type_code                      0\n",
       "City_Code_Hospital                      0\n",
       "Hospital_region_code                    0\n",
       "Available Extra Rooms in Hospital       0\n",
       "Department                              0\n",
       "Ward_Type                               0\n",
       "Ward_Facility_Code                      0\n",
       "Bed Grade                             113\n",
       "patientid                               0\n",
       "City_Code_Patient                    4532\n",
       "Type of Admission                       0\n",
       "Severity of Illness                     0\n",
       "Visitors with Patient                   0\n",
       "Age                                     0\n",
       "Admission_Deposit                       0\n",
       "Stay                                    0\n",
       "dtype: int64"
      ]
     },
     "execution_count": 10,
     "metadata": {},
     "output_type": "execute_result"
    }
   ],
   "source": [
    "#Looking for null values in the training data set\n",
    "df_train_initial.isnull().sum()"
   ]
  },
  {
   "cell_type": "code",
   "execution_count": 11,
   "id": "EEAUqUAzLXNq",
   "metadata": {
    "colab": {
     "base_uri": "https://localhost:8080/"
    },
    "id": "EEAUqUAzLXNq",
    "outputId": "3d2ad446-9cc9-4b1a-9274-1cf76098f678"
   },
   "outputs": [
    {
     "data": {
      "text/plain": [
       "case_id                                0\n",
       "Hospital_code                          0\n",
       "Hospital_type_code                     0\n",
       "City_Code_Hospital                     0\n",
       "Hospital_region_code                   0\n",
       "Available Extra Rooms in Hospital      0\n",
       "Department                             0\n",
       "Ward_Type                              1\n",
       "Ward_Facility_Code                     1\n",
       "Bed Grade                              9\n",
       "patientid                              1\n",
       "City_Code_Patient                    720\n",
       "Type of Admission                      1\n",
       "Severity of Illness                    1\n",
       "Visitors with Patient                  1\n",
       "Age                                    1\n",
       "Admission_Deposit                      1\n",
       "dtype: int64"
      ]
     },
     "execution_count": 11,
     "metadata": {},
     "output_type": "execute_result"
    }
   ],
   "source": [
    "df_test_initial.isnull().sum()"
   ]
  },
  {
   "cell_type": "markdown",
   "id": "44c8b7a6",
   "metadata": {
    "id": "44c8b7a6"
   },
   "source": [
    "For the missing values in Bed Grade the mean value was used to impute on the missing values. For City Code Patient the mode value was used to impute. The mode value makes up about 39.5% at 124,011 values of the city code values so adding 4,532 of that value should have the most minimal impact on model performance. "
   ]
  },
  {
   "cell_type": "code",
   "execution_count": 12,
   "id": "eaf03cf7",
   "metadata": {
    "colab": {
     "base_uri": "https://localhost:8080/",
     "height": 652
    },
    "id": "eaf03cf7",
    "outputId": "6974df0b-f8c0-4f4a-9337-4dacde189a86",
    "scrolled": true
   },
   "outputs": [
    {
     "data": {
      "text/html": [
       "<div>\n",
       "<style scoped>\n",
       "    .dataframe tbody tr th:only-of-type {\n",
       "        vertical-align: middle;\n",
       "    }\n",
       "\n",
       "    .dataframe tbody tr th {\n",
       "        vertical-align: top;\n",
       "    }\n",
       "\n",
       "    .dataframe thead th {\n",
       "        text-align: right;\n",
       "    }\n",
       "</style>\n",
       "<table border=\"1\" class=\"dataframe\">\n",
       "  <thead>\n",
       "    <tr style=\"text-align: right;\">\n",
       "      <th></th>\n",
       "      <th>case_id</th>\n",
       "      <th>Hospital_code</th>\n",
       "      <th>Hospital_type_code</th>\n",
       "      <th>City_Code_Hospital</th>\n",
       "      <th>Hospital_region_code</th>\n",
       "      <th>Available Extra Rooms in Hospital</th>\n",
       "      <th>Department</th>\n",
       "      <th>Ward_Type</th>\n",
       "      <th>Ward_Facility_Code</th>\n",
       "      <th>Bed Grade</th>\n",
       "      <th>patientid</th>\n",
       "      <th>City_Code_Patient</th>\n",
       "      <th>Type of Admission</th>\n",
       "      <th>Severity of Illness</th>\n",
       "      <th>Visitors with Patient</th>\n",
       "      <th>Age</th>\n",
       "      <th>Admission_Deposit</th>\n",
       "    </tr>\n",
       "  </thead>\n",
       "  <tbody>\n",
       "    <tr>\n",
       "      <th>0</th>\n",
       "      <td>318439</td>\n",
       "      <td>21</td>\n",
       "      <td>c</td>\n",
       "      <td>3</td>\n",
       "      <td>Z</td>\n",
       "      <td>3</td>\n",
       "      <td>gynecology</td>\n",
       "      <td>S</td>\n",
       "      <td>A</td>\n",
       "      <td>2.000000</td>\n",
       "      <td>17006.0</td>\n",
       "      <td>2.0</td>\n",
       "      <td>Emergency</td>\n",
       "      <td>Moderate</td>\n",
       "      <td>2.0</td>\n",
       "      <td>71-80</td>\n",
       "      <td>3095.0</td>\n",
       "    </tr>\n",
       "    <tr>\n",
       "      <th>1</th>\n",
       "      <td>318440</td>\n",
       "      <td>29</td>\n",
       "      <td>a</td>\n",
       "      <td>4</td>\n",
       "      <td>X</td>\n",
       "      <td>2</td>\n",
       "      <td>gynecology</td>\n",
       "      <td>S</td>\n",
       "      <td>F</td>\n",
       "      <td>2.000000</td>\n",
       "      <td>17006.0</td>\n",
       "      <td>2.0</td>\n",
       "      <td>Trauma</td>\n",
       "      <td>Moderate</td>\n",
       "      <td>4.0</td>\n",
       "      <td>71-80</td>\n",
       "      <td>4018.0</td>\n",
       "    </tr>\n",
       "    <tr>\n",
       "      <th>2</th>\n",
       "      <td>318441</td>\n",
       "      <td>26</td>\n",
       "      <td>b</td>\n",
       "      <td>2</td>\n",
       "      <td>Y</td>\n",
       "      <td>3</td>\n",
       "      <td>gynecology</td>\n",
       "      <td>Q</td>\n",
       "      <td>D</td>\n",
       "      <td>4.000000</td>\n",
       "      <td>17006.0</td>\n",
       "      <td>2.0</td>\n",
       "      <td>Emergency</td>\n",
       "      <td>Moderate</td>\n",
       "      <td>3.0</td>\n",
       "      <td>71-80</td>\n",
       "      <td>4492.0</td>\n",
       "    </tr>\n",
       "    <tr>\n",
       "      <th>3</th>\n",
       "      <td>318442</td>\n",
       "      <td>6</td>\n",
       "      <td>a</td>\n",
       "      <td>6</td>\n",
       "      <td>X</td>\n",
       "      <td>3</td>\n",
       "      <td>gynecology</td>\n",
       "      <td>Q</td>\n",
       "      <td>F</td>\n",
       "      <td>2.000000</td>\n",
       "      <td>17006.0</td>\n",
       "      <td>2.0</td>\n",
       "      <td>Trauma</td>\n",
       "      <td>Moderate</td>\n",
       "      <td>3.0</td>\n",
       "      <td>71-80</td>\n",
       "      <td>4173.0</td>\n",
       "    </tr>\n",
       "    <tr>\n",
       "      <th>4</th>\n",
       "      <td>318443</td>\n",
       "      <td>28</td>\n",
       "      <td>b</td>\n",
       "      <td>11</td>\n",
       "      <td>X</td>\n",
       "      <td>2</td>\n",
       "      <td>gynecology</td>\n",
       "      <td>R</td>\n",
       "      <td>F</td>\n",
       "      <td>2.000000</td>\n",
       "      <td>17006.0</td>\n",
       "      <td>2.0</td>\n",
       "      <td>Trauma</td>\n",
       "      <td>Moderate</td>\n",
       "      <td>4.0</td>\n",
       "      <td>71-80</td>\n",
       "      <td>4161.0</td>\n",
       "    </tr>\n",
       "    <tr>\n",
       "      <th>...</th>\n",
       "      <td>...</td>\n",
       "      <td>...</td>\n",
       "      <td>...</td>\n",
       "      <td>...</td>\n",
       "      <td>...</td>\n",
       "      <td>...</td>\n",
       "      <td>...</td>\n",
       "      <td>...</td>\n",
       "      <td>...</td>\n",
       "      <td>...</td>\n",
       "      <td>...</td>\n",
       "      <td>...</td>\n",
       "      <td>...</td>\n",
       "      <td>...</td>\n",
       "      <td>...</td>\n",
       "      <td>...</td>\n",
       "      <td>...</td>\n",
       "    </tr>\n",
       "    <tr>\n",
       "      <th>57069</th>\n",
       "      <td>358322</td>\n",
       "      <td>15</td>\n",
       "      <td>c</td>\n",
       "      <td>5</td>\n",
       "      <td>Z</td>\n",
       "      <td>1</td>\n",
       "      <td>radiotherapy</td>\n",
       "      <td>R</td>\n",
       "      <td>F</td>\n",
       "      <td>2.000000</td>\n",
       "      <td>42901.0</td>\n",
       "      <td>8.0</td>\n",
       "      <td>Trauma</td>\n",
       "      <td>Extreme</td>\n",
       "      <td>1.0</td>\n",
       "      <td>71-80</td>\n",
       "      <td>6135.0</td>\n",
       "    </tr>\n",
       "    <tr>\n",
       "      <th>57070</th>\n",
       "      <td>358323</td>\n",
       "      <td>6</td>\n",
       "      <td>a</td>\n",
       "      <td>6</td>\n",
       "      <td>X</td>\n",
       "      <td>1</td>\n",
       "      <td>gynecology</td>\n",
       "      <td>R</td>\n",
       "      <td>F</td>\n",
       "      <td>2.000000</td>\n",
       "      <td>42901.0</td>\n",
       "      <td>8.0</td>\n",
       "      <td>Emergency</td>\n",
       "      <td>Extreme</td>\n",
       "      <td>8.0</td>\n",
       "      <td>71-80</td>\n",
       "      <td>2838.0</td>\n",
       "    </tr>\n",
       "    <tr>\n",
       "      <th>57071</th>\n",
       "      <td>358324</td>\n",
       "      <td>28</td>\n",
       "      <td>b</td>\n",
       "      <td>11</td>\n",
       "      <td>X</td>\n",
       "      <td>2</td>\n",
       "      <td>gynecology</td>\n",
       "      <td>R</td>\n",
       "      <td>F</td>\n",
       "      <td>2.000000</td>\n",
       "      <td>42901.0</td>\n",
       "      <td>8.0</td>\n",
       "      <td>Emergency</td>\n",
       "      <td>Extreme</td>\n",
       "      <td>3.0</td>\n",
       "      <td>71-80</td>\n",
       "      <td>7199.0</td>\n",
       "    </tr>\n",
       "    <tr>\n",
       "      <th>57072</th>\n",
       "      <td>358325</td>\n",
       "      <td>28</td>\n",
       "      <td>b</td>\n",
       "      <td>11</td>\n",
       "      <td>X</td>\n",
       "      <td>1</td>\n",
       "      <td>gynecology</td>\n",
       "      <td>R</td>\n",
       "      <td>F</td>\n",
       "      <td>2.000000</td>\n",
       "      <td>42901.0</td>\n",
       "      <td>8.0</td>\n",
       "      <td>Emergency</td>\n",
       "      <td>Extreme</td>\n",
       "      <td>3.0</td>\n",
       "      <td>71-80</td>\n",
       "      <td>4277.0</td>\n",
       "    </tr>\n",
       "    <tr>\n",
       "      <th>57073</th>\n",
       "      <td>358326</td>\n",
       "      <td>19</td>\n",
       "      <td>a</td>\n",
       "      <td>7</td>\n",
       "      <td>Y</td>\n",
       "      <td>4</td>\n",
       "      <td>gynec</td>\n",
       "      <td>0</td>\n",
       "      <td>0</td>\n",
       "      <td>2.635994</td>\n",
       "      <td>0.0</td>\n",
       "      <td>0.0</td>\n",
       "      <td>0</td>\n",
       "      <td>0</td>\n",
       "      <td>0.0</td>\n",
       "      <td>0</td>\n",
       "      <td>0.0</td>\n",
       "    </tr>\n",
       "  </tbody>\n",
       "</table>\n",
       "<p>57074 rows × 17 columns</p>\n",
       "</div>"
      ],
      "text/plain": [
       "       case_id  Hospital_code  ...    Age  Admission_Deposit\n",
       "0       318439             21  ...  71-80             3095.0\n",
       "1       318440             29  ...  71-80             4018.0\n",
       "2       318441             26  ...  71-80             4492.0\n",
       "3       318442              6  ...  71-80             4173.0\n",
       "4       318443             28  ...  71-80             4161.0\n",
       "...        ...            ...  ...    ...                ...\n",
       "57069   358322             15  ...  71-80             6135.0\n",
       "57070   358323              6  ...  71-80             2838.0\n",
       "57071   358324             28  ...  71-80             7199.0\n",
       "57072   358325             28  ...  71-80             4277.0\n",
       "57073   358326             19  ...      0                0.0\n",
       "\n",
       "[57074 rows x 17 columns]"
      ]
     },
     "execution_count": 12,
     "metadata": {},
     "output_type": "execute_result"
    }
   ],
   "source": [
    "#Doing Value Imputation \n",
    "from sklearn.impute import SimpleImputer\n",
    "\n",
    "\n",
    "#imputing for the train dataset\n",
    "impute_mean = SimpleImputer(missing_values=np.nan, strategy='mean')\n",
    "df_train_initial[\"Bed Grade\"] = impute_mean.fit_transform(df_train_initial[[\"Bed Grade\"]]).ravel()\n",
    "\n",
    "impute_mode = SimpleImputer(missing_values=np.nan, strategy='most_frequent')\n",
    "df_train_initial[\"City_Code_Patient\"] = impute_mode.fit_transform(df_train_initial[[\"City_Code_Patient\"]]).ravel()\n",
    "\n",
    "\n",
    "#imputing for the test dataset\n",
    "impute_mean = SimpleImputer(missing_values=np.nan, strategy='mean')\n",
    "df_test_initial[\"Bed Grade\"] = impute_mean.fit_transform(df_test_initial[[\"Bed Grade\"]]).ravel()\n",
    "\n",
    "#impute_mode = SimpleImputer(missing_values=np.nan, strategy='most_frequent')\n",
    "#df_train_initial[\"City_Code_Patient\"] = impute_mode.fit_transform(df_train_initial[[\"City_Code_Patient\"]]).ravel()\n",
    "\n",
    "\n",
    "\n",
    "df_test_initial.replace(np.nan, 0)\n"
   ]
  },
  {
   "cell_type": "code",
   "execution_count": 13,
   "id": "f93e25ee",
   "metadata": {
    "colab": {
     "base_uri": "https://localhost:8080/",
     "height": 669
    },
    "id": "f93e25ee",
    "outputId": "8129694e-7377-4de4-ab8c-06b689bd594b"
   },
   "outputs": [
    {
     "data": {
      "text/html": [
       "<div>\n",
       "<style scoped>\n",
       "    .dataframe tbody tr th:only-of-type {\n",
       "        vertical-align: middle;\n",
       "    }\n",
       "\n",
       "    .dataframe tbody tr th {\n",
       "        vertical-align: top;\n",
       "    }\n",
       "\n",
       "    .dataframe thead th {\n",
       "        text-align: right;\n",
       "    }\n",
       "</style>\n",
       "<table border=\"1\" class=\"dataframe\">\n",
       "  <thead>\n",
       "    <tr style=\"text-align: right;\">\n",
       "      <th></th>\n",
       "      <th>case_id</th>\n",
       "      <th>Hospital_code</th>\n",
       "      <th>Hospital_type_code</th>\n",
       "      <th>City_Code_Hospital</th>\n",
       "      <th>Hospital_region_code</th>\n",
       "      <th>Available Extra Rooms in Hospital</th>\n",
       "      <th>Department</th>\n",
       "      <th>Ward_Type</th>\n",
       "      <th>Ward_Facility_Code</th>\n",
       "      <th>Bed Grade</th>\n",
       "      <th>patientid</th>\n",
       "      <th>City_Code_Patient</th>\n",
       "      <th>Type of Admission</th>\n",
       "      <th>Severity of Illness</th>\n",
       "      <th>Visitors with Patient</th>\n",
       "      <th>Age</th>\n",
       "      <th>Admission_Deposit</th>\n",
       "      <th>Stay</th>\n",
       "    </tr>\n",
       "  </thead>\n",
       "  <tbody>\n",
       "    <tr>\n",
       "      <th>0</th>\n",
       "      <td>1</td>\n",
       "      <td>8</td>\n",
       "      <td>c</td>\n",
       "      <td>3</td>\n",
       "      <td>Z</td>\n",
       "      <td>3</td>\n",
       "      <td>radiotherapy</td>\n",
       "      <td>R</td>\n",
       "      <td>F</td>\n",
       "      <td>2.0</td>\n",
       "      <td>31397</td>\n",
       "      <td>7.0</td>\n",
       "      <td>Emergency</td>\n",
       "      <td>Extreme</td>\n",
       "      <td>2</td>\n",
       "      <td>51-60</td>\n",
       "      <td>4911.0</td>\n",
       "      <td>0-10</td>\n",
       "    </tr>\n",
       "    <tr>\n",
       "      <th>1</th>\n",
       "      <td>2</td>\n",
       "      <td>2</td>\n",
       "      <td>c</td>\n",
       "      <td>5</td>\n",
       "      <td>Z</td>\n",
       "      <td>2</td>\n",
       "      <td>radiotherapy</td>\n",
       "      <td>S</td>\n",
       "      <td>F</td>\n",
       "      <td>2.0</td>\n",
       "      <td>31397</td>\n",
       "      <td>7.0</td>\n",
       "      <td>Trauma</td>\n",
       "      <td>Extreme</td>\n",
       "      <td>2</td>\n",
       "      <td>51-60</td>\n",
       "      <td>5954.0</td>\n",
       "      <td>41-50</td>\n",
       "    </tr>\n",
       "    <tr>\n",
       "      <th>2</th>\n",
       "      <td>3</td>\n",
       "      <td>10</td>\n",
       "      <td>e</td>\n",
       "      <td>1</td>\n",
       "      <td>X</td>\n",
       "      <td>2</td>\n",
       "      <td>anesthesia</td>\n",
       "      <td>S</td>\n",
       "      <td>E</td>\n",
       "      <td>2.0</td>\n",
       "      <td>31397</td>\n",
       "      <td>7.0</td>\n",
       "      <td>Trauma</td>\n",
       "      <td>Extreme</td>\n",
       "      <td>2</td>\n",
       "      <td>51-60</td>\n",
       "      <td>4745.0</td>\n",
       "      <td>31-40</td>\n",
       "    </tr>\n",
       "    <tr>\n",
       "      <th>3</th>\n",
       "      <td>4</td>\n",
       "      <td>26</td>\n",
       "      <td>b</td>\n",
       "      <td>2</td>\n",
       "      <td>Y</td>\n",
       "      <td>2</td>\n",
       "      <td>radiotherapy</td>\n",
       "      <td>R</td>\n",
       "      <td>D</td>\n",
       "      <td>2.0</td>\n",
       "      <td>31397</td>\n",
       "      <td>7.0</td>\n",
       "      <td>Trauma</td>\n",
       "      <td>Extreme</td>\n",
       "      <td>2</td>\n",
       "      <td>51-60</td>\n",
       "      <td>7272.0</td>\n",
       "      <td>41-50</td>\n",
       "    </tr>\n",
       "    <tr>\n",
       "      <th>4</th>\n",
       "      <td>5</td>\n",
       "      <td>26</td>\n",
       "      <td>b</td>\n",
       "      <td>2</td>\n",
       "      <td>Y</td>\n",
       "      <td>2</td>\n",
       "      <td>radiotherapy</td>\n",
       "      <td>S</td>\n",
       "      <td>D</td>\n",
       "      <td>2.0</td>\n",
       "      <td>31397</td>\n",
       "      <td>7.0</td>\n",
       "      <td>Trauma</td>\n",
       "      <td>Extreme</td>\n",
       "      <td>2</td>\n",
       "      <td>51-60</td>\n",
       "      <td>5558.0</td>\n",
       "      <td>41-50</td>\n",
       "    </tr>\n",
       "    <tr>\n",
       "      <th>...</th>\n",
       "      <td>...</td>\n",
       "      <td>...</td>\n",
       "      <td>...</td>\n",
       "      <td>...</td>\n",
       "      <td>...</td>\n",
       "      <td>...</td>\n",
       "      <td>...</td>\n",
       "      <td>...</td>\n",
       "      <td>...</td>\n",
       "      <td>...</td>\n",
       "      <td>...</td>\n",
       "      <td>...</td>\n",
       "      <td>...</td>\n",
       "      <td>...</td>\n",
       "      <td>...</td>\n",
       "      <td>...</td>\n",
       "      <td>...</td>\n",
       "      <td>...</td>\n",
       "    </tr>\n",
       "    <tr>\n",
       "      <th>318433</th>\n",
       "      <td>318434</td>\n",
       "      <td>6</td>\n",
       "      <td>a</td>\n",
       "      <td>6</td>\n",
       "      <td>X</td>\n",
       "      <td>3</td>\n",
       "      <td>radiotherapy</td>\n",
       "      <td>Q</td>\n",
       "      <td>F</td>\n",
       "      <td>4.0</td>\n",
       "      <td>86499</td>\n",
       "      <td>23.0</td>\n",
       "      <td>Emergency</td>\n",
       "      <td>Moderate</td>\n",
       "      <td>3</td>\n",
       "      <td>41-50</td>\n",
       "      <td>4144.0</td>\n",
       "      <td>11-20</td>\n",
       "    </tr>\n",
       "    <tr>\n",
       "      <th>318434</th>\n",
       "      <td>318435</td>\n",
       "      <td>24</td>\n",
       "      <td>a</td>\n",
       "      <td>1</td>\n",
       "      <td>X</td>\n",
       "      <td>2</td>\n",
       "      <td>anesthesia</td>\n",
       "      <td>Q</td>\n",
       "      <td>E</td>\n",
       "      <td>4.0</td>\n",
       "      <td>325</td>\n",
       "      <td>8.0</td>\n",
       "      <td>Urgent</td>\n",
       "      <td>Moderate</td>\n",
       "      <td>4</td>\n",
       "      <td>81-90</td>\n",
       "      <td>6699.0</td>\n",
       "      <td>31-40</td>\n",
       "    </tr>\n",
       "    <tr>\n",
       "      <th>318435</th>\n",
       "      <td>318436</td>\n",
       "      <td>7</td>\n",
       "      <td>a</td>\n",
       "      <td>4</td>\n",
       "      <td>X</td>\n",
       "      <td>3</td>\n",
       "      <td>gynecology</td>\n",
       "      <td>R</td>\n",
       "      <td>F</td>\n",
       "      <td>4.0</td>\n",
       "      <td>125235</td>\n",
       "      <td>10.0</td>\n",
       "      <td>Emergency</td>\n",
       "      <td>Minor</td>\n",
       "      <td>3</td>\n",
       "      <td>71-80</td>\n",
       "      <td>4235.0</td>\n",
       "      <td>11-20</td>\n",
       "    </tr>\n",
       "    <tr>\n",
       "      <th>318436</th>\n",
       "      <td>318437</td>\n",
       "      <td>11</td>\n",
       "      <td>b</td>\n",
       "      <td>2</td>\n",
       "      <td>Y</td>\n",
       "      <td>3</td>\n",
       "      <td>anesthesia</td>\n",
       "      <td>Q</td>\n",
       "      <td>D</td>\n",
       "      <td>3.0</td>\n",
       "      <td>91081</td>\n",
       "      <td>8.0</td>\n",
       "      <td>Trauma</td>\n",
       "      <td>Minor</td>\n",
       "      <td>5</td>\n",
       "      <td>11-20</td>\n",
       "      <td>3761.0</td>\n",
       "      <td>11-20</td>\n",
       "    </tr>\n",
       "    <tr>\n",
       "      <th>318437</th>\n",
       "      <td>318438</td>\n",
       "      <td>19</td>\n",
       "      <td>a</td>\n",
       "      <td>7</td>\n",
       "      <td>Y</td>\n",
       "      <td>5</td>\n",
       "      <td>gynecology</td>\n",
       "      <td>Q</td>\n",
       "      <td>C</td>\n",
       "      <td>2.0</td>\n",
       "      <td>21641</td>\n",
       "      <td>8.0</td>\n",
       "      <td>Emergency</td>\n",
       "      <td>Minor</td>\n",
       "      <td>2</td>\n",
       "      <td>11-20</td>\n",
       "      <td>4752.0</td>\n",
       "      <td>0-10</td>\n",
       "    </tr>\n",
       "  </tbody>\n",
       "</table>\n",
       "<p>318438 rows × 18 columns</p>\n",
       "</div>"
      ],
      "text/plain": [
       "        case_id  Hospital_code  ... Admission_Deposit   Stay\n",
       "0             1              8  ...            4911.0   0-10\n",
       "1             2              2  ...            5954.0  41-50\n",
       "2             3             10  ...            4745.0  31-40\n",
       "3             4             26  ...            7272.0  41-50\n",
       "4             5             26  ...            5558.0  41-50\n",
       "...         ...            ...  ...               ...    ...\n",
       "318433   318434              6  ...            4144.0  11-20\n",
       "318434   318435             24  ...            6699.0  31-40\n",
       "318435   318436              7  ...            4235.0  11-20\n",
       "318436   318437             11  ...            3761.0  11-20\n",
       "318437   318438             19  ...            4752.0   0-10\n",
       "\n",
       "[318438 rows x 18 columns]"
      ]
     },
     "execution_count": 13,
     "metadata": {},
     "output_type": "execute_result"
    }
   ],
   "source": [
    "df_train_initial.replace(np.nan, 0)"
   ]
  },
  {
   "cell_type": "code",
   "execution_count": 14,
   "id": "56413051",
   "metadata": {
    "colab": {
     "base_uri": "https://localhost:8080/"
    },
    "id": "56413051",
    "outputId": "c6a437c9-b7d4-4d51-946f-6ef610aa8cf2"
   },
   "outputs": [
    {
     "data": {
      "text/plain": [
       "case_id                              0\n",
       "Hospital_code                        0\n",
       "Hospital_type_code                   0\n",
       "City_Code_Hospital                   0\n",
       "Hospital_region_code                 0\n",
       "Available Extra Rooms in Hospital    0\n",
       "Department                           0\n",
       "Ward_Type                            0\n",
       "Ward_Facility_Code                   0\n",
       "Bed Grade                            0\n",
       "patientid                            0\n",
       "City_Code_Patient                    0\n",
       "Type of Admission                    0\n",
       "Severity of Illness                  0\n",
       "Visitors with Patient                0\n",
       "Age                                  0\n",
       "Admission_Deposit                    0\n",
       "Stay                                 0\n",
       "dtype: int64"
      ]
     },
     "execution_count": 14,
     "metadata": {},
     "output_type": "execute_result"
    }
   ],
   "source": [
    "#Checking for missing values again to confirm imputation\n",
    "df_train_initial.isnull().sum()"
   ]
  },
  {
   "cell_type": "markdown",
   "id": "fa3ae7ad",
   "metadata": {
    "id": "fa3ae7ad"
   },
   "source": [
    "The below scatterplots are looking at the Admission Deposit column within the data for potentail outliers. The first plot is the overall data for admission deposit. This seemed like the best varibale to look for outliers due to the nature of the variable. The next plot is looking at the admission deposit as a function of Severity of Illness while the final plot is looking at admission deposit as a function of Type of admission. While the scatterplots produced show data points outside the quartile ranges, there are so many data points that removing them may have an adverse impact on the model and not a single grouping shows outliers specific to that data combination when we combine admission deposit with other variables."
   ]
  },
  {
   "cell_type": "code",
   "execution_count": 15,
   "id": "e8a603ca",
   "metadata": {
    "colab": {
     "base_uri": "https://localhost:8080/",
     "height": 269
    },
    "id": "e8a603ca",
    "outputId": "63a45a46-9ae2-40db-e479-b94d88e5ae63"
   },
   "outputs": [
    {
     "data": {
      "text/plain": [
       "<matplotlib.axes._subplots.AxesSubplot at 0x7f4be8218bd0>"
      ]
     },
     "execution_count": 15,
     "metadata": {},
     "output_type": "execute_result"
    },
    {
     "data": {
      "image/png": "[encoded data removed]",
      "text/plain": [
       "<Figure size 432x288 with 1 Axes>"
      ]
     },
     "metadata": {
      "needs_background": "light"
     },
     "output_type": "display_data"
    }
   ],
   "source": [
    "sns.boxplot(y=df_train_initial['Admission_Deposit'])"
   ]
  },
  {
   "cell_type": "code",
   "execution_count": 16,
   "id": "762a06bf",
   "metadata": {
    "colab": {
     "base_uri": "https://localhost:8080/",
     "height": 296
    },
    "id": "762a06bf",
    "outputId": "ac2d7d45-9c4a-4938-c516-5b9400c99bd1"
   },
   "outputs": [
    {
     "data": {
      "text/plain": [
       "<matplotlib.axes._subplots.AxesSubplot at 0x7f4be5677d90>"
      ]
     },
     "execution_count": 16,
     "metadata": {},
     "output_type": "execute_result"
    },
    {
     "data": {
      "image/png": "[encoded data removed]",
      "text/plain": [
       "<Figure size 432x288 with 1 Axes>"
      ]
     },
     "metadata": {
      "needs_background": "light"
     },
     "output_type": "display_data"
    }
   ],
   "source": [
    "sns.boxplot(y=df_train_initial['Admission_Deposit'], x=df_train_initial['Severity of Illness'])"
   ]
  },
  {
   "cell_type": "code",
   "execution_count": 17,
   "id": "68f21622",
   "metadata": {
    "colab": {
     "base_uri": "https://localhost:8080/",
     "height": 296
    },
    "id": "68f21622",
    "outputId": "561a0fc2-df10-4ffe-d9ee-7cf9f04e5ad7"
   },
   "outputs": [
    {
     "data": {
      "text/plain": [
       "<matplotlib.axes._subplots.AxesSubplot at 0x7f4be51c1350>"
      ]
     },
     "execution_count": 17,
     "metadata": {},
     "output_type": "execute_result"
    },
    {
     "data": {
      "image/png": "[encoded data removed]",
      "text/plain": [
       "<Figure size 432x288 with 1 Axes>"
      ]
     },
     "metadata": {
      "needs_background": "light"
     },
     "output_type": "display_data"
    }
   ],
   "source": [
    "sns.boxplot(y=df_train_initial['Admission_Deposit'], x=df_train_initial['Type of Admission'])"
   ]
  },
  {
   "cell_type": "markdown",
   "id": "sssAWnGUtU12",
   "metadata": {
    "id": "sssAWnGUtU12"
   },
   "source": [
    "**Dummy Encoding**"
   ]
  },
  {
   "cell_type": "code",
   "execution_count": 18,
   "id": "ec1049e2",
   "metadata": {
    "colab": {
     "base_uri": "https://localhost:8080/"
    },
    "id": "ec1049e2",
    "outputId": "4dbe1ed9-1867-4126-c855-1e5d8d465cb6"
   },
   "outputs": [
    {
     "data": {
      "text/plain": [
       "array(['Extreme', 'Moderate', 'Minor'], dtype=object)"
      ]
     },
     "execution_count": 18,
     "metadata": {},
     "output_type": "execute_result"
    }
   ],
   "source": [
    "#Prepare for dummy coding of Severity of illness\n",
    "\n",
    "pd.unique(df_train_initial.loc[:,'Severity of Illness'])\n"
   ]
  },
  {
   "cell_type": "code",
   "execution_count": 19,
   "id": "60391568",
   "metadata": {
    "colab": {
     "base_uri": "https://localhost:8080/",
     "height": 365
    },
    "id": "60391568",
    "outputId": "0cafe304-f37a-462a-9d45-3f441d053bd8"
   },
   "outputs": [
    {
     "data": {
      "text/html": [
       "<div>\n",
       "<style scoped>\n",
       "    .dataframe tbody tr th:only-of-type {\n",
       "        vertical-align: middle;\n",
       "    }\n",
       "\n",
       "    .dataframe tbody tr th {\n",
       "        vertical-align: top;\n",
       "    }\n",
       "\n",
       "    .dataframe thead th {\n",
       "        text-align: right;\n",
       "    }\n",
       "</style>\n",
       "<table border=\"1\" class=\"dataframe\">\n",
       "  <thead>\n",
       "    <tr style=\"text-align: right;\">\n",
       "      <th></th>\n",
       "      <th>case_id</th>\n",
       "      <th>Hospital_code</th>\n",
       "      <th>Hospital_type_code</th>\n",
       "      <th>City_Code_Hospital</th>\n",
       "      <th>Hospital_region_code</th>\n",
       "      <th>Available Extra Rooms in Hospital</th>\n",
       "      <th>Department</th>\n",
       "      <th>Ward_Type</th>\n",
       "      <th>Ward_Facility_Code</th>\n",
       "      <th>Bed Grade</th>\n",
       "      <th>patientid</th>\n",
       "      <th>City_Code_Patient</th>\n",
       "      <th>Type of Admission</th>\n",
       "      <th>Severity of Illness</th>\n",
       "      <th>Visitors with Patient</th>\n",
       "      <th>Age</th>\n",
       "      <th>Admission_Deposit</th>\n",
       "      <th>Stay</th>\n",
       "      <th>ToA__Emergency</th>\n",
       "      <th>ToA__Trauma</th>\n",
       "      <th>ToA__Urgent</th>\n",
       "    </tr>\n",
       "  </thead>\n",
       "  <tbody>\n",
       "    <tr>\n",
       "      <th>0</th>\n",
       "      <td>1</td>\n",
       "      <td>8</td>\n",
       "      <td>c</td>\n",
       "      <td>3</td>\n",
       "      <td>Z</td>\n",
       "      <td>3</td>\n",
       "      <td>radiotherapy</td>\n",
       "      <td>R</td>\n",
       "      <td>F</td>\n",
       "      <td>2.0</td>\n",
       "      <td>31397</td>\n",
       "      <td>7.0</td>\n",
       "      <td>Emergency</td>\n",
       "      <td>Extreme</td>\n",
       "      <td>2</td>\n",
       "      <td>51-60</td>\n",
       "      <td>4911.0</td>\n",
       "      <td>0-10</td>\n",
       "      <td>1</td>\n",
       "      <td>0</td>\n",
       "      <td>0</td>\n",
       "    </tr>\n",
       "    <tr>\n",
       "      <th>1</th>\n",
       "      <td>2</td>\n",
       "      <td>2</td>\n",
       "      <td>c</td>\n",
       "      <td>5</td>\n",
       "      <td>Z</td>\n",
       "      <td>2</td>\n",
       "      <td>radiotherapy</td>\n",
       "      <td>S</td>\n",
       "      <td>F</td>\n",
       "      <td>2.0</td>\n",
       "      <td>31397</td>\n",
       "      <td>7.0</td>\n",
       "      <td>Trauma</td>\n",
       "      <td>Extreme</td>\n",
       "      <td>2</td>\n",
       "      <td>51-60</td>\n",
       "      <td>5954.0</td>\n",
       "      <td>41-50</td>\n",
       "      <td>0</td>\n",
       "      <td>1</td>\n",
       "      <td>0</td>\n",
       "    </tr>\n",
       "    <tr>\n",
       "      <th>2</th>\n",
       "      <td>3</td>\n",
       "      <td>10</td>\n",
       "      <td>e</td>\n",
       "      <td>1</td>\n",
       "      <td>X</td>\n",
       "      <td>2</td>\n",
       "      <td>anesthesia</td>\n",
       "      <td>S</td>\n",
       "      <td>E</td>\n",
       "      <td>2.0</td>\n",
       "      <td>31397</td>\n",
       "      <td>7.0</td>\n",
       "      <td>Trauma</td>\n",
       "      <td>Extreme</td>\n",
       "      <td>2</td>\n",
       "      <td>51-60</td>\n",
       "      <td>4745.0</td>\n",
       "      <td>31-40</td>\n",
       "      <td>0</td>\n",
       "      <td>1</td>\n",
       "      <td>0</td>\n",
       "    </tr>\n",
       "    <tr>\n",
       "      <th>3</th>\n",
       "      <td>4</td>\n",
       "      <td>26</td>\n",
       "      <td>b</td>\n",
       "      <td>2</td>\n",
       "      <td>Y</td>\n",
       "      <td>2</td>\n",
       "      <td>radiotherapy</td>\n",
       "      <td>R</td>\n",
       "      <td>D</td>\n",
       "      <td>2.0</td>\n",
       "      <td>31397</td>\n",
       "      <td>7.0</td>\n",
       "      <td>Trauma</td>\n",
       "      <td>Extreme</td>\n",
       "      <td>2</td>\n",
       "      <td>51-60</td>\n",
       "      <td>7272.0</td>\n",
       "      <td>41-50</td>\n",
       "      <td>0</td>\n",
       "      <td>1</td>\n",
       "      <td>0</td>\n",
       "    </tr>\n",
       "    <tr>\n",
       "      <th>4</th>\n",
       "      <td>5</td>\n",
       "      <td>26</td>\n",
       "      <td>b</td>\n",
       "      <td>2</td>\n",
       "      <td>Y</td>\n",
       "      <td>2</td>\n",
       "      <td>radiotherapy</td>\n",
       "      <td>S</td>\n",
       "      <td>D</td>\n",
       "      <td>2.0</td>\n",
       "      <td>31397</td>\n",
       "      <td>7.0</td>\n",
       "      <td>Trauma</td>\n",
       "      <td>Extreme</td>\n",
       "      <td>2</td>\n",
       "      <td>51-60</td>\n",
       "      <td>5558.0</td>\n",
       "      <td>41-50</td>\n",
       "      <td>0</td>\n",
       "      <td>1</td>\n",
       "      <td>0</td>\n",
       "    </tr>\n",
       "  </tbody>\n",
       "</table>\n",
       "</div>"
      ],
      "text/plain": [
       "   case_id  Hospital_code  ... ToA__Trauma  ToA__Urgent\n",
       "0        1              8  ...           0            0\n",
       "1        2              2  ...           1            0\n",
       "2        3             10  ...           1            0\n",
       "3        4             26  ...           1            0\n",
       "4        5             26  ...           1            0\n",
       "\n",
       "[5 rows x 21 columns]"
      ]
     },
     "execution_count": 19,
     "metadata": {},
     "output_type": "execute_result"
    }
   ],
   "source": [
    "#Dummy Coding of Type of Admission\n",
    "\n",
    "dummy_vars_severity_train = pd.get_dummies(df_train_initial['Type of Admission'], prefix = \"ToA_\").iloc[:,:3]\n",
    "dummy_vars_severity_test = pd.get_dummies(df_test_initial['Type of Admission'], prefix = \"ToA_\").iloc[:,:3]\n",
    "\n",
    "df_train = pd.concat([df_train_initial, dummy_vars_severity_train], axis=1)\n",
    "df_test = pd.concat([df_test_initial, dummy_vars_severity_test], axis=1)\n",
    "\n",
    "\n",
    "df_train.head(5)"
   ]
  },
  {
   "cell_type": "code",
   "execution_count": 20,
   "id": "d8d46bb3",
   "metadata": {
    "colab": {
     "base_uri": "https://localhost:8080/"
    },
    "id": "d8d46bb3",
    "outputId": "71e4a94f-b126-40a8-94da-bf9486906a8f"
   },
   "outputs": [
    {
     "data": {
      "text/plain": [
       "array(['51-60', '71-80', '31-40', '41-50', '81-90', '61-70', '21-30',\n",
       "       '11-20', '0-10', '91-100'], dtype=object)"
      ]
     },
     "execution_count": 20,
     "metadata": {},
     "output_type": "execute_result"
    }
   ],
   "source": [
    "#Prepare for dummy coding of age\n",
    "\n",
    "pd.unique(df_train_initial.loc[:,'Age'])"
   ]
  },
  {
   "cell_type": "code",
   "execution_count": 21,
   "id": "f7942b0f",
   "metadata": {
    "colab": {
     "base_uri": "https://localhost:8080/",
     "height": 365
    },
    "id": "f7942b0f",
    "outputId": "d1cffa90-3702-4643-bf5f-16806a04a0ca"
   },
   "outputs": [
    {
     "data": {
      "text/html": [
       "<div>\n",
       "<style scoped>\n",
       "    .dataframe tbody tr th:only-of-type {\n",
       "        vertical-align: middle;\n",
       "    }\n",
       "\n",
       "    .dataframe tbody tr th {\n",
       "        vertical-align: top;\n",
       "    }\n",
       "\n",
       "    .dataframe thead th {\n",
       "        text-align: right;\n",
       "    }\n",
       "</style>\n",
       "<table border=\"1\" class=\"dataframe\">\n",
       "  <thead>\n",
       "    <tr style=\"text-align: right;\">\n",
       "      <th></th>\n",
       "      <th>case_id</th>\n",
       "      <th>Hospital_code</th>\n",
       "      <th>Hospital_type_code</th>\n",
       "      <th>City_Code_Hospital</th>\n",
       "      <th>Hospital_region_code</th>\n",
       "      <th>Available Extra Rooms in Hospital</th>\n",
       "      <th>Department</th>\n",
       "      <th>Ward_Type</th>\n",
       "      <th>Ward_Facility_Code</th>\n",
       "      <th>Bed Grade</th>\n",
       "      <th>patientid</th>\n",
       "      <th>City_Code_Patient</th>\n",
       "      <th>Type of Admission</th>\n",
       "      <th>Severity of Illness</th>\n",
       "      <th>Visitors with Patient</th>\n",
       "      <th>Age</th>\n",
       "      <th>Admission_Deposit</th>\n",
       "      <th>Stay</th>\n",
       "      <th>ToA__Emergency</th>\n",
       "      <th>ToA__Trauma</th>\n",
       "      <th>ToA__Urgent</th>\n",
       "      <th>Age_Range</th>\n",
       "    </tr>\n",
       "  </thead>\n",
       "  <tbody>\n",
       "    <tr>\n",
       "      <th>0</th>\n",
       "      <td>1</td>\n",
       "      <td>8</td>\n",
       "      <td>c</td>\n",
       "      <td>3</td>\n",
       "      <td>Z</td>\n",
       "      <td>3</td>\n",
       "      <td>radiotherapy</td>\n",
       "      <td>R</td>\n",
       "      <td>F</td>\n",
       "      <td>2.0</td>\n",
       "      <td>31397</td>\n",
       "      <td>7.0</td>\n",
       "      <td>Emergency</td>\n",
       "      <td>Extreme</td>\n",
       "      <td>2</td>\n",
       "      <td>51-60</td>\n",
       "      <td>4911.0</td>\n",
       "      <td>0-10</td>\n",
       "      <td>1</td>\n",
       "      <td>0</td>\n",
       "      <td>0</td>\n",
       "      <td>31-60</td>\n",
       "    </tr>\n",
       "    <tr>\n",
       "      <th>1</th>\n",
       "      <td>2</td>\n",
       "      <td>2</td>\n",
       "      <td>c</td>\n",
       "      <td>5</td>\n",
       "      <td>Z</td>\n",
       "      <td>2</td>\n",
       "      <td>radiotherapy</td>\n",
       "      <td>S</td>\n",
       "      <td>F</td>\n",
       "      <td>2.0</td>\n",
       "      <td>31397</td>\n",
       "      <td>7.0</td>\n",
       "      <td>Trauma</td>\n",
       "      <td>Extreme</td>\n",
       "      <td>2</td>\n",
       "      <td>51-60</td>\n",
       "      <td>5954.0</td>\n",
       "      <td>41-50</td>\n",
       "      <td>0</td>\n",
       "      <td>1</td>\n",
       "      <td>0</td>\n",
       "      <td>31-60</td>\n",
       "    </tr>\n",
       "    <tr>\n",
       "      <th>2</th>\n",
       "      <td>3</td>\n",
       "      <td>10</td>\n",
       "      <td>e</td>\n",
       "      <td>1</td>\n",
       "      <td>X</td>\n",
       "      <td>2</td>\n",
       "      <td>anesthesia</td>\n",
       "      <td>S</td>\n",
       "      <td>E</td>\n",
       "      <td>2.0</td>\n",
       "      <td>31397</td>\n",
       "      <td>7.0</td>\n",
       "      <td>Trauma</td>\n",
       "      <td>Extreme</td>\n",
       "      <td>2</td>\n",
       "      <td>51-60</td>\n",
       "      <td>4745.0</td>\n",
       "      <td>31-40</td>\n",
       "      <td>0</td>\n",
       "      <td>1</td>\n",
       "      <td>0</td>\n",
       "      <td>31-60</td>\n",
       "    </tr>\n",
       "    <tr>\n",
       "      <th>3</th>\n",
       "      <td>4</td>\n",
       "      <td>26</td>\n",
       "      <td>b</td>\n",
       "      <td>2</td>\n",
       "      <td>Y</td>\n",
       "      <td>2</td>\n",
       "      <td>radiotherapy</td>\n",
       "      <td>R</td>\n",
       "      <td>D</td>\n",
       "      <td>2.0</td>\n",
       "      <td>31397</td>\n",
       "      <td>7.0</td>\n",
       "      <td>Trauma</td>\n",
       "      <td>Extreme</td>\n",
       "      <td>2</td>\n",
       "      <td>51-60</td>\n",
       "      <td>7272.0</td>\n",
       "      <td>41-50</td>\n",
       "      <td>0</td>\n",
       "      <td>1</td>\n",
       "      <td>0</td>\n",
       "      <td>31-60</td>\n",
       "    </tr>\n",
       "    <tr>\n",
       "      <th>4</th>\n",
       "      <td>5</td>\n",
       "      <td>26</td>\n",
       "      <td>b</td>\n",
       "      <td>2</td>\n",
       "      <td>Y</td>\n",
       "      <td>2</td>\n",
       "      <td>radiotherapy</td>\n",
       "      <td>S</td>\n",
       "      <td>D</td>\n",
       "      <td>2.0</td>\n",
       "      <td>31397</td>\n",
       "      <td>7.0</td>\n",
       "      <td>Trauma</td>\n",
       "      <td>Extreme</td>\n",
       "      <td>2</td>\n",
       "      <td>51-60</td>\n",
       "      <td>5558.0</td>\n",
       "      <td>41-50</td>\n",
       "      <td>0</td>\n",
       "      <td>1</td>\n",
       "      <td>0</td>\n",
       "      <td>31-60</td>\n",
       "    </tr>\n",
       "  </tbody>\n",
       "</table>\n",
       "</div>"
      ],
      "text/plain": [
       "   case_id  Hospital_code  ... ToA__Urgent  Age_Range\n",
       "0        1              8  ...           0      31-60\n",
       "1        2              2  ...           0      31-60\n",
       "2        3             10  ...           0      31-60\n",
       "3        4             26  ...           0      31-60\n",
       "4        5             26  ...           0      31-60\n",
       "\n",
       "[5 rows x 22 columns]"
      ]
     },
     "execution_count": 21,
     "metadata": {},
     "output_type": "execute_result"
    }
   ],
   "source": [
    "#Lower the amount of categories for age\n",
    "def f(row):\n",
    "    if row['Age'] in  ['0-10', '11-20', '21-30']:\n",
    "        val = '0-30'\n",
    "    elif row['Age'] in  ['31-40', '41-50', '51-60']:\n",
    "        val = '31-60'\n",
    "    else:\n",
    "        val = 'over 60'\n",
    "    return val\n",
    "\n",
    "#create new column 'Age_Range' using the function above\n",
    "df_train['Age_Range'] = df_train.apply(f, axis=1)\n",
    "df_test['Age_Range'] = df_test.apply(f, axis=1)\n",
    "\n",
    "df_train.head(5)"
   ]
  },
  {
   "cell_type": "code",
   "execution_count": 22,
   "id": "7a6c76aa",
   "metadata": {
    "colab": {
     "base_uri": "https://localhost:8080/",
     "height": 365
    },
    "id": "7a6c76aa",
    "outputId": "6902ab60-bdda-4b7b-991d-df4d718c559b"
   },
   "outputs": [
    {
     "data": {
      "text/html": [
       "<div>\n",
       "<style scoped>\n",
       "    .dataframe tbody tr th:only-of-type {\n",
       "        vertical-align: middle;\n",
       "    }\n",
       "\n",
       "    .dataframe tbody tr th {\n",
       "        vertical-align: top;\n",
       "    }\n",
       "\n",
       "    .dataframe thead th {\n",
       "        text-align: right;\n",
       "    }\n",
       "</style>\n",
       "<table border=\"1\" class=\"dataframe\">\n",
       "  <thead>\n",
       "    <tr style=\"text-align: right;\">\n",
       "      <th></th>\n",
       "      <th>case_id</th>\n",
       "      <th>Hospital_code</th>\n",
       "      <th>Hospital_type_code</th>\n",
       "      <th>City_Code_Hospital</th>\n",
       "      <th>Hospital_region_code</th>\n",
       "      <th>Available Extra Rooms in Hospital</th>\n",
       "      <th>Department</th>\n",
       "      <th>Ward_Type</th>\n",
       "      <th>Ward_Facility_Code</th>\n",
       "      <th>Bed Grade</th>\n",
       "      <th>patientid</th>\n",
       "      <th>City_Code_Patient</th>\n",
       "      <th>Type of Admission</th>\n",
       "      <th>Severity of Illness</th>\n",
       "      <th>Visitors with Patient</th>\n",
       "      <th>Age</th>\n",
       "      <th>Admission_Deposit</th>\n",
       "      <th>Stay</th>\n",
       "      <th>ToA__Emergency</th>\n",
       "      <th>ToA__Trauma</th>\n",
       "      <th>ToA__Urgent</th>\n",
       "      <th>Age_Range</th>\n",
       "      <th>AR__0-30</th>\n",
       "      <th>AR__31-60</th>\n",
       "      <th>AR__over 60</th>\n",
       "    </tr>\n",
       "  </thead>\n",
       "  <tbody>\n",
       "    <tr>\n",
       "      <th>0</th>\n",
       "      <td>1</td>\n",
       "      <td>8</td>\n",
       "      <td>c</td>\n",
       "      <td>3</td>\n",
       "      <td>Z</td>\n",
       "      <td>3</td>\n",
       "      <td>radiotherapy</td>\n",
       "      <td>R</td>\n",
       "      <td>F</td>\n",
       "      <td>2.0</td>\n",
       "      <td>31397</td>\n",
       "      <td>7.0</td>\n",
       "      <td>Emergency</td>\n",
       "      <td>Extreme</td>\n",
       "      <td>2</td>\n",
       "      <td>51-60</td>\n",
       "      <td>4911.0</td>\n",
       "      <td>0-10</td>\n",
       "      <td>1</td>\n",
       "      <td>0</td>\n",
       "      <td>0</td>\n",
       "      <td>31-60</td>\n",
       "      <td>0</td>\n",
       "      <td>1</td>\n",
       "      <td>0</td>\n",
       "    </tr>\n",
       "    <tr>\n",
       "      <th>1</th>\n",
       "      <td>2</td>\n",
       "      <td>2</td>\n",
       "      <td>c</td>\n",
       "      <td>5</td>\n",
       "      <td>Z</td>\n",
       "      <td>2</td>\n",
       "      <td>radiotherapy</td>\n",
       "      <td>S</td>\n",
       "      <td>F</td>\n",
       "      <td>2.0</td>\n",
       "      <td>31397</td>\n",
       "      <td>7.0</td>\n",
       "      <td>Trauma</td>\n",
       "      <td>Extreme</td>\n",
       "      <td>2</td>\n",
       "      <td>51-60</td>\n",
       "      <td>5954.0</td>\n",
       "      <td>41-50</td>\n",
       "      <td>0</td>\n",
       "      <td>1</td>\n",
       "      <td>0</td>\n",
       "      <td>31-60</td>\n",
       "      <td>0</td>\n",
       "      <td>1</td>\n",
       "      <td>0</td>\n",
       "    </tr>\n",
       "    <tr>\n",
       "      <th>2</th>\n",
       "      <td>3</td>\n",
       "      <td>10</td>\n",
       "      <td>e</td>\n",
       "      <td>1</td>\n",
       "      <td>X</td>\n",
       "      <td>2</td>\n",
       "      <td>anesthesia</td>\n",
       "      <td>S</td>\n",
       "      <td>E</td>\n",
       "      <td>2.0</td>\n",
       "      <td>31397</td>\n",
       "      <td>7.0</td>\n",
       "      <td>Trauma</td>\n",
       "      <td>Extreme</td>\n",
       "      <td>2</td>\n",
       "      <td>51-60</td>\n",
       "      <td>4745.0</td>\n",
       "      <td>31-40</td>\n",
       "      <td>0</td>\n",
       "      <td>1</td>\n",
       "      <td>0</td>\n",
       "      <td>31-60</td>\n",
       "      <td>0</td>\n",
       "      <td>1</td>\n",
       "      <td>0</td>\n",
       "    </tr>\n",
       "    <tr>\n",
       "      <th>3</th>\n",
       "      <td>4</td>\n",
       "      <td>26</td>\n",
       "      <td>b</td>\n",
       "      <td>2</td>\n",
       "      <td>Y</td>\n",
       "      <td>2</td>\n",
       "      <td>radiotherapy</td>\n",
       "      <td>R</td>\n",
       "      <td>D</td>\n",
       "      <td>2.0</td>\n",
       "      <td>31397</td>\n",
       "      <td>7.0</td>\n",
       "      <td>Trauma</td>\n",
       "      <td>Extreme</td>\n",
       "      <td>2</td>\n",
       "      <td>51-60</td>\n",
       "      <td>7272.0</td>\n",
       "      <td>41-50</td>\n",
       "      <td>0</td>\n",
       "      <td>1</td>\n",
       "      <td>0</td>\n",
       "      <td>31-60</td>\n",
       "      <td>0</td>\n",
       "      <td>1</td>\n",
       "      <td>0</td>\n",
       "    </tr>\n",
       "    <tr>\n",
       "      <th>4</th>\n",
       "      <td>5</td>\n",
       "      <td>26</td>\n",
       "      <td>b</td>\n",
       "      <td>2</td>\n",
       "      <td>Y</td>\n",
       "      <td>2</td>\n",
       "      <td>radiotherapy</td>\n",
       "      <td>S</td>\n",
       "      <td>D</td>\n",
       "      <td>2.0</td>\n",
       "      <td>31397</td>\n",
       "      <td>7.0</td>\n",
       "      <td>Trauma</td>\n",
       "      <td>Extreme</td>\n",
       "      <td>2</td>\n",
       "      <td>51-60</td>\n",
       "      <td>5558.0</td>\n",
       "      <td>41-50</td>\n",
       "      <td>0</td>\n",
       "      <td>1</td>\n",
       "      <td>0</td>\n",
       "      <td>31-60</td>\n",
       "      <td>0</td>\n",
       "      <td>1</td>\n",
       "      <td>0</td>\n",
       "    </tr>\n",
       "  </tbody>\n",
       "</table>\n",
       "</div>"
      ],
      "text/plain": [
       "   case_id  Hospital_code Hospital_type_code  ...  AR__0-30 AR__31-60  AR__over 60\n",
       "0        1              8                  c  ...         0         1            0\n",
       "1        2              2                  c  ...         0         1            0\n",
       "2        3             10                  e  ...         0         1            0\n",
       "3        4             26                  b  ...         0         1            0\n",
       "4        5             26                  b  ...         0         1            0\n",
       "\n",
       "[5 rows x 25 columns]"
      ]
     },
     "execution_count": 22,
     "metadata": {},
     "output_type": "execute_result"
    }
   ],
   "source": [
    "#Dummy Coding of Age\n",
    "dummy_vars_Age_Range_train = pd.get_dummies(df_train['Age_Range'], prefix = \"AR_\").iloc[:,:3]\n",
    "\n",
    "dummy_vars_Age_Range_train.head(5)\n",
    "\n",
    "dummy_vars_Age_Range_test = pd.get_dummies(df_test['Age_Range'], prefix = \"AR_\").iloc[:,:3]\n",
    "\n",
    "dummy_vars_Age_Range_test.head(5)\n",
    "\n",
    "df_train = pd.concat([df_train, dummy_vars_Age_Range_train], axis=1)\n",
    "df_test = pd.concat([df_test, dummy_vars_Age_Range_test], axis=1)\n",
    "\n",
    "df_train.head(5)\n",
    "\n"
   ]
  },
  {
   "cell_type": "code",
   "execution_count": 23,
   "id": "opcSkV1q-jSM",
   "metadata": {
    "colab": {
     "base_uri": "https://localhost:8080/",
     "height": 365
    },
    "id": "opcSkV1q-jSM",
    "outputId": "53a93c53-b352-4c7b-b304-abda55d96e7b"
   },
   "outputs": [
    {
     "data": {
      "text/html": [
       "<div>\n",
       "<style scoped>\n",
       "    .dataframe tbody tr th:only-of-type {\n",
       "        vertical-align: middle;\n",
       "    }\n",
       "\n",
       "    .dataframe tbody tr th {\n",
       "        vertical-align: top;\n",
       "    }\n",
       "\n",
       "    .dataframe thead th {\n",
       "        text-align: right;\n",
       "    }\n",
       "</style>\n",
       "<table border=\"1\" class=\"dataframe\">\n",
       "  <thead>\n",
       "    <tr style=\"text-align: right;\">\n",
       "      <th></th>\n",
       "      <th>case_id</th>\n",
       "      <th>Hospital_code</th>\n",
       "      <th>Hospital_type_code</th>\n",
       "      <th>City_Code_Hospital</th>\n",
       "      <th>Hospital_region_code</th>\n",
       "      <th>Available Extra Rooms in Hospital</th>\n",
       "      <th>Department</th>\n",
       "      <th>Ward_Type</th>\n",
       "      <th>Ward_Facility_Code</th>\n",
       "      <th>Bed Grade</th>\n",
       "      <th>patientid</th>\n",
       "      <th>City_Code_Patient</th>\n",
       "      <th>Type of Admission</th>\n",
       "      <th>Severity of Illness</th>\n",
       "      <th>Visitors with Patient</th>\n",
       "      <th>Age</th>\n",
       "      <th>Admission_Deposit</th>\n",
       "      <th>ToA__Emergency</th>\n",
       "      <th>ToA__Trauma</th>\n",
       "      <th>ToA__Urgent</th>\n",
       "      <th>Age_Range</th>\n",
       "      <th>AR__0-30</th>\n",
       "      <th>AR__31-60</th>\n",
       "      <th>AR__over 60</th>\n",
       "      <th>HRC__X</th>\n",
       "      <th>HRC__Y</th>\n",
       "      <th>HRC__Z</th>\n",
       "    </tr>\n",
       "  </thead>\n",
       "  <tbody>\n",
       "    <tr>\n",
       "      <th>0</th>\n",
       "      <td>318439</td>\n",
       "      <td>21</td>\n",
       "      <td>c</td>\n",
       "      <td>3</td>\n",
       "      <td>Z</td>\n",
       "      <td>3</td>\n",
       "      <td>gynecology</td>\n",
       "      <td>S</td>\n",
       "      <td>A</td>\n",
       "      <td>2.0</td>\n",
       "      <td>17006.0</td>\n",
       "      <td>2.0</td>\n",
       "      <td>Emergency</td>\n",
       "      <td>Moderate</td>\n",
       "      <td>2.0</td>\n",
       "      <td>71-80</td>\n",
       "      <td>3095.0</td>\n",
       "      <td>1</td>\n",
       "      <td>0</td>\n",
       "      <td>0</td>\n",
       "      <td>over 60</td>\n",
       "      <td>0</td>\n",
       "      <td>0</td>\n",
       "      <td>1</td>\n",
       "      <td>0</td>\n",
       "      <td>0</td>\n",
       "      <td>1</td>\n",
       "    </tr>\n",
       "    <tr>\n",
       "      <th>1</th>\n",
       "      <td>318440</td>\n",
       "      <td>29</td>\n",
       "      <td>a</td>\n",
       "      <td>4</td>\n",
       "      <td>X</td>\n",
       "      <td>2</td>\n",
       "      <td>gynecology</td>\n",
       "      <td>S</td>\n",
       "      <td>F</td>\n",
       "      <td>2.0</td>\n",
       "      <td>17006.0</td>\n",
       "      <td>2.0</td>\n",
       "      <td>Trauma</td>\n",
       "      <td>Moderate</td>\n",
       "      <td>4.0</td>\n",
       "      <td>71-80</td>\n",
       "      <td>4018.0</td>\n",
       "      <td>0</td>\n",
       "      <td>1</td>\n",
       "      <td>0</td>\n",
       "      <td>over 60</td>\n",
       "      <td>0</td>\n",
       "      <td>0</td>\n",
       "      <td>1</td>\n",
       "      <td>1</td>\n",
       "      <td>0</td>\n",
       "      <td>0</td>\n",
       "    </tr>\n",
       "    <tr>\n",
       "      <th>2</th>\n",
       "      <td>318441</td>\n",
       "      <td>26</td>\n",
       "      <td>b</td>\n",
       "      <td>2</td>\n",
       "      <td>Y</td>\n",
       "      <td>3</td>\n",
       "      <td>gynecology</td>\n",
       "      <td>Q</td>\n",
       "      <td>D</td>\n",
       "      <td>4.0</td>\n",
       "      <td>17006.0</td>\n",
       "      <td>2.0</td>\n",
       "      <td>Emergency</td>\n",
       "      <td>Moderate</td>\n",
       "      <td>3.0</td>\n",
       "      <td>71-80</td>\n",
       "      <td>4492.0</td>\n",
       "      <td>1</td>\n",
       "      <td>0</td>\n",
       "      <td>0</td>\n",
       "      <td>over 60</td>\n",
       "      <td>0</td>\n",
       "      <td>0</td>\n",
       "      <td>1</td>\n",
       "      <td>0</td>\n",
       "      <td>1</td>\n",
       "      <td>0</td>\n",
       "    </tr>\n",
       "    <tr>\n",
       "      <th>3</th>\n",
       "      <td>318442</td>\n",
       "      <td>6</td>\n",
       "      <td>a</td>\n",
       "      <td>6</td>\n",
       "      <td>X</td>\n",
       "      <td>3</td>\n",
       "      <td>gynecology</td>\n",
       "      <td>Q</td>\n",
       "      <td>F</td>\n",
       "      <td>2.0</td>\n",
       "      <td>17006.0</td>\n",
       "      <td>2.0</td>\n",
       "      <td>Trauma</td>\n",
       "      <td>Moderate</td>\n",
       "      <td>3.0</td>\n",
       "      <td>71-80</td>\n",
       "      <td>4173.0</td>\n",
       "      <td>0</td>\n",
       "      <td>1</td>\n",
       "      <td>0</td>\n",
       "      <td>over 60</td>\n",
       "      <td>0</td>\n",
       "      <td>0</td>\n",
       "      <td>1</td>\n",
       "      <td>1</td>\n",
       "      <td>0</td>\n",
       "      <td>0</td>\n",
       "    </tr>\n",
       "    <tr>\n",
       "      <th>4</th>\n",
       "      <td>318443</td>\n",
       "      <td>28</td>\n",
       "      <td>b</td>\n",
       "      <td>11</td>\n",
       "      <td>X</td>\n",
       "      <td>2</td>\n",
       "      <td>gynecology</td>\n",
       "      <td>R</td>\n",
       "      <td>F</td>\n",
       "      <td>2.0</td>\n",
       "      <td>17006.0</td>\n",
       "      <td>2.0</td>\n",
       "      <td>Trauma</td>\n",
       "      <td>Moderate</td>\n",
       "      <td>4.0</td>\n",
       "      <td>71-80</td>\n",
       "      <td>4161.0</td>\n",
       "      <td>0</td>\n",
       "      <td>1</td>\n",
       "      <td>0</td>\n",
       "      <td>over 60</td>\n",
       "      <td>0</td>\n",
       "      <td>0</td>\n",
       "      <td>1</td>\n",
       "      <td>1</td>\n",
       "      <td>0</td>\n",
       "      <td>0</td>\n",
       "    </tr>\n",
       "  </tbody>\n",
       "</table>\n",
       "</div>"
      ],
      "text/plain": [
       "   case_id  Hospital_code Hospital_type_code  ...  HRC__X HRC__Y  HRC__Z\n",
       "0   318439             21                  c  ...       0      0       1\n",
       "1   318440             29                  a  ...       1      0       0\n",
       "2   318441             26                  b  ...       0      1       0\n",
       "3   318442              6                  a  ...       1      0       0\n",
       "4   318443             28                  b  ...       1      0       0\n",
       "\n",
       "[5 rows x 27 columns]"
      ]
     },
     "execution_count": 23,
     "metadata": {},
     "output_type": "execute_result"
    }
   ],
   "source": [
    "# dummy encode the Hospital_region_code\n",
    "dummy_vars_HospitalCode_train = pd.get_dummies(df_train['Hospital_region_code'], prefix = \"HRC_\").iloc[:,:3]\n",
    "dummy_vars_HospitalCode_test = pd.get_dummies(df_test['Hospital_region_code'], prefix = \"HRC_\").iloc[:,:3]\n",
    "\n",
    "#appending the values to the test and train dataset\n",
    "df_train = pd.concat([df_train, dummy_vars_HospitalCode_train], axis=1)\n",
    "df_test = pd.concat([df_test, dummy_vars_HospitalCode_test], axis=1)\n",
    "df_test.head(5)"
   ]
  },
  {
   "cell_type": "markdown",
   "id": "4lWsu7Lt9NBk",
   "metadata": {
    "id": "4lWsu7Lt9NBk"
   },
   "source": [
    "# Feature Engineering & Variable Selection"
   ]
  },
  {
   "cell_type": "code",
   "execution_count": 24,
   "id": "SC1WtLATB8Br",
   "metadata": {
    "colab": {
     "base_uri": "https://localhost:8080/"
    },
    "id": "SC1WtLATB8Br",
    "outputId": "03408f7d-1e41-4566-972c-8a2ea94ca317"
   },
   "outputs": [
    {
     "data": {
      "text/plain": [
       "array(['Extreme', 'Moderate', 'Minor'], dtype=object)"
      ]
     },
     "execution_count": 24,
     "metadata": {},
     "output_type": "execute_result"
    }
   ],
   "source": [
    "df_train['Severity of Illness'].unique()"
   ]
  },
  {
   "cell_type": "code",
   "execution_count": 25,
   "id": "F_jymPlEBr4E",
   "metadata": {
    "id": "F_jymPlEBr4E"
   },
   "outputs": [],
   "source": [
    "#Create a new column: Severity of Illness Numeric\n",
    "#Key: 0=Minor, 1=Moderate, 2=Severe\n",
    "# Ordinality of the values is based on the severity of the patient's illness.\n",
    "\n",
    "illness_dict = {'Minor': 0, 'Moderate': 1, 'Severe': 2}\n",
    "df_train['Severity of Illness'] = df_train['Severity of Illness'].replace(illness_dict.keys(), illness_dict.values())\n",
    "df_test['Severity of Illness'] = df_test['Severity of Illness'].replace(illness_dict.keys(), illness_dict.values())"
   ]
  },
  {
   "cell_type": "code",
   "execution_count": 26,
   "id": "kxcohsM9ruwV",
   "metadata": {
    "colab": {
     "base_uri": "https://localhost:8080/",
     "height": 296
    },
    "id": "kxcohsM9ruwV",
    "outputId": "67d1ce94-5a33-43ec-d941-064aa4c9606c"
   },
   "outputs": [
    {
     "data": {
      "text/plain": [
       "<matplotlib.axes._subplots.AxesSubplot at 0x7f4be51c11d0>"
      ]
     },
     "execution_count": 26,
     "metadata": {},
     "output_type": "execute_result"
    },
    {
     "data": {
      "image/png": "[encoded data removed]",
      "text/plain": [
       "<Figure size 432x288 with 1 Axes>"
      ]
     },
     "metadata": {
      "needs_background": "light"
     },
     "output_type": "display_data"
    }
   ],
   "source": [
    "#view unique values of Department\n",
    "import matplotlib.pyplot as plt\n",
    "\n",
    "pd.unique(df_train.loc[:,'Department'])\n",
    "\n",
    "sns.countplot(data=df_train,x='Department')"
   ]
  },
  {
   "cell_type": "code",
   "execution_count": 27,
   "id": "gg6L4Ujr_9UR",
   "metadata": {
    "colab": {
     "base_uri": "https://localhost:8080/"
    },
    "id": "gg6L4Ujr_9UR",
    "outputId": "aa0b62b3-4960-427a-b10d-b32d3f7ccc86"
   },
   "outputs": [
    {
     "data": {
      "text/plain": [
       "array(['radiotherapy', 'anesthesia', 'gynecology', 'TB & Chest disease',\n",
       "       'surgery'], dtype=object)"
      ]
     },
     "execution_count": 27,
     "metadata": {},
     "output_type": "execute_result"
    }
   ],
   "source": [
    "df_train['Department'].unique()"
   ]
  },
  {
   "cell_type": "code",
   "execution_count": 28,
   "id": "cNBueMl2AiEa",
   "metadata": {
    "id": "cNBueMl2AiEa"
   },
   "outputs": [],
   "source": [
    "#Create a new column: Department Numeric\n",
    "#Key: 0=TB & Chest disease, 1=anesthesia, 2=radiotherapy, 3=gynecology\n",
    "# Ordinality of the values is based on the no. of patients in each category.\n",
    "\n",
    "dpt_dict = {'gynecology': 3, 'radiotherapy': 2, 'anesthesia': 1, 'TB & Chest disease': 0}\n",
    "df_train['Department'] = df_train['Department'].replace(dpt_dict.keys(), dpt_dict.values())\n",
    "df_test['Department'] = df_test['Department'].replace(dpt_dict.keys(), dpt_dict.values())"
   ]
  },
  {
   "cell_type": "code",
   "execution_count": 29,
   "id": "z0dNG2ZJAldW",
   "metadata": {
    "colab": {
     "base_uri": "https://localhost:8080/",
     "height": 365
    },
    "id": "z0dNG2ZJAldW",
    "outputId": "777e8d6a-e0ff-4d6d-85a6-50d5584e8c07"
   },
   "outputs": [
    {
     "data": {
      "text/html": [
       "<div>\n",
       "<style scoped>\n",
       "    .dataframe tbody tr th:only-of-type {\n",
       "        vertical-align: middle;\n",
       "    }\n",
       "\n",
       "    .dataframe tbody tr th {\n",
       "        vertical-align: top;\n",
       "    }\n",
       "\n",
       "    .dataframe thead th {\n",
       "        text-align: right;\n",
       "    }\n",
       "</style>\n",
       "<table border=\"1\" class=\"dataframe\">\n",
       "  <thead>\n",
       "    <tr style=\"text-align: right;\">\n",
       "      <th></th>\n",
       "      <th>case_id</th>\n",
       "      <th>Hospital_code</th>\n",
       "      <th>Hospital_type_code</th>\n",
       "      <th>City_Code_Hospital</th>\n",
       "      <th>Hospital_region_code</th>\n",
       "      <th>Available Extra Rooms in Hospital</th>\n",
       "      <th>Department</th>\n",
       "      <th>Ward_Type</th>\n",
       "      <th>Ward_Facility_Code</th>\n",
       "      <th>Bed Grade</th>\n",
       "      <th>patientid</th>\n",
       "      <th>City_Code_Patient</th>\n",
       "      <th>Type of Admission</th>\n",
       "      <th>Severity of Illness</th>\n",
       "      <th>Visitors with Patient</th>\n",
       "      <th>Age</th>\n",
       "      <th>Admission_Deposit</th>\n",
       "      <th>Stay</th>\n",
       "      <th>ToA__Emergency</th>\n",
       "      <th>ToA__Trauma</th>\n",
       "      <th>ToA__Urgent</th>\n",
       "      <th>Age_Range</th>\n",
       "      <th>AR__0-30</th>\n",
       "      <th>AR__31-60</th>\n",
       "      <th>AR__over 60</th>\n",
       "      <th>HRC__X</th>\n",
       "      <th>HRC__Y</th>\n",
       "      <th>HRC__Z</th>\n",
       "    </tr>\n",
       "  </thead>\n",
       "  <tbody>\n",
       "    <tr>\n",
       "      <th>0</th>\n",
       "      <td>1</td>\n",
       "      <td>8</td>\n",
       "      <td>c</td>\n",
       "      <td>3</td>\n",
       "      <td>Z</td>\n",
       "      <td>3</td>\n",
       "      <td>2</td>\n",
       "      <td>R</td>\n",
       "      <td>F</td>\n",
       "      <td>2.0</td>\n",
       "      <td>31397</td>\n",
       "      <td>7.0</td>\n",
       "      <td>Emergency</td>\n",
       "      <td>Extreme</td>\n",
       "      <td>2</td>\n",
       "      <td>51-60</td>\n",
       "      <td>4911.0</td>\n",
       "      <td>0-10</td>\n",
       "      <td>1</td>\n",
       "      <td>0</td>\n",
       "      <td>0</td>\n",
       "      <td>31-60</td>\n",
       "      <td>0</td>\n",
       "      <td>1</td>\n",
       "      <td>0</td>\n",
       "      <td>0</td>\n",
       "      <td>0</td>\n",
       "      <td>1</td>\n",
       "    </tr>\n",
       "    <tr>\n",
       "      <th>1</th>\n",
       "      <td>2</td>\n",
       "      <td>2</td>\n",
       "      <td>c</td>\n",
       "      <td>5</td>\n",
       "      <td>Z</td>\n",
       "      <td>2</td>\n",
       "      <td>2</td>\n",
       "      <td>S</td>\n",
       "      <td>F</td>\n",
       "      <td>2.0</td>\n",
       "      <td>31397</td>\n",
       "      <td>7.0</td>\n",
       "      <td>Trauma</td>\n",
       "      <td>Extreme</td>\n",
       "      <td>2</td>\n",
       "      <td>51-60</td>\n",
       "      <td>5954.0</td>\n",
       "      <td>41-50</td>\n",
       "      <td>0</td>\n",
       "      <td>1</td>\n",
       "      <td>0</td>\n",
       "      <td>31-60</td>\n",
       "      <td>0</td>\n",
       "      <td>1</td>\n",
       "      <td>0</td>\n",
       "      <td>0</td>\n",
       "      <td>0</td>\n",
       "      <td>1</td>\n",
       "    </tr>\n",
       "    <tr>\n",
       "      <th>2</th>\n",
       "      <td>3</td>\n",
       "      <td>10</td>\n",
       "      <td>e</td>\n",
       "      <td>1</td>\n",
       "      <td>X</td>\n",
       "      <td>2</td>\n",
       "      <td>1</td>\n",
       "      <td>S</td>\n",
       "      <td>E</td>\n",
       "      <td>2.0</td>\n",
       "      <td>31397</td>\n",
       "      <td>7.0</td>\n",
       "      <td>Trauma</td>\n",
       "      <td>Extreme</td>\n",
       "      <td>2</td>\n",
       "      <td>51-60</td>\n",
       "      <td>4745.0</td>\n",
       "      <td>31-40</td>\n",
       "      <td>0</td>\n",
       "      <td>1</td>\n",
       "      <td>0</td>\n",
       "      <td>31-60</td>\n",
       "      <td>0</td>\n",
       "      <td>1</td>\n",
       "      <td>0</td>\n",
       "      <td>1</td>\n",
       "      <td>0</td>\n",
       "      <td>0</td>\n",
       "    </tr>\n",
       "    <tr>\n",
       "      <th>3</th>\n",
       "      <td>4</td>\n",
       "      <td>26</td>\n",
       "      <td>b</td>\n",
       "      <td>2</td>\n",
       "      <td>Y</td>\n",
       "      <td>2</td>\n",
       "      <td>2</td>\n",
       "      <td>R</td>\n",
       "      <td>D</td>\n",
       "      <td>2.0</td>\n",
       "      <td>31397</td>\n",
       "      <td>7.0</td>\n",
       "      <td>Trauma</td>\n",
       "      <td>Extreme</td>\n",
       "      <td>2</td>\n",
       "      <td>51-60</td>\n",
       "      <td>7272.0</td>\n",
       "      <td>41-50</td>\n",
       "      <td>0</td>\n",
       "      <td>1</td>\n",
       "      <td>0</td>\n",
       "      <td>31-60</td>\n",
       "      <td>0</td>\n",
       "      <td>1</td>\n",
       "      <td>0</td>\n",
       "      <td>0</td>\n",
       "      <td>1</td>\n",
       "      <td>0</td>\n",
       "    </tr>\n",
       "    <tr>\n",
       "      <th>4</th>\n",
       "      <td>5</td>\n",
       "      <td>26</td>\n",
       "      <td>b</td>\n",
       "      <td>2</td>\n",
       "      <td>Y</td>\n",
       "      <td>2</td>\n",
       "      <td>2</td>\n",
       "      <td>S</td>\n",
       "      <td>D</td>\n",
       "      <td>2.0</td>\n",
       "      <td>31397</td>\n",
       "      <td>7.0</td>\n",
       "      <td>Trauma</td>\n",
       "      <td>Extreme</td>\n",
       "      <td>2</td>\n",
       "      <td>51-60</td>\n",
       "      <td>5558.0</td>\n",
       "      <td>41-50</td>\n",
       "      <td>0</td>\n",
       "      <td>1</td>\n",
       "      <td>0</td>\n",
       "      <td>31-60</td>\n",
       "      <td>0</td>\n",
       "      <td>1</td>\n",
       "      <td>0</td>\n",
       "      <td>0</td>\n",
       "      <td>1</td>\n",
       "      <td>0</td>\n",
       "    </tr>\n",
       "  </tbody>\n",
       "</table>\n",
       "</div>"
      ],
      "text/plain": [
       "   case_id  Hospital_code Hospital_type_code  ...  HRC__X HRC__Y  HRC__Z\n",
       "0        1              8                  c  ...       0      0       1\n",
       "1        2              2                  c  ...       0      0       1\n",
       "2        3             10                  e  ...       1      0       0\n",
       "3        4             26                  b  ...       0      1       0\n",
       "4        5             26                  b  ...       0      1       0\n",
       "\n",
       "[5 rows x 28 columns]"
      ]
     },
     "execution_count": 29,
     "metadata": {},
     "output_type": "execute_result"
    }
   ],
   "source": [
    "df_train.head()"
   ]
  },
  {
   "cell_type": "markdown",
   "id": "nehdd4-Z_oF1",
   "metadata": {
    "id": "nehdd4-Z_oF1"
   },
   "source": [
    "Ward Type and Hospital Type code shows no significance towards the stay of the patient in the hospital hence we are eliminating these variables.We have considered type of department in dataset and ward type is a sub unit of department which has no additional input to our dataset."
   ]
  },
  {
   "cell_type": "code",
   "execution_count": 30,
   "id": "392921da",
   "metadata": {
    "colab": {
     "base_uri": "https://localhost:8080/"
    },
    "id": "392921da",
    "outputId": "7b301f36-197a-43d9-83f4-6d1965c06d17"
   },
   "outputs": [
    {
     "data": {
      "text/plain": [
       "array(['R', 'S', 'Q', 'P', 'T', 'U'], dtype=object)"
      ]
     },
     "execution_count": 30,
     "metadata": {},
     "output_type": "execute_result"
    }
   ],
   "source": [
    "#view unique ward type values\n",
    "pd.unique(df_train['Ward_Type'])"
   ]
  },
  {
   "cell_type": "code",
   "execution_count": 31,
   "id": "1ePbgfhqsmSs",
   "metadata": {
    "colab": {
     "base_uri": "https://localhost:8080/"
    },
    "id": "1ePbgfhqsmSs",
    "outputId": "2a8de77d-872b-4f4e-b24a-dfa747b5e06e"
   },
   "outputs": [
    {
     "data": {
      "text/plain": [
       "array(['c', 'e', 'b', 'a', 'f', 'd', 'g'], dtype=object)"
      ]
     },
     "execution_count": 31,
     "metadata": {},
     "output_type": "execute_result"
    }
   ],
   "source": [
    "pd.unique(df_train['Hospital_type_code'])"
   ]
  },
  {
   "cell_type": "code",
   "execution_count": 32,
   "id": "5xLMcbvtAzNN",
   "metadata": {
    "colab": {
     "base_uri": "https://localhost:8080/"
    },
    "id": "5xLMcbvtAzNN",
    "outputId": "de8ecbae-41ee-4f03-cc0d-358e1eb293d7"
   },
   "outputs": [
    {
     "data": {
      "text/plain": [
       "array(['F', 'E', 'D', 'B', 'A', 'C'], dtype=object)"
      ]
     },
     "execution_count": 32,
     "metadata": {},
     "output_type": "execute_result"
    }
   ],
   "source": [
    "pd.unique(df_train['Ward_Facility_Code'])"
   ]
  },
  {
   "cell_type": "markdown",
   "id": "eVn7-Mp4UQGF",
   "metadata": {
    "id": "eVn7-Mp4UQGF"
   },
   "source": [
    "**Change in target variable('Stay') is only for Train Dataset**"
   ]
  },
  {
   "cell_type": "code",
   "execution_count": 33,
   "id": "hIUR74o4FcEY",
   "metadata": {
    "colab": {
     "base_uri": "https://localhost:8080/"
    },
    "id": "hIUR74o4FcEY",
    "outputId": "ebd9efb0-cd07-4346-a2da-f4d15aa60fbd"
   },
   "outputs": [
    {
     "data": {
      "text/plain": [
       "array(['0-10', '41-50', '31-40', '11-20', '51-60', '21-30', '71-80',\n",
       "       'More than 100 Days', '81-90', '61-70', '91-100'], dtype=object)"
      ]
     },
     "execution_count": 33,
     "metadata": {},
     "output_type": "execute_result"
    }
   ],
   "source": [
    "pd.unique(df_train['Stay'])"
   ]
  },
  {
   "cell_type": "code",
   "execution_count": 34,
   "id": "vGqZpXOA-S60",
   "metadata": {
    "id": "vGqZpXOA-S60"
   },
   "outputs": [],
   "source": [
    "stay_dict = {'0-10': 1, '11-20': 1, '21-30': 1, '31-40': 1, '41-50': 2,\n",
    "             '51-60': 2, '61-70': 2, '71-80': 3, '81-90': 3, '91-100': 3, 'More than 100 Days': 3}\n",
    "df_train['Stay'] = df_train['Stay'].replace(stay_dict.keys(),stay_dict.values())"
   ]
  },
  {
   "cell_type": "code",
   "execution_count": 35,
   "id": "Dtt5Zdc5-gBS",
   "metadata": {
    "colab": {
     "base_uri": "https://localhost:8080/",
     "height": 365
    },
    "id": "Dtt5Zdc5-gBS",
    "outputId": "3cdeab51-6e41-437c-b96a-75164f9e4fed"
   },
   "outputs": [
    {
     "data": {
      "text/html": [
       "<div>\n",
       "<style scoped>\n",
       "    .dataframe tbody tr th:only-of-type {\n",
       "        vertical-align: middle;\n",
       "    }\n",
       "\n",
       "    .dataframe tbody tr th {\n",
       "        vertical-align: top;\n",
       "    }\n",
       "\n",
       "    .dataframe thead th {\n",
       "        text-align: right;\n",
       "    }\n",
       "</style>\n",
       "<table border=\"1\" class=\"dataframe\">\n",
       "  <thead>\n",
       "    <tr style=\"text-align: right;\">\n",
       "      <th></th>\n",
       "      <th>case_id</th>\n",
       "      <th>Hospital_code</th>\n",
       "      <th>Hospital_type_code</th>\n",
       "      <th>City_Code_Hospital</th>\n",
       "      <th>Hospital_region_code</th>\n",
       "      <th>Available Extra Rooms in Hospital</th>\n",
       "      <th>Department</th>\n",
       "      <th>Ward_Type</th>\n",
       "      <th>Ward_Facility_Code</th>\n",
       "      <th>Bed Grade</th>\n",
       "      <th>patientid</th>\n",
       "      <th>City_Code_Patient</th>\n",
       "      <th>Type of Admission</th>\n",
       "      <th>Severity of Illness</th>\n",
       "      <th>Visitors with Patient</th>\n",
       "      <th>Age</th>\n",
       "      <th>Admission_Deposit</th>\n",
       "      <th>Stay</th>\n",
       "      <th>ToA__Emergency</th>\n",
       "      <th>ToA__Trauma</th>\n",
       "      <th>ToA__Urgent</th>\n",
       "      <th>Age_Range</th>\n",
       "      <th>AR__0-30</th>\n",
       "      <th>AR__31-60</th>\n",
       "      <th>AR__over 60</th>\n",
       "      <th>HRC__X</th>\n",
       "      <th>HRC__Y</th>\n",
       "      <th>HRC__Z</th>\n",
       "    </tr>\n",
       "  </thead>\n",
       "  <tbody>\n",
       "    <tr>\n",
       "      <th>0</th>\n",
       "      <td>1</td>\n",
       "      <td>8</td>\n",
       "      <td>c</td>\n",
       "      <td>3</td>\n",
       "      <td>Z</td>\n",
       "      <td>3</td>\n",
       "      <td>2</td>\n",
       "      <td>R</td>\n",
       "      <td>F</td>\n",
       "      <td>2.0</td>\n",
       "      <td>31397</td>\n",
       "      <td>7.0</td>\n",
       "      <td>Emergency</td>\n",
       "      <td>Extreme</td>\n",
       "      <td>2</td>\n",
       "      <td>51-60</td>\n",
       "      <td>4911.0</td>\n",
       "      <td>1</td>\n",
       "      <td>1</td>\n",
       "      <td>0</td>\n",
       "      <td>0</td>\n",
       "      <td>31-60</td>\n",
       "      <td>0</td>\n",
       "      <td>1</td>\n",
       "      <td>0</td>\n",
       "      <td>0</td>\n",
       "      <td>0</td>\n",
       "      <td>1</td>\n",
       "    </tr>\n",
       "    <tr>\n",
       "      <th>1</th>\n",
       "      <td>2</td>\n",
       "      <td>2</td>\n",
       "      <td>c</td>\n",
       "      <td>5</td>\n",
       "      <td>Z</td>\n",
       "      <td>2</td>\n",
       "      <td>2</td>\n",
       "      <td>S</td>\n",
       "      <td>F</td>\n",
       "      <td>2.0</td>\n",
       "      <td>31397</td>\n",
       "      <td>7.0</td>\n",
       "      <td>Trauma</td>\n",
       "      <td>Extreme</td>\n",
       "      <td>2</td>\n",
       "      <td>51-60</td>\n",
       "      <td>5954.0</td>\n",
       "      <td>2</td>\n",
       "      <td>0</td>\n",
       "      <td>1</td>\n",
       "      <td>0</td>\n",
       "      <td>31-60</td>\n",
       "      <td>0</td>\n",
       "      <td>1</td>\n",
       "      <td>0</td>\n",
       "      <td>0</td>\n",
       "      <td>0</td>\n",
       "      <td>1</td>\n",
       "    </tr>\n",
       "    <tr>\n",
       "      <th>2</th>\n",
       "      <td>3</td>\n",
       "      <td>10</td>\n",
       "      <td>e</td>\n",
       "      <td>1</td>\n",
       "      <td>X</td>\n",
       "      <td>2</td>\n",
       "      <td>1</td>\n",
       "      <td>S</td>\n",
       "      <td>E</td>\n",
       "      <td>2.0</td>\n",
       "      <td>31397</td>\n",
       "      <td>7.0</td>\n",
       "      <td>Trauma</td>\n",
       "      <td>Extreme</td>\n",
       "      <td>2</td>\n",
       "      <td>51-60</td>\n",
       "      <td>4745.0</td>\n",
       "      <td>1</td>\n",
       "      <td>0</td>\n",
       "      <td>1</td>\n",
       "      <td>0</td>\n",
       "      <td>31-60</td>\n",
       "      <td>0</td>\n",
       "      <td>1</td>\n",
       "      <td>0</td>\n",
       "      <td>1</td>\n",
       "      <td>0</td>\n",
       "      <td>0</td>\n",
       "    </tr>\n",
       "    <tr>\n",
       "      <th>3</th>\n",
       "      <td>4</td>\n",
       "      <td>26</td>\n",
       "      <td>b</td>\n",
       "      <td>2</td>\n",
       "      <td>Y</td>\n",
       "      <td>2</td>\n",
       "      <td>2</td>\n",
       "      <td>R</td>\n",
       "      <td>D</td>\n",
       "      <td>2.0</td>\n",
       "      <td>31397</td>\n",
       "      <td>7.0</td>\n",
       "      <td>Trauma</td>\n",
       "      <td>Extreme</td>\n",
       "      <td>2</td>\n",
       "      <td>51-60</td>\n",
       "      <td>7272.0</td>\n",
       "      <td>2</td>\n",
       "      <td>0</td>\n",
       "      <td>1</td>\n",
       "      <td>0</td>\n",
       "      <td>31-60</td>\n",
       "      <td>0</td>\n",
       "      <td>1</td>\n",
       "      <td>0</td>\n",
       "      <td>0</td>\n",
       "      <td>1</td>\n",
       "      <td>0</td>\n",
       "    </tr>\n",
       "    <tr>\n",
       "      <th>4</th>\n",
       "      <td>5</td>\n",
       "      <td>26</td>\n",
       "      <td>b</td>\n",
       "      <td>2</td>\n",
       "      <td>Y</td>\n",
       "      <td>2</td>\n",
       "      <td>2</td>\n",
       "      <td>S</td>\n",
       "      <td>D</td>\n",
       "      <td>2.0</td>\n",
       "      <td>31397</td>\n",
       "      <td>7.0</td>\n",
       "      <td>Trauma</td>\n",
       "      <td>Extreme</td>\n",
       "      <td>2</td>\n",
       "      <td>51-60</td>\n",
       "      <td>5558.0</td>\n",
       "      <td>2</td>\n",
       "      <td>0</td>\n",
       "      <td>1</td>\n",
       "      <td>0</td>\n",
       "      <td>31-60</td>\n",
       "      <td>0</td>\n",
       "      <td>1</td>\n",
       "      <td>0</td>\n",
       "      <td>0</td>\n",
       "      <td>1</td>\n",
       "      <td>0</td>\n",
       "    </tr>\n",
       "  </tbody>\n",
       "</table>\n",
       "</div>"
      ],
      "text/plain": [
       "   case_id  Hospital_code Hospital_type_code  ...  HRC__X HRC__Y  HRC__Z\n",
       "0        1              8                  c  ...       0      0       1\n",
       "1        2              2                  c  ...       0      0       1\n",
       "2        3             10                  e  ...       1      0       0\n",
       "3        4             26                  b  ...       0      1       0\n",
       "4        5             26                  b  ...       0      1       0\n",
       "\n",
       "[5 rows x 28 columns]"
      ]
     },
     "execution_count": 35,
     "metadata": {},
     "output_type": "execute_result"
    }
   ],
   "source": [
    "df_train.head()"
   ]
  },
  {
   "cell_type": "markdown",
   "id": "Ahq84dUTz-_q",
   "metadata": {
    "id": "Ahq84dUTz-_q"
   },
   "source": [
    "Dropping irrelevant columns\n"
   ]
  },
  {
   "cell_type": "code",
   "execution_count": 36,
   "id": "_zjAr4OiyRdz",
   "metadata": {
    "colab": {
     "base_uri": "https://localhost:8080/",
     "height": 278
    },
    "id": "_zjAr4OiyRdz",
    "outputId": "50e4b426-abde-4132-cb6e-8c56c771647f"
   },
   "outputs": [
    {
     "data": {
      "text/html": [
       "<div>\n",
       "<style scoped>\n",
       "    .dataframe tbody tr th:only-of-type {\n",
       "        vertical-align: middle;\n",
       "    }\n",
       "\n",
       "    .dataframe tbody tr th {\n",
       "        vertical-align: top;\n",
       "    }\n",
       "\n",
       "    .dataframe thead th {\n",
       "        text-align: right;\n",
       "    }\n",
       "</style>\n",
       "<table border=\"1\" class=\"dataframe\">\n",
       "  <thead>\n",
       "    <tr style=\"text-align: right;\">\n",
       "      <th></th>\n",
       "      <th>Hospital_code</th>\n",
       "      <th>City_Code_Hospital</th>\n",
       "      <th>Available Extra Rooms in Hospital</th>\n",
       "      <th>Department</th>\n",
       "      <th>Bed Grade</th>\n",
       "      <th>City_Code_Patient</th>\n",
       "      <th>Severity of Illness</th>\n",
       "      <th>Visitors with Patient</th>\n",
       "      <th>Admission_Deposit</th>\n",
       "      <th>ToA__Emergency</th>\n",
       "      <th>ToA__Trauma</th>\n",
       "      <th>ToA__Urgent</th>\n",
       "      <th>AR__0-30</th>\n",
       "      <th>AR__31-60</th>\n",
       "      <th>AR__over 60</th>\n",
       "      <th>HRC__X</th>\n",
       "      <th>HRC__Y</th>\n",
       "      <th>HRC__Z</th>\n",
       "    </tr>\n",
       "  </thead>\n",
       "  <tbody>\n",
       "    <tr>\n",
       "      <th>0</th>\n",
       "      <td>21</td>\n",
       "      <td>3</td>\n",
       "      <td>3</td>\n",
       "      <td>3</td>\n",
       "      <td>2.0</td>\n",
       "      <td>2.0</td>\n",
       "      <td>1</td>\n",
       "      <td>2.0</td>\n",
       "      <td>3095.0</td>\n",
       "      <td>1</td>\n",
       "      <td>0</td>\n",
       "      <td>0</td>\n",
       "      <td>0</td>\n",
       "      <td>0</td>\n",
       "      <td>1</td>\n",
       "      <td>0</td>\n",
       "      <td>0</td>\n",
       "      <td>1</td>\n",
       "    </tr>\n",
       "    <tr>\n",
       "      <th>1</th>\n",
       "      <td>29</td>\n",
       "      <td>4</td>\n",
       "      <td>2</td>\n",
       "      <td>3</td>\n",
       "      <td>2.0</td>\n",
       "      <td>2.0</td>\n",
       "      <td>1</td>\n",
       "      <td>4.0</td>\n",
       "      <td>4018.0</td>\n",
       "      <td>0</td>\n",
       "      <td>1</td>\n",
       "      <td>0</td>\n",
       "      <td>0</td>\n",
       "      <td>0</td>\n",
       "      <td>1</td>\n",
       "      <td>1</td>\n",
       "      <td>0</td>\n",
       "      <td>0</td>\n",
       "    </tr>\n",
       "    <tr>\n",
       "      <th>2</th>\n",
       "      <td>26</td>\n",
       "      <td>2</td>\n",
       "      <td>3</td>\n",
       "      <td>3</td>\n",
       "      <td>4.0</td>\n",
       "      <td>2.0</td>\n",
       "      <td>1</td>\n",
       "      <td>3.0</td>\n",
       "      <td>4492.0</td>\n",
       "      <td>1</td>\n",
       "      <td>0</td>\n",
       "      <td>0</td>\n",
       "      <td>0</td>\n",
       "      <td>0</td>\n",
       "      <td>1</td>\n",
       "      <td>0</td>\n",
       "      <td>1</td>\n",
       "      <td>0</td>\n",
       "    </tr>\n",
       "    <tr>\n",
       "      <th>3</th>\n",
       "      <td>6</td>\n",
       "      <td>6</td>\n",
       "      <td>3</td>\n",
       "      <td>3</td>\n",
       "      <td>2.0</td>\n",
       "      <td>2.0</td>\n",
       "      <td>1</td>\n",
       "      <td>3.0</td>\n",
       "      <td>4173.0</td>\n",
       "      <td>0</td>\n",
       "      <td>1</td>\n",
       "      <td>0</td>\n",
       "      <td>0</td>\n",
       "      <td>0</td>\n",
       "      <td>1</td>\n",
       "      <td>1</td>\n",
       "      <td>0</td>\n",
       "      <td>0</td>\n",
       "    </tr>\n",
       "    <tr>\n",
       "      <th>4</th>\n",
       "      <td>28</td>\n",
       "      <td>11</td>\n",
       "      <td>2</td>\n",
       "      <td>3</td>\n",
       "      <td>2.0</td>\n",
       "      <td>2.0</td>\n",
       "      <td>1</td>\n",
       "      <td>4.0</td>\n",
       "      <td>4161.0</td>\n",
       "      <td>0</td>\n",
       "      <td>1</td>\n",
       "      <td>0</td>\n",
       "      <td>0</td>\n",
       "      <td>0</td>\n",
       "      <td>1</td>\n",
       "      <td>1</td>\n",
       "      <td>0</td>\n",
       "      <td>0</td>\n",
       "    </tr>\n",
       "  </tbody>\n",
       "</table>\n",
       "</div>"
      ],
      "text/plain": [
       "   Hospital_code  City_Code_Hospital  ...  HRC__Y HRC__Z\n",
       "0             21                   3  ...       0      1\n",
       "1             29                   4  ...       0      0\n",
       "2             26                   2  ...       1      0\n",
       "3              6                   6  ...       0      0\n",
       "4             28                  11  ...       0      0\n",
       "\n",
       "[5 rows x 18 columns]"
      ]
     },
     "execution_count": 36,
     "metadata": {},
     "output_type": "execute_result"
    }
   ],
   "source": [
    "#dropping variables from train and test dataset\n",
    "df_train_var=df_train.drop(axis=1,columns=['Ward_Facility_Code','Hospital_type_code','Ward_Type','case_id','patientid','Age',\n",
    "                                           'Ward_Type','Age_Range','Type of Admission','Hospital_region_code'])\n",
    "\n",
    "df_test_var=df_test.drop(axis=1,columns=['Ward_Facility_Code','Hospital_type_code','Ward_Type','case_id','patientid','Age',\n",
    "                                                       'Ward_Type','Age_Range',\n",
    "                                                       'Type of Admission','Hospital_region_code'])\n",
    "                                                       \n",
    "df_test_var.head(5)\n"
   ]
  },
  {
   "cell_type": "markdown",
   "id": "8ZV-_7T3DIxg",
   "metadata": {
    "id": "8ZV-_7T3DIxg"
   },
   "source": [
    "Final Dataset for checking variable correlation"
   ]
  },
  {
   "cell_type": "code",
   "execution_count": 37,
   "id": "E2L_C_DYIWLZ",
   "metadata": {
    "colab": {
     "base_uri": "https://localhost:8080/",
     "height": 278
    },
    "id": "E2L_C_DYIWLZ",
    "outputId": "2de6e344-2a6c-4819-aae8-ff4557e6dfb1"
   },
   "outputs": [
    {
     "data": {
      "text/html": [
       "<div>\n",
       "<style scoped>\n",
       "    .dataframe tbody tr th:only-of-type {\n",
       "        vertical-align: middle;\n",
       "    }\n",
       "\n",
       "    .dataframe tbody tr th {\n",
       "        vertical-align: top;\n",
       "    }\n",
       "\n",
       "    .dataframe thead th {\n",
       "        text-align: right;\n",
       "    }\n",
       "</style>\n",
       "<table border=\"1\" class=\"dataframe\">\n",
       "  <thead>\n",
       "    <tr style=\"text-align: right;\">\n",
       "      <th></th>\n",
       "      <th>Hospital_code</th>\n",
       "      <th>City_Code_Hospital</th>\n",
       "      <th>Available Extra Rooms in Hospital</th>\n",
       "      <th>Department</th>\n",
       "      <th>Bed Grade</th>\n",
       "      <th>City_Code_Patient</th>\n",
       "      <th>Severity of Illness</th>\n",
       "      <th>Visitors with Patient</th>\n",
       "      <th>Admission_Deposit</th>\n",
       "      <th>ToA__Emergency</th>\n",
       "      <th>ToA__Trauma</th>\n",
       "      <th>ToA__Urgent</th>\n",
       "      <th>AR__0-30</th>\n",
       "      <th>AR__31-60</th>\n",
       "      <th>AR__over 60</th>\n",
       "      <th>HRC__X</th>\n",
       "      <th>HRC__Y</th>\n",
       "      <th>HRC__Z</th>\n",
       "    </tr>\n",
       "  </thead>\n",
       "  <tbody>\n",
       "    <tr>\n",
       "      <th>0</th>\n",
       "      <td>21</td>\n",
       "      <td>3</td>\n",
       "      <td>3</td>\n",
       "      <td>3</td>\n",
       "      <td>2.0</td>\n",
       "      <td>2.0</td>\n",
       "      <td>1</td>\n",
       "      <td>2.0</td>\n",
       "      <td>3095.0</td>\n",
       "      <td>1</td>\n",
       "      <td>0</td>\n",
       "      <td>0</td>\n",
       "      <td>0</td>\n",
       "      <td>0</td>\n",
       "      <td>1</td>\n",
       "      <td>0</td>\n",
       "      <td>0</td>\n",
       "      <td>1</td>\n",
       "    </tr>\n",
       "    <tr>\n",
       "      <th>1</th>\n",
       "      <td>29</td>\n",
       "      <td>4</td>\n",
       "      <td>2</td>\n",
       "      <td>3</td>\n",
       "      <td>2.0</td>\n",
       "      <td>2.0</td>\n",
       "      <td>1</td>\n",
       "      <td>4.0</td>\n",
       "      <td>4018.0</td>\n",
       "      <td>0</td>\n",
       "      <td>1</td>\n",
       "      <td>0</td>\n",
       "      <td>0</td>\n",
       "      <td>0</td>\n",
       "      <td>1</td>\n",
       "      <td>1</td>\n",
       "      <td>0</td>\n",
       "      <td>0</td>\n",
       "    </tr>\n",
       "    <tr>\n",
       "      <th>2</th>\n",
       "      <td>26</td>\n",
       "      <td>2</td>\n",
       "      <td>3</td>\n",
       "      <td>3</td>\n",
       "      <td>4.0</td>\n",
       "      <td>2.0</td>\n",
       "      <td>1</td>\n",
       "      <td>3.0</td>\n",
       "      <td>4492.0</td>\n",
       "      <td>1</td>\n",
       "      <td>0</td>\n",
       "      <td>0</td>\n",
       "      <td>0</td>\n",
       "      <td>0</td>\n",
       "      <td>1</td>\n",
       "      <td>0</td>\n",
       "      <td>1</td>\n",
       "      <td>0</td>\n",
       "    </tr>\n",
       "    <tr>\n",
       "      <th>3</th>\n",
       "      <td>6</td>\n",
       "      <td>6</td>\n",
       "      <td>3</td>\n",
       "      <td>3</td>\n",
       "      <td>2.0</td>\n",
       "      <td>2.0</td>\n",
       "      <td>1</td>\n",
       "      <td>3.0</td>\n",
       "      <td>4173.0</td>\n",
       "      <td>0</td>\n",
       "      <td>1</td>\n",
       "      <td>0</td>\n",
       "      <td>0</td>\n",
       "      <td>0</td>\n",
       "      <td>1</td>\n",
       "      <td>1</td>\n",
       "      <td>0</td>\n",
       "      <td>0</td>\n",
       "    </tr>\n",
       "    <tr>\n",
       "      <th>4</th>\n",
       "      <td>28</td>\n",
       "      <td>11</td>\n",
       "      <td>2</td>\n",
       "      <td>3</td>\n",
       "      <td>2.0</td>\n",
       "      <td>2.0</td>\n",
       "      <td>1</td>\n",
       "      <td>4.0</td>\n",
       "      <td>4161.0</td>\n",
       "      <td>0</td>\n",
       "      <td>1</td>\n",
       "      <td>0</td>\n",
       "      <td>0</td>\n",
       "      <td>0</td>\n",
       "      <td>1</td>\n",
       "      <td>1</td>\n",
       "      <td>0</td>\n",
       "      <td>0</td>\n",
       "    </tr>\n",
       "  </tbody>\n",
       "</table>\n",
       "</div>"
      ],
      "text/plain": [
       "   Hospital_code  City_Code_Hospital  ...  HRC__Y HRC__Z\n",
       "0             21                   3  ...       0      1\n",
       "1             29                   4  ...       0      0\n",
       "2             26                   2  ...       1      0\n",
       "3              6                   6  ...       0      0\n",
       "4             28                  11  ...       0      0\n",
       "\n",
       "[5 rows x 18 columns]"
      ]
     },
     "execution_count": 37,
     "metadata": {},
     "output_type": "execute_result"
    }
   ],
   "source": [
    "df_train=df_train_var\n",
    "df_test=df_test_var\n",
    "df_test.head()"
   ]
  },
  {
   "cell_type": "markdown",
   "id": "qVMJF8nBJDaV",
   "metadata": {
    "id": "qVMJF8nBJDaV"
   },
   "source": [
    "### Selecting Variable Correlation based on pearsons coefficient heatmap"
   ]
  },
  {
   "cell_type": "code",
   "execution_count": 38,
   "id": "XJtgeAtNJDAf",
   "metadata": {
    "colab": {
     "base_uri": "https://localhost:8080/",
     "height": 753
    },
    "id": "XJtgeAtNJDAf",
    "outputId": "66b48f5f-02fc-41b8-8d68-a134c6a607ae"
   },
   "outputs": [
    {
     "data": {
      "image/png": "[encoded data removed]",
      "text/plain": [
       "<Figure size 1080x720 with 2 Axes>"
      ]
     },
     "metadata": {
      "needs_background": "light"
     },
     "output_type": "display_data"
    }
   ],
   "source": [
    "#Using Pearson Correlation\n",
    "plt.figure(figsize=(15,10))\n",
    "cor = df_train.corr()\n",
    "sns.heatmap(cor, annot=True, cmap=plt.cm.Reds)\n",
    "plt.show()"
   ]
  },
  {
   "cell_type": "markdown",
   "id": "LCVt5HMkLEdr",
   "metadata": {
    "id": "LCVt5HMkLEdr"
   },
   "source": [
    "**Above heatmap displays picture of the impact of variables on the target variable \"Stay Adjusted\"**.    \n",
    "**VistiorswithPatient** is the most significant feature in our data."
   ]
  },
  {
   "cell_type": "code",
   "execution_count": 39,
   "id": "s2Zp4yz6KSAF",
   "metadata": {
    "colab": {
     "base_uri": "https://localhost:8080/"
    },
    "id": "s2Zp4yz6KSAF",
    "outputId": "4e455958-67ae-4f97-ef9a-b21e8d35221e"
   },
   "outputs": [
    {
     "data": {
      "text/plain": [
       "Hospital_code                        0.039905\n",
       "Available Extra Rooms in Hospital    0.117671\n",
       "Bed Grade                            0.030108\n",
       "Visitors with Patient                0.497877\n",
       "Admission_Deposit                    0.071185\n",
       "Stay                                 1.000000\n",
       "ToA__Emergency                       0.024449\n",
       "ToA__Trauma                          0.049531\n",
       "ToA__Urgent                          0.036015\n",
       "AR__0-30                             0.056104\n",
       "AR__over 60                          0.058358\n",
       "HRC__X                               0.021025\n",
       "Name: Stay, dtype: float64"
      ]
     },
     "execution_count": 39,
     "metadata": {},
     "output_type": "execute_result"
    }
   ],
   "source": [
    "#Correlation with output variable\n",
    "cor_target = abs(cor[\"Stay\"])\n",
    "# used absolute values to select variables that have positive and negative impact\n",
    "#Selecting highly correlated features\n",
    "relevant_features = cor_target[cor_target>0.02] # threshold for variable selection =0.2\n",
    "relevant_features\n"
   ]
  },
  {
   "cell_type": "markdown",
   "id": "beHOPjcXWaiu",
   "metadata": {
    "id": "beHOPjcXWaiu"
   },
   "source": [
    "**Above list of variables are selected for the building the model based on the pvalue >0.2**"
   ]
  },
  {
   "cell_type": "code",
   "execution_count": 40,
   "id": "V8uHFyq7S_r4",
   "metadata": {
    "colab": {
     "base_uri": "https://localhost:8080/",
     "height": 224
    },
    "id": "V8uHFyq7S_r4",
    "outputId": "01db15b3-19f6-4e00-ccfe-018a1fc877b1"
   },
   "outputs": [
    {
     "data": {
      "text/html": [
       "<div>\n",
       "<style scoped>\n",
       "    .dataframe tbody tr th:only-of-type {\n",
       "        vertical-align: middle;\n",
       "    }\n",
       "\n",
       "    .dataframe tbody tr th {\n",
       "        vertical-align: top;\n",
       "    }\n",
       "\n",
       "    .dataframe thead th {\n",
       "        text-align: right;\n",
       "    }\n",
       "</style>\n",
       "<table border=\"1\" class=\"dataframe\">\n",
       "  <thead>\n",
       "    <tr style=\"text-align: right;\">\n",
       "      <th></th>\n",
       "      <th>Hospital_code</th>\n",
       "      <th>Available Extra Rooms in Hospital</th>\n",
       "      <th>Bed Grade</th>\n",
       "      <th>Visitors with Patient</th>\n",
       "      <th>Admission_Deposit</th>\n",
       "      <th>ToA__Emergency</th>\n",
       "      <th>ToA__Trauma</th>\n",
       "      <th>ToA__Urgent</th>\n",
       "      <th>AR__0-30</th>\n",
       "      <th>AR__over 60</th>\n",
       "      <th>Stay</th>\n",
       "    </tr>\n",
       "  </thead>\n",
       "  <tbody>\n",
       "    <tr>\n",
       "      <th>0</th>\n",
       "      <td>8</td>\n",
       "      <td>3</td>\n",
       "      <td>2.0</td>\n",
       "      <td>2</td>\n",
       "      <td>4911.0</td>\n",
       "      <td>1</td>\n",
       "      <td>0</td>\n",
       "      <td>0</td>\n",
       "      <td>0</td>\n",
       "      <td>0</td>\n",
       "      <td>1</td>\n",
       "    </tr>\n",
       "    <tr>\n",
       "      <th>1</th>\n",
       "      <td>2</td>\n",
       "      <td>2</td>\n",
       "      <td>2.0</td>\n",
       "      <td>2</td>\n",
       "      <td>5954.0</td>\n",
       "      <td>0</td>\n",
       "      <td>1</td>\n",
       "      <td>0</td>\n",
       "      <td>0</td>\n",
       "      <td>0</td>\n",
       "      <td>2</td>\n",
       "    </tr>\n",
       "    <tr>\n",
       "      <th>2</th>\n",
       "      <td>10</td>\n",
       "      <td>2</td>\n",
       "      <td>2.0</td>\n",
       "      <td>2</td>\n",
       "      <td>4745.0</td>\n",
       "      <td>0</td>\n",
       "      <td>1</td>\n",
       "      <td>0</td>\n",
       "      <td>0</td>\n",
       "      <td>0</td>\n",
       "      <td>1</td>\n",
       "    </tr>\n",
       "    <tr>\n",
       "      <th>3</th>\n",
       "      <td>26</td>\n",
       "      <td>2</td>\n",
       "      <td>2.0</td>\n",
       "      <td>2</td>\n",
       "      <td>7272.0</td>\n",
       "      <td>0</td>\n",
       "      <td>1</td>\n",
       "      <td>0</td>\n",
       "      <td>0</td>\n",
       "      <td>0</td>\n",
       "      <td>2</td>\n",
       "    </tr>\n",
       "    <tr>\n",
       "      <th>4</th>\n",
       "      <td>26</td>\n",
       "      <td>2</td>\n",
       "      <td>2.0</td>\n",
       "      <td>2</td>\n",
       "      <td>5558.0</td>\n",
       "      <td>0</td>\n",
       "      <td>1</td>\n",
       "      <td>0</td>\n",
       "      <td>0</td>\n",
       "      <td>0</td>\n",
       "      <td>2</td>\n",
       "    </tr>\n",
       "  </tbody>\n",
       "</table>\n",
       "</div>"
      ],
      "text/plain": [
       "   Hospital_code  Available Extra Rooms in Hospital  ...  AR__over 60  Stay\n",
       "0              8                                  3  ...            0     1\n",
       "1              2                                  2  ...            0     2\n",
       "2             10                                  2  ...            0     1\n",
       "3             26                                  2  ...            0     2\n",
       "4             26                                  2  ...            0     2\n",
       "\n",
       "[5 rows x 11 columns]"
      ]
     },
     "execution_count": 40,
     "metadata": {},
     "output_type": "execute_result"
    }
   ],
   "source": [
    "df_train_final=df_train[['Hospital_code','Available Extra Rooms in Hospital','Bed Grade',\n",
    "                         'Visitors with Patient','Admission_Deposit','ToA__Emergency','ToA__Trauma','ToA__Urgent',\n",
    "                         'AR__0-30','AR__over 60','Stay']]\n",
    "df_train_final.head(5)\n"
   ]
  },
  {
   "cell_type": "code",
   "execution_count": 41,
   "id": "sU8XgaHQWlq9",
   "metadata": {
    "colab": {
     "base_uri": "https://localhost:8080/",
     "height": 224
    },
    "id": "sU8XgaHQWlq9",
    "outputId": "f8807df4-aa64-481f-b0d9-0e18ee41fadf"
   },
   "outputs": [
    {
     "data": {
      "text/html": [
       "<div>\n",
       "<style scoped>\n",
       "    .dataframe tbody tr th:only-of-type {\n",
       "        vertical-align: middle;\n",
       "    }\n",
       "\n",
       "    .dataframe tbody tr th {\n",
       "        vertical-align: top;\n",
       "    }\n",
       "\n",
       "    .dataframe thead th {\n",
       "        text-align: right;\n",
       "    }\n",
       "</style>\n",
       "<table border=\"1\" class=\"dataframe\">\n",
       "  <thead>\n",
       "    <tr style=\"text-align: right;\">\n",
       "      <th></th>\n",
       "      <th>Hospital_code</th>\n",
       "      <th>Available Extra Rooms in Hospital</th>\n",
       "      <th>Bed Grade</th>\n",
       "      <th>Visitors with Patient</th>\n",
       "      <th>Admission_Deposit</th>\n",
       "      <th>ToA__Emergency</th>\n",
       "      <th>ToA__Trauma</th>\n",
       "      <th>ToA__Urgent</th>\n",
       "      <th>AR__0-30</th>\n",
       "      <th>AR__over 60</th>\n",
       "    </tr>\n",
       "  </thead>\n",
       "  <tbody>\n",
       "    <tr>\n",
       "      <th>0</th>\n",
       "      <td>21</td>\n",
       "      <td>3</td>\n",
       "      <td>2.0</td>\n",
       "      <td>2.0</td>\n",
       "      <td>3095.0</td>\n",
       "      <td>1</td>\n",
       "      <td>0</td>\n",
       "      <td>0</td>\n",
       "      <td>0</td>\n",
       "      <td>1</td>\n",
       "    </tr>\n",
       "    <tr>\n",
       "      <th>1</th>\n",
       "      <td>29</td>\n",
       "      <td>2</td>\n",
       "      <td>2.0</td>\n",
       "      <td>4.0</td>\n",
       "      <td>4018.0</td>\n",
       "      <td>0</td>\n",
       "      <td>1</td>\n",
       "      <td>0</td>\n",
       "      <td>0</td>\n",
       "      <td>1</td>\n",
       "    </tr>\n",
       "    <tr>\n",
       "      <th>2</th>\n",
       "      <td>26</td>\n",
       "      <td>3</td>\n",
       "      <td>4.0</td>\n",
       "      <td>3.0</td>\n",
       "      <td>4492.0</td>\n",
       "      <td>1</td>\n",
       "      <td>0</td>\n",
       "      <td>0</td>\n",
       "      <td>0</td>\n",
       "      <td>1</td>\n",
       "    </tr>\n",
       "    <tr>\n",
       "      <th>3</th>\n",
       "      <td>6</td>\n",
       "      <td>3</td>\n",
       "      <td>2.0</td>\n",
       "      <td>3.0</td>\n",
       "      <td>4173.0</td>\n",
       "      <td>0</td>\n",
       "      <td>1</td>\n",
       "      <td>0</td>\n",
       "      <td>0</td>\n",
       "      <td>1</td>\n",
       "    </tr>\n",
       "    <tr>\n",
       "      <th>4</th>\n",
       "      <td>28</td>\n",
       "      <td>2</td>\n",
       "      <td>2.0</td>\n",
       "      <td>4.0</td>\n",
       "      <td>4161.0</td>\n",
       "      <td>0</td>\n",
       "      <td>1</td>\n",
       "      <td>0</td>\n",
       "      <td>0</td>\n",
       "      <td>1</td>\n",
       "    </tr>\n",
       "  </tbody>\n",
       "</table>\n",
       "</div>"
      ],
      "text/plain": [
       "   Hospital_code  Available Extra Rooms in Hospital  ...  AR__0-30  AR__over 60\n",
       "0             21                                  3  ...         0            1\n",
       "1             29                                  2  ...         0            1\n",
       "2             26                                  3  ...         0            1\n",
       "3              6                                  3  ...         0            1\n",
       "4             28                                  2  ...         0            1\n",
       "\n",
       "[5 rows x 10 columns]"
      ]
     },
     "execution_count": 41,
     "metadata": {},
     "output_type": "execute_result"
    }
   ],
   "source": [
    "df_test_final=df_test[['Hospital_code','Available Extra Rooms in Hospital','Bed Grade',\n",
    "                         'Visitors with Patient','Admission_Deposit','ToA__Emergency','ToA__Trauma','ToA__Urgent',\n",
    "                         'AR__0-30','AR__over 60']]\n",
    "df_test_final.head()"
   ]
  },
  {
   "cell_type": "markdown",
   "id": "6avDNTHFE8U0",
   "metadata": {
    "id": "6avDNTHFE8U0"
   },
   "source": [
    "# Splitting the dataset"
   ]
  },
  {
   "cell_type": "code",
   "execution_count": 42,
   "id": "ZuXs3W-6YK9D",
   "metadata": {
    "id": "ZuXs3W-6YK9D"
   },
   "outputs": [],
   "source": [
    "y=df_train_final.iloc[:,-1] #target variable values\n",
    "x=df_train_final.iloc[:,:-1] #dependent variable\n",
    "\n",
    "\n",
    "xtrain,xtest,ytrain,ytest=train_test_split(x,y,test_size=0.3,random_state=0)"
   ]
  },
  {
   "cell_type": "code",
   "execution_count": 43,
   "id": "a2e509bf",
   "metadata": {
    "colab": {
     "base_uri": "https://localhost:8080/"
    },
    "id": "a2e509bf",
    "outputId": "b5c50bfa-9fc9-45e4-a291-dd7c9b293544"
   },
   "outputs": [
    {
     "data": {
      "text/plain": [
       "array([1, 2, 3])"
      ]
     },
     "execution_count": 43,
     "metadata": {},
     "output_type": "execute_result"
    }
   ],
   "source": [
    "y.unique()"
   ]
  },
  {
   "cell_type": "code",
   "execution_count": 44,
   "id": "d932b9e4",
   "metadata": {
    "colab": {
     "base_uri": "https://localhost:8080/"
    },
    "id": "d932b9e4",
    "outputId": "0243de0b-0d43-4f58-ad66-da603387a023"
   },
   "outputs": [
    {
     "data": {
      "text/plain": [
       "222906"
      ]
     },
     "execution_count": 44,
     "metadata": {},
     "output_type": "execute_result"
    }
   ],
   "source": [
    "len(xtrain)"
   ]
  },
  {
   "cell_type": "code",
   "execution_count": 45,
   "id": "b76e94aa",
   "metadata": {
    "colab": {
     "base_uri": "https://localhost:8080/"
    },
    "id": "b76e94aa",
    "outputId": "7562ad04-f7e7-4a3c-d0c9-e85d43d4d1fe"
   },
   "outputs": [
    {
     "data": {
      "text/plain": [
       "95532"
      ]
     },
     "execution_count": 45,
     "metadata": {},
     "output_type": "execute_result"
    }
   ],
   "source": [
    "len(xtest)"
   ]
  },
  {
   "cell_type": "code",
   "execution_count": 46,
   "id": "75aa0bc8",
   "metadata": {
    "colab": {
     "base_uri": "https://localhost:8080/"
    },
    "id": "75aa0bc8",
    "outputId": "6adacfaa-9285-40c7-cce0-fb372cc56570"
   },
   "outputs": [
    {
     "data": {
      "text/plain": [
       "222906"
      ]
     },
     "execution_count": 46,
     "metadata": {},
     "output_type": "execute_result"
    }
   ],
   "source": [
    "len(ytrain)"
   ]
  },
  {
   "cell_type": "code",
   "execution_count": 47,
   "id": "9ecae932",
   "metadata": {
    "colab": {
     "base_uri": "https://localhost:8080/"
    },
    "id": "9ecae932",
    "outputId": "b5240ac9-c8e7-4023-b845-f4fcb781015f"
   },
   "outputs": [
    {
     "data": {
      "text/plain": [
       "95532"
      ]
     },
     "execution_count": 47,
     "metadata": {},
     "output_type": "execute_result"
    }
   ],
   "source": [
    "len(ytest)"
   ]
  },
  {
   "cell_type": "markdown",
   "id": "17b2fe58",
   "metadata": {
    "id": "17b2fe58"
   },
   "source": [
    "### Renaming the df_test_final dataset to vdata. This is the data that we will be ultimately running our model on after training on the training and validaiton datasets."
   ]
  },
  {
   "cell_type": "code",
   "execution_count": 48,
   "id": "7f8b4444",
   "metadata": {
    "id": "7f8b4444"
   },
   "outputs": [],
   "source": [
    "vdata = df_test_final"
   ]
  },
  {
   "cell_type": "code",
   "execution_count": 49,
   "id": "e0f106f3",
   "metadata": {
    "colab": {
     "base_uri": "https://localhost:8080/"
    },
    "id": "e0f106f3",
    "outputId": "e224f254-0989-4971-bf4c-960a7bd49642"
   },
   "outputs": [
    {
     "name": "stdout",
     "output_type": "stream",
     "text": [
      "<class 'pandas.core.frame.DataFrame'>\n",
      "RangeIndex: 57074 entries, 0 to 57073\n",
      "Data columns (total 10 columns):\n",
      " #   Column                             Non-Null Count  Dtype  \n",
      "---  ------                             --------------  -----  \n",
      " 0   Hospital_code                      57074 non-null  int64  \n",
      " 1   Available Extra Rooms in Hospital  57074 non-null  int64  \n",
      " 2   Bed Grade                          57074 non-null  float64\n",
      " 3   Visitors with Patient              57073 non-null  float64\n",
      " 4   Admission_Deposit                  57073 non-null  float64\n",
      " 5   ToA__Emergency                     57074 non-null  uint8  \n",
      " 6   ToA__Trauma                        57074 non-null  uint8  \n",
      " 7   ToA__Urgent                        57074 non-null  uint8  \n",
      " 8   AR__0-30                           57074 non-null  uint8  \n",
      " 9   AR__over 60                        57074 non-null  uint8  \n",
      "dtypes: float64(3), int64(2), uint8(5)\n",
      "memory usage: 2.4 MB\n"
     ]
    }
   ],
   "source": [
    "vdata.info()"
   ]
  },
  {
   "cell_type": "code",
   "execution_count": 50,
   "id": "d239a4d0",
   "metadata": {
    "id": "d239a4d0"
   },
   "outputs": [],
   "source": [
    "#xtest[:5,:]"
   ]
  },
  {
   "cell_type": "markdown",
   "id": "jRn8f8a5OEbd",
   "metadata": {
    "id": "jRn8f8a5OEbd"
   },
   "source": [
    "# Data Standardization"
   ]
  },
  {
   "cell_type": "code",
   "execution_count": 51,
   "id": "tih0hMDmPTmg",
   "metadata": {
    "id": "tih0hMDmPTmg"
   },
   "outputs": [],
   "source": [
    "\n",
    "sc= StandardScaler()\n",
    "xtrain=sc.fit_transform(xtrain)\n",
    "xtest=sc.transform(xtest)\n",
    "vdata=sc.transform(vdata)"
   ]
  },
  {
   "cell_type": "code",
   "execution_count": 52,
   "id": "885a162d",
   "metadata": {
    "colab": {
     "base_uri": "https://localhost:8080/"
    },
    "id": "885a162d",
    "outputId": "d8afb5b0-caff-45cb-b0ca-281e793221df"
   },
   "outputs": [
    {
     "data": {
      "text/plain": [
       "array([[-0.3789657 , -1.02610407,  1.57413046, ..., -0.42313265,\n",
       "        -0.50072049,  1.74652012],\n",
       "       [ 0.54656079, -0.16923882,  0.42822943, ..., -0.42313265,\n",
       "        -0.50072049, -0.57256712],\n",
       "       [-1.18880138,  0.68762642,  0.42822943, ..., -0.42313265,\n",
       "        -0.50072049,  1.74652012],\n",
       "       ...,\n",
       "       [-1.53587381, -1.02610407, -0.71767161, ..., -0.42313265,\n",
       "        -0.50072049, -0.57256712],\n",
       "       [-0.03189327, -0.16923882, -0.71767161, ..., -0.42313265,\n",
       "        -0.50072049, -0.57256712],\n",
       "       [-1.53587381, -1.02610407, -1.86357264, ..., -0.42313265,\n",
       "         1.99712218, -0.57256712]])"
      ]
     },
     "execution_count": 52,
     "metadata": {},
     "output_type": "execute_result"
    }
   ],
   "source": [
    "xtest"
   ]
  },
  {
   "cell_type": "markdown",
   "id": "qjaJ5chd5ZQs",
   "metadata": {
    "id": "qjaJ5chd5ZQs"
   },
   "source": [
    "## Data Modelling\n",
    "\n",
    "*Here we decided to utilize the models, Decision Tree, Random Forest, and Stochastic Gradient Descent. This is due to their popularity with classification problems and also the ability of decision tree and random forest models to provide visuals of their decision process which can be used for convincing stakeholders and helping them understand the logic behind model decisions.*"
   ]
  },
  {
   "cell_type": "code",
   "execution_count": 53,
   "id": "vjpXL7Zc5YgE",
   "metadata": {
    "id": "vjpXL7Zc5YgE"
   },
   "outputs": [],
   "source": [
    "# machine learning\n",
    "from sklearn.ensemble import RandomForestClassifier\n",
    "from sklearn.linear_model import SGDClassifier\n",
    "from sklearn.tree import DecisionTreeClassifier\n",
    "from sklearn import tree\n",
    "from sklearn.model_selection import GridSearchCV\n",
    "from sklearn.ensemble import RandomForestClassifier\n",
    "from sklearn.metrics import confusion_matrix\n",
    "%matplotlib inline"
   ]
  },
  {
   "cell_type": "markdown",
   "id": "08452b8a",
   "metadata": {
    "id": "08452b8a"
   },
   "source": [
    "### Decision Tree"
   ]
  },
  {
   "cell_type": "code",
   "execution_count": 54,
   "id": "26837ad0",
   "metadata": {
    "colab": {
     "base_uri": "https://localhost:8080/"
    },
    "id": "26837ad0",
    "outputId": "67b8afe0-5229-4a6c-b792-b82131dd199e"
   },
   "outputs": [
    {
     "name": "stdout",
     "output_type": "stream",
     "text": [
      "Accuracy on training set: 99.743\n",
      "Accuracy on test set: 70.066\n"
     ]
    }
   ],
   "source": [
    "#Decision Tree\n",
    "model_1 = DecisionTreeClassifier(random_state=5)\n",
    "model_1.fit(xtrain, ytrain)\n",
    "print(\"Accuracy on training set: {:.3f}\".format(model_1.score(xtrain, ytrain)*100))\n",
    "print(\"Accuracy on test set: {:.3f}\".format(model_1.score(xtest, ytest)*100))"
   ]
  },
  {
   "cell_type": "code",
   "execution_count": 55,
   "id": "7e52e69a",
   "metadata": {
    "colab": {
     "base_uri": "https://localhost:8080/"
    },
    "id": "7e52e69a",
    "outputId": "cc55b4bc-67bf-4e95-9061-1f089b9caf57"
   },
   "outputs": [
    {
     "name": "stdout",
     "output_type": "stream",
     "text": [
      "Accuracy on training set: 79.671\n",
      "Accuracy on test set: 79.335\n"
     ]
    }
   ],
   "source": [
    "#Decision Tree pruning \n",
    "#pre pruning\n",
    "#*Note: sklearn only has pre-pruning options\n",
    "model_1 = DecisionTreeClassifier(max_depth=10, random_state=5, min_samples_split = 300,criterion = \"entropy\")\n",
    "model_1.fit(xtrain, ytrain)\n",
    "print(\"Accuracy on training set: {:.3f}\".format(model_1.score(xtrain, ytrain)*100))\n",
    "print(\"Accuracy on test set: {:.3f}\".format(model_1.score(xtest, ytest)*100))"
   ]
  },
  {
   "cell_type": "markdown",
   "id": "745958c2",
   "metadata": {
    "id": "745958c2"
   },
   "source": [
    "### Random Forest"
   ]
  },
  {
   "cell_type": "code",
   "execution_count": 56,
   "id": "40976ab3",
   "metadata": {
    "colab": {
     "base_uri": "https://localhost:8080/"
    },
    "id": "40976ab3",
    "outputId": "24becae5-b37d-4c6b-e28d-09f657ab0347"
   },
   "outputs": [
    {
     "name": "stdout",
     "output_type": "stream",
     "text": [
      "Accuracy on training set: 99.731\n",
      "Accuracy on test set: 75.050\n"
     ]
    }
   ],
   "source": [
    "#Random Forest Model\n",
    "model_2 = RandomForestClassifier(n_estimators=100, random_state=0, n_jobs=4)\n",
    "model_2.fit(xtrain, ytrain)\n",
    "print(\"Accuracy on training set: {:.3f}\".format(model_2.score(xtrain, ytrain)*100))\n",
    "print(\"Accuracy on test set: {:.3f}\".format(model_2.score(xtest, ytest)*100))"
   ]
  },
  {
   "cell_type": "markdown",
   "id": "a322bc82",
   "metadata": {
    "id": "a322bc82"
   },
   "source": [
    "### Random Forest Pruning"
   ]
  },
  {
   "cell_type": "code",
   "execution_count": 57,
   "id": "6bf07ad2",
   "metadata": {
    "colab": {
     "base_uri": "https://localhost:8080/"
    },
    "id": "6bf07ad2",
    "outputId": "15a7d150-297f-45a2-8cab-58f947b82de3"
   },
   "outputs": [
    {
     "name": "stdout",
     "output_type": "stream",
     "text": [
      "Accuracy on training set: 84.548\n",
      "Accuracy on test set: 79.362\n"
     ]
    }
   ],
   "source": [
    "#Random Forest pruning\n",
    "\n",
    "model_2 = RandomForestClassifier(n_estimators=100, random_state=0, n_jobs=4, max_depth=15, criterion = \"entropy\")\n",
    "model_2.fit(xtrain, ytrain)\n",
    "print(\"Accuracy on training set: {:.3f}\".format(model_2.score(xtrain, ytrain)*100))\n",
    "print(\"Accuracy on test set: {:.3f}\".format(model_2.score(xtest, ytest)*100))"
   ]
  },
  {
   "cell_type": "markdown",
   "id": "92d94197",
   "metadata": {
    "id": "92d94197"
   },
   "source": [
    "### Stochastic Gradient Descent"
   ]
  },
  {
   "cell_type": "code",
   "execution_count": 58,
   "id": "cc999347",
   "metadata": {
    "colab": {
     "base_uri": "https://localhost:8080/"
    },
    "id": "cc999347",
    "outputId": "c286557e-82d9-492c-aef1-9c23c0037a3c"
   },
   "outputs": [
    {
     "name": "stdout",
     "output_type": "stream",
     "text": [
      "Accuracy on training set: 78.477\n",
      "Accuracy on test set: 78.344\n"
     ]
    }
   ],
   "source": [
    "#Stochastic Gradient Descent\n",
    "\n",
    "model_3 = SGDClassifier(loss=\"hinge\", penalty=\"l2\", max_iter=1000, n_jobs=4)\n",
    "model_3.fit(xtrain, ytrain)\n",
    "print(\"Accuracy on training set: {:.3f}\".format(model_3.score(xtrain, ytrain)*100))\n",
    "print(\"Accuracy on test set: {:.3f}\".format(model_3.score(xtest, ytest)*100))"
   ]
  },
  {
   "cell_type": "code",
   "execution_count": 59,
   "id": "7d0c4b41",
   "metadata": {
    "colab": {
     "base_uri": "https://localhost:8080/"
    },
    "id": "7d0c4b41",
    "outputId": "a25fe0bd-7ce6-4ec0-904c-97f53751da8a"
   },
   "outputs": [
    {
     "name": "stdout",
     "output_type": "stream",
     "text": [
      "Accuracy on training set: 78.753\n",
      "Accuracy on test set: 78.628\n"
     ]
    }
   ],
   "source": [
    "#Stochastic Gradient Descent Tuning\n",
    "\n",
    "model_3 = SGDClassifier(loss=\"log\", penalty=\"l1\", max_iter=1000, alpha = .00006, n_jobs=4)\n",
    "model_3.fit(xtrain, ytrain)\n",
    "print(\"Accuracy on training set: {:.3f}\".format(model_3.score(xtrain, ytrain)*100))\n",
    "print(\"Accuracy on test set: {:.3f}\".format(model_3.score(xtest, ytest)*100))"
   ]
  },
  {
   "cell_type": "markdown",
   "id": "7e7abda0",
   "metadata": {
    "id": "7e7abda0"
   },
   "source": [
    "## Display model results"
   ]
  },
  {
   "cell_type": "code",
   "execution_count": 60,
   "id": "c32bba36",
   "metadata": {
    "colab": {
     "base_uri": "https://localhost:8080/",
     "height": 143
    },
    "id": "c32bba36",
    "outputId": "4300c2cf-f091-4588-81d5-fc9472f6a1da"
   },
   "outputs": [
    {
     "data": {
      "text/html": [
       "<div>\n",
       "<style scoped>\n",
       "    .dataframe tbody tr th:only-of-type {\n",
       "        vertical-align: middle;\n",
       "    }\n",
       "\n",
       "    .dataframe tbody tr th {\n",
       "        vertical-align: top;\n",
       "    }\n",
       "\n",
       "    .dataframe thead th {\n",
       "        text-align: right;\n",
       "    }\n",
       "</style>\n",
       "<table border=\"1\" class=\"dataframe\">\n",
       "  <thead>\n",
       "    <tr style=\"text-align: right;\">\n",
       "      <th></th>\n",
       "      <th>Model</th>\n",
       "      <th>Prediction Accuracy - Training</th>\n",
       "      <th>Prediction Accuracy - Test</th>\n",
       "    </tr>\n",
       "  </thead>\n",
       "  <tbody>\n",
       "    <tr>\n",
       "      <th>0</th>\n",
       "      <td>Decision Tree</td>\n",
       "      <td>79.67</td>\n",
       "      <td>79.33</td>\n",
       "    </tr>\n",
       "    <tr>\n",
       "      <th>1</th>\n",
       "      <td>Random Forest</td>\n",
       "      <td>84.55</td>\n",
       "      <td>79.36</td>\n",
       "    </tr>\n",
       "    <tr>\n",
       "      <th>2</th>\n",
       "      <td>Stochastic Gradient Descent</td>\n",
       "      <td>78.75</td>\n",
       "      <td>78.63</td>\n",
       "    </tr>\n",
       "  </tbody>\n",
       "</table>\n",
       "</div>"
      ],
      "text/plain": [
       "                         Model  ...  Prediction Accuracy - Test\n",
       "0                Decision Tree  ...                       79.33\n",
       "1                Random Forest  ...                       79.36\n",
       "2  Stochastic Gradient Descent  ...                       78.63\n",
       "\n",
       "[3 rows x 3 columns]"
      ]
     },
     "metadata": {},
     "output_type": "display_data"
    }
   ],
   "source": [
    "# initialise data of lists.\n",
    "data = {'Model':['Decision Tree', 'Random Forest', 'Stochastic Gradient Descent'], 'Prediction Accuracy - Training':[round(model_1.score(xtrain, ytrain)*100,2), round(model_2.score(xtrain, ytrain)*100,2), round(model_3.score(xtrain, ytrain)*100,2)], 'Prediction Accuracy - Test':[round(model_1.score(xtest, ytest)*100,2), round(model_2.score(xtest, ytest)*100,2), round(model_3.score(xtest, ytest)*100,2)]}\n",
    " \n",
    "# Create DataFrame\n",
    "df = pd.DataFrame(data)\n",
    " \n",
    "# Print the output.\n",
    "display(df)"
   ]
  },
  {
   "cell_type": "markdown",
   "id": "47413e0e",
   "metadata": {
    "id": "47413e0e"
   },
   "source": [
    "### Confusion Matrix Results of the models"
   ]
  },
  {
   "cell_type": "markdown",
   "id": "befb8715",
   "metadata": {
    "id": "befb8715"
   },
   "source": [
    "\n",
    "\n",
    "From the below Confusion Matrix heatmaps we can see that we expect a large # of values in one category for all models. These do not sway our decision to based on model for predicting the validation values on the calculated accuracy scores and processing considerations.\n"
   ]
  },
  {
   "cell_type": "code",
   "execution_count": 61,
   "id": "2460cdf5",
   "metadata": {
    "id": "2460cdf5"
   },
   "outputs": [],
   "source": [
    "\n",
    "\n",
    "#Creating Prediction Variables to Use for Confusion Matrix Heat Maps for all 3 Models\n",
    "ypredDT = model_1.predict(xtest) \n",
    "ypredRF = model_2.predict(xtest)\n",
    "ypredSGD = model_3.predict(xtest)\n",
    "\n"
   ]
  },
  {
   "cell_type": "markdown",
   "id": "5e6baa0f",
   "metadata": {
    "id": "5e6baa0f"
   },
   "source": [
    "### Decision Tree Confusion Matrix"
   ]
  },
  {
   "cell_type": "code",
   "execution_count": 62,
   "id": "0d5ef3d4",
   "metadata": {
    "colab": {
     "base_uri": "https://localhost:8080/",
     "height": 281
    },
    "id": "0d5ef3d4",
    "outputId": "c78bf02a-c227-41ab-cd52-440bdab76413"
   },
   "outputs": [
    {
     "data": {
      "image/png": "[encoded data removed]",
      "text/plain": [
       "<Figure size 432x288 with 2 Axes>"
      ]
     },
     "metadata": {
      "needs_background": "light"
     },
     "output_type": "display_data"
    }
   ],
   "source": [
    "\n",
    "\n",
    "#CM Heatmap 1\n",
    "\n",
    "cm1 = confusion_matrix(ytest, ypredDT)\n",
    "ax = sns.heatmap(cm1, annot=True, fmt='g',cmap=\"GnBu\")\n",
    "ax.set(ylabel=\"True Stay Lenght Label\", xlabel=\"Predicted Stay Length Label\")\n",
    "ax.xaxis.set_ticklabels(['0-40', '41-70', 'More than 70 Days']); \n",
    "ax.yaxis.set_ticklabels(['0-40', '41-70', 'More than 70 Days']);\n",
    "\n"
   ]
  },
  {
   "cell_type": "markdown",
   "id": "7a0465d9",
   "metadata": {
    "id": "7a0465d9"
   },
   "source": [
    "### Random Forest Confusion Matrix"
   ]
  },
  {
   "cell_type": "code",
   "execution_count": 63,
   "id": "5082d845",
   "metadata": {
    "colab": {
     "base_uri": "https://localhost:8080/",
     "height": 281
    },
    "id": "5082d845",
    "outputId": "3f7414e7-3138-41ba-ac2d-ad99bdd8038d"
   },
   "outputs": [
    {
     "data": {
      "image/png": "[encoded data removed]",
      "text/plain": [
       "<Figure size 432x288 with 2 Axes>"
      ]
     },
     "metadata": {
      "needs_background": "light"
     },
     "output_type": "display_data"
    }
   ],
   "source": [
    "\n",
    "\n",
    "#CM Heatmap 2\n",
    "cm2 = confusion_matrix(ytest, ypredRF)\n",
    "ax2 = sns.heatmap(cm2, annot=True, fmt='g',cmap=\"GnBu\")\n",
    "ax2.set(ylabel=\"True Label\", xlabel=\"Predicted Label\")\n",
    "ax2.xaxis.set_ticklabels(['0-40', '41-70', 'More than 70 Days']); \n",
    "ax2.yaxis.set_ticklabels(['0-40', '41-70', 'More than 70 Days']);\n",
    "\n",
    "\n"
   ]
  },
  {
   "cell_type": "markdown",
   "id": "84234279",
   "metadata": {
    "id": "84234279"
   },
   "source": [
    "### Stochastic Gradient Descent Confusion Matrix:"
   ]
  },
  {
   "cell_type": "code",
   "execution_count": 64,
   "id": "95f019e4",
   "metadata": {
    "colab": {
     "base_uri": "https://localhost:8080/",
     "height": 279
    },
    "id": "95f019e4",
    "outputId": "e19804c4-865f-4cf3-bf8d-4f84f515a5bc"
   },
   "outputs": [
    {
     "data": {
      "image/png": "[encoded data removed]",
      "text/plain": [
       "<Figure size 432x288 with 2 Axes>"
      ]
     },
     "metadata": {
      "needs_background": "light"
     },
     "output_type": "display_data"
    }
   ],
   "source": [
    "\n",
    "\n",
    "#CM Heatmap 3\n",
    "cm3 = confusion_matrix(ytest, ypredSGD)\n",
    "ax3 = sns.heatmap(cm3, annot=True, fmt='g',cmap=\"GnBu\")\n",
    "ax3.set(ylabel=\"True Label\", xlabel=\"Predicted Label\")\n",
    "ax3.xaxis.set_ticklabels(['0-40', '41-70', 'More than 70 Days']); \n",
    "ax3.yaxis.set_ticklabels(['0-40', '41-70', 'More than 70 Days']);\n",
    "\n"
   ]
  },
  {
   "cell_type": "markdown",
   "id": "d51deabd",
   "metadata": {
    "id": "d51deabd"
   },
   "source": [
    "After analyzing the dataset, preparing the datasets for machine learning and testing 3 different models. We came to the conclusion that of the three models we tested, decision trees, random forest, and stochastic gradient descent, decision tree models are optimal as they get a slightly smaller accuracy rate on the test data compared to random forest but run at over double the speed."
   ]
  },
  {
   "cell_type": "markdown",
   "id": "P5jST9QROUGE",
   "metadata": {
    "id": "P5jST9QROUGE"
   },
   "source": [
    "**Predicting validation dataset**"
   ]
  },
  {
   "cell_type": "code",
   "execution_count": 65,
   "id": "OROgFC52IygF",
   "metadata": {
    "id": "OROgFC52IygF"
   },
   "outputs": [],
   "source": [
    "#Prepare to run the model on the validation dataset\n",
    "df_test_final=df_test_final.replace(np.nan, 0)\n",
    "vdata=df_test_final.iloc[:,:].values\n"
   ]
  },
  {
   "cell_type": "markdown",
   "id": "n-aCliopNZ8K",
   "metadata": {
    "id": "n-aCliopNZ8K"
   },
   "source": [
    "Predicting values for validation dataset. We checked accuracy on the dataset and we are predicting the values for validation dataset(\"test dataset\") in our case.\n",
    "We cannot check accuracy with the validation dataset as there is no target variable , it is like runtime production dataset which is given as input to model."
   ]
  },
  {
   "cell_type": "code",
   "execution_count": 66,
   "id": "5TEOZWwgM-pq",
   "metadata": {
    "id": "5TEOZWwgM-pq"
   },
   "outputs": [],
   "source": [
    "#Run the decision tree model on the validation dataset\n",
    "ypred_v=model_1.predict(vdata) #model_1 as Decision Tree Model"
   ]
  },
  {
   "cell_type": "code",
   "execution_count": 67,
   "id": "cJImU3YaNE8T",
   "metadata": {
    "colab": {
     "base_uri": "https://localhost:8080/"
    },
    "id": "cJImU3YaNE8T",
    "outputId": "d91154a5-55e6-4de4-8a4c-35d03de66726"
   },
   "outputs": [
    {
     "data": {
      "text/plain": [
       "(57074, 10)"
      ]
     },
     "execution_count": 67,
     "metadata": {},
     "output_type": "execute_result"
    }
   ],
   "source": [
    "#Verify validation dataset indepedent variables after model run\n",
    "vdata.shape\n"
   ]
  },
  {
   "cell_type": "code",
   "execution_count": 68,
   "id": "8o9m8CGINVQW",
   "metadata": {
    "colab": {
     "base_uri": "https://localhost:8080/"
    },
    "id": "8o9m8CGINVQW",
    "outputId": "de375bba-3ad4-4982-e954-ff8957fdc1b3"
   },
   "outputs": [
    {
     "data": {
      "text/plain": [
       "(57074,)"
      ]
     },
     "execution_count": 68,
     "metadata": {},
     "output_type": "execute_result"
    }
   ],
   "source": [
    "#Verify validation dataset dependent variable after model run\n",
    "ypred_v.shape"
   ]
  },
  {
   "cell_type": "markdown",
   "id": "c1d354c1",
   "metadata": {
    "id": "c1d354c1"
   },
   "source": [
    "### Obtaining the validation dataset but with the predicitons"
   ]
  },
  {
   "cell_type": "code",
   "execution_count": 69,
   "id": "faebce90",
   "metadata": {
    "id": "faebce90"
   },
   "outputs": [],
   "source": [
    "#Reverse the prediction values back into understandable strings\n",
    "stay_dict_reverse = {'0-40': 1, '41-70': 2, 'More than 70 Days': 3}\n",
    "df_test_final_w_preds = df_test_final.copy()\n",
    "df_test_final_w_preds['Stay'] = pd.DataFrame(ypred_v, columns = ['Stay']).replace(stay_dict_reverse.values(), stay_dict_reverse.keys())\n"
   ]
  },
  {
   "cell_type": "markdown",
   "id": "f5771ece",
   "metadata": {
    "id": "f5771ece"
   },
   "source": [
    "### Results display of the first 10 rows:"
   ]
  },
  {
   "cell_type": "code",
   "execution_count": 70,
   "id": "d0268153",
   "metadata": {
    "colab": {
     "base_uri": "https://localhost:8080/",
     "height": 450
    },
    "id": "d0268153",
    "outputId": "2e331636-66bb-4350-863b-67e352b62dea"
   },
   "outputs": [
    {
     "data": {
      "text/html": [
       "<div>\n",
       "<style scoped>\n",
       "    .dataframe tbody tr th:only-of-type {\n",
       "        vertical-align: middle;\n",
       "    }\n",
       "\n",
       "    .dataframe tbody tr th {\n",
       "        vertical-align: top;\n",
       "    }\n",
       "\n",
       "    .dataframe thead th {\n",
       "        text-align: right;\n",
       "    }\n",
       "</style>\n",
       "<table border=\"1\" class=\"dataframe\">\n",
       "  <thead>\n",
       "    <tr style=\"text-align: right;\">\n",
       "      <th></th>\n",
       "      <th>Hospital_code</th>\n",
       "      <th>Available Extra Rooms in Hospital</th>\n",
       "      <th>Bed Grade</th>\n",
       "      <th>Visitors with Patient</th>\n",
       "      <th>Admission_Deposit</th>\n",
       "      <th>ToA__Emergency</th>\n",
       "      <th>ToA__Trauma</th>\n",
       "      <th>ToA__Urgent</th>\n",
       "      <th>AR__0-30</th>\n",
       "      <th>AR__over 60</th>\n",
       "      <th>Stay</th>\n",
       "    </tr>\n",
       "  </thead>\n",
       "  <tbody>\n",
       "    <tr>\n",
       "      <th>0</th>\n",
       "      <td>21</td>\n",
       "      <td>3</td>\n",
       "      <td>2.0</td>\n",
       "      <td>2.0</td>\n",
       "      <td>3095.0</td>\n",
       "      <td>1</td>\n",
       "      <td>0</td>\n",
       "      <td>0</td>\n",
       "      <td>0</td>\n",
       "      <td>1</td>\n",
       "      <td>41-70</td>\n",
       "    </tr>\n",
       "    <tr>\n",
       "      <th>1</th>\n",
       "      <td>29</td>\n",
       "      <td>2</td>\n",
       "      <td>2.0</td>\n",
       "      <td>4.0</td>\n",
       "      <td>4018.0</td>\n",
       "      <td>0</td>\n",
       "      <td>1</td>\n",
       "      <td>0</td>\n",
       "      <td>0</td>\n",
       "      <td>1</td>\n",
       "      <td>More than 70 Days</td>\n",
       "    </tr>\n",
       "    <tr>\n",
       "      <th>2</th>\n",
       "      <td>26</td>\n",
       "      <td>3</td>\n",
       "      <td>4.0</td>\n",
       "      <td>3.0</td>\n",
       "      <td>4492.0</td>\n",
       "      <td>1</td>\n",
       "      <td>0</td>\n",
       "      <td>0</td>\n",
       "      <td>0</td>\n",
       "      <td>1</td>\n",
       "      <td>More than 70 Days</td>\n",
       "    </tr>\n",
       "    <tr>\n",
       "      <th>3</th>\n",
       "      <td>6</td>\n",
       "      <td>3</td>\n",
       "      <td>2.0</td>\n",
       "      <td>3.0</td>\n",
       "      <td>4173.0</td>\n",
       "      <td>0</td>\n",
       "      <td>1</td>\n",
       "      <td>0</td>\n",
       "      <td>0</td>\n",
       "      <td>1</td>\n",
       "      <td>More than 70 Days</td>\n",
       "    </tr>\n",
       "    <tr>\n",
       "      <th>4</th>\n",
       "      <td>28</td>\n",
       "      <td>2</td>\n",
       "      <td>2.0</td>\n",
       "      <td>4.0</td>\n",
       "      <td>4161.0</td>\n",
       "      <td>0</td>\n",
       "      <td>1</td>\n",
       "      <td>0</td>\n",
       "      <td>0</td>\n",
       "      <td>1</td>\n",
       "      <td>More than 70 Days</td>\n",
       "    </tr>\n",
       "    <tr>\n",
       "      <th>5</th>\n",
       "      <td>23</td>\n",
       "      <td>3</td>\n",
       "      <td>2.0</td>\n",
       "      <td>2.0</td>\n",
       "      <td>4659.0</td>\n",
       "      <td>0</td>\n",
       "      <td>1</td>\n",
       "      <td>0</td>\n",
       "      <td>0</td>\n",
       "      <td>1</td>\n",
       "      <td>41-70</td>\n",
       "    </tr>\n",
       "    <tr>\n",
       "      <th>6</th>\n",
       "      <td>26</td>\n",
       "      <td>2</td>\n",
       "      <td>2.0</td>\n",
       "      <td>2.0</td>\n",
       "      <td>4167.0</td>\n",
       "      <td>0</td>\n",
       "      <td>1</td>\n",
       "      <td>0</td>\n",
       "      <td>0</td>\n",
       "      <td>1</td>\n",
       "      <td>41-70</td>\n",
       "    </tr>\n",
       "    <tr>\n",
       "      <th>7</th>\n",
       "      <td>25</td>\n",
       "      <td>4</td>\n",
       "      <td>3.0</td>\n",
       "      <td>2.0</td>\n",
       "      <td>4396.0</td>\n",
       "      <td>1</td>\n",
       "      <td>0</td>\n",
       "      <td>0</td>\n",
       "      <td>0</td>\n",
       "      <td>0</td>\n",
       "      <td>41-70</td>\n",
       "    </tr>\n",
       "    <tr>\n",
       "      <th>8</th>\n",
       "      <td>23</td>\n",
       "      <td>4</td>\n",
       "      <td>3.0</td>\n",
       "      <td>2.0</td>\n",
       "      <td>4088.0</td>\n",
       "      <td>0</td>\n",
       "      <td>1</td>\n",
       "      <td>0</td>\n",
       "      <td>0</td>\n",
       "      <td>0</td>\n",
       "      <td>41-70</td>\n",
       "    </tr>\n",
       "    <tr>\n",
       "      <th>9</th>\n",
       "      <td>23</td>\n",
       "      <td>3</td>\n",
       "      <td>4.0</td>\n",
       "      <td>2.0</td>\n",
       "      <td>3925.0</td>\n",
       "      <td>0</td>\n",
       "      <td>0</td>\n",
       "      <td>1</td>\n",
       "      <td>0</td>\n",
       "      <td>0</td>\n",
       "      <td>41-70</td>\n",
       "    </tr>\n",
       "  </tbody>\n",
       "</table>\n",
       "</div>"
      ],
      "text/plain": [
       "   Hospital_code  ...               Stay\n",
       "0             21  ...              41-70\n",
       "1             29  ...  More than 70 Days\n",
       "2             26  ...  More than 70 Days\n",
       "3              6  ...  More than 70 Days\n",
       "4             28  ...  More than 70 Days\n",
       "5             23  ...              41-70\n",
       "6             26  ...              41-70\n",
       "7             25  ...              41-70\n",
       "8             23  ...              41-70\n",
       "9             23  ...              41-70\n",
       "\n",
       "[10 rows x 11 columns]"
      ]
     },
     "execution_count": 70,
     "metadata": {},
     "output_type": "execute_result"
    }
   ],
   "source": [
    "df_test_final_w_preds.head(10)"
   ]
  },
  {
   "cell_type": "markdown",
   "id": "83494186",
   "metadata": {
    "id": "83494186"
   },
   "source": [
    "### Grouped Display of the 3 stay categories and a count of how many were predicted for each:"
   ]
  },
  {
   "cell_type": "code",
   "execution_count": 71,
   "id": "b627b32a",
   "metadata": {
    "colab": {
     "base_uri": "https://localhost:8080/",
     "height": 175
    },
    "id": "b627b32a",
    "outputId": "1de601e7-e60f-480c-d981-bf4ea84a8112"
   },
   "outputs": [
    {
     "data": {
      "text/html": [
       "<div>\n",
       "<style scoped>\n",
       "    .dataframe tbody tr th:only-of-type {\n",
       "        vertical-align: middle;\n",
       "    }\n",
       "\n",
       "    .dataframe tbody tr th {\n",
       "        vertical-align: top;\n",
       "    }\n",
       "\n",
       "    .dataframe thead th {\n",
       "        text-align: right;\n",
       "    }\n",
       "</style>\n",
       "<table border=\"1\" class=\"dataframe\">\n",
       "  <thead>\n",
       "    <tr style=\"text-align: right;\">\n",
       "      <th></th>\n",
       "      <th>Count</th>\n",
       "    </tr>\n",
       "    <tr>\n",
       "      <th>Stay</th>\n",
       "      <th></th>\n",
       "    </tr>\n",
       "  </thead>\n",
       "  <tbody>\n",
       "    <tr>\n",
       "      <th>0-40</th>\n",
       "      <td>15</td>\n",
       "    </tr>\n",
       "    <tr>\n",
       "      <th>41-70</th>\n",
       "      <td>24968</td>\n",
       "    </tr>\n",
       "    <tr>\n",
       "      <th>More than 70 Days</th>\n",
       "      <td>32091</td>\n",
       "    </tr>\n",
       "  </tbody>\n",
       "</table>\n",
       "</div>"
      ],
      "text/plain": [
       "                   Count\n",
       "Stay                    \n",
       "0-40                  15\n",
       "41-70              24968\n",
       "More than 70 Days  32091"
      ]
     },
     "execution_count": 71,
     "metadata": {},
     "output_type": "execute_result"
    }
   ],
   "source": [
    "#Create grouped dataframe of predictions  showing how many were made of each category\n",
    "\n",
    "df_grouped_count_test_final = pd.DataFrame(df_test_final_w_preds.groupby(['Stay'])['Stay'].count())\n",
    "\n",
    "df_grouped_count_test_final = df_grouped_count_test_final.set_axis([\"Count\"], axis=1)\n",
    "\n",
    "df_grouped_count_test_final"
   ]
  }
 ],
 "metadata": {
  "colab": {
   "collapsed_sections": [],
   "name": "Milestone3_Var_Sel_&_Data_Mod_v1_3.ipynb",
   "provenance": []
  },
  "kernelspec": {
   "display_name": "Python 3 (ipykernel)",
   "language": "python",
   "name": "python3"
  },
  "language_info": {
   "codemirror_mode": {
    "name": "ipython",
    "version": 3
   },
   "file_extension": ".py",
   "mimetype": "text/x-python",
   "name": "python",
   "nbconvert_exporter": "python",
   "pygments_lexer": "ipython3",
   "version": "3.8.13"
  }
 },
 "nbformat": 4,
 "nbformat_minor": 5
}
